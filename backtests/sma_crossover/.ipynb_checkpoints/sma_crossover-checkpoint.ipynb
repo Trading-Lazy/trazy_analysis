{
 "cells": [
  {
   "cell_type": "markdown",
   "id": "1b239469",
   "metadata": {},
   "source": [
    "## Backtesting sma crossover strategy"
   ]
  },
  {
   "cell_type": "markdown",
   "id": "03177d79",
   "metadata": {},
   "source": [
    "### Go to project root"
   ]
  },
  {
   "cell_type": "code",
   "execution_count": 1,
   "id": "adc45e98",
   "metadata": {},
   "outputs": [],
   "source": [
    "import os\n",
    "from pathlib import Path\n",
    "\n",
    "#list the current work dir\n",
    "cwd = os.getcwd()\n",
    "current_path = Path(cwd)\n",
    "project_root = current_path.parent.parent.parent\n",
    "\n",
    "#change the current work dir\n",
    "os.chdir(project_root)"
   ]
  },
  {
   "cell_type": "code",
   "execution_count": 12,
   "id": "b5ddf7b9",
   "metadata": {},
   "outputs": [],
   "source": [
    "from collections import deque\n",
    "\n",
    "from trazy_analysis.bot.event_loop import EventLoop\n",
    "from trazy_analysis.broker.broker_manager import BrokerManager\n",
    "from trazy_analysis.broker.simulated_broker import SimulatedBroker\n",
    "from trazy_analysis.broker.binance_fee_model import BinanceFeeModel\n",
    "from trazy_analysis.common.clock import SimulatedClock\n",
    "from trazy_analysis.feed.feed import CsvFeed, Feed\n",
    "from trazy_analysis.indicators.indicators_manager import IndicatorsManager\n",
    "from trazy_analysis.models.asset import Asset\n",
    "from trazy_analysis.order_manager.order_creator import OrderCreator\n",
    "from trazy_analysis.order_manager.order_manager import OrderManager\n",
    "from trazy_analysis.order_manager.position_sizer import PositionSizer\n",
    "from trazy_analysis.strategy.strategies.sma_crossover_strategy import (\n",
    "    SmaCrossoverStrategy,\n",
    ")\n",
    "from datetime import datetime, timedelta\n",
    "import pytz\n",
    "from trazy_analysis.db_storage.influxdb_storage import InfluxDbStorage\n",
    "from trazy_analysis.common.ccxt_connector import CcxtConnector\n",
    "from trazy_analysis.market_data.historical.ccxt_historical_data_handler import CcxtHistoricalDataHandler\n",
    "\n",
    "from trazy_analysis.feed.feed import ExternalStorageFeed\n",
    "from trazy_analysis.statistics.pyfolio_statistics import PyfolioStatistics\n",
    "from trazy_analysis.statistics.statistics import Statistics\n",
    "from trazy_analysis.statistics.quantstats_statistics import QuantstatsStatistics\n",
    "\n",
    "import pyfolio as pf"
   ]
  },
  {
   "cell_type": "code",
   "execution_count": 3,
   "id": "d6fae5e8",
   "metadata": {},
   "outputs": [],
   "source": [
    "asset = Asset(symbol=\"BTCUSDT\", exchange=\"BINANCE\")"
   ]
  },
  {
   "cell_type": "code",
   "execution_count": 4,
   "id": "3eeae976",
   "metadata": {},
   "outputs": [],
   "source": [
    "LOOKBACK_PERIOD = timedelta(days=1)\n",
    "end = datetime.now(pytz.UTC)\n",
    "start = end - LOOKBACK_PERIOD"
   ]
  },
  {
   "cell_type": "code",
   "execution_count": 5,
   "id": "e4d3afd8",
   "metadata": {},
   "outputs": [
    {
     "data": {
      "text/plain": [
       "datetime.datetime(2021, 8, 27, 19, 39, 47, 574212, tzinfo=<UTC>)"
      ]
     },
     "execution_count": 5,
     "metadata": {},
     "output_type": "execute_result"
    }
   ],
   "source": [
    "start"
   ]
  },
  {
   "cell_type": "code",
   "execution_count": 6,
   "id": "5c641284",
   "metadata": {},
   "outputs": [
    {
     "data": {
      "text/plain": [
       "datetime.datetime(2021, 8, 28, 19, 39, 47, 574212, tzinfo=<UTC>)"
      ]
     },
     "execution_count": 6,
     "metadata": {},
     "output_type": "execute_result"
    }
   ],
   "source": [
    "end"
   ]
  },
  {
   "cell_type": "code",
   "execution_count": 7,
   "id": "c871fdbd",
   "metadata": {},
   "outputs": [],
   "source": [
    "db_storage = InfluxDbStorage()"
   ]
  },
  {
   "cell_type": "code",
   "execution_count": 8,
   "id": "c133b2da",
   "metadata": {},
   "outputs": [],
   "source": [
    "exchanges_api_keys = {\n",
    "    \"BINANCE\": {\n",
    "        \"key\": None,\n",
    "        \"secret\": None,\n",
    "        \"password\": None,\n",
    "    }\n",
    "}\n",
    "\n",
    "ccxt_connector = CcxtConnector(exchanges_api_keys=exchanges_api_keys)\n",
    "historical_data_handler = CcxtHistoricalDataHandler(ccxt_connector)\n",
    "historical_data_handler.save_ticker_data_in_db_storage(\n",
    "    asset, db_storage, start, end\n",
    ")"
   ]
  },
  {
   "cell_type": "code",
   "execution_count": 9,
   "id": "135b3d6e",
   "metadata": {},
   "outputs": [
    {
     "name": "stdout",
     "output_type": "stream",
     "text": [
      "9942.784018382625\n"
     ]
    }
   ],
   "source": [
    "assets = [asset]\n",
    "events = deque()\n",
    "\n",
    "feed: Feed = ExternalStorageFeed(\n",
    "    assets = assets,\n",
    "    events = events,\n",
    "    time_unit = timedelta(minutes=1),\n",
    "    start = start,\n",
    "    end = end,\n",
    "    db_storage = db_storage,\n",
    "    file_storage = None,\n",
    "    market_cal = None,\n",
    ")\n",
    "\n",
    "strategies = {SmaCrossoverStrategy: [SmaCrossoverStrategy.DEFAULT_PARAMETERS]}\n",
    "clock = SimulatedClock()\n",
    "broker = SimulatedBroker(clock, events, initial_funds=10000.0, fee_model=BinanceFeeModel())\n",
    "broker.subscribe_funds_to_portfolio(10000.0)\n",
    "broker_manager = BrokerManager(brokers={\"BINANCE\": broker}, clock=clock)\n",
    "position_sizer = PositionSizer(broker_manager=broker_manager, integer_size=False)\n",
    "order_creator = OrderCreator(broker_manager=broker_manager)\n",
    "order_manager = OrderManager(\n",
    "    events=events,\n",
    "    broker_manager=broker_manager,\n",
    "    position_sizer=position_sizer,\n",
    "    order_creator=order_creator,\n",
    ")\n",
    "indicators_manager = IndicatorsManager(preload=True, initial_data=feed.candles)\n",
    "event_loop = EventLoop(\n",
    "    events=events,\n",
    "    assets=assets,\n",
    "    feed=feed,\n",
    "    order_manager=order_manager,\n",
    "    strategies_parameters=strategies,\n",
    "    indicators_manager=indicators_manager,\n",
    ")\n",
    "event_loop.loop()\n",
    "\n",
    "print(broker.get_portfolio_cash_balance())"
   ]
  },
  {
   "cell_type": "code",
   "execution_count": 11,
   "id": "8bde7766",
   "metadata": {},
   "outputs": [
    {
     "data": {
      "text/html": [
       "<div>\n",
       "<style scoped>\n",
       "    .dataframe tbody tr th:only-of-type {\n",
       "        vertical-align: middle;\n",
       "    }\n",
       "\n",
       "    .dataframe tbody tr th {\n",
       "        vertical-align: top;\n",
       "    }\n",
       "\n",
       "    .dataframe thead th {\n",
       "        text-align: right;\n",
       "    }\n",
       "</style>\n",
       "<table border=\"1\" class=\"dataframe\">\n",
       "  <thead>\n",
       "    <tr style=\"text-align: right;\">\n",
       "      <th></th>\n",
       "      <th>Equity</th>\n",
       "    </tr>\n",
       "    <tr>\n",
       "      <th>Date</th>\n",
       "      <th></th>\n",
       "    </tr>\n",
       "  </thead>\n",
       "  <tbody>\n",
       "    <tr>\n",
       "      <th>2021-08-27 19:41:00+00:00</th>\n",
       "      <td>10000.000000</td>\n",
       "    </tr>\n",
       "    <tr>\n",
       "      <th>2021-08-27 19:42:00+00:00</th>\n",
       "      <td>10000.000000</td>\n",
       "    </tr>\n",
       "    <tr>\n",
       "      <th>2021-08-27 19:43:00+00:00</th>\n",
       "      <td>10000.000000</td>\n",
       "    </tr>\n",
       "    <tr>\n",
       "      <th>2021-08-27 19:44:00+00:00</th>\n",
       "      <td>10000.000000</td>\n",
       "    </tr>\n",
       "    <tr>\n",
       "      <th>2021-08-27 19:45:00+00:00</th>\n",
       "      <td>10000.000000</td>\n",
       "    </tr>\n",
       "    <tr>\n",
       "      <th>...</th>\n",
       "      <td>...</td>\n",
       "    </tr>\n",
       "    <tr>\n",
       "      <th>2021-08-28 19:36:00+00:00</th>\n",
       "      <td>9942.784018</td>\n",
       "    </tr>\n",
       "    <tr>\n",
       "      <th>2021-08-28 19:37:00+00:00</th>\n",
       "      <td>9942.784018</td>\n",
       "    </tr>\n",
       "    <tr>\n",
       "      <th>2021-08-28 19:38:00+00:00</th>\n",
       "      <td>9942.784018</td>\n",
       "    </tr>\n",
       "    <tr>\n",
       "      <th>2021-08-28 19:39:00+00:00</th>\n",
       "      <td>9942.784018</td>\n",
       "    </tr>\n",
       "    <tr>\n",
       "      <th>2021-08-28 19:40:00+00:00</th>\n",
       "      <td>9942.784018</td>\n",
       "    </tr>\n",
       "  </tbody>\n",
       "</table>\n",
       "<p>1440 rows × 1 columns</p>\n",
       "</div>"
      ],
      "text/plain": [
       "                                 Equity\n",
       "Date                                   \n",
       "2021-08-27 19:41:00+00:00  10000.000000\n",
       "2021-08-27 19:42:00+00:00  10000.000000\n",
       "2021-08-27 19:43:00+00:00  10000.000000\n",
       "2021-08-27 19:44:00+00:00  10000.000000\n",
       "2021-08-27 19:45:00+00:00  10000.000000\n",
       "...                                 ...\n",
       "2021-08-28 19:36:00+00:00   9942.784018\n",
       "2021-08-28 19:37:00+00:00   9942.784018\n",
       "2021-08-28 19:38:00+00:00   9942.784018\n",
       "2021-08-28 19:39:00+00:00   9942.784018\n",
       "2021-08-28 19:40:00+00:00   9942.784018\n",
       "\n",
       "[1440 rows x 1 columns]"
      ]
     },
     "execution_count": 11,
     "metadata": {},
     "output_type": "execute_result"
    }
   ],
   "source": [
    "event_loop.equity_dfs[\"SmaCrossoverStrategy\"][\"BINANCE\"]"
   ]
  },
  {
   "cell_type": "code",
   "execution_count": null,
   "id": "392e5ae2",
   "metadata": {},
   "outputs": [],
   "source": [
    "event_loop.positions_dfs[\"BINANCE\"]"
   ]
  },
  {
   "cell_type": "code",
   "execution_count": null,
   "id": "c3b8f0cf",
   "metadata": {},
   "outputs": [],
   "source": [
    "event_loop.transactions_dfs[\"BINANCE\"]"
   ]
  },
  {
   "cell_type": "code",
   "execution_count": null,
   "id": "9c334fef",
   "metadata": {},
   "outputs": [],
   "source": [
    "import pandas as pd\n",
    "\n",
    "with pd.option_context('display.max_rows', None, 'display.max_columns', None): \n",
    "    print(event_loop.equity_dfs['SmaCrossoverStrategy']['BINANCE'][event_loop.equity_dfs['SmaCrossoverStrategy']['BINANCE']['returns'] != 0])"
   ]
  },
  {
   "cell_type": "code",
   "execution_count": null,
   "id": "80a9e6e7",
   "metadata": {},
   "outputs": [],
   "source": [
    "equity = event_loop.equity_dfs['SmaCrossoverStrategy']['BINANCE']\n",
    "positions = event_loop.positions_dfs[\"BINANCE\"]\n",
    "transactions = event_loop.transactions_dfs[\"BINANCE\"]"
   ]
  },
  {
   "cell_type": "code",
   "execution_count": null,
   "id": "ddd897d7",
   "metadata": {},
   "outputs": [],
   "source": [
    "pf.timeseries.perf_stats(returns=returns, positions=positions, transactions=transactions).to_frame(name=\"Backtest results\")"
   ]
  },
  {
   "cell_type": "code",
   "execution_count": null,
   "id": "a526e2bc",
   "metadata": {},
   "outputs": [],
   "source": [
    "pf.create_round_trip_tear_sheet(returns=returns, positions=positions, transactions=transactions)"
   ]
  },
  {
   "cell_type": "code",
   "execution_count": null,
   "id": "30283cae",
   "metadata": {},
   "outputs": [],
   "source": [
    "returns"
   ]
  },
  {
   "cell_type": "code",
   "execution_count": null,
   "id": "5b96800a",
   "metadata": {},
   "outputs": [],
   "source": [
    "tearsheet = PyfolioStatistics(\n",
    "    equity=equity,\n",
    "    positions=positions,\n",
    "    transactions=transactions,\n",
    "    title='Sma Crossover'\n",
    ")\n",
    "tearsheet.get_tearsheet()"
   ]
  },
  {
   "cell_type": "code",
   "execution_count": null,
   "id": "0ff99eb0",
   "metadata": {},
   "outputs": [],
   "source": [
    "tearsheet = Statistics(\n",
    "    equity=equity,\n",
    "    positions=positions,\n",
    "    transactions=transactions,\n",
    "    title='Sma Crossover'\n",
    ")\n",
    "tearsheet.plot_tearsheet()"
   ]
  },
  {
   "cell_type": "code",
   "execution_count": null,
   "id": "209e0506",
   "metadata": {},
   "outputs": [],
   "source": [
    "tearsheet = Statistics(\n",
    "    equity=equity,\n",
    "    positions=positions,\n",
    "    transactions=transactions,\n",
    "    title='Sma Crossover'\n",
    ")\n",
    "tearsheet.plot_tearsheet()"
   ]
  }
 ],
 "metadata": {
  "kernelspec": {
   "display_name": "env",
   "language": "python",
   "name": "env"
  },
  "language_info": {
   "codemirror_mode": {
    "name": "ipython",
    "version": 3
   },
   "file_extension": ".py",
   "mimetype": "text/x-python",
   "name": "python",
   "nbconvert_exporter": "python",
   "pygments_lexer": "ipython3",
   "version": "3.6.8"
  }
 },
 "nbformat": 4,
 "nbformat_minor": 5
}
