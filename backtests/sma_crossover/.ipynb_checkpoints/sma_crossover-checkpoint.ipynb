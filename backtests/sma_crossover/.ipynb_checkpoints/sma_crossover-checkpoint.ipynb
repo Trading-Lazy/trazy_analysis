{
 "cells": [
  {
   "cell_type": "markdown",
   "id": "d11e1a28",
   "metadata": {},
   "source": [
    "## Backtesting sma crossover strategy"
   ]
  },
  {
   "cell_type": "markdown",
   "id": "64e7d569",
   "metadata": {},
   "source": [
    "### Go to project root"
   ]
  },
  {
   "cell_type": "code",
   "execution_count": 1,
   "id": "42812f53",
   "metadata": {},
   "outputs": [],
   "source": [
    "import os\n",
    "from pathlib import Path\n",
    "\n",
    "#list the current work dir\n",
    "cwd = os.getcwd()\n",
    "current_path = Path(cwd)\n",
    "project_root = current_path.parent.parent.parent\n",
    "\n",
    "#change the current work dir\n",
    "os.chdir(project_root)"
   ]
  },
  {
   "cell_type": "code",
   "execution_count": 2,
   "id": "d6d759d2",
   "metadata": {},
   "outputs": [
    {
     "name": "stderr",
     "output_type": "stream",
     "text": [
      "/Users/moussadiakite/Google_Drive/Projects/MInvest/Trazy/trazy_analysis/env/lib/python3.6/site-packages/pyfolio/pos.py:27: UserWarning: Module \"zipline.assets\" not found; multipliers will not be applied to position notionals.\n",
      "  'Module \"zipline.assets\" not found; multipliers will not be applied'\n"
     ]
    }
   ],
   "source": [
    "from collections import deque\n",
    "\n",
    "from trazy_analysis.bot.event_loop import EventLoop\n",
    "from trazy_analysis.broker.broker_manager import BrokerManager\n",
    "from trazy_analysis.broker.simulated_broker import SimulatedBroker\n",
    "from trazy_analysis.broker.binance_fee_model import BinanceFeeModel\n",
    "from trazy_analysis.common.clock import SimulatedClock\n",
    "from trazy_analysis.feed.feed import CsvFeed, Feed\n",
    "from trazy_analysis.indicators.indicators_manager import IndicatorsManager\n",
    "from trazy_analysis.models.asset import Asset\n",
    "from trazy_analysis.order_manager.order_creator import OrderCreator\n",
    "from trazy_analysis.order_manager.order_manager import OrderManager\n",
    "from trazy_analysis.order_manager.position_sizer import PositionSizer\n",
    "from trazy_analysis.strategy.strategies.sma_crossover_strategy import (\n",
    "    SmaCrossoverStrategy,\n",
    ")\n",
    "from datetime import datetime, timedelta\n",
    "import pytz\n",
    "from trazy_analysis.db_storage.influxdb_storage import InfluxDbStorage\n",
    "from trazy_analysis.common.ccxt_connector import CcxtConnector\n",
    "from trazy_analysis.market_data.historical.ccxt_historical_data_handler import CcxtHistoricalDataHandler\n",
    "\n",
    "from trazy_analysis.feed.feed import ExternalStorageFeed\n",
    "from trazy_analysis.statistics.pyfolio_statistics import PyfolioStatistics\n",
    "from trazy_analysis.statistics.statistics import Statistics\n",
    "from trazy_analysis.statistics.quantstats_statistics import QuantstatsStatistics\n",
    "\n",
    "import pyfolio as pf\n",
    "import black_box as bb\n",
    "import rbfopt\n",
    "import numpy as np"
   ]
  },
  {
   "cell_type": "code",
   "execution_count": 3,
   "id": "b5b2d64d",
   "metadata": {},
   "outputs": [],
   "source": [
    "%load_ext autoreload\n",
    "%autoreload"
   ]
  },
  {
   "cell_type": "code",
   "execution_count": null,
   "id": "a6089f6d",
   "metadata": {},
   "outputs": [],
   "source": [
    "asset = Asset(symbol=\"BTCUSDT\", exchange=\"BINANCE\")"
   ]
  },
  {
   "cell_type": "code",
   "execution_count": 6,
   "id": "1a5ea092",
   "metadata": {},
   "outputs": [],
   "source": [
    "start = datetime(2022, 5, 7, 5, 5)"
   ]
  },
  {
   "cell_type": "code",
   "execution_count": 7,
   "id": "db9966fe",
   "metadata": {},
   "outputs": [
    {
     "data": {
      "text/plain": [
       "datetime.datetime(2022, 5, 7, 5, 5)"
      ]
     },
     "execution_count": 7,
     "metadata": {},
     "output_type": "execute_result"
    }
   ],
   "source": [
    "end = datetime(2022, 5, 7, 5, 24)"
   ]
  },
  {
   "cell_type": "code",
   "execution_count": null,
   "id": "68172c7b",
   "metadata": {},
   "outputs": [],
   "source": [
    "LOOKBACK_PERIOD = timedelta(days=1)\n",
    "end = datetime.now(pytz.UTC)\n",
    "start = end - LOOKBACK_PERIOD"
   ]
  },
  {
   "cell_type": "code",
   "execution_count": null,
   "id": "106d1855",
   "metadata": {},
   "outputs": [],
   "source": [
    "start"
   ]
  },
  {
   "cell_type": "code",
   "execution_count": null,
   "id": "f0160eca",
   "metadata": {},
   "outputs": [],
   "source": [
    "end"
   ]
  },
  {
   "cell_type": "code",
   "execution_count": null,
   "id": "36a75e43",
   "metadata": {},
   "outputs": [],
   "source": [
    "db_storage = InfluxDbStorage()"
   ]
  },
  {
   "cell_type": "code",
   "execution_count": null,
   "id": "a1c958ef",
   "metadata": {},
   "outputs": [],
   "source": [
    "exchanges_api_keys = {\n",
    "    \"BINANCE\": {\n",
    "        \"key\": None,\n",
    "        \"secret\": None,\n",
    "        \"password\": None,\n",
    "    }\n",
    "}\n",
    "\n",
    "ccxt_connector = CcxtConnector(exchanges_api_keys=exchanges_api_keys)\n",
    "historical_data_handler = CcxtHistoricalDataHandler(ccxt_connector)\n",
    "historical_data_handler.save_ticker_data_in_db_storage(\n",
    "    asset, db_storage, start, end\n",
    ")"
   ]
  },
  {
   "cell_type": "code",
   "execution_count": null,
   "id": "0492e152",
   "metadata": {},
   "outputs": [],
   "source": [
    "assets = [asset]\n",
    "events = deque()\n",
    "\n",
    "feed: Feed = ExternalStorageFeed(\n",
    "    assets = assets,\n",
    "    events = events,\n",
    "    time_unit = timedelta(minutes=1),\n",
    "    start = start,\n",
    "    end = end,\n",
    "    db_storage = db_storage,\n",
    "    file_storage = None,\n",
    "    market_cal = None,\n",
    ")\n",
    "\n",
    "strategies = {SmaCrossoverStrategy: [SmaCrossoverStrategy.DEFAULT_PARAMETERS]}\n",
    "clock = SimulatedClock()\n",
    "broker = SimulatedBroker(clock, events, initial_funds=10000.0, fee_model=BinanceFeeModel())\n",
    "broker.subscribe_funds_to_portfolio(10000.0)\n",
    "broker_manager = BrokerManager(brokers={\"BINANCE\": broker}, clock=clock)\n",
    "position_sizer = PositionSizer(broker_manager=broker_manager, integer_size=False)\n",
    "order_creator = OrderCreator(broker_manager=broker_manager)\n",
    "order_manager = OrderManager(\n",
    "    events=events,\n",
    "    broker_manager=broker_manager,\n",
    "    position_sizer=position_sizer,\n",
    "    order_creator=order_creator,\n",
    ")\n",
    "indicators_manager = IndicatorsManager(preload=True, initial_data=feed.candles)\n",
    "event_loop = EventLoop(\n",
    "    events=events,\n",
    "    assets=assets,\n",
    "    feed=feed,\n",
    "    order_manager=order_manager,\n",
    "    strategies_parameters=strategies,\n",
    "    indicators_manager=indicators_manager,\n",
    ")\n",
    "event_loop.loop()\n",
    "\n",
    "print(broker.get_portfolio_cash_balance())"
   ]
  },
  {
   "cell_type": "code",
   "execution_count": null,
   "id": "da11a745",
   "metadata": {},
   "outputs": [],
   "source": [
    "event_loop.equity_dfs[\"SmaCrossoverStrategy\"][\"BINANCE\"]"
   ]
  },
  {
   "cell_type": "code",
   "execution_count": null,
   "id": "0bf3907c",
   "metadata": {},
   "outputs": [],
   "source": [
    "event_loop.positions_dfs[\"BINANCE\"]"
   ]
  },
  {
   "cell_type": "code",
   "execution_count": null,
   "id": "975035b2",
   "metadata": {},
   "outputs": [],
   "source": [
    "event_loop.transactions_dfs[\"BINANCE\"]"
   ]
  },
  {
   "cell_type": "code",
   "execution_count": null,
   "id": "69553f5c",
   "metadata": {},
   "outputs": [],
   "source": [
    "import pandas as pd\n",
    "\n",
    "with pd.option_context('display.max_rows', None, 'display.max_columns', None): \n",
    "    print(event_loop.equity_dfs['SmaCrossoverStrategy']['BINANCE'][event_loop.equity_dfs['SmaCrossoverStrategy']['BINANCE']['returns'] != 0])"
   ]
  },
  {
   "cell_type": "code",
   "execution_count": null,
   "id": "31a29041",
   "metadata": {},
   "outputs": [],
   "source": [
    "equity = event_loop.equity_dfs['SmaCrossoverStrategy']['BINANCE']\n",
    "positions = event_loop.positions_dfs[\"BINANCE\"]\n",
    "transactions = event_loop.transactions_dfs[\"BINANCE\"]"
   ]
  },
  {
   "cell_type": "code",
   "execution_count": null,
   "id": "9a733296",
   "metadata": {},
   "outputs": [],
   "source": [
    "pf.timeseries.perf_stats(returns=returns, positions=positions, transactions=transactions).to_frame(name=\"Backtest results\")"
   ]
  },
  {
   "cell_type": "code",
   "execution_count": null,
   "id": "963d74bf",
   "metadata": {},
   "outputs": [],
   "source": [
    "pf.create_round_trip_tear_sheet(returns=returns, positions=positions, transactions=transactions)"
   ]
  },
  {
   "cell_type": "code",
   "execution_count": null,
   "id": "bae2ef44",
   "metadata": {},
   "outputs": [],
   "source": [
    "returns"
   ]
  },
  {
   "cell_type": "code",
   "execution_count": null,
   "id": "ec636348",
   "metadata": {},
   "outputs": [],
   "source": [
    "tearsheet = PyfolioStatistics(\n",
    "    equity=equity,\n",
    "    positions=positions,\n",
    "    transactions=transactions,\n",
    "    title='Sma Crossover'\n",
    ")\n",
    "tearsheet.get_tearsheet()"
   ]
  },
  {
   "cell_type": "code",
   "execution_count": null,
   "id": "8ecc7a87",
   "metadata": {},
   "outputs": [],
   "source": [
    "tearsheet = Statistics(\n",
    "    equity=equity,\n",
    "    positions=positions,\n",
    "    transactions=transactions,\n",
    "    title='Sma Crossover'\n",
    ")\n",
    "tearsheet.get_tearsheet()"
   ]
  },
  {
   "cell_type": "code",
   "execution_count": null,
   "id": "5e71039f",
   "metadata": {},
   "outputs": [],
   "source": [
    "tearsheet = QuantstatsStatistics(\n",
    "    equity=equity,\n",
    "    positions=positions,\n",
    "    transactions=transactions,\n",
    "    title='Sma Crossover'\n",
    ")\n",
    "tearsheet.get_tearsheet()"
   ]
  },
  {
   "cell_type": "markdown",
   "id": "cba55f7e",
   "metadata": {},
   "source": [
    "### Test optimizers"
   ]
  },
  {
   "cell_type": "code",
   "execution_count": null,
   "id": "bdd2bee6",
   "metadata": {},
   "outputs": [],
   "source": [
    "def sma_cross_backtest(short_sma, long_sma, trailing_stop_order_pct):\n",
    "    short_sma = int(short_sma)\n",
    "    long_sma = int(long_sma)\n",
    "    print(short_sma)\n",
    "    print(long_sma)\n",
    "    print(trailing_stop_order_pct)\n",
    "    assets = [asset]\n",
    "    events = deque()\n",
    "\n",
    "    feed: Feed = ExternalStorageFeed(\n",
    "        assets = assets,\n",
    "        events = events,\n",
    "        time_unit = timedelta(minutes=1),\n",
    "        start = start,\n",
    "        end = end,\n",
    "        db_storage = db_storage,\n",
    "        file_storage = None,\n",
    "        market_cal = None,\n",
    "    )\n",
    "\n",
    "    strategies = {SmaCrossoverStrategy: [{\"short_sma\": short_sma, \"long_sma\": long_sma}]}\n",
    "    clock = SimulatedClock()\n",
    "    broker = SimulatedBroker(clock, events, initial_funds=10000.0, fee_model=BinanceFeeModel())\n",
    "    broker.subscribe_funds_to_portfolio(10000.0)\n",
    "    broker_manager = BrokerManager(brokers={\"BINANCE\": broker}, clock=clock)\n",
    "    position_sizer = PositionSizer(broker_manager=broker_manager, integer_size=False)\n",
    "    order_creator = OrderCreator(broker_manager=broker_manager, with_cover=True, trailing_stop_order_pct=trailing_stop_order_pct)\n",
    "    order_manager = OrderManager(\n",
    "        events=events,\n",
    "        broker_manager=broker_manager,\n",
    "        position_sizer=position_sizer,\n",
    "        order_creator=order_creator,\n",
    "    )\n",
    "    indicators_manager = IndicatorsManager(preload=True, initial_data=feed.candles)\n",
    "    event_loop = EventLoop(\n",
    "        events=events,\n",
    "        assets=assets,\n",
    "        feed=feed,\n",
    "        order_manager=order_manager,\n",
    "        strategies_parameters=strategies,\n",
    "        indicators_manager=indicators_manager,\n",
    "    )\n",
    "    event_loop.loop()\n",
    "\n",
    "    return broker.get_portfolio_cash_balance()"
   ]
  },
  {
   "cell_type": "code",
   "execution_count": null,
   "id": "73e7bf05",
   "metadata": {},
   "outputs": [],
   "source": [
    "sma_cross_backtest((51, 200, 0.149))"
   ]
  },
  {
   "cell_type": "code",
   "execution_count": null,
   "id": "98ae3bcb",
   "metadata": {},
   "outputs": [],
   "source": [
    "sma_cross_backtest((62, 126, 0.192691))"
   ]
  },
  {
   "cell_type": "code",
   "execution_count": null,
   "id": "f4dee724",
   "metadata": {},
   "outputs": [],
   "source": [
    "sma_cross_backtest((64, 124, 0.192691))"
   ]
  },
  {
   "cell_type": "code",
   "execution_count": null,
   "id": "20a1938c",
   "metadata": {},
   "outputs": [],
   "source": [
    "sma_cross_backtest((58, 128, 0.075825))"
   ]
  },
  {
   "cell_type": "code",
   "execution_count": null,
   "id": "8260f524",
   "metadata": {},
   "outputs": [],
   "source": [
    "import time"
   ]
  },
  {
   "cell_type": "code",
   "execution_count": null,
   "id": "b52775e9",
   "metadata": {},
   "outputs": [],
   "source": [
    "!pip install ipython-autotime"
   ]
  },
  {
   "cell_type": "markdown",
   "id": "6adbca9d",
   "metadata": {},
   "source": [
    "### Black blox"
   ]
  },
  {
   "cell_type": "code",
   "execution_count": null,
   "id": "8f8a34b7",
   "metadata": {},
   "outputs": [],
   "source": [
    "best_params = bb.search_min(f = sma_cross_backtest,  # given function\n",
    "                            domain = [  # ranges of each parameter\n",
    "                                [5., 75.],\n",
    "                                [100., 200.],\n",
    "                                [0.0, 0.20]\n",
    "                                ],\n",
    "                            budget = 4,  # total number of function calls available\n",
    "                            batch = 4,  # number of calls that will be evaluated in parallel\n",
    "                            resfile = 'output.csv')  # "
   ]
  },
  {
   "cell_type": "code",
   "execution_count": null,
   "id": "d33b2e72",
   "metadata": {},
   "outputs": [],
   "source": [
    "for param in best_params:\n",
    "    print(param)"
   ]
  },
  {
   "cell_type": "code",
   "execution_count": null,
   "id": "c52f9704",
   "metadata": {},
   "outputs": [],
   "source": [
    "sma_cross_backtest(best_params)"
   ]
  },
  {
   "cell_type": "code",
   "execution_count": null,
   "id": "86faad0e",
   "metadata": {},
   "outputs": [],
   "source": [
    "Discrete.__dict__"
   ]
  },
  {
   "cell_type": "code",
   "execution_count": null,
   "id": "d4ef2b75",
   "metadata": {},
   "outputs": [],
   "source": [
    "np.savetxt(None, [])"
   ]
  },
  {
   "cell_type": "code",
   "execution_count": null,
   "id": "b1f0ec10",
   "metadata": {},
   "outputs": [],
   "source": [
    "from trazy_analysis.optimization.optimizer import BlackBoxOptimizer\n",
    "from trazy_analysis.optimization.parameter import (\n",
    "    Choice,\n",
    "    Continuous,\n",
    "    Discrete,\n",
    "    Ordinal,\n",
    "    Parameter,\n",
    ")\n",
    "\n",
    "optimizer = BlackBoxOptimizer()\n",
    "best_params = optimizer.maximize(func=sma_cross_backtest,\n",
    "        space={\n",
    "            \"short_sma\": Discrete([5, 75]),\n",
    "            \"long_sma\": Discrete([100, 200]),\n",
    "            \"trailing_stop_order_pct\": Continuous([0.1, 0.5]),\n",
    "        },\n",
    "        nb_iter = 4,\n",
    "        max_evals = 4\n",
    ")"
   ]
  },
  {
   "cell_type": "code",
   "execution_count": null,
   "id": "bafb89b4",
   "metadata": {},
   "outputs": [],
   "source": [
    "best_params"
   ]
  },
  {
   "cell_type": "markdown",
   "id": "292f536e",
   "metadata": {},
   "source": [
    "### skopt"
   ]
  },
  {
   "cell_type": "code",
   "execution_count": null,
   "id": "0e02435d",
   "metadata": {},
   "outputs": [],
   "source": [
    "from skopt.space import Real, Integer\n",
    "from skopt.utils import use_named_args\n",
    "\n",
    "space = [Integer(5, 75, name='short_sma'),\n",
    "          Integer(100, 200, name='long_sma'),\n",
    "          Real(0., 0.20, \"uniform\", name='trailing_stop_order_pct')]\n",
    "\n",
    "from skopt import gp_minimize\n",
    "res_gp = gp_minimize(sma_cross_backtest, space, n_calls=52, random_state=0)"
   ]
  },
  {
   "cell_type": "code",
   "execution_count": null,
   "id": "1202fda0",
   "metadata": {},
   "outputs": [],
   "source": [
    "print(\"\"\"Best parameters:\n",
    "- short_sma=%d\n",
    "- long_sma=%d\n",
    "- trailing_stop_order_pct=%.6f\"\"\" % (res_gp.x[0], res_gp.x[1],\n",
    "                            res_gp.x[2]))"
   ]
  },
  {
   "cell_type": "code",
   "execution_count": null,
   "id": "207e8249",
   "metadata": {},
   "outputs": [],
   "source": [
    "sma_cross_backtest(res_gp.x)"
   ]
  },
  {
   "cell_type": "code",
   "execution_count": null,
   "id": "003e6704",
   "metadata": {},
   "outputs": [],
   "source": [
    "from skopt.plots import plot_objective\n",
    "plot_objective(res_gp)"
   ]
  },
  {
   "cell_type": "code",
   "execution_count": null,
   "id": "0e881139",
   "metadata": {},
   "outputs": [],
   "source": [
    "from trazy_analysis.optimization.optimizer import SkoptOptimizer\n",
    "from trazy_analysis.optimization.parameter import (\n",
    "    Choice,\n",
    "    Continuous,\n",
    "    Discrete,\n",
    "    Ordinal,\n",
    "    Parameter,\n",
    ")\n",
    "\n",
    "optimizer = SkoptOptimizer()\n",
    "best_params = optimizer.maximize(func=sma_cross_backtest,\n",
    "        space={\n",
    "            \"short_sma\": Discrete([5, 75]),\n",
    "            \"long_sma\": Discrete([100, 200]),\n",
    "            \"trailing_stop_order_pct\": Continuous([0.1, 0.5]),\n",
    "        },\n",
    "        nb_iter = 10,\n",
    "        max_evals = 1\n",
    ")"
   ]
  },
  {
   "cell_type": "code",
   "execution_count": null,
   "id": "30bd0f8c",
   "metadata": {},
   "outputs": [],
   "source": [
    "best_params"
   ]
  },
  {
   "cell_type": "markdown",
   "id": "27af8416",
   "metadata": {},
   "source": [
    "### Hyperopt"
   ]
  },
  {
   "cell_type": "code",
   "execution_count": null,
   "id": "317414c7",
   "metadata": {},
   "outputs": [],
   "source": [
    "from hyperopt import fmin, tpe, hp, Trials\n",
    "\n",
    "space = {\n",
    "    'short_sma': hp.randint('short_sma', 5, 75),\n",
    "    'long_sma': hp.randint('long_sma', 100, 200),\n",
    "    'trailing_stop_order_pct': hp.uniform('trailing_stop_order_pct', 0., 0.20),\n",
    "}\n",
    "trials = Trials()\n",
    "\n",
    "def sma_cross_backtest_hyperopt(params_dict):\n",
    "    print(params_dict)\n",
    "    return -sma_cross_backtest(**params_dict)\n",
    "\n",
    "best = fmin(fn=sma_cross_backtest_hyperopt,\n",
    "    space=space,\n",
    "    algo=tpe.suggest,\n",
    "    max_evals=52,\n",
    "    trials=trials\n",
    ")"
   ]
  },
  {
   "cell_type": "code",
   "execution_count": null,
   "id": "f978c374",
   "metadata": {},
   "outputs": [],
   "source": [
    "best"
   ]
  },
  {
   "cell_type": "code",
   "execution_count": null,
   "id": "f5e19644",
   "metadata": {},
   "outputs": [],
   "source": [
    "from hyperopt.plotting import main_plot_history\n",
    "\n",
    "main_plot_history(trials)"
   ]
  },
  {
   "cell_type": "code",
   "execution_count": null,
   "id": "5764390b",
   "metadata": {},
   "outputs": [],
   "source": [
    "from trazy_analysis.optimization.optimizer import HyperOptimizer\n",
    "from trazy_analysis.optimization.parameter import (\n",
    "    Choice,\n",
    "    Continuous,\n",
    "    Discrete,\n",
    "    Ordinal,\n",
    "    Parameter,\n",
    ")\n",
    "\n",
    "optimizer = HyperOptimizer()\n",
    "best_params = optimizer.maximize(func=sma_cross_backtest,\n",
    "        space={\n",
    "            \"short_sma\": Discrete([5, 75]),\n",
    "            \"long_sma\": Discrete([100, 200]),\n",
    "            \"trailing_stop_order_pct\": Continuous([0.1, 0.5]),\n",
    "        },\n",
    "        nb_iter = 52,\n",
    "        max_evals = 1\n",
    ")"
   ]
  },
  {
   "cell_type": "code",
   "execution_count": null,
   "id": "97a3fb4b",
   "metadata": {},
   "outputs": [],
   "source": [
    "best_params"
   ]
  },
  {
   "cell_type": "markdown",
   "id": "e945b5af",
   "metadata": {},
   "source": [
    "### Optuna"
   ]
  },
  {
   "cell_type": "code",
   "execution_count": null,
   "id": "2c363919",
   "metadata": {},
   "outputs": [],
   "source": [
    "import optuna\n",
    "\n",
    "def sma_cross_backtest_optuna(trial):\n",
    "    short_sma = trial.suggest_int('short_sma', 5, 75)\n",
    "    long_sma = trial.suggest_int('long_sma', 100, 200)\n",
    "    trailing_stop_order_pct = trial.suggest_float('trailing_stop_order_pct', 0, 0.20, log=False)\n",
    "    return sma_cross_backtest(short_sma, long_sma, trailing_stop_order_pct)"
   ]
  },
  {
   "cell_type": "code",
   "execution_count": null,
   "id": "7839c897",
   "metadata": {},
   "outputs": [],
   "source": [
    "study = optuna.create_study(storage=\"sqlite:///db.sqlite3\")  # Create a new study.\n",
    "study.optimize(sma_cross_backtest_optuna, n_trials=52)"
   ]
  },
  {
   "cell_type": "code",
   "execution_count": null,
   "id": "bfcfd2f9",
   "metadata": {},
   "outputs": [],
   "source": [
    "from trazy_analysis.optimization.optimizer import OptunaOptimizer\n",
    "from trazy_analysis.optimization.parameter import (\n",
    "    Choice,\n",
    "    Continuous,\n",
    "    Discrete,\n",
    "    Ordinal,\n",
    "    Parameter,\n",
    ")\n",
    "\n",
    "optimizer = OptunaOptimizer()\n",
    "best_params = optimizer.maximize(func=sma_cross_backtest,\n",
    "        space={\n",
    "            \"short_sma\": Discrete([5, 75]),\n",
    "            \"long_sma\": Discrete([100, 200]),\n",
    "            \"trailing_stop_order_pct\": Continuous([0.1, 0.5]),\n",
    "        },\n",
    "        nb_iter = 52,\n",
    "        max_evals = 1\n",
    ")"
   ]
  },
  {
   "cell_type": "code",
   "execution_count": null,
   "id": "49d71111",
   "metadata": {},
   "outputs": [],
   "source": [
    "best_params"
   ]
  },
  {
   "cell_type": "markdown",
   "id": "5ab48e3e",
   "metadata": {},
   "source": [
    "### ray"
   ]
  },
  {
   "cell_type": "code",
   "execution_count": null,
   "id": "5db1a3d1",
   "metadata": {},
   "outputs": [],
   "source": [
    "from ray import tune\n",
    "\n",
    "def sma_cross_backtest_ray(config):\n",
    "    short_sma, long_sma, trailing_stop_order_pct = config[\"short_sma\"], config[\"long_sma\"], config[\"trailing_stop_order_pct\"]\n",
    "    result = sma_cross_backtest(short_sma, long_sma, trailing_stop_order_pct)\n",
    "    tune.report(profit=result)\n",
    "\n",
    "search_space = {\n",
    "    \"short_sma\": tune.randint(5, 75),\n",
    "    \"long_sma\": tune.randint(100, 200),\n",
    "    \"trailing_stop_order_pct\": tune.uniform(0., 0.20)\n",
    "}\n",
    "\n",
    "analysis = tune.run(sma_cross_backtest_ray, metric=\"profit\", num_samples=26, config=search_space, mode=\"max\", resources_per_trial={\"cpu\": 4})"
   ]
  },
  {
   "cell_type": "code",
   "execution_count": null,
   "id": "d631666a",
   "metadata": {},
   "outputs": [],
   "source": [
    "best_config = analysis.get_best_config(\n",
    "    metric=\"profit\", mode=\"min\")\n",
    "print(\"Best config: \", best_config)\n",
    "\n",
    "# Get a dataframe for analyzing trial results.\n",
    "df = analysis.results_df"
   ]
  },
  {
   "cell_type": "code",
   "execution_count": null,
   "id": "b1a7a556",
   "metadata": {},
   "outputs": [],
   "source": [
    "sma_cross_backtest((best_config[\"short_sma\"], best_config[\"long_sma\"], best_config[\"trailing_stop_order_pct\"]))"
   ]
  },
  {
   "cell_type": "code",
   "execution_count": null,
   "id": "dde1bf3e",
   "metadata": {},
   "outputs": [],
   "source": [
    "from trazy_analysis.optimization.optimizer import RayOptimizer\n",
    "from trazy_analysis.optimization.parameter import (\n",
    "    Choice,\n",
    "    Continuous,\n",
    "    Discrete,\n",
    "    Ordinal,\n",
    "    Parameter,\n",
    ")\n",
    "\n",
    "optimizer = RayOptimizer()\n",
    "best_params = optimizer.maximize(func=sma_cross_backtest,\n",
    "        space={\n",
    "            \"short_sma\": Discrete([5, 75]),\n",
    "            \"long_sma\": Discrete([100, 200]),\n",
    "            \"trailing_stop_order_pct\": Continuous([0.1, 0.5]),\n",
    "        },\n",
    "        nb_iter = 16,\n",
    "        max_evals = 1\n",
    ")"
   ]
  },
  {
   "cell_type": "markdown",
   "id": "99233f44",
   "metadata": {},
   "source": [
    "### Bayesian optimization"
   ]
  },
  {
   "cell_type": "code",
   "execution_count": null,
   "id": "53d100e3",
   "metadata": {
    "scrolled": true
   },
   "outputs": [],
   "source": [
    "from bayes_opt import BayesianOptimization\n",
    "\n",
    "def sma_cross_backtest_bayes_opt(short_sma, long_sma, trailing_stop_order_pct):\n",
    "    return sma_cross_backtest(short_sma, long_sma, trailing_stop_order_pct)\n",
    "\n",
    "# Bounded region of parameter space\n",
    "pbounds = {'short_sma': (5, 75), 'long_sma': (100, 200), 'trailing_stop_order_pct': (0, 0.20)}\n",
    "\n",
    "optimizer = BayesianOptimization(\n",
    "    f=sma_cross_backtest_bayes_opt,\n",
    "    pbounds=pbounds,\n",
    "    random_state=0,\n",
    ")\n",
    "\n",
    "t = optimizer.maximize(\n",
    "    init_points=1,\n",
    "    n_iter=15,\n",
    ")"
   ]
  },
  {
   "cell_type": "code",
   "execution_count": null,
   "id": "1b87af1e",
   "metadata": {},
   "outputs": [],
   "source": [
    "optimizer.max"
   ]
  },
  {
   "cell_type": "code",
   "execution_count": null,
   "id": "55b426e3",
   "metadata": {},
   "outputs": [],
   "source": [
    "from trazy_analysis.optimization.optimizer import BayesianOptimizer\n",
    "from trazy_analysis.optimization.parameter import (\n",
    "    Choice,\n",
    "    Continuous,\n",
    "    Discrete,\n",
    "    Ordinal,\n",
    "    Parameter,\n",
    ")\n",
    "\n",
    "optimizer = BayesianOptimizer()\n",
    "best_params = optimizer.maximize(func=sma_cross_backtest,\n",
    "        space={\n",
    "            \"short_sma\": Discrete([5, 75]),\n",
    "            \"long_sma\": Discrete([100, 200]),\n",
    "            \"trailing_stop_order_pct\": Continuous([0.1, 0.5]),\n",
    "        },\n",
    "        nb_iter = 15,\n",
    "        max_evals = 1\n",
    ")"
   ]
  },
  {
   "cell_type": "code",
   "execution_count": null,
   "id": "64767337",
   "metadata": {},
   "outputs": [],
   "source": [
    "best_params"
   ]
  },
  {
   "cell_type": "markdown",
   "id": "11c55af9",
   "metadata": {},
   "source": [
    "### Sherpa"
   ]
  },
  {
   "cell_type": "code",
   "execution_count": null,
   "id": "49a6ed0e",
   "metadata": {},
   "outputs": [],
   "source": [
    "import sherpa\n",
    "parameters = [\n",
    "    sherpa.Discrete('short_sma', [5, 75]),\n",
    "    sherpa.Discrete('long_sma', [100, 200]),\n",
    "    sherpa.Continuous('trailing_stop_order_pct', [0.05, 0.20]),\n",
    "]\n",
    "alg = sherpa.algorithms.GPyOpt(max_num_trials=16)\n",
    "study = sherpa.Study(parameters=parameters,\n",
    "                     algorithm=alg,\n",
    "                     lower_is_better=True)\n",
    "\n",
    "iteration = 1\n",
    "for trial in study:\n",
    "    short_sma = trial.parameters[\"short_sma\"]\n",
    "    long_sma = trial.parameters[\"long_sma\"]\n",
    "    trailing_stop_order_pct = trial.parameters[\"trailing_stop_order_pct\"]\n",
    "    profit = -sma_cross_backtest(short_sma, long_sma, trailing_stop_order_pct)\n",
    "    study.add_observation(trial=trial,\n",
    "                          iteration=iteration,\n",
    "                          objective=profit\n",
    "    )\n",
    "    iteration += 1\n",
    "\n",
    "#study.finalize(trial)"
   ]
  },
  {
   "cell_type": "code",
   "execution_count": null,
   "id": "0a3904d0",
   "metadata": {},
   "outputs": [],
   "source": [
    "from trazy_analysis.optimization.optimizer import SherpaOptimizer\n",
    "from trazy_analysis.optimization.parameter import (\n",
    "    Choice,\n",
    "    Continuous,\n",
    "    Discrete,\n",
    "    Ordinal,\n",
    "    Parameter,\n",
    ")\n",
    "\n",
    "optimizer = SherpaOptimizer()\n",
    "best_params = optimizer.maximize(func=sma_cross_backtest,\n",
    "        space={\n",
    "            \"short_sma\": Discrete([5, 75]),\n",
    "            \"long_sma\": Discrete([100, 200]),\n",
    "            \"trailing_stop_order_pct\": Continuous([0.1, 0.5]),\n",
    "        },\n",
    "        nb_iter = 15,\n",
    "        max_evals = 1\n",
    ")"
   ]
  },
  {
   "cell_type": "code",
   "execution_count": null,
   "id": "58566f9d",
   "metadata": {},
   "outputs": [],
   "source": [
    "best_params"
   ]
  },
  {
   "cell_type": "markdown",
   "id": "3579f12a",
   "metadata": {},
   "source": [
    "### GPyOpt"
   ]
  },
  {
   "cell_type": "code",
   "execution_count": null,
   "id": "f94aabee",
   "metadata": {},
   "outputs": [],
   "source": [
    "import GPyOpt\n",
    "\n",
    "bounds = [\n",
    "    {'name': 'short_sma', 'type': 'discrete', 'domain': (5,75)},\n",
    "    {'name': 'long_sma', 'type': 'discrete', 'domain': (100,200)},\n",
    "    {'name': 'trailing_stop_order_pct', 'type': 'continuous', 'domain': (0.,0.20)},\n",
    "]\n",
    "\n",
    "def sma_cross_backtest_gpy_opt(params):\n",
    "    short_sma = params[0][0]\n",
    "    long_sma = params[0][1]\n",
    "    trailing_stop_order_pct = params[0][2]\n",
    "    return -sma_cross_backtest(short_sma, long_sma, trailing_stop_order_pct)\n",
    "\n",
    "myProblem = GPyOpt.methods.BayesianOptimization(sma_cross_backtest_gpy_opt, bounds)\n",
    "myProblem.run_optimization(16)"
   ]
  },
  {
   "cell_type": "code",
   "execution_count": null,
   "id": "1f5d6b5f",
   "metadata": {},
   "outputs": [],
   "source": [
    "myProblem.x_opt"
   ]
  },
  {
   "cell_type": "code",
   "execution_count": null,
   "id": "5b17bcba",
   "metadata": {},
   "outputs": [],
   "source": [
    "myProblem.fx_opt"
   ]
  },
  {
   "cell_type": "code",
   "execution_count": null,
   "id": "a0833943",
   "metadata": {},
   "outputs": [],
   "source": [
    "from trazy_analysis.optimization.optimizer import GPyOptimizer\n",
    "from trazy_analysis.optimization.parameter import (\n",
    "    Choice,\n",
    "    Continuous,\n",
    "    Discrete,\n",
    "    Ordinal,\n",
    "    Parameter,\n",
    ")\n",
    "\n",
    "optimizer = GPyOptimizer()\n",
    "best_params = optimizer.maximize(func=sma_cross_backtest,\n",
    "        space={\n",
    "            \"short_sma\": Discrete([5, 75]),\n",
    "            \"long_sma\": Discrete([100, 200]),\n",
    "            \"trailing_stop_order_pct\": Continuous([0.1, 0.5]),\n",
    "        },\n",
    "        nb_iter = 52,\n",
    "        max_evals = 1\n",
    ")"
   ]
  },
  {
   "cell_type": "code",
   "execution_count": null,
   "id": "f6178adf",
   "metadata": {},
   "outputs": [],
   "source": [
    "best_params"
   ]
  },
  {
   "cell_type": "code",
   "execution_count": null,
   "id": "0b8660d8",
   "metadata": {},
   "outputs": [],
   "source": []
  }
 ],
 "metadata": {
  "kernelspec": {
   "display_name": "env",
   "language": "python",
   "name": "env"
  },
  "language_info": {
   "codemirror_mode": {
    "name": "ipython",
    "version": 3
   },
   "file_extension": ".py",
   "mimetype": "text/x-python",
   "name": "python",
   "nbconvert_exporter": "python",
   "pygments_lexer": "ipython3",
   "version": "3.6.8"
  }
 },
 "nbformat": 4,
 "nbformat_minor": 5
}
