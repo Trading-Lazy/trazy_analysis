{
 "cells": [
  {
   "cell_type": "markdown",
   "id": "d11e1a28",
   "metadata": {},
   "source": [
    "## Backtesting sma crossover strategy"
   ]
  },
  {
   "cell_type": "markdown",
   "id": "64e7d569",
   "metadata": {},
   "source": [
    "### Go to project root"
   ]
  },
  {
   "cell_type": "code",
   "execution_count": 1,
   "id": "42812f53",
   "metadata": {},
   "outputs": [],
   "source": [
    "import os\n",
    "from pathlib import Path\n",
    "\n",
    "#list the current work dir\n",
    "cwd = os.getcwd()\n",
    "current_path = Path(cwd)\n",
    "project_root = current_path.parent.parent.parent\n",
    "\n",
    "#change the current work dir\n",
    "os.chdir(project_root)"
   ]
  },
  {
   "cell_type": "code",
   "execution_count": 2,
   "id": "d6d759d2",
   "metadata": {},
   "outputs": [
    {
     "name": "stderr",
     "output_type": "stream",
     "text": [
      "/Users/moussadiakite/Google_Drive/Projects/MInvest/Trazy/trazy_analysis/env/lib/python3.6/site-packages/pyfolio/pos.py:27: UserWarning: Module \"zipline.assets\" not found; multipliers will not be applied to position notionals.\n",
      "  'Module \"zipline.assets\" not found; multipliers will not be applied'\n"
     ]
    }
   ],
   "source": [
    "from collections import deque\n",
    "\n",
    "from trazy_analysis.bot.event_loop import EventLoop\n",
    "from trazy_analysis.broker.broker_manager import BrokerManager\n",
    "from trazy_analysis.broker.simulated_broker import SimulatedBroker\n",
    "from trazy_analysis.broker.binance_fee_model import BinanceFeeModel\n",
    "from trazy_analysis.common.clock import SimulatedClock\n",
    "from trazy_analysis.feed.feed import CsvFeed, Feed\n",
    "from trazy_analysis.indicators.indicators_manager import IndicatorsManager\n",
    "from trazy_analysis.models.asset import Asset\n",
    "from trazy_analysis.order_manager.order_creator import OrderCreator\n",
    "from trazy_analysis.order_manager.order_manager import OrderManager\n",
    "from trazy_analysis.order_manager.position_sizer import PositionSizer\n",
    "from trazy_analysis.strategy.strategies.sma_crossover_strategy import (\n",
    "    SmaCrossoverStrategy,\n",
    ")\n",
    "from datetime import datetime, timedelta\n",
    "import pytz\n",
    "from trazy_analysis.db_storage.influxdb_storage import InfluxDbStorage\n",
    "from trazy_analysis.common.ccxt_connector import CcxtConnector\n",
    "from trazy_analysis.market_data.historical.ccxt_historical_data_handler import CcxtHistoricalDataHandler\n",
    "\n",
    "from trazy_analysis.feed.feed import ExternalStorageFeed\n",
    "from trazy_analysis.statistics.pyfolio_statistics import PyfolioStatistics\n",
    "from trazy_analysis.statistics.statistics import Statistics\n",
    "from trazy_analysis.statistics.quantstats_statistics import QuantstatsStatistics\n",
    "\n",
    "import pyfolio as pf\n",
    "import black_box as bb\n",
    "import rbfopt\n",
    "import numpy as np"
   ]
  },
  {
   "cell_type": "code",
   "execution_count": null,
   "id": "658f68a7",
   "metadata": {},
   "outputs": [],
   "source": [
    "%load_ext autoreload\n",
    "%autoreload"
   ]
  },
  {
   "cell_type": "code",
   "execution_count": 3,
   "id": "a6089f6d",
   "metadata": {},
   "outputs": [],
   "source": [
    "asset = Asset(symbol=\"ETHUSDT\", exchange=\"BINANCE\")"
   ]
  },
  {
   "cell_type": "code",
   "execution_count": 4,
   "id": "68172c7b",
   "metadata": {},
   "outputs": [],
   "source": [
    "LOOKBACK_PERIOD = timedelta(days=1)\n",
    "end = datetime.now(pytz.UTC)\n",
    "start = end - LOOKBACK_PERIOD"
   ]
  },
  {
   "cell_type": "code",
   "execution_count": 5,
   "id": "106d1855",
   "metadata": {},
   "outputs": [
    {
     "data": {
      "text/plain": [
       "datetime.datetime(2021, 9, 3, 3, 31, 41, 463067, tzinfo=<UTC>)"
      ]
     },
     "execution_count": 5,
     "metadata": {},
     "output_type": "execute_result"
    }
   ],
   "source": [
    "start"
   ]
  },
  {
   "cell_type": "code",
   "execution_count": 6,
   "id": "f0160eca",
   "metadata": {},
   "outputs": [
    {
     "data": {
      "text/plain": [
       "datetime.datetime(2021, 9, 4, 3, 31, 41, 463067, tzinfo=<UTC>)"
      ]
     },
     "execution_count": 6,
     "metadata": {},
     "output_type": "execute_result"
    }
   ],
   "source": [
    "end"
   ]
  },
  {
   "cell_type": "code",
   "execution_count": 7,
   "id": "36a75e43",
   "metadata": {},
   "outputs": [],
   "source": [
    "db_storage = InfluxDbStorage()"
   ]
  },
  {
   "cell_type": "code",
   "execution_count": 8,
   "id": "a1c958ef",
   "metadata": {},
   "outputs": [],
   "source": [
    "exchanges_api_keys = {\n",
    "    \"BINANCE\": {\n",
    "        \"key\": None,\n",
    "        \"secret\": None,\n",
    "        \"password\": None,\n",
    "    }\n",
    "}\n",
    "\n",
    "ccxt_connector = CcxtConnector(exchanges_api_keys=exchanges_api_keys)\n",
    "historical_data_handler = CcxtHistoricalDataHandler(ccxt_connector)\n",
    "historical_data_handler.save_ticker_data_in_db_storage(\n",
    "    asset, db_storage, start, end\n",
    ")"
   ]
  },
  {
   "cell_type": "code",
   "execution_count": null,
   "id": "0492e152",
   "metadata": {},
   "outputs": [],
   "source": [
    "assets = [asset]\n",
    "events = deque()\n",
    "\n",
    "feed: Feed = ExternalStorageFeed(\n",
    "    assets = assets,\n",
    "    events = events,\n",
    "    time_unit = timedelta(minutes=1),\n",
    "    start = start,\n",
    "    end = end,\n",
    "    db_storage = db_storage,\n",
    "    file_storage = None,\n",
    "    market_cal = None,\n",
    ")\n",
    "\n",
    "strategies = {SmaCrossoverStrategy: [SmaCrossoverStrategy.DEFAULT_PARAMETERS]}\n",
    "clock = SimulatedClock()\n",
    "broker = SimulatedBroker(clock, events, initial_funds=10000.0, fee_model=BinanceFeeModel())\n",
    "broker.subscribe_funds_to_portfolio(10000.0)\n",
    "broker_manager = BrokerManager(brokers={\"BINANCE\": broker}, clock=clock)\n",
    "position_sizer = PositionSizer(broker_manager=broker_manager, integer_size=False)\n",
    "order_creator = OrderCreator(broker_manager=broker_manager)\n",
    "order_manager = OrderManager(\n",
    "    events=events,\n",
    "    broker_manager=broker_manager,\n",
    "    position_sizer=position_sizer,\n",
    "    order_creator=order_creator,\n",
    ")\n",
    "indicators_manager = IndicatorsManager(preload=True, initial_data=feed.candles)\n",
    "event_loop = EventLoop(\n",
    "    events=events,\n",
    "    assets=assets,\n",
    "    feed=feed,\n",
    "    order_manager=order_manager,\n",
    "    strategies_parameters=strategies,\n",
    "    indicators_manager=indicators_manager,\n",
    ")\n",
    "event_loop.loop()\n",
    "\n",
    "print(broker.get_portfolio_cash_balance())"
   ]
  },
  {
   "cell_type": "code",
   "execution_count": null,
   "id": "da11a745",
   "metadata": {},
   "outputs": [],
   "source": [
    "event_loop.equity_dfs[\"SmaCrossoverStrategy\"][\"BINANCE\"]"
   ]
  },
  {
   "cell_type": "code",
   "execution_count": null,
   "id": "0bf3907c",
   "metadata": {},
   "outputs": [],
   "source": [
    "event_loop.positions_dfs[\"BINANCE\"]"
   ]
  },
  {
   "cell_type": "code",
   "execution_count": null,
   "id": "975035b2",
   "metadata": {},
   "outputs": [],
   "source": [
    "event_loop.transactions_dfs[\"BINANCE\"]"
   ]
  },
  {
   "cell_type": "code",
   "execution_count": null,
   "id": "69553f5c",
   "metadata": {},
   "outputs": [],
   "source": [
    "import pandas as pd\n",
    "\n",
    "with pd.option_context('display.max_rows', None, 'display.max_columns', None): \n",
    "    print(event_loop.equity_dfs['SmaCrossoverStrategy']['BINANCE'][event_loop.equity_dfs['SmaCrossoverStrategy']['BINANCE']['returns'] != 0])"
   ]
  },
  {
   "cell_type": "code",
   "execution_count": null,
   "id": "31a29041",
   "metadata": {},
   "outputs": [],
   "source": [
    "equity = event_loop.equity_dfs['SmaCrossoverStrategy']['BINANCE']\n",
    "positions = event_loop.positions_dfs[\"BINANCE\"]\n",
    "transactions = event_loop.transactions_dfs[\"BINANCE\"]"
   ]
  },
  {
   "cell_type": "code",
   "execution_count": null,
   "id": "9a733296",
   "metadata": {},
   "outputs": [],
   "source": [
    "pf.timeseries.perf_stats(returns=returns, positions=positions, transactions=transactions).to_frame(name=\"Backtest results\")"
   ]
  },
  {
   "cell_type": "code",
   "execution_count": null,
   "id": "963d74bf",
   "metadata": {},
   "outputs": [],
   "source": [
    "pf.create_round_trip_tear_sheet(returns=returns, positions=positions, transactions=transactions)"
   ]
  },
  {
   "cell_type": "code",
   "execution_count": null,
   "id": "bae2ef44",
   "metadata": {},
   "outputs": [],
   "source": [
    "returns"
   ]
  },
  {
   "cell_type": "code",
   "execution_count": null,
   "id": "ec636348",
   "metadata": {},
   "outputs": [],
   "source": [
    "tearsheet = PyfolioStatistics(\n",
    "    equity=equity,\n",
    "    positions=positions,\n",
    "    transactions=transactions,\n",
    "    title='Sma Crossover'\n",
    ")\n",
    "tearsheet.get_tearsheet()"
   ]
  },
  {
   "cell_type": "code",
   "execution_count": null,
   "id": "8ecc7a87",
   "metadata": {},
   "outputs": [],
   "source": [
    "tearsheet = Statistics(\n",
    "    equity=equity,\n",
    "    positions=positions,\n",
    "    transactions=transactions,\n",
    "    title='Sma Crossover'\n",
    ")\n",
    "tearsheet.get_tearsheet()"
   ]
  },
  {
   "cell_type": "code",
   "execution_count": null,
   "id": "5e71039f",
   "metadata": {},
   "outputs": [],
   "source": [
    "tearsheet = QuantstatsStatistics(\n",
    "    equity=equity,\n",
    "    positions=positions,\n",
    "    transactions=transactions,\n",
    "    title='Sma Crossover'\n",
    ")\n",
    "tearsheet.get_tearsheet()"
   ]
  },
  {
   "cell_type": "markdown",
   "id": "cba55f7e",
   "metadata": {},
   "source": [
    "### Test optimizers"
   ]
  },
  {
   "cell_type": "code",
   "execution_count": 15,
   "id": "bdd2bee6",
   "metadata": {},
   "outputs": [],
   "source": [
    "def sma_cross_backtest(short_sma, long_sma, trailing_stop_order_pct):\n",
    "    short_sma = int(short_sma)\n",
    "    long_sma = int(long_sma)\n",
    "    print(short_sma)\n",
    "    print(long_sma)\n",
    "    print(trailing_stop_order_pct)\n",
    "    assets = [asset]\n",
    "    events = deque()\n",
    "\n",
    "    feed: Feed = ExternalStorageFeed(\n",
    "        assets = assets,\n",
    "        events = events,\n",
    "        time_unit = timedelta(minutes=1),\n",
    "        start = start,\n",
    "        end = end,\n",
    "        db_storage = db_storage,\n",
    "        file_storage = None,\n",
    "        market_cal = None,\n",
    "    )\n",
    "\n",
    "    strategies = {SmaCrossoverStrategy: [{\"short_sma\": short_sma, \"long_sma\": long_sma}]}\n",
    "    clock = SimulatedClock()\n",
    "    broker = SimulatedBroker(clock, events, initial_funds=10000.0, fee_model=BinanceFeeModel())\n",
    "    broker.subscribe_funds_to_portfolio(10000.0)\n",
    "    broker_manager = BrokerManager(brokers={\"BINANCE\": broker}, clock=clock)\n",
    "    position_sizer = PositionSizer(broker_manager=broker_manager, integer_size=False)\n",
    "    order_creator = OrderCreator(broker_manager=broker_manager, with_cover=True, trailing_stop_order_pct=trailing_stop_order_pct)\n",
    "    order_manager = OrderManager(\n",
    "        events=events,\n",
    "        broker_manager=broker_manager,\n",
    "        position_sizer=position_sizer,\n",
    "        order_creator=order_creator,\n",
    "    )\n",
    "    indicators_manager = IndicatorsManager(preload=True, initial_data=feed.candles)\n",
    "    event_loop = EventLoop(\n",
    "        events=events,\n",
    "        assets=assets,\n",
    "        feed=feed,\n",
    "        order_manager=order_manager,\n",
    "        strategies_parameters=strategies,\n",
    "        indicators_manager=indicators_manager,\n",
    "    )\n",
    "    event_loop.loop()\n",
    "\n",
    "    return broker.get_portfolio_cash_balance()"
   ]
  },
  {
   "cell_type": "code",
   "execution_count": null,
   "id": "73e7bf05",
   "metadata": {},
   "outputs": [],
   "source": [
    "sma_cross_backtest((51, 200, 0.149))"
   ]
  },
  {
   "cell_type": "code",
   "execution_count": null,
   "id": "98ae3bcb",
   "metadata": {},
   "outputs": [],
   "source": [
    "sma_cross_backtest((62, 126, 0.192691))"
   ]
  },
  {
   "cell_type": "code",
   "execution_count": null,
   "id": "f4dee724",
   "metadata": {},
   "outputs": [],
   "source": [
    "sma_cross_backtest((64, 124, 0.192691))"
   ]
  },
  {
   "cell_type": "code",
   "execution_count": null,
   "id": "20a1938c",
   "metadata": {},
   "outputs": [],
   "source": [
    "sma_cross_backtest((58, 128, 0.075825))"
   ]
  },
  {
   "cell_type": "code",
   "execution_count": null,
   "id": "8260f524",
   "metadata": {},
   "outputs": [],
   "source": [
    "import time"
   ]
  },
  {
   "cell_type": "code",
   "execution_count": null,
   "id": "b52775e9",
   "metadata": {},
   "outputs": [],
   "source": [
    "!pip install ipython-autotime"
   ]
  },
  {
   "cell_type": "markdown",
   "id": "6adbca9d",
   "metadata": {},
   "source": [
    "### Black blox"
   ]
  },
  {
   "cell_type": "code",
   "execution_count": null,
   "id": "8f8a34b7",
   "metadata": {},
   "outputs": [],
   "source": [
    "best_params = bb.search_min(f = sma_cross_backtest,  # given function\n",
    "                            domain = [  # ranges of each parameter\n",
    "                                [5., 75.],\n",
    "                                [100., 200.],\n",
    "                                [0.0, 0.20]\n",
    "                                ],\n",
    "                            budget = 4,  # total number of function calls available\n",
    "                            batch = 4,  # number of calls that will be evaluated in parallel\n",
    "                            resfile = 'output.csv')  # "
   ]
  },
  {
   "cell_type": "code",
   "execution_count": null,
   "id": "d33b2e72",
   "metadata": {},
   "outputs": [],
   "source": [
    "for param in best_params:\n",
    "    print(param)"
   ]
  },
  {
   "cell_type": "code",
   "execution_count": null,
   "id": "c52f9704",
   "metadata": {},
   "outputs": [],
   "source": [
    "sma_cross_backtest(best_params)"
   ]
  },
  {
   "cell_type": "code",
   "execution_count": null,
   "id": "f805e68c",
   "metadata": {},
   "outputs": [],
   "source": [
    "Discrete.__dict__"
   ]
  },
  {
   "cell_type": "code",
   "execution_count": null,
   "id": "e49a5d46",
   "metadata": {},
   "outputs": [],
   "source": [
    "np.savetxt(None, [])"
   ]
  },
  {
   "cell_type": "code",
   "execution_count": null,
   "id": "eb8c594f",
   "metadata": {},
   "outputs": [],
   "source": [
    "from trazy_analysis.optimization.optimizer import BlackBoxOptimizer\n",
    "from trazy_analysis.optimization.parameter import (\n",
    "    Choice,\n",
    "    Continuous,\n",
    "    Discrete,\n",
    "    Ordinal,\n",
    "    Parameter,\n",
    ")\n",
    "\n",
    "optimizer = BlackBoxOptimizer()\n",
    "best_params = optimizer.maximize(func=sma_cross_backtest,\n",
    "        space={\n",
    "            \"short_sma\": Discrete([5, 75]),\n",
    "            \"long_sma\": Discrete([100, 200]),\n",
    "            \"trailing_stop_order_pct\": Continuous([0.1, 0.5]),\n",
    "        },\n",
    "        nb_iter = 4,\n",
    "        max_evals = 4\n",
    ")"
   ]
  },
  {
   "cell_type": "code",
   "execution_count": null,
   "id": "1d4659ae",
   "metadata": {},
   "outputs": [],
   "source": [
    "best_params"
   ]
  },
  {
   "cell_type": "markdown",
   "id": "292f536e",
   "metadata": {},
   "source": [
    "### skopt"
   ]
  },
  {
   "cell_type": "code",
   "execution_count": null,
   "id": "0e02435d",
   "metadata": {},
   "outputs": [],
   "source": [
    "from skopt.space import Real, Integer\n",
    "from skopt.utils import use_named_args\n",
    "\n",
    "space = [Integer(5, 75, name='short_sma'),\n",
    "          Integer(100, 200, name='long_sma'),\n",
    "          Real(0., 0.20, \"uniform\", name='trailing_stop_order_pct')]\n",
    "\n",
    "from skopt import gp_minimize\n",
    "res_gp = gp_minimize(sma_cross_backtest, space, n_calls=52, random_state=0)"
   ]
  },
  {
   "cell_type": "code",
   "execution_count": null,
   "id": "1202fda0",
   "metadata": {},
   "outputs": [],
   "source": [
    "print(\"\"\"Best parameters:\n",
    "- short_sma=%d\n",
    "- long_sma=%d\n",
    "- trailing_stop_order_pct=%.6f\"\"\" % (res_gp.x[0], res_gp.x[1],\n",
    "                            res_gp.x[2]))"
   ]
  },
  {
   "cell_type": "code",
   "execution_count": null,
   "id": "207e8249",
   "metadata": {},
   "outputs": [],
   "source": [
    "sma_cross_backtest(res_gp.x)"
   ]
  },
  {
   "cell_type": "code",
   "execution_count": null,
   "id": "003e6704",
   "metadata": {},
   "outputs": [],
   "source": [
    "from skopt.plots import plot_objective\n",
    "plot_objective(res_gp)"
   ]
  },
  {
   "cell_type": "code",
   "execution_count": null,
   "id": "eae3bc5b",
   "metadata": {},
   "outputs": [],
   "source": [
    "from trazy_analysis.optimization.optimizer import SkoptOptimizer\n",
    "from trazy_analysis.optimization.parameter import (\n",
    "    Choice,\n",
    "    Continuous,\n",
    "    Discrete,\n",
    "    Ordinal,\n",
    "    Parameter,\n",
    ")\n",
    "\n",
    "optimizer = SkoptOptimizer()\n",
    "best_params = optimizer.maximize(func=sma_cross_backtest,\n",
    "        space={\n",
    "            \"short_sma\": Discrete([5, 75]),\n",
    "            \"long_sma\": Discrete([100, 200]),\n",
    "            \"trailing_stop_order_pct\": Continuous([0.1, 0.5]),\n",
    "        },\n",
    "        nb_iter = 10,\n",
    "        max_evals = 1\n",
    ")"
   ]
  },
  {
   "cell_type": "code",
   "execution_count": null,
   "id": "414d0b48",
   "metadata": {},
   "outputs": [],
   "source": [
    "best_params"
   ]
  },
  {
   "cell_type": "markdown",
   "id": "27af8416",
   "metadata": {},
   "source": [
    "### Hyperopt"
   ]
  },
  {
   "cell_type": "code",
   "execution_count": null,
   "id": "317414c7",
   "metadata": {},
   "outputs": [],
   "source": [
    "from hyperopt import fmin, tpe, hp, Trials\n",
    "\n",
    "space = {\n",
    "    'short_sma': hp.randint('short_sma', 5, 75),\n",
    "    'long_sma': hp.randint('long_sma', 100, 200),\n",
    "    'trailing_stop_order_pct': hp.uniform('trailing_stop_order_pct', 0., 0.20),\n",
    "}\n",
    "trials = Trials()\n",
    "\n",
    "def sma_cross_backtest_hyperopt(params_dict):\n",
    "    print(params_dict)\n",
    "    return -sma_cross_backtest(**params_dict)\n",
    "\n",
    "best = fmin(fn=sma_cross_backtest_hyperopt,\n",
    "    space=space,\n",
    "    algo=tpe.suggest,\n",
    "    max_evals=52,\n",
    "    trials=trials\n",
    ")"
   ]
  },
  {
   "cell_type": "code",
   "execution_count": null,
   "id": "f978c374",
   "metadata": {},
   "outputs": [],
   "source": [
    "best"
   ]
  },
  {
   "cell_type": "code",
   "execution_count": null,
   "id": "f5e19644",
   "metadata": {},
   "outputs": [],
   "source": [
    "from hyperopt.plotting import main_plot_history\n",
    "\n",
    "main_plot_history(trials)"
   ]
  },
  {
   "cell_type": "code",
   "execution_count": null,
   "id": "2acbc192",
   "metadata": {},
   "outputs": [],
   "source": [
    "from trazy_analysis.optimization.optimizer import HyperOptimizer\n",
    "from trazy_analysis.optimization.parameter import (\n",
    "    Choice,\n",
    "    Continuous,\n",
    "    Discrete,\n",
    "    Ordinal,\n",
    "    Parameter,\n",
    ")\n",
    "\n",
    "optimizer = HyperOptimizer()\n",
    "best_params = optimizer.maximize(func=sma_cross_backtest,\n",
    "        space={\n",
    "            \"short_sma\": Discrete([5, 75]),\n",
    "            \"long_sma\": Discrete([100, 200]),\n",
    "            \"trailing_stop_order_pct\": Continuous([0.1, 0.5]),\n",
    "        },\n",
    "        nb_iter = 52,\n",
    "        max_evals = 1\n",
    ")"
   ]
  },
  {
   "cell_type": "code",
   "execution_count": null,
   "id": "0ed16b17",
   "metadata": {},
   "outputs": [],
   "source": [
    "best_params"
   ]
  },
  {
   "cell_type": "markdown",
   "id": "e945b5af",
   "metadata": {},
   "source": [
    "### Optuna"
   ]
  },
  {
   "cell_type": "code",
   "execution_count": null,
   "id": "2c363919",
   "metadata": {},
   "outputs": [],
   "source": [
    "import optuna\n",
    "\n",
    "def sma_cross_backtest_optuna(trial):\n",
    "    short_sma = trial.suggest_int('short_sma', 5, 75)\n",
    "    long_sma = trial.suggest_int('long_sma', 100, 200)\n",
    "    trailing_stop_order_pct = trial.suggest_float('trailing_stop_order_pct', 0, 0.20, log=False)\n",
    "    return sma_cross_backtest(short_sma, long_sma, trailing_stop_order_pct)"
   ]
  },
  {
   "cell_type": "code",
   "execution_count": null,
   "id": "7839c897",
   "metadata": {},
   "outputs": [],
   "source": [
    "study = optuna.create_study(storage=\"sqlite:///db.sqlite3\")  # Create a new study.\n",
    "study.optimize(sma_cross_backtest_optuna, n_trials=52)"
   ]
  },
  {
   "cell_type": "code",
   "execution_count": 10,
   "id": "84196268",
   "metadata": {},
   "outputs": [
    {
     "name": "stderr",
     "output_type": "stream",
     "text": [
      "\u001b[32m[I 2021-09-04 05:32:01,641]\u001b[0m A new study created in memory with name: no-name-5011b1e1-bb60-4353-8ae5-7af2f60d57ad\u001b[0m\n",
      "/Users/moussadiakite/Google_Drive/Projects/MInvest/Trazy/trazy_analysis/env/lib/python3.6/site-packages/optuna/progress_bar.py:47: ExperimentalWarning: Progress bar is experimental (supported from v1.2.0). The interface can change in the future.\n",
      "  self._init_valid()\n"
     ]
    },
    {
     "data": {
      "application/vnd.jupyter.widget-view+json": {
       "model_id": "562e220292a14583bf83314a5843f171",
       "version_major": 2,
       "version_minor": 0
      },
      "text/plain": [
       "  0%|          | 0/52 [00:00<?, ?it/s]"
      ]
     },
     "metadata": {},
     "output_type": "display_data"
    },
    {
     "name": "stdout",
     "output_type": "stream",
     "text": [
      "{'short_sma': 26}\n",
      "{'short_sma': 26, 'long_sma': 198}\n",
      "{'short_sma': 26, 'long_sma': 198, 'trailing_stop_order_pct': 0.3677163322627197}\n",
      "26\n",
      "198\n",
      "0.3677163322627197\n",
      "\u001b[32m[I 2021-09-04 05:32:03,499]\u001b[0m Trial 0 finished with value: -10021.493988089951 and parameters: {'short_sma': 26, 'long_sma': 198, 'trailing_stop_order_pct': 0.3677163322627197}. Best is trial 0 with value: -10021.493988089951.\u001b[0m\n",
      "{'short_sma': 38}\n",
      "{'short_sma': 38, 'long_sma': 159}\n",
      "{'short_sma': 38, 'long_sma': 159, 'trailing_stop_order_pct': 0.35072144974183295}\n",
      "38\n",
      "159\n",
      "0.35072144974183295\n",
      "\u001b[32m[I 2021-09-04 05:32:04,986]\u001b[0m Trial 1 finished with value: -10024.011138513486 and parameters: {'short_sma': 38, 'long_sma': 159, 'trailing_stop_order_pct': 0.35072144974183295}. Best is trial 1 with value: -10024.011138513486.\u001b[0m\n",
      "{'short_sma': 28}\n",
      "{'short_sma': 28, 'long_sma': 111}\n",
      "{'short_sma': 28, 'long_sma': 111, 'trailing_stop_order_pct': 0.27348494260608036}\n",
      "28\n",
      "111\n",
      "0.27348494260608036\n",
      "\u001b[32m[I 2021-09-04 05:32:07,227]\u001b[0m Trial 2 finished with value: -10013.222831126597 and parameters: {'short_sma': 28, 'long_sma': 111, 'trailing_stop_order_pct': 0.27348494260608036}. Best is trial 1 with value: -10024.011138513486.\u001b[0m\n",
      "{'short_sma': 5}\n",
      "{'short_sma': 5, 'long_sma': 183}\n",
      "{'short_sma': 5, 'long_sma': 183, 'trailing_stop_order_pct': 0.14796790595432585}\n",
      "5\n",
      "183\n",
      "0.14796790595432585\n",
      "\u001b[32m[I 2021-09-04 05:32:09,589]\u001b[0m Trial 3 finished with value: -9996.102957527854 and parameters: {'short_sma': 5, 'long_sma': 183, 'trailing_stop_order_pct': 0.14796790595432585}. Best is trial 1 with value: -10024.011138513486.\u001b[0m\n",
      "{'short_sma': 21}\n",
      "{'short_sma': 21, 'long_sma': 105}\n",
      "{'short_sma': 21, 'long_sma': 105, 'trailing_stop_order_pct': 0.40227811175350103}\n",
      "21\n",
      "105\n",
      "0.40227811175350103\n",
      "\u001b[32m[I 2021-09-04 05:32:11,295]\u001b[0m Trial 4 finished with value: -10011.038639162254 and parameters: {'short_sma': 21, 'long_sma': 105, 'trailing_stop_order_pct': 0.40227811175350103}. Best is trial 1 with value: -10024.011138513486.\u001b[0m\n",
      "{'short_sma': 42}\n",
      "{'short_sma': 42, 'long_sma': 132}\n",
      "{'short_sma': 42, 'long_sma': 132, 'trailing_stop_order_pct': 0.2033110000211553}\n",
      "42\n",
      "132\n",
      "0.2033110000211553\n",
      "\u001b[32m[I 2021-09-04 05:32:13,162]\u001b[0m Trial 5 finished with value: -10010.411250037341 and parameters: {'short_sma': 42, 'long_sma': 132, 'trailing_stop_order_pct': 0.2033110000211553}. Best is trial 1 with value: -10024.011138513486.\u001b[0m\n",
      "{'short_sma': 17}\n",
      "{'short_sma': 17, 'long_sma': 118}\n",
      "{'short_sma': 17, 'long_sma': 118, 'trailing_stop_order_pct': 0.2717527908220654}\n",
      "17\n",
      "118\n",
      "0.2717527908220654\n",
      "\u001b[32m[I 2021-09-04 05:32:14,590]\u001b[0m Trial 6 finished with value: -10008.142627861294 and parameters: {'short_sma': 17, 'long_sma': 118, 'trailing_stop_order_pct': 0.2717527908220654}. Best is trial 1 with value: -10024.011138513486.\u001b[0m\n",
      "{'short_sma': 63}\n",
      "{'short_sma': 63, 'long_sma': 169}\n",
      "{'short_sma': 63, 'long_sma': 169, 'trailing_stop_order_pct': 0.2629287249444411}\n",
      "63\n",
      "169\n",
      "0.2629287249444411\n",
      "\u001b[32m[I 2021-09-04 05:32:16,406]\u001b[0m Trial 7 finished with value: -10028.948854401582 and parameters: {'short_sma': 63, 'long_sma': 169, 'trailing_stop_order_pct': 0.2629287249444411}. Best is trial 7 with value: -10028.948854401582.\u001b[0m\n",
      "{'short_sma': 64}\n",
      "{'short_sma': 64, 'long_sma': 167}\n",
      "{'short_sma': 64, 'long_sma': 167, 'trailing_stop_order_pct': 0.2356813719004984}\n",
      "64\n",
      "167\n",
      "0.2356813719004984\n",
      "\u001b[32m[I 2021-09-04 05:32:18,131]\u001b[0m Trial 8 finished with value: -10029.76162608043 and parameters: {'short_sma': 64, 'long_sma': 167, 'trailing_stop_order_pct': 0.2356813719004984}. Best is trial 8 with value: -10029.76162608043.\u001b[0m\n",
      "{'short_sma': 54}\n",
      "{'short_sma': 54, 'long_sma': 195}\n",
      "{'short_sma': 54, 'long_sma': 195, 'trailing_stop_order_pct': 0.3673113237038418}\n",
      "54\n",
      "195\n",
      "0.3673113237038418\n",
      "\u001b[32m[I 2021-09-04 05:32:19,780]\u001b[0m Trial 9 finished with value: -10014.262962317785 and parameters: {'short_sma': 54, 'long_sma': 195, 'trailing_stop_order_pct': 0.3673113237038418}. Best is trial 8 with value: -10029.76162608043.\u001b[0m\n",
      "{'short_sma': 75}\n",
      "{'short_sma': 75, 'long_sma': 142}\n",
      "{'short_sma': 75, 'long_sma': 142, 'trailing_stop_order_pct': 0.152752766603901}\n",
      "75\n",
      "142\n",
      "0.152752766603901\n",
      "\u001b[32m[I 2021-09-04 05:32:23,471]\u001b[0m Trial 10 finished with value: -10021.199306423227 and parameters: {'short_sma': 75, 'long_sma': 142, 'trailing_stop_order_pct': 0.152752766603901}. Best is trial 8 with value: -10029.76162608043.\u001b[0m\n",
      "{'short_sma': 69}\n",
      "{'short_sma': 69, 'long_sma': 165}\n",
      "{'short_sma': 69, 'long_sma': 165, 'trailing_stop_order_pct': 0.23554490581472134}\n",
      "69\n",
      "165\n",
      "0.23554490581472134\n",
      "\u001b[32m[I 2021-09-04 05:32:27,186]\u001b[0m Trial 11 finished with value: -10031.305717638967 and parameters: {'short_sma': 69, 'long_sma': 165, 'trailing_stop_order_pct': 0.23554490581472134}. Best is trial 11 with value: -10031.305717638967.\u001b[0m\n",
      "{'short_sma': 74}\n",
      "{'short_sma': 74, 'long_sma': 170}\n",
      "{'short_sma': 74, 'long_sma': 170, 'trailing_stop_order_pct': 0.20647283898420185}\n",
      "74\n",
      "170\n",
      "0.20647283898420185\n",
      "\u001b[32m[I 2021-09-04 05:32:29,668]\u001b[0m Trial 12 finished with value: -10024.330326319017 and parameters: {'short_sma': 74, 'long_sma': 170, 'trailing_stop_order_pct': 0.20647283898420185}. Best is trial 11 with value: -10031.305717638967.\u001b[0m\n",
      "{'short_sma': 60}\n",
      "{'short_sma': 60, 'long_sma': 152}\n",
      "{'short_sma': 60, 'long_sma': 152, 'trailing_stop_order_pct': 0.479209291325323}\n",
      "60\n",
      "152\n",
      "0.479209291325323\n",
      "\u001b[32m[I 2021-09-04 05:32:32,190]\u001b[0m Trial 13 finished with value: -10026.410015742202 and parameters: {'short_sma': 60, 'long_sma': 152, 'trailing_stop_order_pct': 0.479209291325323}. Best is trial 11 with value: -10031.305717638967.\u001b[0m\n",
      "{'short_sma': 65}\n",
      "{'short_sma': 65, 'long_sma': 176}\n",
      "{'short_sma': 65, 'long_sma': 176, 'trailing_stop_order_pct': 0.2118761101814953}\n",
      "65\n",
      "176\n",
      "0.2118761101814953\n",
      "\u001b[32m[I 2021-09-04 05:32:33,962]\u001b[0m Trial 14 finished with value: -10029.193306791405 and parameters: {'short_sma': 65, 'long_sma': 176, 'trailing_stop_order_pct': 0.2118761101814953}. Best is trial 11 with value: -10031.305717638967.\u001b[0m\n",
      "{'short_sma': 48}\n",
      "{'short_sma': 48, 'long_sma': 138}\n",
      "{'short_sma': 48, 'long_sma': 138, 'trailing_stop_order_pct': 0.31002302247809754}\n",
      "48\n",
      "138\n",
      "0.31002302247809754\n",
      "\u001b[32m[I 2021-09-04 05:32:35,405]\u001b[0m Trial 15 finished with value: -10008.411830471086 and parameters: {'short_sma': 48, 'long_sma': 138, 'trailing_stop_order_pct': 0.31002302247809754}. Best is trial 11 with value: -10031.305717638967.\u001b[0m\n",
      "{'short_sma': 67}\n",
      "{'short_sma': 67, 'long_sma': 160}\n",
      "{'short_sma': 67, 'long_sma': 160, 'trailing_stop_order_pct': 0.10077436002494386}\n",
      "67\n",
      "160\n",
      "0.10077436002494386\n",
      "\u001b[32m[I 2021-09-04 05:32:37,455]\u001b[0m Trial 16 finished with value: -10026.399095959854 and parameters: {'short_sma': 67, 'long_sma': 160, 'trailing_stop_order_pct': 0.10077436002494386}. Best is trial 11 with value: -10031.305717638967.\u001b[0m\n",
      "{'short_sma': 54}\n",
      "{'short_sma': 54, 'long_sma': 183}\n",
      "{'short_sma': 54, 'long_sma': 183, 'trailing_stop_order_pct': 0.2338586259374282}\n",
      "54\n",
      "183\n",
      "0.2338586259374282\n",
      "\u001b[32m[I 2021-09-04 05:32:40,291]\u001b[0m Trial 17 finished with value: -10018.518767056214 and parameters: {'short_sma': 54, 'long_sma': 183, 'trailing_stop_order_pct': 0.2338586259374282}. Best is trial 11 with value: -10031.305717638967.\u001b[0m\n",
      "{'short_sma': 54}\n",
      "{'short_sma': 54, 'long_sma': 126}\n",
      "{'short_sma': 54, 'long_sma': 126, 'trailing_stop_order_pct': 0.15052539157197242}\n",
      "54\n",
      "126\n",
      "0.15052539157197242\n",
      "\u001b[32m[I 2021-09-04 05:32:44,113]\u001b[0m Trial 18 finished with value: -10019.005608154674 and parameters: {'short_sma': 54, 'long_sma': 126, 'trailing_stop_order_pct': 0.15052539157197242}. Best is trial 11 with value: -10031.305717638967.\u001b[0m\n",
      "{'short_sma': 69}\n",
      "{'short_sma': 69, 'long_sma': 149}\n",
      "{'short_sma': 69, 'long_sma': 149, 'trailing_stop_order_pct': 0.30296779348327285}\n",
      "69\n",
      "149\n",
      "0.30296779348327285\n",
      "\u001b[32m[I 2021-09-04 05:32:46,423]\u001b[0m Trial 19 finished with value: -10024.806800814886 and parameters: {'short_sma': 69, 'long_sma': 149, 'trailing_stop_order_pct': 0.30296779348327285}. Best is trial 11 with value: -10031.305717638967.\u001b[0m\n",
      "{'short_sma': 46}\n",
      "{'short_sma': 46, 'long_sma': 162}\n",
      "{'short_sma': 46, 'long_sma': 162, 'trailing_stop_order_pct': 0.16688106100884836}\n",
      "46\n",
      "162\n",
      "0.16688106100884836\n",
      "\u001b[32m[I 2021-09-04 05:32:49,191]\u001b[0m Trial 20 finished with value: -10020.754288874425 and parameters: {'short_sma': 46, 'long_sma': 162, 'trailing_stop_order_pct': 0.16688106100884836}. Best is trial 11 with value: -10031.305717638967.\u001b[0m\n",
      "{'short_sma': 61}\n",
      "{'short_sma': 61, 'long_sma': 181}\n",
      "{'short_sma': 61, 'long_sma': 181, 'trailing_stop_order_pct': 0.2130518372830247}\n",
      "61\n",
      "181\n",
      "0.2130518372830247\n"
     ]
    },
    {
     "name": "stdout",
     "output_type": "stream",
     "text": [
      "\u001b[32m[I 2021-09-04 05:32:52,265]\u001b[0m Trial 21 finished with value: -10022.531914621635 and parameters: {'short_sma': 61, 'long_sma': 181, 'trailing_stop_order_pct': 0.2130518372830247}. Best is trial 11 with value: -10031.305717638967.\u001b[0m\n",
      "{'short_sma': 68}\n",
      "{'short_sma': 68, 'long_sma': 172}\n",
      "{'short_sma': 68, 'long_sma': 172, 'trailing_stop_order_pct': 0.24722377534493145}\n",
      "68\n",
      "172\n",
      "0.24722377534493145\n",
      "\u001b[32m[I 2021-09-04 05:32:55,935]\u001b[0m Trial 22 finished with value: -10029.527387739145 and parameters: {'short_sma': 68, 'long_sma': 172, 'trailing_stop_order_pct': 0.24722377534493145}. Best is trial 11 with value: -10031.305717638967.\u001b[0m\n",
      "{'short_sma': 70}\n",
      "{'short_sma': 70, 'long_sma': 191}\n",
      "{'short_sma': 70, 'long_sma': 191, 'trailing_stop_order_pct': 0.25690196927436115}\n",
      "70\n",
      "191\n",
      "0.25690196927436115\n",
      "\u001b[32m[I 2021-09-04 05:32:58,987]\u001b[0m Trial 23 finished with value: -10017.45385465877 and parameters: {'short_sma': 70, 'long_sma': 191, 'trailing_stop_order_pct': 0.25690196927436115}. Best is trial 11 with value: -10031.305717638967.\u001b[0m\n",
      "{'short_sma': 58}\n",
      "{'short_sma': 58, 'long_sma': 171}\n",
      "{'short_sma': 58, 'long_sma': 171, 'trailing_stop_order_pct': 0.3146847910787998}\n",
      "58\n",
      "171\n",
      "0.3146847910787998\n",
      "\u001b[32m[I 2021-09-04 05:33:03,375]\u001b[0m Trial 24 finished with value: -10022.162890280877 and parameters: {'short_sma': 58, 'long_sma': 171, 'trailing_stop_order_pct': 0.3146847910787998}. Best is trial 11 with value: -10031.305717638967.\u001b[0m\n",
      "{'short_sma': 72}\n",
      "{'short_sma': 72, 'long_sma': 155}\n",
      "{'short_sma': 72, 'long_sma': 155, 'trailing_stop_order_pct': 0.24374413026711675}\n",
      "72\n",
      "155\n",
      "0.24374413026711675\n",
      "\u001b[32m[I 2021-09-04 05:33:06,584]\u001b[0m Trial 25 finished with value: -10030.975933228538 and parameters: {'short_sma': 72, 'long_sma': 155, 'trailing_stop_order_pct': 0.24374413026711675}. Best is trial 11 with value: -10031.305717638967.\u001b[0m\n",
      "{'short_sma': 73}\n",
      "{'short_sma': 73, 'long_sma': 152}\n",
      "{'short_sma': 73, 'long_sma': 152, 'trailing_stop_order_pct': 0.18675153730354982}\n",
      "73\n",
      "152\n",
      "0.18675153730354982\n",
      "\u001b[32m[I 2021-09-04 05:33:09,311]\u001b[0m Trial 26 finished with value: -10027.061590921123 and parameters: {'short_sma': 73, 'long_sma': 152, 'trailing_stop_order_pct': 0.18675153730354982}. Best is trial 11 with value: -10031.305717638967.\u001b[0m\n",
      "{'short_sma': 36}\n",
      "{'short_sma': 36, 'long_sma': 146}\n",
      "{'short_sma': 36, 'long_sma': 146, 'trailing_stop_order_pct': 0.11809308903556386}\n",
      "36\n",
      "146\n",
      "0.11809308903556386\n",
      "\u001b[32m[I 2021-09-04 05:33:13,062]\u001b[0m Trial 27 finished with value: -10019.411329297645 and parameters: {'short_sma': 36, 'long_sma': 146, 'trailing_stop_order_pct': 0.11809308903556386}. Best is trial 11 with value: -10031.305717638967.\u001b[0m\n",
      "{'short_sma': 57}\n",
      "{'short_sma': 57, 'long_sma': 163}\n",
      "{'short_sma': 57, 'long_sma': 163, 'trailing_stop_order_pct': 0.3369234785369062}\n",
      "57\n",
      "163\n",
      "0.3369234785369062\n",
      "\u001b[32m[I 2021-09-04 05:33:15,086]\u001b[0m Trial 28 finished with value: -10019.695257127105 and parameters: {'short_sma': 57, 'long_sma': 163, 'trailing_stop_order_pct': 0.3369234785369062}. Best is trial 11 with value: -10031.305717638967.\u001b[0m\n",
      "{'short_sma': 51}\n",
      "{'short_sma': 51, 'long_sma': 155}\n",
      "{'short_sma': 51, 'long_sma': 155, 'trailing_stop_order_pct': 0.28770388612348685}\n",
      "51\n",
      "155\n",
      "0.28770388612348685\n",
      "\u001b[32m[I 2021-09-04 05:33:16,597]\u001b[0m Trial 29 finished with value: -10025.593342383885 and parameters: {'short_sma': 51, 'long_sma': 155, 'trailing_stop_order_pct': 0.28770388612348685}. Best is trial 11 with value: -10031.305717638967.\u001b[0m\n",
      "{'short_sma': 64}\n",
      "{'short_sma': 64, 'long_sma': 138}\n",
      "{'short_sma': 64, 'long_sma': 138, 'trailing_stop_order_pct': 0.42228744286113495}\n",
      "64\n",
      "138\n",
      "0.42228744286113495\n",
      "\u001b[32m[I 2021-09-04 05:33:18,752]\u001b[0m Trial 30 finished with value: -10024.657415544207 and parameters: {'short_sma': 64, 'long_sma': 138, 'trailing_stop_order_pct': 0.42228744286113495}. Best is trial 11 with value: -10031.305717638967.\u001b[0m\n",
      "{'short_sma': 70}\n",
      "{'short_sma': 70, 'long_sma': 178}\n",
      "{'short_sma': 70, 'long_sma': 178, 'trailing_stop_order_pct': 0.2446842242646218}\n",
      "70\n",
      "178\n",
      "0.2446842242646218\n",
      "\u001b[32m[I 2021-09-04 05:33:20,949]\u001b[0m Trial 31 finished with value: -10028.267770489623 and parameters: {'short_sma': 70, 'long_sma': 178, 'trailing_stop_order_pct': 0.2446842242646218}. Best is trial 11 with value: -10031.305717638967.\u001b[0m\n",
      "{'short_sma': 68}\n",
      "{'short_sma': 68, 'long_sma': 164}\n",
      "{'short_sma': 68, 'long_sma': 164, 'trailing_stop_order_pct': 0.24043943197319395}\n",
      "68\n",
      "164\n",
      "0.24043943197319395\n",
      "\u001b[32m[I 2021-09-04 05:33:22,401]\u001b[0m Trial 32 finished with value: -10030.36021738581 and parameters: {'short_sma': 68, 'long_sma': 164, 'trailing_stop_order_pct': 0.24043943197319395}. Best is trial 11 with value: -10031.305717638967.\u001b[0m\n",
      "{'short_sma': 75}\n",
      "{'short_sma': 75, 'long_sma': 157}\n",
      "{'short_sma': 75, 'long_sma': 157, 'trailing_stop_order_pct': 0.1804749420742991}\n",
      "75\n",
      "157\n",
      "0.1804749420742991\n",
      "\u001b[32m[I 2021-09-04 05:33:23,868]\u001b[0m Trial 33 finished with value: -10028.316706256834 and parameters: {'short_sma': 75, 'long_sma': 157, 'trailing_stop_order_pct': 0.1804749420742991}. Best is trial 11 with value: -10031.305717638967.\u001b[0m\n",
      "{'short_sma': 64}\n",
      "{'short_sma': 64, 'long_sma': 166}\n",
      "{'short_sma': 64, 'long_sma': 166, 'trailing_stop_order_pct': 0.23162342039141204}\n",
      "64\n",
      "166\n",
      "0.23162342039141204\n",
      "\u001b[32m[I 2021-09-04 05:33:25,587]\u001b[0m Trial 34 finished with value: -10028.28597554189 and parameters: {'short_sma': 64, 'long_sma': 166, 'trailing_stop_order_pct': 0.23162342039141204}. Best is trial 11 with value: -10031.305717638967.\u001b[0m\n",
      "{'short_sma': 71}\n",
      "{'short_sma': 71, 'long_sma': 186}\n",
      "{'short_sma': 71, 'long_sma': 186, 'trailing_stop_order_pct': 0.29224150682540734}\n",
      "71\n",
      "186\n",
      "0.29224150682540734\n",
      "\u001b[32m[I 2021-09-04 05:33:27,775]\u001b[0m Trial 35 finished with value: -10021.686551962754 and parameters: {'short_sma': 71, 'long_sma': 186, 'trailing_stop_order_pct': 0.29224150682540734}. Best is trial 11 with value: -10031.305717638967.\u001b[0m\n",
      "{'short_sma': 33}\n",
      "{'short_sma': 33, 'long_sma': 200}\n",
      "{'short_sma': 33, 'long_sma': 200, 'trailing_stop_order_pct': 0.3327082856934229}\n",
      "33\n",
      "200\n",
      "0.3327082856934229\n",
      "\u001b[32m[I 2021-09-04 05:33:29,214]\u001b[0m Trial 36 finished with value: -10021.52961150512 and parameters: {'short_sma': 33, 'long_sma': 200, 'trailing_stop_order_pct': 0.3327082856934229}. Best is trial 11 with value: -10031.305717638967.\u001b[0m\n",
      "{'short_sma': 11}\n",
      "{'short_sma': 11, 'long_sma': 164}\n",
      "{'short_sma': 11, 'long_sma': 164, 'trailing_stop_order_pct': 0.2265632090462631}\n",
      "11\n",
      "164\n",
      "0.2265632090462631\n",
      "\u001b[32m[I 2021-09-04 05:33:30,594]\u001b[0m Trial 37 finished with value: -9999.303274331802 and parameters: {'short_sma': 11, 'long_sma': 164, 'trailing_stop_order_pct': 0.2265632090462631}. Best is trial 11 with value: -10031.305717638967.\u001b[0m\n",
      "{'short_sma': 44}\n",
      "{'short_sma': 44, 'long_sma': 176}\n",
      "{'short_sma': 44, 'long_sma': 176, 'trailing_stop_order_pct': 0.27761237384502635}\n",
      "44\n",
      "176\n",
      "0.27761237384502635\n",
      "\u001b[32m[I 2021-09-04 05:33:32,372]\u001b[0m Trial 38 finished with value: -10019.936811111587 and parameters: {'short_sma': 44, 'long_sma': 176, 'trailing_stop_order_pct': 0.27761237384502635}. Best is trial 11 with value: -10031.305717638967.\u001b[0m\n",
      "{'short_sma': 26}\n",
      "{'short_sma': 26, 'long_sma': 146}\n",
      "{'short_sma': 26, 'long_sma': 146, 'trailing_stop_order_pct': 0.189727031375109}\n",
      "26\n",
      "146\n",
      "0.189727031375109\n",
      "\u001b[32m[I 2021-09-04 05:33:33,772]\u001b[0m Trial 39 finished with value: -10020.05726446859 and parameters: {'short_sma': 26, 'long_sma': 146, 'trailing_stop_order_pct': 0.189727031375109}. Best is trial 11 with value: -10031.305717638967.\u001b[0m\n",
      "{'short_sma': 61}\n",
      "{'short_sma': 61, 'long_sma': 158}\n",
      "{'short_sma': 61, 'long_sma': 158, 'trailing_stop_order_pct': 0.273198436831295}\n",
      "61\n",
      "158\n",
      "0.273198436831295\n",
      "\u001b[32m[I 2021-09-04 05:33:35,719]\u001b[0m Trial 40 finished with value: -10023.751272957405 and parameters: {'short_sma': 61, 'long_sma': 158, 'trailing_stop_order_pct': 0.273198436831295}. Best is trial 11 with value: -10031.305717638967.\u001b[0m\n",
      "{'short_sma': 67}\n",
      "{'short_sma': 67, 'long_sma': 172}\n",
      "{'short_sma': 67, 'long_sma': 172, 'trailing_stop_order_pct': 0.24742252901791525}\n",
      "67\n",
      "172\n",
      "0.24742252901791525\n",
      "\u001b[32m[I 2021-09-04 05:33:39,061]\u001b[0m Trial 41 finished with value: -10029.109864624734 and parameters: {'short_sma': 67, 'long_sma': 172, 'trailing_stop_order_pct': 0.24742252901791525}. Best is trial 11 with value: -10031.305717638967.\u001b[0m\n",
      "{'short_sma': 67}\n",
      "{'short_sma': 67, 'long_sma': 167}\n",
      "{'short_sma': 67, 'long_sma': 167, 'trailing_stop_order_pct': 0.25768079350916695}\n",
      "67\n",
      "167\n",
      "0.25768079350916695\n"
     ]
    },
    {
     "name": "stdout",
     "output_type": "stream",
     "text": [
      "\u001b[32m[I 2021-09-04 05:33:43,852]\u001b[0m Trial 42 finished with value: -10027.882619524471 and parameters: {'short_sma': 67, 'long_sma': 167, 'trailing_stop_order_pct': 0.25768079350916695}. Best is trial 11 with value: -10031.305717638967.\u001b[0m\n",
      "{'short_sma': 72}\n",
      "{'short_sma': 72, 'long_sma': 187}\n",
      "{'short_sma': 72, 'long_sma': 187, 'trailing_stop_order_pct': 0.22326990436760083}\n",
      "72\n",
      "187\n",
      "0.22326990436760083\n",
      "\u001b[32m[I 2021-09-04 05:33:47,468]\u001b[0m Trial 43 finished with value: -10021.996378500338 and parameters: {'short_sma': 72, 'long_sma': 187, 'trailing_stop_order_pct': 0.22326990436760083}. Best is trial 11 with value: -10031.305717638967.\u001b[0m\n",
      "{'short_sma': 58}\n",
      "{'short_sma': 58, 'long_sma': 173}\n",
      "{'short_sma': 58, 'long_sma': 173, 'trailing_stop_order_pct': 0.24382252942936694}\n",
      "58\n",
      "173\n",
      "0.24382252942936694\n",
      "\u001b[32m[I 2021-09-04 05:33:49,941]\u001b[0m Trial 44 finished with value: -10024.023747854348 and parameters: {'short_sma': 58, 'long_sma': 173, 'trailing_stop_order_pct': 0.24382252942936694}. Best is trial 11 with value: -10031.305717638967.\u001b[0m\n",
      "{'short_sma': 68}\n",
      "{'short_sma': 68, 'long_sma': 155}\n",
      "{'short_sma': 68, 'long_sma': 155, 'trailing_stop_order_pct': 0.19888698305212985}\n",
      "68\n",
      "155\n",
      "0.19888698305212985\n",
      "\u001b[32m[I 2021-09-04 05:33:53,118]\u001b[0m Trial 45 finished with value: -10026.007193688883 and parameters: {'short_sma': 68, 'long_sma': 155, 'trailing_stop_order_pct': 0.19888698305212985}. Best is trial 11 with value: -10031.305717638967.\u001b[0m\n",
      "{'short_sma': 75}\n",
      "{'short_sma': 75, 'long_sma': 103}\n",
      "{'short_sma': 75, 'long_sma': 103, 'trailing_stop_order_pct': 0.2778231057656494}\n",
      "75\n",
      "103\n",
      "0.2778231057656494\n",
      "\u001b[32m[I 2021-09-04 05:33:54,687]\u001b[0m Trial 46 finished with value: -10031.778347190837 and parameters: {'short_sma': 75, 'long_sma': 103, 'trailing_stop_order_pct': 0.2778231057656494}. Best is trial 46 with value: -10031.778347190837.\u001b[0m\n",
      "{'short_sma': 75}\n",
      "{'short_sma': 75, 'long_sma': 103}\n",
      "{'short_sma': 75, 'long_sma': 103, 'trailing_stop_order_pct': 0.36496060202434905}\n",
      "75\n",
      "103\n",
      "0.36496060202434905\n",
      "\u001b[32m[I 2021-09-04 05:33:56,481]\u001b[0m Trial 47 finished with value: -10031.778347190837 and parameters: {'short_sma': 75, 'long_sma': 103, 'trailing_stop_order_pct': 0.36496060202434905}. Best is trial 46 with value: -10031.778347190837.\u001b[0m\n",
      "{'short_sma': 75}\n",
      "{'short_sma': 75, 'long_sma': 100}\n",
      "{'short_sma': 75, 'long_sma': 100, 'trailing_stop_order_pct': 0.4377201650397633}\n",
      "75\n",
      "100\n",
      "0.4377201650397633\n",
      "\u001b[32m[I 2021-09-04 05:33:57,975]\u001b[0m Trial 48 finished with value: -10031.839643439926 and parameters: {'short_sma': 75, 'long_sma': 100, 'trailing_stop_order_pct': 0.4377201650397633}. Best is trial 48 with value: -10031.839643439926.\u001b[0m\n",
      "{'short_sma': 75}\n",
      "{'short_sma': 75, 'long_sma': 108}\n",
      "{'short_sma': 75, 'long_sma': 108, 'trailing_stop_order_pct': 0.41857131239576967}\n",
      "75\n",
      "108\n",
      "0.41857131239576967\n",
      "\u001b[32m[I 2021-09-04 05:33:59,440]\u001b[0m Trial 49 finished with value: -10028.021511002185 and parameters: {'short_sma': 75, 'long_sma': 108, 'trailing_stop_order_pct': 0.41857131239576967}. Best is trial 48 with value: -10031.839643439926.\u001b[0m\n",
      "{'short_sma': 72}\n",
      "{'short_sma': 72, 'long_sma': 103}\n",
      "{'short_sma': 72, 'long_sma': 103, 'trailing_stop_order_pct': 0.473054857773649}\n",
      "72\n",
      "103\n",
      "0.473054857773649\n",
      "\u001b[32m[I 2021-09-04 05:34:00,961]\u001b[0m Trial 50 finished with value: -10028.853524705723 and parameters: {'short_sma': 72, 'long_sma': 103, 'trailing_stop_order_pct': 0.473054857773649}. Best is trial 48 with value: -10031.839643439926.\u001b[0m\n",
      "{'short_sma': 72}\n",
      "{'short_sma': 72, 'long_sma': 117}\n",
      "{'short_sma': 72, 'long_sma': 117, 'trailing_stop_order_pct': 0.38110179033567737}\n",
      "72\n",
      "117\n",
      "0.38110179033567737\n",
      "\u001b[32m[I 2021-09-04 05:34:02,285]\u001b[0m Trial 51 finished with value: -10023.20329922212 and parameters: {'short_sma': 72, 'long_sma': 117, 'trailing_stop_order_pct': 0.38110179033567737}. Best is trial 48 with value: -10031.839643439926.\u001b[0m\n"
     ]
    }
   ],
   "source": [
    "from trazy_analysis.optimization.optimizer import OptunaOptimizer\n",
    "from trazy_analysis.optimization.parameter import (\n",
    "    Choice,\n",
    "    Continuous,\n",
    "    Discrete,\n",
    "    Ordinal,\n",
    "    Parameter,\n",
    ")\n",
    "\n",
    "optimizer = OptunaOptimizer()\n",
    "best_params = optimizer.maximize(func=sma_cross_backtest,\n",
    "        space={\n",
    "            \"short_sma\": Discrete([5, 75]),\n",
    "            \"long_sma\": Discrete([100, 200]),\n",
    "            \"trailing_stop_order_pct\": Continuous([0.1, 0.5]),\n",
    "        },\n",
    "        nb_iter = 52,\n",
    "        max_evals = 1\n",
    ")"
   ]
  },
  {
   "cell_type": "code",
   "execution_count": 11,
   "id": "ef47d3e1",
   "metadata": {},
   "outputs": [
    {
     "data": {
      "text/plain": [
       "{'short_sma': 75,\n",
       " 'long_sma': 100,\n",
       " 'trailing_stop_order_pct': 0.4377201650397633,\n",
       " 'best_result': -10031.839643439926}"
      ]
     },
     "execution_count": 11,
     "metadata": {},
     "output_type": "execute_result"
    }
   ],
   "source": [
    "best_params"
   ]
  },
  {
   "cell_type": "markdown",
   "id": "5ab48e3e",
   "metadata": {},
   "source": [
    "### ray"
   ]
  },
  {
   "cell_type": "code",
   "execution_count": null,
   "id": "5db1a3d1",
   "metadata": {},
   "outputs": [],
   "source": [
    "from ray import tune\n",
    "\n",
    "def sma_cross_backtest_ray(config):\n",
    "    short_sma, long_sma, trailing_stop_order_pct = config[\"short_sma\"], config[\"long_sma\"], config[\"trailing_stop_order_pct\"]\n",
    "    result = sma_cross_backtest(short_sma, long_sma, trailing_stop_order_pct)\n",
    "    tune.report(profit=result)\n",
    "\n",
    "search_space = {\n",
    "    \"short_sma\": tune.randint(5, 75),\n",
    "    \"long_sma\": tune.randint(100, 200),\n",
    "    \"trailing_stop_order_pct\": tune.uniform(0., 0.20)\n",
    "}\n",
    "\n",
    "analysis = tune.run(sma_cross_backtest_ray, metric=\"profit\", num_samples=26, config=search_space, mode=\"max\", resources_per_trial={\"cpu\": 4})"
   ]
  },
  {
   "cell_type": "code",
   "execution_count": null,
   "id": "d631666a",
   "metadata": {},
   "outputs": [],
   "source": [
    "best_config = analysis.get_best_config(\n",
    "    metric=\"profit\", mode=\"min\")\n",
    "print(\"Best config: \", best_config)\n",
    "\n",
    "# Get a dataframe for analyzing trial results.\n",
    "df = analysis.results_df"
   ]
  },
  {
   "cell_type": "code",
   "execution_count": null,
   "id": "b1a7a556",
   "metadata": {},
   "outputs": [],
   "source": [
    "sma_cross_backtest((best_config[\"short_sma\"], best_config[\"long_sma\"], best_config[\"trailing_stop_order_pct\"]))"
   ]
  },
  {
   "cell_type": "code",
   "execution_count": 12,
   "id": "ecf490ec",
   "metadata": {},
   "outputs": [
    {
     "name": "stderr",
     "output_type": "stream",
     "text": [
      "/Users/moussadiakite/Google_Drive/Projects/MInvest/Trazy/trazy_analysis/env/lib/python3.6/site-packages/ray/_private/services.py:238: UserWarning: Not all Ray Dashboard dependencies were found. To use the dashboard please install Ray using `pip install ray[default]`. To disable this message, set RAY_DISABLE_IMPORT_WARNING env var to '1'.\n",
      "  warnings.warn(warning_message)\n",
      "2021-09-04 05:39:30,191\tWARNING function_runner.py:559 -- Function checkpointing is disabled. This may result in unexpected behavior when using checkpointing features or certain schedulers. To enable, set the train function arguments to be `func(config, checkpoint_dir=None)`.\n",
      "2021-09-04 05:39:30,211\tINFO logger.py:597 -- pip install 'ray[tune]' to see TensorBoard files.\n",
      "2021-09-04 05:39:30,213\tWARNING callback.py:117 -- The TensorboardX logger cannot be instantiated because either TensorboardX or one of it's dependencies is not installed. Please make sure you have the latest version of TensorboardX installed: `pip install -U tensorboardx`\n"
     ]
    },
    {
     "data": {
      "text/html": [
       "== Status ==<br>Memory usage on this node: 5.6/8.0 GiB<br>Using FIFO scheduling algorithm.<br>Resources requested: 1.0/4 CPUs, 0/0 GPUs, 0.0/2.28 GiB heap, 0.0/1.14 GiB objects<br>Result logdir: /Users/moussadiakite/ray_results/rayopt_func_2021-09-04_05-39-30<br>Number of trials: 16/16 (15 PENDING, 1 RUNNING)<br><table>\n",
       "<thead>\n",
       "<tr><th>Trial name             </th><th>status  </th><th>loc  </th><th style=\"text-align: right;\">  long_sma</th><th style=\"text-align: right;\">  short_sma</th><th style=\"text-align: right;\">  trailing_stop_order_pct</th></tr>\n",
       "</thead>\n",
       "<tbody>\n",
       "<tr><td>rayopt_func_b6230_00000</td><td>RUNNING </td><td>     </td><td style=\"text-align: right;\">       157</td><td style=\"text-align: right;\">         43</td><td style=\"text-align: right;\">               0.0523056 </td></tr>\n",
       "<tr><td>rayopt_func_b6230_00001</td><td>PENDING </td><td>     </td><td style=\"text-align: right;\">       149</td><td style=\"text-align: right;\">         27</td><td style=\"text-align: right;\">               0.0291431 </td></tr>\n",
       "<tr><td>rayopt_func_b6230_00002</td><td>PENDING </td><td>     </td><td style=\"text-align: right;\">       178</td><td style=\"text-align: right;\">         39</td><td style=\"text-align: right;\">               0.186552  </td></tr>\n",
       "<tr><td>rayopt_func_b6230_00003</td><td>PENDING </td><td>     </td><td style=\"text-align: right;\">       158</td><td style=\"text-align: right;\">         50</td><td style=\"text-align: right;\">               0.156041  </td></tr>\n",
       "<tr><td>rayopt_func_b6230_00004</td><td>PENDING </td><td>     </td><td style=\"text-align: right;\">       178</td><td style=\"text-align: right;\">         54</td><td style=\"text-align: right;\">               0.141422  </td></tr>\n",
       "<tr><td>rayopt_func_b6230_00005</td><td>PENDING </td><td>     </td><td style=\"text-align: right;\">       135</td><td style=\"text-align: right;\">         48</td><td style=\"text-align: right;\">               0.0358195 </td></tr>\n",
       "<tr><td>rayopt_func_b6230_00006</td><td>PENDING </td><td>     </td><td style=\"text-align: right;\">       119</td><td style=\"text-align: right;\">         13</td><td style=\"text-align: right;\">               0.198517  </td></tr>\n",
       "<tr><td>rayopt_func_b6230_00007</td><td>PENDING </td><td>     </td><td style=\"text-align: right;\">       167</td><td style=\"text-align: right;\">         43</td><td style=\"text-align: right;\">               0.146585  </td></tr>\n",
       "<tr><td>rayopt_func_b6230_00008</td><td>PENDING </td><td>     </td><td style=\"text-align: right;\">       192</td><td style=\"text-align: right;\">         43</td><td style=\"text-align: right;\">               0.134291  </td></tr>\n",
       "<tr><td>rayopt_func_b6230_00009</td><td>PENDING </td><td>     </td><td style=\"text-align: right;\">       106</td><td style=\"text-align: right;\">         62</td><td style=\"text-align: right;\">               0.184648  </td></tr>\n",
       "<tr><td>rayopt_func_b6230_00010</td><td>PENDING </td><td>     </td><td style=\"text-align: right;\">       166</td><td style=\"text-align: right;\">         35</td><td style=\"text-align: right;\">               0.0847983 </td></tr>\n",
       "<tr><td>rayopt_func_b6230_00011</td><td>PENDING </td><td>     </td><td style=\"text-align: right;\">       126</td><td style=\"text-align: right;\">         31</td><td style=\"text-align: right;\">               0.144922  </td></tr>\n",
       "<tr><td>rayopt_func_b6230_00012</td><td>PENDING </td><td>     </td><td style=\"text-align: right;\">       148</td><td style=\"text-align: right;\">         48</td><td style=\"text-align: right;\">               0.0708674 </td></tr>\n",
       "<tr><td>rayopt_func_b6230_00013</td><td>PENDING </td><td>     </td><td style=\"text-align: right;\">       177</td><td style=\"text-align: right;\">         33</td><td style=\"text-align: right;\">               0.0655429 </td></tr>\n",
       "<tr><td>rayopt_func_b6230_00014</td><td>PENDING </td><td>     </td><td style=\"text-align: right;\">       138</td><td style=\"text-align: right;\">         72</td><td style=\"text-align: right;\">               0.00213958</td></tr>\n",
       "<tr><td>rayopt_func_b6230_00015</td><td>PENDING </td><td>     </td><td style=\"text-align: right;\">       186</td><td style=\"text-align: right;\">         28</td><td style=\"text-align: right;\">               0.0927868 </td></tr>\n",
       "</tbody>\n",
       "</table><br><br>"
      ],
      "text/plain": [
       "<IPython.core.display.HTML object>"
      ]
     },
     "metadata": {},
     "output_type": "display_data"
    },
    {
     "data": {
      "text/html": [
       "== Status ==<br>Memory usage on this node: 5.7/8.0 GiB<br>Using FIFO scheduling algorithm.<br>Resources requested: 4.0/4 CPUs, 0/0 GPUs, 0.0/2.28 GiB heap, 0.0/1.14 GiB objects<br>Result logdir: /Users/moussadiakite/ray_results/rayopt_func_2021-09-04_05-39-30<br>Number of trials: 16/16 (12 PENDING, 4 RUNNING)<br><table>\n",
       "<thead>\n",
       "<tr><th>Trial name             </th><th>status  </th><th>loc  </th><th style=\"text-align: right;\">  long_sma</th><th style=\"text-align: right;\">  short_sma</th><th style=\"text-align: right;\">  trailing_stop_order_pct</th></tr>\n",
       "</thead>\n",
       "<tbody>\n",
       "<tr><td>rayopt_func_b6230_00000</td><td>RUNNING </td><td>     </td><td style=\"text-align: right;\">       157</td><td style=\"text-align: right;\">         43</td><td style=\"text-align: right;\">               0.0523056 </td></tr>\n",
       "<tr><td>rayopt_func_b6230_00001</td><td>RUNNING </td><td>     </td><td style=\"text-align: right;\">       149</td><td style=\"text-align: right;\">         27</td><td style=\"text-align: right;\">               0.0291431 </td></tr>\n",
       "<tr><td>rayopt_func_b6230_00002</td><td>RUNNING </td><td>     </td><td style=\"text-align: right;\">       178</td><td style=\"text-align: right;\">         39</td><td style=\"text-align: right;\">               0.186552  </td></tr>\n",
       "<tr><td>rayopt_func_b6230_00003</td><td>RUNNING </td><td>     </td><td style=\"text-align: right;\">       158</td><td style=\"text-align: right;\">         50</td><td style=\"text-align: right;\">               0.156041  </td></tr>\n",
       "<tr><td>rayopt_func_b6230_00004</td><td>PENDING </td><td>     </td><td style=\"text-align: right;\">       178</td><td style=\"text-align: right;\">         54</td><td style=\"text-align: right;\">               0.141422  </td></tr>\n",
       "<tr><td>rayopt_func_b6230_00005</td><td>PENDING </td><td>     </td><td style=\"text-align: right;\">       135</td><td style=\"text-align: right;\">         48</td><td style=\"text-align: right;\">               0.0358195 </td></tr>\n",
       "<tr><td>rayopt_func_b6230_00006</td><td>PENDING </td><td>     </td><td style=\"text-align: right;\">       119</td><td style=\"text-align: right;\">         13</td><td style=\"text-align: right;\">               0.198517  </td></tr>\n",
       "<tr><td>rayopt_func_b6230_00007</td><td>PENDING </td><td>     </td><td style=\"text-align: right;\">       167</td><td style=\"text-align: right;\">         43</td><td style=\"text-align: right;\">               0.146585  </td></tr>\n",
       "<tr><td>rayopt_func_b6230_00008</td><td>PENDING </td><td>     </td><td style=\"text-align: right;\">       192</td><td style=\"text-align: right;\">         43</td><td style=\"text-align: right;\">               0.134291  </td></tr>\n",
       "<tr><td>rayopt_func_b6230_00009</td><td>PENDING </td><td>     </td><td style=\"text-align: right;\">       106</td><td style=\"text-align: right;\">         62</td><td style=\"text-align: right;\">               0.184648  </td></tr>\n",
       "<tr><td>rayopt_func_b6230_00010</td><td>PENDING </td><td>     </td><td style=\"text-align: right;\">       166</td><td style=\"text-align: right;\">         35</td><td style=\"text-align: right;\">               0.0847983 </td></tr>\n",
       "<tr><td>rayopt_func_b6230_00011</td><td>PENDING </td><td>     </td><td style=\"text-align: right;\">       126</td><td style=\"text-align: right;\">         31</td><td style=\"text-align: right;\">               0.144922  </td></tr>\n",
       "<tr><td>rayopt_func_b6230_00012</td><td>PENDING </td><td>     </td><td style=\"text-align: right;\">       148</td><td style=\"text-align: right;\">         48</td><td style=\"text-align: right;\">               0.0708674 </td></tr>\n",
       "<tr><td>rayopt_func_b6230_00013</td><td>PENDING </td><td>     </td><td style=\"text-align: right;\">       177</td><td style=\"text-align: right;\">         33</td><td style=\"text-align: right;\">               0.0655429 </td></tr>\n",
       "<tr><td>rayopt_func_b6230_00014</td><td>PENDING </td><td>     </td><td style=\"text-align: right;\">       138</td><td style=\"text-align: right;\">         72</td><td style=\"text-align: right;\">               0.00213958</td></tr>\n",
       "<tr><td>rayopt_func_b6230_00015</td><td>PENDING </td><td>     </td><td style=\"text-align: right;\">       186</td><td style=\"text-align: right;\">         28</td><td style=\"text-align: right;\">               0.0927868 </td></tr>\n",
       "</tbody>\n",
       "</table><br><br>"
      ],
      "text/plain": [
       "<IPython.core.display.HTML object>"
      ]
     },
     "metadata": {},
     "output_type": "display_data"
    },
    {
     "name": "stderr",
     "output_type": "stream",
     "text": [
      "2021-09-04 05:39:39,598\tWARNING worker.py:1215 -- Failed to unpickle actor class 'ImplicitFunc' for actor ID 77ca4bce70fb8fd0fc46a6bb01000000. Traceback:\n",
      "Traceback (most recent call last):\n",
      "  File \"/Users/moussadiakite/Google_Drive/Projects/MInvest/Trazy/trazy_analysis/env/lib/python3.6/site-packages/ray/_private/function_manager.py\", line 503, in _load_actor_class_from_gcs\n",
      "    actor_class = pickle.loads(pickled_class)\n",
      "AttributeError: Can't get attribute 'rayopt_func' on <module 'trazy_analysis.optimization.optimizer' from '/Users/moussadiakite/Google_Drive/Projects/MInvest/Trazy/trazy_analysis/optimization/optimizer.py'>\n",
      "\n",
      "2021-09-04 05:39:39,601\tWARNING worker.py:1215 -- Failed to unpickle actor class 'ImplicitFunc' for actor ID 87ba33321a900e5e3236abce01000000. Traceback:\n",
      "Traceback (most recent call last):\n",
      "  File \"/Users/moussadiakite/Google_Drive/Projects/MInvest/Trazy/trazy_analysis/env/lib/python3.6/site-packages/ray/_private/function_manager.py\", line 503, in _load_actor_class_from_gcs\n",
      "    actor_class = pickle.loads(pickled_class)\n",
      "AttributeError: Can't get attribute 'rayopt_func' on <module 'trazy_analysis.optimization.optimizer' from '/Users/moussadiakite/Google_Drive/Projects/MInvest/Trazy/trazy_analysis/optimization/optimizer.py'>\n",
      "\n",
      "2021-09-04 05:39:39,611\tERROR trial_runner.py:773 -- Trial rayopt_func_b6230_00001: Error processing event.\n",
      "Traceback (most recent call last):\n",
      "  File \"/Users/moussadiakite/Google_Drive/Projects/MInvest/Trazy/trazy_analysis/env/lib/python3.6/site-packages/ray/tune/trial_runner.py\", line 739, in _process_trial\n",
      "    results = self.trial_executor.fetch_result(trial)\n",
      "  File \"/Users/moussadiakite/Google_Drive/Projects/MInvest/Trazy/trazy_analysis/env/lib/python3.6/site-packages/ray/tune/ray_trial_executor.py\", line 746, in fetch_result\n",
      "    result = ray.get(trial_future[0], timeout=DEFAULT_GET_TIMEOUT)\n",
      "  File \"/Users/moussadiakite/Google_Drive/Projects/MInvest/Trazy/trazy_analysis/env/lib/python3.6/site-packages/ray/_private/client_mode_hook.py\", line 82, in wrapper\n",
      "    return func(*args, **kwargs)\n",
      "  File \"/Users/moussadiakite/Google_Drive/Projects/MInvest/Trazy/trazy_analysis/env/lib/python3.6/site-packages/ray/worker.py\", line 1623, in get\n",
      "    raise value\n",
      "ray.exceptions.RayActorError: The actor died because of an error raised in its creation task, \u001b[36mray::ImplicitFunc.__init__()\u001b[39m (pid=93693, ip=192.168.43.189)\n",
      "RuntimeError: The actor with name ImplicitFunc failed to be imported, and so cannot execute this method.\n",
      "2021-09-04 05:39:39,672\tERROR trial_runner.py:773 -- Trial rayopt_func_b6230_00002: Error processing event.\n",
      "Traceback (most recent call last):\n",
      "  File \"/Users/moussadiakite/Google_Drive/Projects/MInvest/Trazy/trazy_analysis/env/lib/python3.6/site-packages/ray/tune/trial_runner.py\", line 739, in _process_trial\n",
      "    results = self.trial_executor.fetch_result(trial)\n",
      "  File \"/Users/moussadiakite/Google_Drive/Projects/MInvest/Trazy/trazy_analysis/env/lib/python3.6/site-packages/ray/tune/ray_trial_executor.py\", line 746, in fetch_result\n",
      "    result = ray.get(trial_future[0], timeout=DEFAULT_GET_TIMEOUT)\n",
      "  File \"/Users/moussadiakite/Google_Drive/Projects/MInvest/Trazy/trazy_analysis/env/lib/python3.6/site-packages/ray/_private/client_mode_hook.py\", line 82, in wrapper\n",
      "    return func(*args, **kwargs)\n",
      "  File \"/Users/moussadiakite/Google_Drive/Projects/MInvest/Trazy/trazy_analysis/env/lib/python3.6/site-packages/ray/worker.py\", line 1623, in get\n",
      "    raise value\n",
      "ray.exceptions.RayActorError: The actor died because of an error raised in its creation task, \u001b[36mray::ImplicitFunc.__init__()\u001b[39m (pid=93694, ip=192.168.43.189)\n",
      "RuntimeError: The actor with name ImplicitFunc failed to be imported, and so cannot execute this method.\n",
      "\u001b[2m\u001b[36m(pid=93694)\u001b[0m 2021-09-04 05:39:39,585\tERROR function_manager.py:505 -- Failed to load actor class ImplicitFunc.\n",
      "\u001b[2m\u001b[36m(pid=93694)\u001b[0m Traceback (most recent call last):\n",
      "\u001b[2m\u001b[36m(pid=93694)\u001b[0m   File \"/Users/moussadiakite/Google_Drive/Projects/MInvest/Trazy/trazy_analysis/env/lib/python3.6/site-packages/ray/_private/function_manager.py\", line 503, in _load_actor_class_from_gcs\n",
      "\u001b[2m\u001b[36m(pid=93694)\u001b[0m     actor_class = pickle.loads(pickled_class)\n",
      "\u001b[2m\u001b[36m(pid=93694)\u001b[0m AttributeError: Can't get attribute 'rayopt_func' on <module 'trazy_analysis.optimization.optimizer' from '/Users/moussadiakite/Google_Drive/Projects/MInvest/Trazy/trazy_analysis/optimization/optimizer.py'>\n",
      "\u001b[2m\u001b[36m(pid=93694)\u001b[0m 2021-09-04 05:39:39,595\tERROR worker.py:428 -- Exception raised in creation task: The actor died because of an error raised in its creation task, \u001b[36mray::ImplicitFunc.__init__()\u001b[39m (pid=93694, ip=192.168.43.189)\n",
      "\u001b[2m\u001b[36m(pid=93694)\u001b[0m RuntimeError: The actor with name ImplicitFunc failed to be imported, and so cannot execute this method.\n",
      "\u001b[2m\u001b[36m(pid=93693)\u001b[0m 2021-09-04 05:39:39,585\tERROR function_manager.py:505 -- Failed to load actor class ImplicitFunc.\n",
      "\u001b[2m\u001b[36m(pid=93693)\u001b[0m Traceback (most recent call last):\n",
      "\u001b[2m\u001b[36m(pid=93693)\u001b[0m   File \"/Users/moussadiakite/Google_Drive/Projects/MInvest/Trazy/trazy_analysis/env/lib/python3.6/site-packages/ray/_private/function_manager.py\", line 503, in _load_actor_class_from_gcs\n",
      "\u001b[2m\u001b[36m(pid=93693)\u001b[0m     actor_class = pickle.loads(pickled_class)\n",
      "\u001b[2m\u001b[36m(pid=93693)\u001b[0m AttributeError: Can't get attribute 'rayopt_func' on <module 'trazy_analysis.optimization.optimizer' from '/Users/moussadiakite/Google_Drive/Projects/MInvest/Trazy/trazy_analysis/optimization/optimizer.py'>\n",
      "\u001b[2m\u001b[36m(pid=93693)\u001b[0m 2021-09-04 05:39:39,595\tERROR worker.py:428 -- Exception raised in creation task: The actor died because of an error raised in its creation task, \u001b[36mray::ImplicitFunc.__init__()\u001b[39m (pid=93693, ip=192.168.43.189)\n",
      "\u001b[2m\u001b[36m(pid=93693)\u001b[0m RuntimeError: The actor with name ImplicitFunc failed to be imported, and so cannot execute this method.\n",
      "2021-09-04 05:39:39,741\tWARNING worker.py:1215 -- Failed to unpickle actor class 'ImplicitFunc' for actor ID b659d1b27c73f47ad145b21001000000. Traceback:\n",
      "Traceback (most recent call last):\n",
      "  File \"/Users/moussadiakite/Google_Drive/Projects/MInvest/Trazy/trazy_analysis/env/lib/python3.6/site-packages/ray/_private/function_manager.py\", line 503, in _load_actor_class_from_gcs\n",
      "    actor_class = pickle.loads(pickled_class)\n",
      "AttributeError: Can't get attribute 'rayopt_func' on <module 'trazy_analysis.optimization.optimizer' from '/Users/moussadiakite/Google_Drive/Projects/MInvest/Trazy/trazy_analysis/optimization/optimizer.py'>\n",
      "\n",
      "2021-09-04 05:39:39,775\tERROR trial_runner.py:773 -- Trial rayopt_func_b6230_00003: Error processing event.\n",
      "Traceback (most recent call last):\n",
      "  File \"/Users/moussadiakite/Google_Drive/Projects/MInvest/Trazy/trazy_analysis/env/lib/python3.6/site-packages/ray/tune/trial_runner.py\", line 739, in _process_trial\n",
      "    results = self.trial_executor.fetch_result(trial)\n",
      "  File \"/Users/moussadiakite/Google_Drive/Projects/MInvest/Trazy/trazy_analysis/env/lib/python3.6/site-packages/ray/tune/ray_trial_executor.py\", line 746, in fetch_result\n",
      "    result = ray.get(trial_future[0], timeout=DEFAULT_GET_TIMEOUT)\n",
      "  File \"/Users/moussadiakite/Google_Drive/Projects/MInvest/Trazy/trazy_analysis/env/lib/python3.6/site-packages/ray/_private/client_mode_hook.py\", line 82, in wrapper\n",
      "    return func(*args, **kwargs)\n",
      "  File \"/Users/moussadiakite/Google_Drive/Projects/MInvest/Trazy/trazy_analysis/env/lib/python3.6/site-packages/ray/worker.py\", line 1623, in get\n",
      "    raise value\n",
      "ray.exceptions.RayActorError: The actor died because of an error raised in its creation task, \u001b[36mray::ImplicitFunc.__init__()\u001b[39m (pid=93692, ip=192.168.43.189)\n",
      "RuntimeError: The actor with name ImplicitFunc failed to be imported, and so cannot execute this method.\n",
      "\u001b[2m\u001b[36m(pid=93692)\u001b[0m 2021-09-04 05:39:39,729\tERROR function_manager.py:505 -- Failed to load actor class ImplicitFunc.\n",
      "\u001b[2m\u001b[36m(pid=93692)\u001b[0m Traceback (most recent call last):\n",
      "\u001b[2m\u001b[36m(pid=93692)\u001b[0m   File \"/Users/moussadiakite/Google_Drive/Projects/MInvest/Trazy/trazy_analysis/env/lib/python3.6/site-packages/ray/_private/function_manager.py\", line 503, in _load_actor_class_from_gcs\n",
      "\u001b[2m\u001b[36m(pid=93692)\u001b[0m     actor_class = pickle.loads(pickled_class)\n",
      "\u001b[2m\u001b[36m(pid=93692)\u001b[0m AttributeError: Can't get attribute 'rayopt_func' on <module 'trazy_analysis.optimization.optimizer' from '/Users/moussadiakite/Google_Drive/Projects/MInvest/Trazy/trazy_analysis/optimization/optimizer.py'>\n",
      "\u001b[2m\u001b[36m(pid=93692)\u001b[0m 2021-09-04 05:39:39,758\tERROR worker.py:428 -- Exception raised in creation task: The actor died because of an error raised in its creation task, \u001b[36mray::ImplicitFunc.__init__()\u001b[39m (pid=93692, ip=192.168.43.189)\n",
      "\u001b[2m\u001b[36m(pid=93692)\u001b[0m RuntimeError: The actor with name ImplicitFunc failed to be imported, and so cannot execute this method.\n"
     ]
    },
    {
     "name": "stdout",
     "output_type": "stream",
     "text": [
      "Result for rayopt_func_b6230_00001:\n",
      "  {}\n",
      "  \n",
      "Result for rayopt_func_b6230_00002:\n",
      "  {}\n",
      "  \n",
      "Result for rayopt_func_b6230_00003:\n",
      "  {}\n",
      "  \n"
     ]
    },
    {
     "name": "stderr",
     "output_type": "stream",
     "text": [
      "2021-09-04 05:39:40,160\tWARNING worker.py:1215 -- Failed to unpickle actor class 'ImplicitFunc' for actor ID 880eadfe190fad43d9250e6701000000. Traceback:\n",
      "Traceback (most recent call last):\n",
      "  File \"/Users/moussadiakite/Google_Drive/Projects/MInvest/Trazy/trazy_analysis/env/lib/python3.6/site-packages/ray/_private/function_manager.py\", line 503, in _load_actor_class_from_gcs\n",
      "    actor_class = pickle.loads(pickled_class)\n",
      "AttributeError: Can't get attribute 'rayopt_func' on <module 'trazy_analysis.optimization.optimizer' from '/Users/moussadiakite/Google_Drive/Projects/MInvest/Trazy/trazy_analysis/optimization/optimizer.py'>\n",
      "\n",
      "2021-09-04 05:39:40,189\tERROR trial_runner.py:773 -- Trial rayopt_func_b6230_00000: Error processing event.\n",
      "Traceback (most recent call last):\n",
      "  File \"/Users/moussadiakite/Google_Drive/Projects/MInvest/Trazy/trazy_analysis/env/lib/python3.6/site-packages/ray/tune/trial_runner.py\", line 739, in _process_trial\n",
      "    results = self.trial_executor.fetch_result(trial)\n",
      "  File \"/Users/moussadiakite/Google_Drive/Projects/MInvest/Trazy/trazy_analysis/env/lib/python3.6/site-packages/ray/tune/ray_trial_executor.py\", line 746, in fetch_result\n",
      "    result = ray.get(trial_future[0], timeout=DEFAULT_GET_TIMEOUT)\n",
      "  File \"/Users/moussadiakite/Google_Drive/Projects/MInvest/Trazy/trazy_analysis/env/lib/python3.6/site-packages/ray/_private/client_mode_hook.py\", line 82, in wrapper\n",
      "    return func(*args, **kwargs)\n",
      "  File \"/Users/moussadiakite/Google_Drive/Projects/MInvest/Trazy/trazy_analysis/env/lib/python3.6/site-packages/ray/worker.py\", line 1623, in get\n",
      "    raise value\n",
      "ray.exceptions.RayActorError: The actor died because of an error raised in its creation task, \u001b[36mray::ImplicitFunc.__init__()\u001b[39m (pid=93695, ip=192.168.43.189)\n",
      "RuntimeError: The actor with name ImplicitFunc failed to be imported, and so cannot execute this method.\n",
      "\u001b[2m\u001b[36m(pid=93695)\u001b[0m 2021-09-04 05:39:40,140\tERROR function_manager.py:505 -- Failed to load actor class ImplicitFunc.\n",
      "\u001b[2m\u001b[36m(pid=93695)\u001b[0m Traceback (most recent call last):\n",
      "\u001b[2m\u001b[36m(pid=93695)\u001b[0m   File \"/Users/moussadiakite/Google_Drive/Projects/MInvest/Trazy/trazy_analysis/env/lib/python3.6/site-packages/ray/_private/function_manager.py\", line 503, in _load_actor_class_from_gcs\n",
      "\u001b[2m\u001b[36m(pid=93695)\u001b[0m     actor_class = pickle.loads(pickled_class)\n",
      "\u001b[2m\u001b[36m(pid=93695)\u001b[0m AttributeError: Can't get attribute 'rayopt_func' on <module 'trazy_analysis.optimization.optimizer' from '/Users/moussadiakite/Google_Drive/Projects/MInvest/Trazy/trazy_analysis/optimization/optimizer.py'>\n",
      "\u001b[2m\u001b[36m(pid=93695)\u001b[0m 2021-09-04 05:39:40,151\tERROR worker.py:428 -- Exception raised in creation task: The actor died because of an error raised in its creation task, \u001b[36mray::ImplicitFunc.__init__()\u001b[39m (pid=93695, ip=192.168.43.189)\n",
      "\u001b[2m\u001b[36m(pid=93695)\u001b[0m RuntimeError: The actor with name ImplicitFunc failed to be imported, and so cannot execute this method.\n"
     ]
    },
    {
     "name": "stdout",
     "output_type": "stream",
     "text": [
      "Result for rayopt_func_b6230_00000:\n",
      "  {}\n",
      "  \n"
     ]
    },
    {
     "name": "stderr",
     "output_type": "stream",
     "text": [
      "2021-09-04 05:39:52,771\tWARNING worker.py:1215 -- Failed to unpickle actor class 'ImplicitFunc' for actor ID 1c659fdfe9ccfe1f9894458501000000. Traceback:\n",
      "Traceback (most recent call last):\n",
      "  File \"/Users/moussadiakite/Google_Drive/Projects/MInvest/Trazy/trazy_analysis/env/lib/python3.6/site-packages/ray/_private/function_manager.py\", line 503, in _load_actor_class_from_gcs\n",
      "    actor_class = pickle.loads(pickled_class)\n",
      "AttributeError: Can't get attribute 'rayopt_func' on <module 'trazy_analysis.optimization.optimizer' from '/Users/moussadiakite/Google_Drive/Projects/MInvest/Trazy/trazy_analysis/optimization/optimizer.py'>\n",
      "\n",
      "\u001b[2m\u001b[36m(pid=93717)\u001b[0m 2021-09-04 05:39:52,751\tERROR function_manager.py:505 -- Failed to load actor class ImplicitFunc.\n",
      "\u001b[2m\u001b[36m(pid=93717)\u001b[0m Traceback (most recent call last):\n",
      "\u001b[2m\u001b[36m(pid=93717)\u001b[0m   File \"/Users/moussadiakite/Google_Drive/Projects/MInvest/Trazy/trazy_analysis/env/lib/python3.6/site-packages/ray/_private/function_manager.py\", line 503, in _load_actor_class_from_gcs\n",
      "\u001b[2m\u001b[36m(pid=93717)\u001b[0m     actor_class = pickle.loads(pickled_class)\n",
      "\u001b[2m\u001b[36m(pid=93717)\u001b[0m AttributeError: Can't get attribute 'rayopt_func' on <module 'trazy_analysis.optimization.optimizer' from '/Users/moussadiakite/Google_Drive/Projects/MInvest/Trazy/trazy_analysis/optimization/optimizer.py'>\n",
      "2021-09-04 05:39:52,852\tWARNING worker.py:1215 -- Failed to unpickle actor class 'ImplicitFunc' for actor ID a14a29f6c77fba8f7ba46f7c01000000. Traceback:\n",
      "Traceback (most recent call last):\n",
      "  File \"/Users/moussadiakite/Google_Drive/Projects/MInvest/Trazy/trazy_analysis/env/lib/python3.6/site-packages/ray/_private/function_manager.py\", line 503, in _load_actor_class_from_gcs\n",
      "    actor_class = pickle.loads(pickled_class)\n",
      "AttributeError: Can't get attribute 'rayopt_func' on <module 'trazy_analysis.optimization.optimizer' from '/Users/moussadiakite/Google_Drive/Projects/MInvest/Trazy/trazy_analysis/optimization/optimizer.py'>\n",
      "\n",
      "2021-09-04 05:39:52,854\tWARNING worker.py:1215 -- Failed to unpickle actor class 'ImplicitFunc' for actor ID 16c1666c6b75e8b66bbec5af01000000. Traceback:\n",
      "Traceback (most recent call last):\n",
      "  File \"/Users/moussadiakite/Google_Drive/Projects/MInvest/Trazy/trazy_analysis/env/lib/python3.6/site-packages/ray/_private/function_manager.py\", line 503, in _load_actor_class_from_gcs\n",
      "    actor_class = pickle.loads(pickled_class)\n",
      "AttributeError: Can't get attribute 'rayopt_func' on <module 'trazy_analysis.optimization.optimizer' from '/Users/moussadiakite/Google_Drive/Projects/MInvest/Trazy/trazy_analysis/optimization/optimizer.py'>\n",
      "\n",
      "2021-09-04 05:39:52,890\tERROR trial_runner.py:773 -- Trial rayopt_func_b6230_00006: Error processing event.\n",
      "Traceback (most recent call last):\n",
      "  File \"/Users/moussadiakite/Google_Drive/Projects/MInvest/Trazy/trazy_analysis/env/lib/python3.6/site-packages/ray/tune/trial_runner.py\", line 739, in _process_trial\n",
      "    results = self.trial_executor.fetch_result(trial)\n",
      "  File \"/Users/moussadiakite/Google_Drive/Projects/MInvest/Trazy/trazy_analysis/env/lib/python3.6/site-packages/ray/tune/ray_trial_executor.py\", line 746, in fetch_result\n",
      "    result = ray.get(trial_future[0], timeout=DEFAULT_GET_TIMEOUT)\n",
      "  File \"/Users/moussadiakite/Google_Drive/Projects/MInvest/Trazy/trazy_analysis/env/lib/python3.6/site-packages/ray/_private/client_mode_hook.py\", line 82, in wrapper\n",
      "    return func(*args, **kwargs)\n",
      "  File \"/Users/moussadiakite/Google_Drive/Projects/MInvest/Trazy/trazy_analysis/env/lib/python3.6/site-packages/ray/worker.py\", line 1623, in get\n",
      "    raise value\n",
      "ray.exceptions.RayActorError: The actor died because of an error raised in its creation task, \u001b[36mray::ImplicitFunc.__init__()\u001b[39m (pid=93717, ip=192.168.43.189)\n",
      "RuntimeError: The actor with name ImplicitFunc failed to be imported, and so cannot execute this method.\n"
     ]
    },
    {
     "name": "stdout",
     "output_type": "stream",
     "text": [
      "Result for rayopt_func_b6230_00006:\n",
      "  {}\n",
      "  \n"
     ]
    },
    {
     "name": "stderr",
     "output_type": "stream",
     "text": [
      "\u001b[2m\u001b[36m(pid=93717)\u001b[0m 2021-09-04 05:39:52,783\tERROR worker.py:428 -- Exception raised in creation task: The actor died because of an error raised in its creation task, \u001b[36mray::ImplicitFunc.__init__()\u001b[39m (pid=93717, ip=192.168.43.189)\n",
      "\u001b[2m\u001b[36m(pid=93717)\u001b[0m RuntimeError: The actor with name ImplicitFunc failed to be imported, and so cannot execute this method.\n",
      "\u001b[2m\u001b[36m(pid=93716)\u001b[0m 2021-09-04 05:39:52,823\tERROR function_manager.py:505 -- Failed to load actor class ImplicitFunc.\n",
      "\u001b[2m\u001b[36m(pid=93716)\u001b[0m Traceback (most recent call last):\n",
      "\u001b[2m\u001b[36m(pid=93716)\u001b[0m   File \"/Users/moussadiakite/Google_Drive/Projects/MInvest/Trazy/trazy_analysis/env/lib/python3.6/site-packages/ray/_private/function_manager.py\", line 503, in _load_actor_class_from_gcs\n",
      "\u001b[2m\u001b[36m(pid=93716)\u001b[0m     actor_class = pickle.loads(pickled_class)\n",
      "\u001b[2m\u001b[36m(pid=93716)\u001b[0m AttributeError: Can't get attribute 'rayopt_func' on <module 'trazy_analysis.optimization.optimizer' from '/Users/moussadiakite/Google_Drive/Projects/MInvest/Trazy/trazy_analysis/optimization/optimizer.py'>\n",
      "\u001b[2m\u001b[36m(pid=93716)\u001b[0m 2021-09-04 05:39:52,863\tERROR worker.py:428 -- Exception raised in creation task: The actor died because of an error raised in its creation task, \u001b[36mray::ImplicitFunc.__init__()\u001b[39m (pid=93716, ip=192.168.43.189)\n",
      "\u001b[2m\u001b[36m(pid=93716)\u001b[0m RuntimeError: The actor with name ImplicitFunc failed to be imported, and so cannot execute this method.\n",
      "\u001b[2m\u001b[36m(pid=93715)\u001b[0m 2021-09-04 05:39:52,772\tERROR function_manager.py:505 -- Failed to load actor class ImplicitFunc.\n",
      "\u001b[2m\u001b[36m(pid=93715)\u001b[0m Traceback (most recent call last):\n",
      "\u001b[2m\u001b[36m(pid=93715)\u001b[0m   File \"/Users/moussadiakite/Google_Drive/Projects/MInvest/Trazy/trazy_analysis/env/lib/python3.6/site-packages/ray/_private/function_manager.py\", line 503, in _load_actor_class_from_gcs\n",
      "\u001b[2m\u001b[36m(pid=93715)\u001b[0m     actor_class = pickle.loads(pickled_class)\n",
      "\u001b[2m\u001b[36m(pid=93715)\u001b[0m AttributeError: Can't get attribute 'rayopt_func' on <module 'trazy_analysis.optimization.optimizer' from '/Users/moussadiakite/Google_Drive/Projects/MInvest/Trazy/trazy_analysis/optimization/optimizer.py'>\n",
      "\u001b[2m\u001b[36m(pid=93715)\u001b[0m 2021-09-04 05:39:52,861\tERROR worker.py:428 -- Exception raised in creation task: The actor died because of an error raised in its creation task, \u001b[36mray::ImplicitFunc.__init__()\u001b[39m (pid=93715, ip=192.168.43.189)\n",
      "\u001b[2m\u001b[36m(pid=93715)\u001b[0m RuntimeError: The actor with name ImplicitFunc failed to be imported, and so cannot execute this method.\n",
      "\u001b[2m\u001b[36m(pid=93718)\u001b[0m 2021-09-04 05:39:52,841\tERROR function_manager.py:505 -- Failed to load actor class ImplicitFunc.\n",
      "\u001b[2m\u001b[36m(pid=93718)\u001b[0m Traceback (most recent call last):\n",
      "\u001b[2m\u001b[36m(pid=93718)\u001b[0m   File \"/Users/moussadiakite/Google_Drive/Projects/MInvest/Trazy/trazy_analysis/env/lib/python3.6/site-packages/ray/_private/function_manager.py\", line 503, in _load_actor_class_from_gcs\n",
      "\u001b[2m\u001b[36m(pid=93718)\u001b[0m     actor_class = pickle.loads(pickled_class)\n",
      "\u001b[2m\u001b[36m(pid=93718)\u001b[0m AttributeError: Can't get attribute 'rayopt_func' on <module 'trazy_analysis.optimization.optimizer' from '/Users/moussadiakite/Google_Drive/Projects/MInvest/Trazy/trazy_analysis/optimization/optimizer.py'>\n",
      "2021-09-04 05:39:52,948\tWARNING worker.py:1215 -- Failed to unpickle actor class 'ImplicitFunc' for actor ID 31229453d1c619f22d66030701000000. Traceback:\n",
      "Traceback (most recent call last):\n",
      "  File \"/Users/moussadiakite/Google_Drive/Projects/MInvest/Trazy/trazy_analysis/env/lib/python3.6/site-packages/ray/_private/function_manager.py\", line 503, in _load_actor_class_from_gcs\n",
      "    actor_class = pickle.loads(pickled_class)\n",
      "AttributeError: Can't get attribute 'rayopt_func' on <module 'trazy_analysis.optimization.optimizer' from '/Users/moussadiakite/Google_Drive/Projects/MInvest/Trazy/trazy_analysis/optimization/optimizer.py'>\n",
      "\n"
     ]
    },
    {
     "data": {
      "text/html": [
       "== Status ==<br>Memory usage on this node: 5.4/8.0 GiB<br>Using FIFO scheduling algorithm.<br>Resources requested: 3.0/4 CPUs, 0/0 GPUs, 0.0/2.28 GiB heap, 0.0/1.14 GiB objects<br>Result logdir: /Users/moussadiakite/ray_results/rayopt_func_2021-09-04_05-39-30<br>Number of trials: 16/16 (5 ERROR, 8 PENDING, 3 RUNNING)<br><table>\n",
       "<thead>\n",
       "<tr><th>Trial name             </th><th>status  </th><th>loc  </th><th style=\"text-align: right;\">  long_sma</th><th style=\"text-align: right;\">  short_sma</th><th style=\"text-align: right;\">  trailing_stop_order_pct</th></tr>\n",
       "</thead>\n",
       "<tbody>\n",
       "<tr><td>rayopt_func_b6230_00004</td><td>RUNNING </td><td>     </td><td style=\"text-align: right;\">       178</td><td style=\"text-align: right;\">         54</td><td style=\"text-align: right;\">               0.141422  </td></tr>\n",
       "<tr><td>rayopt_func_b6230_00005</td><td>RUNNING </td><td>     </td><td style=\"text-align: right;\">       135</td><td style=\"text-align: right;\">         48</td><td style=\"text-align: right;\">               0.0358195 </td></tr>\n",
       "<tr><td>rayopt_func_b6230_00007</td><td>RUNNING </td><td>     </td><td style=\"text-align: right;\">       167</td><td style=\"text-align: right;\">         43</td><td style=\"text-align: right;\">               0.146585  </td></tr>\n",
       "<tr><td>rayopt_func_b6230_00008</td><td>PENDING </td><td>     </td><td style=\"text-align: right;\">       192</td><td style=\"text-align: right;\">         43</td><td style=\"text-align: right;\">               0.134291  </td></tr>\n",
       "<tr><td>rayopt_func_b6230_00009</td><td>PENDING </td><td>     </td><td style=\"text-align: right;\">       106</td><td style=\"text-align: right;\">         62</td><td style=\"text-align: right;\">               0.184648  </td></tr>\n",
       "<tr><td>rayopt_func_b6230_00010</td><td>PENDING </td><td>     </td><td style=\"text-align: right;\">       166</td><td style=\"text-align: right;\">         35</td><td style=\"text-align: right;\">               0.0847983 </td></tr>\n",
       "<tr><td>rayopt_func_b6230_00011</td><td>PENDING </td><td>     </td><td style=\"text-align: right;\">       126</td><td style=\"text-align: right;\">         31</td><td style=\"text-align: right;\">               0.144922  </td></tr>\n",
       "<tr><td>rayopt_func_b6230_00012</td><td>PENDING </td><td>     </td><td style=\"text-align: right;\">       148</td><td style=\"text-align: right;\">         48</td><td style=\"text-align: right;\">               0.0708674 </td></tr>\n",
       "<tr><td>rayopt_func_b6230_00013</td><td>PENDING </td><td>     </td><td style=\"text-align: right;\">       177</td><td style=\"text-align: right;\">         33</td><td style=\"text-align: right;\">               0.0655429 </td></tr>\n",
       "<tr><td>rayopt_func_b6230_00014</td><td>PENDING </td><td>     </td><td style=\"text-align: right;\">       138</td><td style=\"text-align: right;\">         72</td><td style=\"text-align: right;\">               0.00213958</td></tr>\n",
       "<tr><td>rayopt_func_b6230_00015</td><td>PENDING </td><td>     </td><td style=\"text-align: right;\">       186</td><td style=\"text-align: right;\">         28</td><td style=\"text-align: right;\">               0.0927868 </td></tr>\n",
       "<tr><td>rayopt_func_b6230_00000</td><td>ERROR   </td><td>     </td><td style=\"text-align: right;\">       157</td><td style=\"text-align: right;\">         43</td><td style=\"text-align: right;\">               0.0523056 </td></tr>\n",
       "<tr><td>rayopt_func_b6230_00001</td><td>ERROR   </td><td>     </td><td style=\"text-align: right;\">       149</td><td style=\"text-align: right;\">         27</td><td style=\"text-align: right;\">               0.0291431 </td></tr>\n",
       "<tr><td>rayopt_func_b6230_00002</td><td>ERROR   </td><td>     </td><td style=\"text-align: right;\">       178</td><td style=\"text-align: right;\">         39</td><td style=\"text-align: right;\">               0.186552  </td></tr>\n",
       "<tr><td>rayopt_func_b6230_00003</td><td>ERROR   </td><td>     </td><td style=\"text-align: right;\">       158</td><td style=\"text-align: right;\">         50</td><td style=\"text-align: right;\">               0.156041  </td></tr>\n",
       "<tr><td>rayopt_func_b6230_00006</td><td>ERROR   </td><td>     </td><td style=\"text-align: right;\">       119</td><td style=\"text-align: right;\">         13</td><td style=\"text-align: right;\">               0.198517  </td></tr>\n",
       "</tbody>\n",
       "</table><br>Number of errored trials: 5<br><table>\n",
       "<thead>\n",
       "<tr><th>Trial name             </th><th style=\"text-align: right;\">  # failures</th><th>error file                                                                                                                                                                         </th></tr>\n",
       "</thead>\n",
       "<tbody>\n",
       "<tr><td>rayopt_func_b6230_00000</td><td style=\"text-align: right;\">           1</td><td>/Users/moussadiakite/ray_results/rayopt_func_2021-09-04_05-39-30/rayopt_func_b6230_00000_0_long_sma=157,short_sma=43,trailing_stop_order_pct=0.052306_2021-09-04_05-39-30/error.txt</td></tr>\n",
       "<tr><td>rayopt_func_b6230_00001</td><td style=\"text-align: right;\">           1</td><td>/Users/moussadiakite/ray_results/rayopt_func_2021-09-04_05-39-30/rayopt_func_b6230_00001_1_long_sma=149,short_sma=27,trailing_stop_order_pct=0.029143_2021-09-04_05-39-30/error.txt</td></tr>\n",
       "<tr><td>rayopt_func_b6230_00002</td><td style=\"text-align: right;\">           1</td><td>/Users/moussadiakite/ray_results/rayopt_func_2021-09-04_05-39-30/rayopt_func_b6230_00002_2_long_sma=178,short_sma=39,trailing_stop_order_pct=0.18655_2021-09-04_05-39-30/error.txt </td></tr>\n",
       "<tr><td>rayopt_func_b6230_00003</td><td style=\"text-align: right;\">           1</td><td>/Users/moussadiakite/ray_results/rayopt_func_2021-09-04_05-39-30/rayopt_func_b6230_00003_3_long_sma=158,short_sma=50,trailing_stop_order_pct=0.15604_2021-09-04_05-39-30/error.txt </td></tr>\n",
       "<tr><td>rayopt_func_b6230_00006</td><td style=\"text-align: right;\">           1</td><td>/Users/moussadiakite/ray_results/rayopt_func_2021-09-04_05-39-30/rayopt_func_b6230_00006_6_long_sma=119,short_sma=13,trailing_stop_order_pct=0.19852_2021-09-04_05-39-39/error.txt </td></tr>\n",
       "</tbody>\n",
       "</table><br>"
      ],
      "text/plain": [
       "<IPython.core.display.HTML object>"
      ]
     },
     "metadata": {},
     "output_type": "display_data"
    },
    {
     "name": "stderr",
     "output_type": "stream",
     "text": [
      "2021-09-04 05:39:52,985\tERROR trial_runner.py:773 -- Trial rayopt_func_b6230_00005: Error processing event.\n",
      "Traceback (most recent call last):\n",
      "  File \"/Users/moussadiakite/Google_Drive/Projects/MInvest/Trazy/trazy_analysis/env/lib/python3.6/site-packages/ray/tune/trial_runner.py\", line 739, in _process_trial\n",
      "    results = self.trial_executor.fetch_result(trial)\n",
      "  File \"/Users/moussadiakite/Google_Drive/Projects/MInvest/Trazy/trazy_analysis/env/lib/python3.6/site-packages/ray/tune/ray_trial_executor.py\", line 746, in fetch_result\n",
      "    result = ray.get(trial_future[0], timeout=DEFAULT_GET_TIMEOUT)\n",
      "  File \"/Users/moussadiakite/Google_Drive/Projects/MInvest/Trazy/trazy_analysis/env/lib/python3.6/site-packages/ray/_private/client_mode_hook.py\", line 82, in wrapper\n",
      "    return func(*args, **kwargs)\n",
      "  File \"/Users/moussadiakite/Google_Drive/Projects/MInvest/Trazy/trazy_analysis/env/lib/python3.6/site-packages/ray/worker.py\", line 1623, in get\n",
      "    raise value\n",
      "ray.exceptions.RayActorError: The actor died because of an error raised in its creation task, \u001b[36mray::ImplicitFunc.__init__()\u001b[39m (pid=93716, ip=192.168.43.189)\n",
      "RuntimeError: The actor with name ImplicitFunc failed to be imported, and so cannot execute this method.\n",
      "2021-09-04 05:39:53,022\tERROR trial_runner.py:773 -- Trial rayopt_func_b6230_00004: Error processing event.\n",
      "Traceback (most recent call last):\n",
      "  File \"/Users/moussadiakite/Google_Drive/Projects/MInvest/Trazy/trazy_analysis/env/lib/python3.6/site-packages/ray/tune/trial_runner.py\", line 739, in _process_trial\n",
      "    results = self.trial_executor.fetch_result(trial)\n",
      "  File \"/Users/moussadiakite/Google_Drive/Projects/MInvest/Trazy/trazy_analysis/env/lib/python3.6/site-packages/ray/tune/ray_trial_executor.py\", line 746, in fetch_result\n",
      "    result = ray.get(trial_future[0], timeout=DEFAULT_GET_TIMEOUT)\n",
      "  File \"/Users/moussadiakite/Google_Drive/Projects/MInvest/Trazy/trazy_analysis/env/lib/python3.6/site-packages/ray/_private/client_mode_hook.py\", line 82, in wrapper\n",
      "    return func(*args, **kwargs)\n",
      "  File \"/Users/moussadiakite/Google_Drive/Projects/MInvest/Trazy/trazy_analysis/env/lib/python3.6/site-packages/ray/worker.py\", line 1623, in get\n",
      "    raise value\n",
      "ray.exceptions.RayActorError: The actor died because of an error raised in its creation task, \u001b[36mray::ImplicitFunc.__init__()\u001b[39m (pid=93715, ip=192.168.43.189)\n",
      "RuntimeError: The actor with name ImplicitFunc failed to be imported, and so cannot execute this method.\n",
      "\u001b[2m\u001b[36m(pid=93718)\u001b[0m 2021-09-04 05:39:52,945\tERROR worker.py:428 -- Exception raised in creation task: The actor died because of an error raised in its creation task, \u001b[36mray::ImplicitFunc.__init__()\u001b[39m (pid=93718, ip=192.168.43.189)\n",
      "\u001b[2m\u001b[36m(pid=93718)\u001b[0m RuntimeError: The actor with name ImplicitFunc failed to be imported, and so cannot execute this method.\n"
     ]
    },
    {
     "name": "stdout",
     "output_type": "stream",
     "text": [
      "Result for rayopt_func_b6230_00005:\n",
      "  {}\n",
      "  \n",
      "Result for rayopt_func_b6230_00004:\n",
      "  {}\n",
      "  \n"
     ]
    },
    {
     "name": "stderr",
     "output_type": "stream",
     "text": [
      "2021-09-04 05:39:53,093\tERROR trial_runner.py:773 -- Trial rayopt_func_b6230_00007: Error processing event.\n",
      "Traceback (most recent call last):\n",
      "  File \"/Users/moussadiakite/Google_Drive/Projects/MInvest/Trazy/trazy_analysis/env/lib/python3.6/site-packages/ray/tune/trial_runner.py\", line 739, in _process_trial\n",
      "    results = self.trial_executor.fetch_result(trial)\n",
      "  File \"/Users/moussadiakite/Google_Drive/Projects/MInvest/Trazy/trazy_analysis/env/lib/python3.6/site-packages/ray/tune/ray_trial_executor.py\", line 746, in fetch_result\n",
      "    result = ray.get(trial_future[0], timeout=DEFAULT_GET_TIMEOUT)\n",
      "  File \"/Users/moussadiakite/Google_Drive/Projects/MInvest/Trazy/trazy_analysis/env/lib/python3.6/site-packages/ray/_private/client_mode_hook.py\", line 82, in wrapper\n",
      "    return func(*args, **kwargs)\n",
      "  File \"/Users/moussadiakite/Google_Drive/Projects/MInvest/Trazy/trazy_analysis/env/lib/python3.6/site-packages/ray/worker.py\", line 1623, in get\n",
      "    raise value\n",
      "ray.exceptions.RayActorError: The actor died because of an error raised in its creation task, \u001b[36mray::ImplicitFunc.__init__()\u001b[39m (pid=93718, ip=192.168.43.189)\n",
      "RuntimeError: The actor with name ImplicitFunc failed to be imported, and so cannot execute this method.\n"
     ]
    },
    {
     "name": "stdout",
     "output_type": "stream",
     "text": [
      "Result for rayopt_func_b6230_00007:\n",
      "  {}\n",
      "  \n"
     ]
    },
    {
     "name": "stderr",
     "output_type": "stream",
     "text": [
      "2021-09-04 05:40:02,875\tWARNING worker.py:1215 -- Failed to unpickle actor class 'ImplicitFunc' for actor ID ffe7a9122295da105e59858c01000000. Traceback:\n",
      "Traceback (most recent call last):\n",
      "  File \"/Users/moussadiakite/Google_Drive/Projects/MInvest/Trazy/trazy_analysis/env/lib/python3.6/site-packages/ray/_private/function_manager.py\", line 503, in _load_actor_class_from_gcs\n",
      "    actor_class = pickle.loads(pickled_class)\n",
      "AttributeError: Can't get attribute 'rayopt_func' on <module 'trazy_analysis.optimization.optimizer' from '/Users/moussadiakite/Google_Drive/Projects/MInvest/Trazy/trazy_analysis/optimization/optimizer.py'>\n",
      "\n",
      "2021-09-04 05:40:02,901\tWARNING worker.py:1215 -- Failed to unpickle actor class 'ImplicitFunc' for actor ID ce4909f84ff0627c1785462b01000000. Traceback:\n",
      "Traceback (most recent call last):\n",
      "  File \"/Users/moussadiakite/Google_Drive/Projects/MInvest/Trazy/trazy_analysis/env/lib/python3.6/site-packages/ray/_private/function_manager.py\", line 503, in _load_actor_class_from_gcs\n",
      "    actor_class = pickle.loads(pickled_class)\n",
      "AttributeError: Can't get attribute 'rayopt_func' on <module 'trazy_analysis.optimization.optimizer' from '/Users/moussadiakite/Google_Drive/Projects/MInvest/Trazy/trazy_analysis/optimization/optimizer.py'>\n",
      "\n",
      "2021-09-04 05:40:02,902\tERROR trial_runner.py:773 -- Trial rayopt_func_b6230_00008: Error processing event.\n",
      "Traceback (most recent call last):\n",
      "  File \"/Users/moussadiakite/Google_Drive/Projects/MInvest/Trazy/trazy_analysis/env/lib/python3.6/site-packages/ray/tune/trial_runner.py\", line 739, in _process_trial\n",
      "    results = self.trial_executor.fetch_result(trial)\n",
      "  File \"/Users/moussadiakite/Google_Drive/Projects/MInvest/Trazy/trazy_analysis/env/lib/python3.6/site-packages/ray/tune/ray_trial_executor.py\", line 746, in fetch_result\n",
      "    result = ray.get(trial_future[0], timeout=DEFAULT_GET_TIMEOUT)\n",
      "  File \"/Users/moussadiakite/Google_Drive/Projects/MInvest/Trazy/trazy_analysis/env/lib/python3.6/site-packages/ray/_private/client_mode_hook.py\", line 82, in wrapper\n",
      "    return func(*args, **kwargs)\n",
      "  File \"/Users/moussadiakite/Google_Drive/Projects/MInvest/Trazy/trazy_analysis/env/lib/python3.6/site-packages/ray/worker.py\", line 1623, in get\n",
      "    raise value\n",
      "ray.exceptions.RayActorError: The actor died because of an error raised in its creation task, \u001b[36mray::ImplicitFunc.__init__()\u001b[39m (pid=93741, ip=192.168.43.189)\n",
      "RuntimeError: The actor with name ImplicitFunc failed to be imported, and so cannot execute this method.\n",
      "\u001b[2m\u001b[36m(pid=93743)\u001b[0m 2021-09-04 05:40:02,887\tERROR function_manager.py:505 -- Failed to load actor class ImplicitFunc.\n",
      "\u001b[2m\u001b[36m(pid=93743)\u001b[0m Traceback (most recent call last):\n",
      "\u001b[2m\u001b[36m(pid=93743)\u001b[0m   File \"/Users/moussadiakite/Google_Drive/Projects/MInvest/Trazy/trazy_analysis/env/lib/python3.6/site-packages/ray/_private/function_manager.py\", line 503, in _load_actor_class_from_gcs\n",
      "\u001b[2m\u001b[36m(pid=93743)\u001b[0m     actor_class = pickle.loads(pickled_class)\n",
      "\u001b[2m\u001b[36m(pid=93743)\u001b[0m AttributeError: Can't get attribute 'rayopt_func' on <module 'trazy_analysis.optimization.optimizer' from '/Users/moussadiakite/Google_Drive/Projects/MInvest/Trazy/trazy_analysis/optimization/optimizer.py'>\n",
      "\u001b[2m\u001b[36m(pid=93743)\u001b[0m 2021-09-04 05:40:02,896\tERROR worker.py:428 -- Exception raised in creation task: The actor died because of an error raised in its creation task, \u001b[36mray::ImplicitFunc.__init__()\u001b[39m (pid=93743, ip=192.168.43.189)\n",
      "\u001b[2m\u001b[36m(pid=93743)\u001b[0m RuntimeError: The actor with name ImplicitFunc failed to be imported, and so cannot execute this method.\n",
      "\u001b[2m\u001b[36m(pid=93741)\u001b[0m 2021-09-04 05:40:02,859\tERROR function_manager.py:505 -- Failed to load actor class ImplicitFunc.\n",
      "\u001b[2m\u001b[36m(pid=93741)\u001b[0m Traceback (most recent call last):\n",
      "\u001b[2m\u001b[36m(pid=93741)\u001b[0m   File \"/Users/moussadiakite/Google_Drive/Projects/MInvest/Trazy/trazy_analysis/env/lib/python3.6/site-packages/ray/_private/function_manager.py\", line 503, in _load_actor_class_from_gcs\n",
      "\u001b[2m\u001b[36m(pid=93741)\u001b[0m     actor_class = pickle.loads(pickled_class)\n",
      "\u001b[2m\u001b[36m(pid=93741)\u001b[0m AttributeError: Can't get attribute 'rayopt_func' on <module 'trazy_analysis.optimization.optimizer' from '/Users/moussadiakite/Google_Drive/Projects/MInvest/Trazy/trazy_analysis/optimization/optimizer.py'>\n",
      "\u001b[2m\u001b[36m(pid=93741)\u001b[0m 2021-09-04 05:40:02,887\tERROR worker.py:428 -- Exception raised in creation task: The actor died because of an error raised in its creation task, \u001b[36mray::ImplicitFunc.__init__()\u001b[39m (pid=93741, ip=192.168.43.189)\n",
      "\u001b[2m\u001b[36m(pid=93741)\u001b[0m RuntimeError: The actor with name ImplicitFunc failed to be imported, and so cannot execute this method.\n",
      "\u001b[2m\u001b[36m(pid=93742)\u001b[0m 2021-09-04 05:40:02,977\tERROR function_manager.py:505 -- Failed to load actor class ImplicitFunc.2021-09-04 05:40:03,066\tWARNING worker.py:1215 -- Failed to unpickle actor class 'ImplicitFunc' for actor ID 970c83fbc7f62284b1966dc601000000. Traceback:\n",
      "Traceback (most recent call last):\n",
      "  File \"/Users/moussadiakite/Google_Drive/Projects/MInvest/Trazy/trazy_analysis/env/lib/python3.6/site-packages/ray/_private/function_manager.py\", line 503, in _load_actor_class_from_gcs\n",
      "    actor_class = pickle.loads(pickled_class)\n",
      "AttributeError: Can't get attribute 'rayopt_func' on <module 'trazy_analysis.optimization.optimizer' from '/Users/moussadiakite/Google_Drive/Projects/MInvest/Trazy/trazy_analysis/optimization/optimizer.py'>\n",
      "\n",
      "\u001b[2m\u001b[36m(pid=93742)\u001b[0m Traceback (most recent call last):\n",
      "\u001b[2m\u001b[36m(pid=93742)\u001b[0m   File \"/Users/moussadiakite/Google_Drive/Projects/MInvest/Trazy/trazy_analysis/env/lib/python3.6/site-packages/ray/_private/function_manager.py\", line 503, in _load_actor_class_from_gcs\n",
      "\u001b[2m\u001b[36m(pid=93742)\u001b[0m     actor_class = pickle.loads(pickled_class)\n",
      "\u001b[2m\u001b[36m(pid=93742)\u001b[0m AttributeError: Can't get attribute 'rayopt_func' on <module 'trazy_analysis.optimization.optimizer' from '/Users/moussadiakite/Google_Drive/Projects/MInvest/Trazy/trazy_analysis/optimization/optimizer.py'>\n",
      "\u001b[2m\u001b[36m(pid=93744)\u001b[0m 2021-09-04 05:40:03,021\tERROR function_manager.py:505 -- Failed to load actor class ImplicitFunc.\n",
      "\u001b[2m\u001b[36m(pid=93744)\u001b[0m Traceback (most recent call last):\n",
      "\u001b[2m\u001b[36m(pid=93744)\u001b[0m   File \"/Users/moussadiakite/Google_Drive/Projects/MInvest/Trazy/trazy_analysis/env/lib/python3.6/site-packages/ray/_private/function_manager.py\", line 503, in _load_actor_class_from_gcs\n",
      "\u001b[2m\u001b[36m(pid=93744)\u001b[0m     actor_class = pickle.loads(pickled_class)\n",
      "\n",
      "\u001b[2m\u001b[36m(pid=93744)\u001b[0m AttributeError: Can't get attribute 'rayopt_func' on <module 'trazy_analysis.optimization.optimizer' from '/Users/moussadiakite/Google_Drive/Projects/MInvest/Trazy/trazy_analysis/optimization/optimizer.py'>\n",
      "2021-09-04 05:40:03,071\tWARNING worker.py:1215 -- Failed to unpickle actor class 'ImplicitFunc' for actor ID f937c6802064fb67459241b701000000. Traceback:\n",
      "Traceback (most recent call last):\n",
      "  File \"/Users/moussadiakite/Google_Drive/Projects/MInvest/Trazy/trazy_analysis/env/lib/python3.6/site-packages/ray/_private/function_manager.py\", line 503, in _load_actor_class_from_gcs\n",
      "    actor_class = pickle.loads(pickled_class)\n",
      "AttributeError: Can't get attribute 'rayopt_func' on <module 'trazy_analysis.optimization.optimizer' from '/Users/moussadiakite/Google_Drive/Projects/MInvest/Trazy/trazy_analysis/optimization/optimizer.py'>\n",
      "\n"
     ]
    },
    {
     "name": "stdout",
     "output_type": "stream",
     "text": [
      "Result for rayopt_func_b6230_00008:\n",
      "  {}\n",
      "  \n"
     ]
    },
    {
     "data": {
      "text/html": [
       "== Status ==<br>Memory usage on this node: 4.5/8.0 GiB<br>Using FIFO scheduling algorithm.<br>Resources requested: 3.0/4 CPUs, 0/0 GPUs, 0.0/2.28 GiB heap, 0.0/1.14 GiB objects<br>Result logdir: /Users/moussadiakite/ray_results/rayopt_func_2021-09-04_05-39-30<br>Number of trials: 16/16 (9 ERROR, 4 PENDING, 3 RUNNING)<br><table>\n",
       "<thead>\n",
       "<tr><th>Trial name             </th><th>status  </th><th>loc  </th><th style=\"text-align: right;\">  long_sma</th><th style=\"text-align: right;\">  short_sma</th><th style=\"text-align: right;\">  trailing_stop_order_pct</th></tr>\n",
       "</thead>\n",
       "<tbody>\n",
       "<tr><td>rayopt_func_b6230_00009</td><td>RUNNING </td><td>     </td><td style=\"text-align: right;\">       106</td><td style=\"text-align: right;\">         62</td><td style=\"text-align: right;\">               0.184648  </td></tr>\n",
       "<tr><td>rayopt_func_b6230_00010</td><td>RUNNING </td><td>     </td><td style=\"text-align: right;\">       166</td><td style=\"text-align: right;\">         35</td><td style=\"text-align: right;\">               0.0847983 </td></tr>\n",
       "<tr><td>rayopt_func_b6230_00011</td><td>RUNNING </td><td>     </td><td style=\"text-align: right;\">       126</td><td style=\"text-align: right;\">         31</td><td style=\"text-align: right;\">               0.144922  </td></tr>\n",
       "<tr><td>rayopt_func_b6230_00012</td><td>PENDING </td><td>     </td><td style=\"text-align: right;\">       148</td><td style=\"text-align: right;\">         48</td><td style=\"text-align: right;\">               0.0708674 </td></tr>\n",
       "<tr><td>rayopt_func_b6230_00013</td><td>PENDING </td><td>     </td><td style=\"text-align: right;\">       177</td><td style=\"text-align: right;\">         33</td><td style=\"text-align: right;\">               0.0655429 </td></tr>\n",
       "<tr><td>rayopt_func_b6230_00014</td><td>PENDING </td><td>     </td><td style=\"text-align: right;\">       138</td><td style=\"text-align: right;\">         72</td><td style=\"text-align: right;\">               0.00213958</td></tr>\n",
       "<tr><td>rayopt_func_b6230_00015</td><td>PENDING </td><td>     </td><td style=\"text-align: right;\">       186</td><td style=\"text-align: right;\">         28</td><td style=\"text-align: right;\">               0.0927868 </td></tr>\n",
       "<tr><td>rayopt_func_b6230_00000</td><td>ERROR   </td><td>     </td><td style=\"text-align: right;\">       157</td><td style=\"text-align: right;\">         43</td><td style=\"text-align: right;\">               0.0523056 </td></tr>\n",
       "<tr><td>rayopt_func_b6230_00001</td><td>ERROR   </td><td>     </td><td style=\"text-align: right;\">       149</td><td style=\"text-align: right;\">         27</td><td style=\"text-align: right;\">               0.0291431 </td></tr>\n",
       "<tr><td>rayopt_func_b6230_00002</td><td>ERROR   </td><td>     </td><td style=\"text-align: right;\">       178</td><td style=\"text-align: right;\">         39</td><td style=\"text-align: right;\">               0.186552  </td></tr>\n",
       "<tr><td>rayopt_func_b6230_00003</td><td>ERROR   </td><td>     </td><td style=\"text-align: right;\">       158</td><td style=\"text-align: right;\">         50</td><td style=\"text-align: right;\">               0.156041  </td></tr>\n",
       "<tr><td>rayopt_func_b6230_00004</td><td>ERROR   </td><td>     </td><td style=\"text-align: right;\">       178</td><td style=\"text-align: right;\">         54</td><td style=\"text-align: right;\">               0.141422  </td></tr>\n",
       "<tr><td>rayopt_func_b6230_00005</td><td>ERROR   </td><td>     </td><td style=\"text-align: right;\">       135</td><td style=\"text-align: right;\">         48</td><td style=\"text-align: right;\">               0.0358195 </td></tr>\n",
       "<tr><td>rayopt_func_b6230_00006</td><td>ERROR   </td><td>     </td><td style=\"text-align: right;\">       119</td><td style=\"text-align: right;\">         13</td><td style=\"text-align: right;\">               0.198517  </td></tr>\n",
       "<tr><td>rayopt_func_b6230_00007</td><td>ERROR   </td><td>     </td><td style=\"text-align: right;\">       167</td><td style=\"text-align: right;\">         43</td><td style=\"text-align: right;\">               0.146585  </td></tr>\n",
       "<tr><td>rayopt_func_b6230_00008</td><td>ERROR   </td><td>     </td><td style=\"text-align: right;\">       192</td><td style=\"text-align: right;\">         43</td><td style=\"text-align: right;\">               0.134291  </td></tr>\n",
       "</tbody>\n",
       "</table><br>Number of errored trials: 9<br><table>\n",
       "<thead>\n",
       "<tr><th>Trial name             </th><th style=\"text-align: right;\">  # failures</th><th>error file                                                                                                                                                                         </th></tr>\n",
       "</thead>\n",
       "<tbody>\n",
       "<tr><td>rayopt_func_b6230_00000</td><td style=\"text-align: right;\">           1</td><td>/Users/moussadiakite/ray_results/rayopt_func_2021-09-04_05-39-30/rayopt_func_b6230_00000_0_long_sma=157,short_sma=43,trailing_stop_order_pct=0.052306_2021-09-04_05-39-30/error.txt</td></tr>\n",
       "<tr><td>rayopt_func_b6230_00001</td><td style=\"text-align: right;\">           1</td><td>/Users/moussadiakite/ray_results/rayopt_func_2021-09-04_05-39-30/rayopt_func_b6230_00001_1_long_sma=149,short_sma=27,trailing_stop_order_pct=0.029143_2021-09-04_05-39-30/error.txt</td></tr>\n",
       "<tr><td>rayopt_func_b6230_00002</td><td style=\"text-align: right;\">           1</td><td>/Users/moussadiakite/ray_results/rayopt_func_2021-09-04_05-39-30/rayopt_func_b6230_00002_2_long_sma=178,short_sma=39,trailing_stop_order_pct=0.18655_2021-09-04_05-39-30/error.txt </td></tr>\n",
       "<tr><td>rayopt_func_b6230_00003</td><td style=\"text-align: right;\">           1</td><td>/Users/moussadiakite/ray_results/rayopt_func_2021-09-04_05-39-30/rayopt_func_b6230_00003_3_long_sma=158,short_sma=50,trailing_stop_order_pct=0.15604_2021-09-04_05-39-30/error.txt </td></tr>\n",
       "<tr><td>rayopt_func_b6230_00004</td><td style=\"text-align: right;\">           1</td><td>/Users/moussadiakite/ray_results/rayopt_func_2021-09-04_05-39-30/rayopt_func_b6230_00004_4_long_sma=178,short_sma=54,trailing_stop_order_pct=0.14142_2021-09-04_05-39-30/error.txt </td></tr>\n",
       "<tr><td>rayopt_func_b6230_00005</td><td style=\"text-align: right;\">           1</td><td>/Users/moussadiakite/ray_results/rayopt_func_2021-09-04_05-39-30/rayopt_func_b6230_00005_5_long_sma=135,short_sma=48,trailing_stop_order_pct=0.035819_2021-09-04_05-39-39/error.txt</td></tr>\n",
       "<tr><td>rayopt_func_b6230_00006</td><td style=\"text-align: right;\">           1</td><td>/Users/moussadiakite/ray_results/rayopt_func_2021-09-04_05-39-30/rayopt_func_b6230_00006_6_long_sma=119,short_sma=13,trailing_stop_order_pct=0.19852_2021-09-04_05-39-39/error.txt </td></tr>\n",
       "<tr><td>rayopt_func_b6230_00007</td><td style=\"text-align: right;\">           1</td><td>/Users/moussadiakite/ray_results/rayopt_func_2021-09-04_05-39-30/rayopt_func_b6230_00007_7_long_sma=167,short_sma=43,trailing_stop_order_pct=0.14659_2021-09-04_05-39-39/error.txt </td></tr>\n",
       "<tr><td>rayopt_func_b6230_00008</td><td style=\"text-align: right;\">           1</td><td>/Users/moussadiakite/ray_results/rayopt_func_2021-09-04_05-39-30/rayopt_func_b6230_00008_8_long_sma=192,short_sma=43,trailing_stop_order_pct=0.13429_2021-09-04_05-39-40/error.txt </td></tr>\n",
       "</tbody>\n",
       "</table><br>"
      ],
      "text/plain": [
       "<IPython.core.display.HTML object>"
      ]
     },
     "metadata": {},
     "output_type": "display_data"
    },
    {
     "name": "stderr",
     "output_type": "stream",
     "text": [
      "2021-09-04 05:40:03,126\tERROR trial_runner.py:773 -- Trial rayopt_func_b6230_00010: Error processing event.\n",
      "Traceback (most recent call last):\n",
      "  File \"/Users/moussadiakite/Google_Drive/Projects/MInvest/Trazy/trazy_analysis/env/lib/python3.6/site-packages/ray/tune/trial_runner.py\", line 739, in _process_trial\n",
      "    results = self.trial_executor.fetch_result(trial)\n",
      "  File \"/Users/moussadiakite/Google_Drive/Projects/MInvest/Trazy/trazy_analysis/env/lib/python3.6/site-packages/ray/tune/ray_trial_executor.py\", line 746, in fetch_result\n",
      "    result = ray.get(trial_future[0], timeout=DEFAULT_GET_TIMEOUT)\n",
      "  File \"/Users/moussadiakite/Google_Drive/Projects/MInvest/Trazy/trazy_analysis/env/lib/python3.6/site-packages/ray/_private/client_mode_hook.py\", line 82, in wrapper\n",
      "    return func(*args, **kwargs)\n",
      "  File \"/Users/moussadiakite/Google_Drive/Projects/MInvest/Trazy/trazy_analysis/env/lib/python3.6/site-packages/ray/worker.py\", line 1623, in get\n",
      "    raise value\n",
      "ray.exceptions.RayActorError: The actor died because of an error raised in its creation task, \u001b[36mray::ImplicitFunc.__init__()\u001b[39m (pid=93743, ip=192.168.43.189)\n",
      "RuntimeError: The actor with name ImplicitFunc failed to be imported, and so cannot execute this method.\n",
      "2021-09-04 05:40:03,159\tERROR trial_runner.py:773 -- Trial rayopt_func_b6230_00009: Error processing event.\n",
      "Traceback (most recent call last):\n",
      "  File \"/Users/moussadiakite/Google_Drive/Projects/MInvest/Trazy/trazy_analysis/env/lib/python3.6/site-packages/ray/tune/trial_runner.py\", line 739, in _process_trial\n",
      "    results = self.trial_executor.fetch_result(trial)\n",
      "  File \"/Users/moussadiakite/Google_Drive/Projects/MInvest/Trazy/trazy_analysis/env/lib/python3.6/site-packages/ray/tune/ray_trial_executor.py\", line 746, in fetch_result\n",
      "    result = ray.get(trial_future[0], timeout=DEFAULT_GET_TIMEOUT)\n",
      "  File \"/Users/moussadiakite/Google_Drive/Projects/MInvest/Trazy/trazy_analysis/env/lib/python3.6/site-packages/ray/_private/client_mode_hook.py\", line 82, in wrapper\n",
      "    return func(*args, **kwargs)\n",
      "  File \"/Users/moussadiakite/Google_Drive/Projects/MInvest/Trazy/trazy_analysis/env/lib/python3.6/site-packages/ray/worker.py\", line 1623, in get\n",
      "    raise value\n",
      "ray.exceptions.RayActorError: The actor died because of an error raised in its creation task, \u001b[36mray::ImplicitFunc.__init__()\u001b[39m (pid=93742, ip=192.168.43.189)\n",
      "RuntimeError: The actor with name ImplicitFunc failed to be imported, and so cannot execute this method.\n",
      "\u001b[2m\u001b[36m(pid=93742)\u001b[0m 2021-09-04 05:40:03,066\tERROR worker.py:428 -- Exception raised in creation task: The actor died because of an error raised in its creation task, \u001b[36mray::ImplicitFunc.__init__()\u001b[39m (pid=93742, ip=192.168.43.189)\n",
      "\u001b[2m\u001b[36m(pid=93742)\u001b[0m RuntimeError: The actor with name ImplicitFunc failed to be imported, and so cannot execute this method.\n",
      "\u001b[2m\u001b[36m(pid=93744)\u001b[0m 2021-09-04 05:40:03,067\tERROR worker.py:428 -- Exception raised in creation task: The actor died because of an error raised in its creation task, \u001b[36mray::ImplicitFunc.__init__()\u001b[39m (pid=93744, ip=192.168.43.189)\n",
      "\u001b[2m\u001b[36m(pid=93744)\u001b[0m RuntimeError: The actor with name ImplicitFunc failed to be imported, and so cannot execute this method.\n",
      "2021-09-04 05:40:03,298\tERROR trial_runner.py:773 -- Trial rayopt_func_b6230_00011: Error processing event.\n",
      "Traceback (most recent call last):\n",
      "  File \"/Users/moussadiakite/Google_Drive/Projects/MInvest/Trazy/trazy_analysis/env/lib/python3.6/site-packages/ray/tune/trial_runner.py\", line 739, in _process_trial\n",
      "    results = self.trial_executor.fetch_result(trial)\n",
      "  File \"/Users/moussadiakite/Google_Drive/Projects/MInvest/Trazy/trazy_analysis/env/lib/python3.6/site-packages/ray/tune/ray_trial_executor.py\", line 746, in fetch_result\n",
      "    result = ray.get(trial_future[0], timeout=DEFAULT_GET_TIMEOUT)\n",
      "  File \"/Users/moussadiakite/Google_Drive/Projects/MInvest/Trazy/trazy_analysis/env/lib/python3.6/site-packages/ray/_private/client_mode_hook.py\", line 82, in wrapper\n",
      "    return func(*args, **kwargs)\n",
      "  File \"/Users/moussadiakite/Google_Drive/Projects/MInvest/Trazy/trazy_analysis/env/lib/python3.6/site-packages/ray/worker.py\", line 1623, in get\n",
      "    raise value\n",
      "ray.exceptions.RayActorError: The actor died because of an error raised in its creation task, \u001b[36mray::ImplicitFunc.__init__()\u001b[39m (pid=93744, ip=192.168.43.189)\n",
      "RuntimeError: The actor with name ImplicitFunc failed to be imported, and so cannot execute this method.\n"
     ]
    },
    {
     "name": "stdout",
     "output_type": "stream",
     "text": [
      "Result for rayopt_func_b6230_00010:\n",
      "  {}\n",
      "  \n",
      "Result for rayopt_func_b6230_00009:\n",
      "  {}\n",
      "  \n",
      "Result for rayopt_func_b6230_00011:\n",
      "  {}\n",
      "  \n"
     ]
    },
    {
     "name": "stderr",
     "output_type": "stream",
     "text": [
      "2021-09-04 05:40:13,851\tWARNING worker.py:1215 -- Failed to unpickle actor class 'ImplicitFunc' for actor ID 5bfcbcc9a176285611902ca901000000. Traceback:\n",
      "Traceback (most recent call last):\n",
      "  File \"/Users/moussadiakite/Google_Drive/Projects/MInvest/Trazy/trazy_analysis/env/lib/python3.6/site-packages/ray/_private/function_manager.py\", line 503, in _load_actor_class_from_gcs\n",
      "    actor_class = pickle.loads(pickled_class)\n",
      "AttributeError: Can't get attribute 'rayopt_func' on <module 'trazy_analysis.optimization.optimizer' from '/Users/moussadiakite/Google_Drive/Projects/MInvest/Trazy/trazy_analysis/optimization/optimizer.py'>\n",
      "\n",
      "2021-09-04 05:40:13,860\tERROR trial_runner.py:773 -- Trial rayopt_func_b6230_00012: Error processing event.\n",
      "Traceback (most recent call last):\n",
      "  File \"/Users/moussadiakite/Google_Drive/Projects/MInvest/Trazy/trazy_analysis/env/lib/python3.6/site-packages/ray/tune/trial_runner.py\", line 739, in _process_trial\n",
      "    results = self.trial_executor.fetch_result(trial)\n",
      "  File \"/Users/moussadiakite/Google_Drive/Projects/MInvest/Trazy/trazy_analysis/env/lib/python3.6/site-packages/ray/tune/ray_trial_executor.py\", line 746, in fetch_result\n",
      "    result = ray.get(trial_future[0], timeout=DEFAULT_GET_TIMEOUT)\n",
      "  File \"/Users/moussadiakite/Google_Drive/Projects/MInvest/Trazy/trazy_analysis/env/lib/python3.6/site-packages/ray/_private/client_mode_hook.py\", line 82, in wrapper\n",
      "    return func(*args, **kwargs)\n",
      "  File \"/Users/moussadiakite/Google_Drive/Projects/MInvest/Trazy/trazy_analysis/env/lib/python3.6/site-packages/ray/worker.py\", line 1623, in get\n",
      "    raise value\n",
      "ray.exceptions.RayActorError: The actor died because of an error raised in its creation task, \u001b[36mray::ImplicitFunc.__init__()\u001b[39m (pid=93768, ip=192.168.43.189)\n",
      "RuntimeError: The actor with name ImplicitFunc failed to be imported, and so cannot execute this method.\n"
     ]
    },
    {
     "name": "stdout",
     "output_type": "stream",
     "text": [
      "Result for rayopt_func_b6230_00012:\n",
      "  {}\n",
      "  \n"
     ]
    },
    {
     "data": {
      "text/html": [
       "== Status ==<br>Memory usage on this node: 4.4/8.0 GiB<br>Using FIFO scheduling algorithm.<br>Resources requested: 3.0/4 CPUs, 0/0 GPUs, 0.0/2.28 GiB heap, 0.0/1.14 GiB objects<br>Result logdir: /Users/moussadiakite/ray_results/rayopt_func_2021-09-04_05-39-30<br>Number of trials: 16/16 (13 ERROR, 3 RUNNING)<br><table>\n",
       "<thead>\n",
       "<tr><th>Trial name             </th><th>status  </th><th>loc  </th><th style=\"text-align: right;\">  long_sma</th><th style=\"text-align: right;\">  short_sma</th><th style=\"text-align: right;\">  trailing_stop_order_pct</th></tr>\n",
       "</thead>\n",
       "<tbody>\n",
       "<tr><td>rayopt_func_b6230_00013</td><td>RUNNING </td><td>     </td><td style=\"text-align: right;\">       177</td><td style=\"text-align: right;\">         33</td><td style=\"text-align: right;\">               0.0655429 </td></tr>\n",
       "<tr><td>rayopt_func_b6230_00014</td><td>RUNNING </td><td>     </td><td style=\"text-align: right;\">       138</td><td style=\"text-align: right;\">         72</td><td style=\"text-align: right;\">               0.00213958</td></tr>\n",
       "<tr><td>rayopt_func_b6230_00015</td><td>RUNNING </td><td>     </td><td style=\"text-align: right;\">       186</td><td style=\"text-align: right;\">         28</td><td style=\"text-align: right;\">               0.0927868 </td></tr>\n",
       "<tr><td>rayopt_func_b6230_00000</td><td>ERROR   </td><td>     </td><td style=\"text-align: right;\">       157</td><td style=\"text-align: right;\">         43</td><td style=\"text-align: right;\">               0.0523056 </td></tr>\n",
       "<tr><td>rayopt_func_b6230_00001</td><td>ERROR   </td><td>     </td><td style=\"text-align: right;\">       149</td><td style=\"text-align: right;\">         27</td><td style=\"text-align: right;\">               0.0291431 </td></tr>\n",
       "<tr><td>rayopt_func_b6230_00002</td><td>ERROR   </td><td>     </td><td style=\"text-align: right;\">       178</td><td style=\"text-align: right;\">         39</td><td style=\"text-align: right;\">               0.186552  </td></tr>\n",
       "<tr><td>rayopt_func_b6230_00003</td><td>ERROR   </td><td>     </td><td style=\"text-align: right;\">       158</td><td style=\"text-align: right;\">         50</td><td style=\"text-align: right;\">               0.156041  </td></tr>\n",
       "<tr><td>rayopt_func_b6230_00004</td><td>ERROR   </td><td>     </td><td style=\"text-align: right;\">       178</td><td style=\"text-align: right;\">         54</td><td style=\"text-align: right;\">               0.141422  </td></tr>\n",
       "<tr><td>rayopt_func_b6230_00005</td><td>ERROR   </td><td>     </td><td style=\"text-align: right;\">       135</td><td style=\"text-align: right;\">         48</td><td style=\"text-align: right;\">               0.0358195 </td></tr>\n",
       "<tr><td>rayopt_func_b6230_00006</td><td>ERROR   </td><td>     </td><td style=\"text-align: right;\">       119</td><td style=\"text-align: right;\">         13</td><td style=\"text-align: right;\">               0.198517  </td></tr>\n",
       "<tr><td>rayopt_func_b6230_00007</td><td>ERROR   </td><td>     </td><td style=\"text-align: right;\">       167</td><td style=\"text-align: right;\">         43</td><td style=\"text-align: right;\">               0.146585  </td></tr>\n",
       "<tr><td>rayopt_func_b6230_00008</td><td>ERROR   </td><td>     </td><td style=\"text-align: right;\">       192</td><td style=\"text-align: right;\">         43</td><td style=\"text-align: right;\">               0.134291  </td></tr>\n",
       "<tr><td>rayopt_func_b6230_00009</td><td>ERROR   </td><td>     </td><td style=\"text-align: right;\">       106</td><td style=\"text-align: right;\">         62</td><td style=\"text-align: right;\">               0.184648  </td></tr>\n",
       "<tr><td>rayopt_func_b6230_00010</td><td>ERROR   </td><td>     </td><td style=\"text-align: right;\">       166</td><td style=\"text-align: right;\">         35</td><td style=\"text-align: right;\">               0.0847983 </td></tr>\n",
       "<tr><td>rayopt_func_b6230_00011</td><td>ERROR   </td><td>     </td><td style=\"text-align: right;\">       126</td><td style=\"text-align: right;\">         31</td><td style=\"text-align: right;\">               0.144922  </td></tr>\n",
       "<tr><td>rayopt_func_b6230_00012</td><td>ERROR   </td><td>     </td><td style=\"text-align: right;\">       148</td><td style=\"text-align: right;\">         48</td><td style=\"text-align: right;\">               0.0708674 </td></tr>\n",
       "</tbody>\n",
       "</table><br>Number of errored trials: 13<br><table>\n",
       "<thead>\n",
       "<tr><th>Trial name             </th><th style=\"text-align: right;\">  # failures</th><th>error file                                                                                                                                                                          </th></tr>\n",
       "</thead>\n",
       "<tbody>\n",
       "<tr><td>rayopt_func_b6230_00000</td><td style=\"text-align: right;\">           1</td><td>/Users/moussadiakite/ray_results/rayopt_func_2021-09-04_05-39-30/rayopt_func_b6230_00000_0_long_sma=157,short_sma=43,trailing_stop_order_pct=0.052306_2021-09-04_05-39-30/error.txt </td></tr>\n",
       "<tr><td>rayopt_func_b6230_00001</td><td style=\"text-align: right;\">           1</td><td>/Users/moussadiakite/ray_results/rayopt_func_2021-09-04_05-39-30/rayopt_func_b6230_00001_1_long_sma=149,short_sma=27,trailing_stop_order_pct=0.029143_2021-09-04_05-39-30/error.txt </td></tr>\n",
       "<tr><td>rayopt_func_b6230_00002</td><td style=\"text-align: right;\">           1</td><td>/Users/moussadiakite/ray_results/rayopt_func_2021-09-04_05-39-30/rayopt_func_b6230_00002_2_long_sma=178,short_sma=39,trailing_stop_order_pct=0.18655_2021-09-04_05-39-30/error.txt  </td></tr>\n",
       "<tr><td>rayopt_func_b6230_00003</td><td style=\"text-align: right;\">           1</td><td>/Users/moussadiakite/ray_results/rayopt_func_2021-09-04_05-39-30/rayopt_func_b6230_00003_3_long_sma=158,short_sma=50,trailing_stop_order_pct=0.15604_2021-09-04_05-39-30/error.txt  </td></tr>\n",
       "<tr><td>rayopt_func_b6230_00004</td><td style=\"text-align: right;\">           1</td><td>/Users/moussadiakite/ray_results/rayopt_func_2021-09-04_05-39-30/rayopt_func_b6230_00004_4_long_sma=178,short_sma=54,trailing_stop_order_pct=0.14142_2021-09-04_05-39-30/error.txt  </td></tr>\n",
       "<tr><td>rayopt_func_b6230_00005</td><td style=\"text-align: right;\">           1</td><td>/Users/moussadiakite/ray_results/rayopt_func_2021-09-04_05-39-30/rayopt_func_b6230_00005_5_long_sma=135,short_sma=48,trailing_stop_order_pct=0.035819_2021-09-04_05-39-39/error.txt </td></tr>\n",
       "<tr><td>rayopt_func_b6230_00006</td><td style=\"text-align: right;\">           1</td><td>/Users/moussadiakite/ray_results/rayopt_func_2021-09-04_05-39-30/rayopt_func_b6230_00006_6_long_sma=119,short_sma=13,trailing_stop_order_pct=0.19852_2021-09-04_05-39-39/error.txt  </td></tr>\n",
       "<tr><td>rayopt_func_b6230_00007</td><td style=\"text-align: right;\">           1</td><td>/Users/moussadiakite/ray_results/rayopt_func_2021-09-04_05-39-30/rayopt_func_b6230_00007_7_long_sma=167,short_sma=43,trailing_stop_order_pct=0.14659_2021-09-04_05-39-39/error.txt  </td></tr>\n",
       "<tr><td>rayopt_func_b6230_00008</td><td style=\"text-align: right;\">           1</td><td>/Users/moussadiakite/ray_results/rayopt_func_2021-09-04_05-39-30/rayopt_func_b6230_00008_8_long_sma=192,short_sma=43,trailing_stop_order_pct=0.13429_2021-09-04_05-39-40/error.txt  </td></tr>\n",
       "<tr><td>rayopt_func_b6230_00009</td><td style=\"text-align: right;\">           1</td><td>/Users/moussadiakite/ray_results/rayopt_func_2021-09-04_05-39-30/rayopt_func_b6230_00009_9_long_sma=106,short_sma=62,trailing_stop_order_pct=0.18465_2021-09-04_05-39-52/error.txt  </td></tr>\n",
       "<tr><td>rayopt_func_b6230_00010</td><td style=\"text-align: right;\">           1</td><td>/Users/moussadiakite/ray_results/rayopt_func_2021-09-04_05-39-30/rayopt_func_b6230_00010_10_long_sma=166,short_sma=35,trailing_stop_order_pct=0.084798_2021-09-04_05-39-53/error.txt</td></tr>\n",
       "<tr><td>rayopt_func_b6230_00011</td><td style=\"text-align: right;\">           1</td><td>/Users/moussadiakite/ray_results/rayopt_func_2021-09-04_05-39-30/rayopt_func_b6230_00011_11_long_sma=126,short_sma=31,trailing_stop_order_pct=0.14492_2021-09-04_05-39-53/error.txt </td></tr>\n",
       "<tr><td>rayopt_func_b6230_00012</td><td style=\"text-align: right;\">           1</td><td>/Users/moussadiakite/ray_results/rayopt_func_2021-09-04_05-39-30/rayopt_func_b6230_00012_12_long_sma=148,short_sma=48,trailing_stop_order_pct=0.070867_2021-09-04_05-39-53/error.txt</td></tr>\n",
       "</tbody>\n",
       "</table><br>"
      ],
      "text/plain": [
       "<IPython.core.display.HTML object>"
      ]
     },
     "metadata": {},
     "output_type": "display_data"
    },
    {
     "name": "stderr",
     "output_type": "stream",
     "text": [
      "\u001b[2m\u001b[36m(pid=93768)\u001b[0m 2021-09-04 05:40:13,844\tERROR function_manager.py:505 -- Failed to load actor class ImplicitFunc.\n",
      "\u001b[2m\u001b[36m(pid=93768)\u001b[0m Traceback (most recent call last):\n",
      "\u001b[2m\u001b[36m(pid=93768)\u001b[0m   File \"/Users/moussadiakite/Google_Drive/Projects/MInvest/Trazy/trazy_analysis/env/lib/python3.6/site-packages/ray/_private/function_manager.py\", line 503, in _load_actor_class_from_gcs\n",
      "\u001b[2m\u001b[36m(pid=93768)\u001b[0m     actor_class = pickle.loads(pickled_class)\n",
      "\u001b[2m\u001b[36m(pid=93768)\u001b[0m AttributeError: Can't get attribute 'rayopt_func' on <module 'trazy_analysis.optimization.optimizer' from '/Users/moussadiakite/Google_Drive/Projects/MInvest/Trazy/trazy_analysis/optimization/optimizer.py'>\n",
      "\u001b[2m\u001b[36m(pid=93768)\u001b[0m 2021-09-04 05:40:13,851\tERROR worker.py:428 -- Exception raised in creation task: The actor died because of an error raised in its creation task, \u001b[36mray::ImplicitFunc.__init__()\u001b[39m (pid=93768, ip=192.168.43.189)\n",
      "\u001b[2m\u001b[36m(pid=93768)\u001b[0m RuntimeError: The actor with name ImplicitFunc failed to be imported, and so cannot execute this method.\n",
      "2021-09-04 05:40:13,948\tWARNING worker.py:1215 -- Failed to unpickle actor class 'ImplicitFunc' for actor ID 55b4c92a66eff1ff142cbdad01000000. Traceback:\n",
      "Traceback (most recent call last):\n",
      "  File \"/Users/moussadiakite/Google_Drive/Projects/MInvest/Trazy/trazy_analysis/env/lib/python3.6/site-packages/ray/_private/function_manager.py\", line 503, in _load_actor_class_from_gcs\n",
      "    actor_class = pickle.loads(pickled_class)\n",
      "AttributeError: Can't get attribute 'rayopt_func' on <module 'trazy_analysis.optimization.optimizer' from '/Users/moussadiakite/Google_Drive/Projects/MInvest/Trazy/trazy_analysis/optimization/optimizer.py'>\n",
      "\n",
      "2021-09-04 05:40:13,973\tERROR trial_runner.py:773 -- Trial rayopt_func_b6230_00013: Error processing event.\n",
      "Traceback (most recent call last):\n",
      "  File \"/Users/moussadiakite/Google_Drive/Projects/MInvest/Trazy/trazy_analysis/env/lib/python3.6/site-packages/ray/tune/trial_runner.py\", line 739, in _process_trial\n",
      "    results = self.trial_executor.fetch_result(trial)\n",
      "  File \"/Users/moussadiakite/Google_Drive/Projects/MInvest/Trazy/trazy_analysis/env/lib/python3.6/site-packages/ray/tune/ray_trial_executor.py\", line 746, in fetch_result\n",
      "    result = ray.get(trial_future[0], timeout=DEFAULT_GET_TIMEOUT)\n",
      "  File \"/Users/moussadiakite/Google_Drive/Projects/MInvest/Trazy/trazy_analysis/env/lib/python3.6/site-packages/ray/_private/client_mode_hook.py\", line 82, in wrapper\n",
      "    return func(*args, **kwargs)\n",
      "  File \"/Users/moussadiakite/Google_Drive/Projects/MInvest/Trazy/trazy_analysis/env/lib/python3.6/site-packages/ray/worker.py\", line 1623, in get\n",
      "    raise value\n",
      "ray.exceptions.RayActorError: The actor died because of an error raised in its creation task, \u001b[36mray::ImplicitFunc.__init__()\u001b[39m (pid=93769, ip=192.168.43.189)\n",
      "RuntimeError: The actor with name ImplicitFunc failed to be imported, and so cannot execute this method.\n",
      "2021-09-04 05:40:13,994\tWARNING worker.py:1215 -- Failed to unpickle actor class 'ImplicitFunc' for actor ID 111306ae4c0a5d419598f43701000000. Traceback:\n",
      "Traceback (most recent call last):\n",
      "  File \"/Users/moussadiakite/Google_Drive/Projects/MInvest/Trazy/trazy_analysis/env/lib/python3.6/site-packages/ray/_private/function_manager.py\", line 503, in _load_actor_class_from_gcs\n",
      "    actor_class = pickle.loads(pickled_class)\n",
      "AttributeError: Can't get attribute 'rayopt_func' on <module 'trazy_analysis.optimization.optimizer' from '/Users/moussadiakite/Google_Drive/Projects/MInvest/Trazy/trazy_analysis/optimization/optimizer.py'>\n",
      "\n",
      "2021-09-04 05:40:13,996\tWARNING worker.py:1215 -- Failed to unpickle actor class 'ImplicitFunc' for actor ID 6b9df2c4c26d02fe17bd4a7401000000. Traceback:\n",
      "Traceback (most recent call last):\n",
      "  File \"/Users/moussadiakite/Google_Drive/Projects/MInvest/Trazy/trazy_analysis/env/lib/python3.6/site-packages/ray/_private/function_manager.py\", line 503, in _load_actor_class_from_gcs\n",
      "    actor_class = pickle.loads(pickled_class)\n",
      "AttributeError: Can't get attribute 'rayopt_func' on <module 'trazy_analysis.optimization.optimizer' from '/Users/moussadiakite/Google_Drive/Projects/MInvest/Trazy/trazy_analysis/optimization/optimizer.py'>\n",
      "\n",
      "2021-09-04 05:40:14,009\tERROR trial_runner.py:773 -- Trial rayopt_func_b6230_00014: Error processing event.\n",
      "Traceback (most recent call last):\n",
      "  File \"/Users/moussadiakite/Google_Drive/Projects/MInvest/Trazy/trazy_analysis/env/lib/python3.6/site-packages/ray/tune/trial_runner.py\", line 739, in _process_trial\n",
      "    results = self.trial_executor.fetch_result(trial)\n",
      "  File \"/Users/moussadiakite/Google_Drive/Projects/MInvest/Trazy/trazy_analysis/env/lib/python3.6/site-packages/ray/tune/ray_trial_executor.py\", line 746, in fetch_result\n",
      "    result = ray.get(trial_future[0], timeout=DEFAULT_GET_TIMEOUT)\n",
      "  File \"/Users/moussadiakite/Google_Drive/Projects/MInvest/Trazy/trazy_analysis/env/lib/python3.6/site-packages/ray/_private/client_mode_hook.py\", line 82, in wrapper\n",
      "    return func(*args, **kwargs)\n",
      "  File \"/Users/moussadiakite/Google_Drive/Projects/MInvest/Trazy/trazy_analysis/env/lib/python3.6/site-packages/ray/worker.py\", line 1623, in get\n",
      "    raise value\n",
      "ray.exceptions.RayActorError: The actor died because of an error raised in its creation task, \u001b[36mray::ImplicitFunc.__init__()\u001b[39m (pid=93770, ip=192.168.43.189)\n",
      "RuntimeError: The actor with name ImplicitFunc failed to be imported, and so cannot execute this method.\n",
      "\u001b[2m\u001b[36m(pid=93769)\u001b[0m 2021-09-04 05:40:13,939\tERROR function_manager.py:505 -- Failed to load actor class ImplicitFunc.\n",
      "\u001b[2m\u001b[36m(pid=93769)\u001b[0m Traceback (most recent call last):\n",
      "\u001b[2m\u001b[36m(pid=93769)\u001b[0m   File \"/Users/moussadiakite/Google_Drive/Projects/MInvest/Trazy/trazy_analysis/env/lib/python3.6/site-packages/ray/_private/function_manager.py\", line 503, in _load_actor_class_from_gcs\n",
      "\u001b[2m\u001b[36m(pid=93769)\u001b[0m     actor_class = pickle.loads(pickled_class)\n",
      "\u001b[2m\u001b[36m(pid=93769)\u001b[0m AttributeError: Can't get attribute 'rayopt_func' on <module 'trazy_analysis.optimization.optimizer' from '/Users/moussadiakite/Google_Drive/Projects/MInvest/Trazy/trazy_analysis/optimization/optimizer.py'>\n",
      "\u001b[2m\u001b[36m(pid=93769)\u001b[0m 2021-09-04 05:40:13,948\tERROR worker.py:428 -- Exception raised in creation task: The actor died because of an error raised in its creation task, \u001b[36mray::ImplicitFunc.__init__()\u001b[39m (pid=93769, ip=192.168.43.189)\n",
      "\u001b[2m\u001b[36m(pid=93769)\u001b[0m RuntimeError: The actor with name ImplicitFunc failed to be imported, and so cannot execute this method.\n",
      "\u001b[2m\u001b[36m(pid=93770)\u001b[0m 2021-09-04 05:40:13,982\tERROR function_manager.py:505 -- Failed to load actor class ImplicitFunc.\n",
      "\u001b[2m\u001b[36m(pid=93770)\u001b[0m Traceback (most recent call last):\n",
      "\u001b[2m\u001b[36m(pid=93770)\u001b[0m   File \"/Users/moussadiakite/Google_Drive/Projects/MInvest/Trazy/trazy_analysis/env/lib/python3.6/site-packages/ray/_private/function_manager.py\", line 503, in _load_actor_class_from_gcs\n",
      "\u001b[2m\u001b[36m(pid=93770)\u001b[0m     actor_class = pickle.loads(pickled_class)\n",
      "\u001b[2m\u001b[36m(pid=93770)\u001b[0m AttributeError: Can't get attribute 'rayopt_func' on <module 'trazy_analysis.optimization.optimizer' from '/Users/moussadiakite/Google_Drive/Projects/MInvest/Trazy/trazy_analysis/optimization/optimizer.py'>\n",
      "\u001b[2m\u001b[36m(pid=93770)\u001b[0m 2021-09-04 05:40:13,994\tERROR worker.py:428 -- Exception raised in creation task: The actor died because of an error raised in its creation task, \u001b[36mray::ImplicitFunc.__init__()\u001b[39m (pid=93770, ip=192.168.43.189)\n",
      "\u001b[2m\u001b[36m(pid=93770)\u001b[0m RuntimeError: The actor with name ImplicitFunc failed to be imported, and so cannot execute this method.\n",
      "\u001b[2m\u001b[36m(pid=93771)\u001b[0m 2021-09-04 05:40:13,987\tERROR function_manager.py:505 -- Failed to load actor class ImplicitFunc.\n",
      "\u001b[2m\u001b[36m(pid=93771)\u001b[0m Traceback (most recent call last):\n",
      "\u001b[2m\u001b[36m(pid=93771)\u001b[0m   File \"/Users/moussadiakite/Google_Drive/Projects/MInvest/Trazy/trazy_analysis/env/lib/python3.6/site-packages/ray/_private/function_manager.py\", line 503, in _load_actor_class_from_gcs\n",
      "\u001b[2m\u001b[36m(pid=93771)\u001b[0m     actor_class = pickle.loads(pickled_class)\n",
      "\u001b[2m\u001b[36m(pid=93771)\u001b[0m AttributeError: Can't get attribute 'rayopt_func' on <module 'trazy_analysis.optimization.optimizer' from '/Users/moussadiakite/Google_Drive/Projects/MInvest/Trazy/trazy_analysis/optimization/optimizer.py'>\n",
      "\u001b[2m\u001b[36m(pid=93771)\u001b[0m 2021-09-04 05:40:13,997\tERROR worker.py:428 -- Exception raised in creation task: The actor died because of an error raised in its creation task, \u001b[36mray::ImplicitFunc.__init__()\u001b[39m (pid=93771, ip=192.168.43.189)\n",
      "\u001b[2m\u001b[36m(pid=93771)\u001b[0m RuntimeError: The actor with name ImplicitFunc failed to be imported, and so cannot execute this method.\n",
      "2021-09-04 05:40:14,029\tERROR trial_runner.py:773 -- Trial rayopt_func_b6230_00015: Error processing event.\n",
      "Traceback (most recent call last):\n",
      "  File \"/Users/moussadiakite/Google_Drive/Projects/MInvest/Trazy/trazy_analysis/env/lib/python3.6/site-packages/ray/tune/trial_runner.py\", line 739, in _process_trial\n",
      "    results = self.trial_executor.fetch_result(trial)\n",
      "  File \"/Users/moussadiakite/Google_Drive/Projects/MInvest/Trazy/trazy_analysis/env/lib/python3.6/site-packages/ray/tune/ray_trial_executor.py\", line 746, in fetch_result\n",
      "    result = ray.get(trial_future[0], timeout=DEFAULT_GET_TIMEOUT)\n",
      "  File \"/Users/moussadiakite/Google_Drive/Projects/MInvest/Trazy/trazy_analysis/env/lib/python3.6/site-packages/ray/_private/client_mode_hook.py\", line 82, in wrapper\n",
      "    return func(*args, **kwargs)\n",
      "  File \"/Users/moussadiakite/Google_Drive/Projects/MInvest/Trazy/trazy_analysis/env/lib/python3.6/site-packages/ray/worker.py\", line 1623, in get\n",
      "    raise value\n",
      "ray.exceptions.RayActorError: The actor died because of an error raised in its creation task, \u001b[36mray::ImplicitFunc.__init__()\u001b[39m (pid=93771, ip=192.168.43.189)\n",
      "RuntimeError: The actor with name ImplicitFunc failed to be imported, and so cannot execute this method.\n"
     ]
    },
    {
     "name": "stdout",
     "output_type": "stream",
     "text": [
      "Result for rayopt_func_b6230_00013:\n",
      "  {}\n",
      "  \n",
      "Result for rayopt_func_b6230_00014:\n",
      "  {}\n",
      "  \n",
      "Result for rayopt_func_b6230_00015:\n",
      "  {}\n",
      "  \n"
     ]
    },
    {
     "data": {
      "text/html": [
       "== Status ==<br>Memory usage on this node: 4.4/8.0 GiB<br>Using FIFO scheduling algorithm.<br>Resources requested: 0/4 CPUs, 0/0 GPUs, 0.0/2.28 GiB heap, 0.0/1.14 GiB objects<br>Result logdir: /Users/moussadiakite/ray_results/rayopt_func_2021-09-04_05-39-30<br>Number of trials: 16/16 (16 ERROR)<br><table>\n",
       "<thead>\n",
       "<tr><th>Trial name             </th><th>status  </th><th>loc  </th><th style=\"text-align: right;\">  long_sma</th><th style=\"text-align: right;\">  short_sma</th><th style=\"text-align: right;\">  trailing_stop_order_pct</th></tr>\n",
       "</thead>\n",
       "<tbody>\n",
       "<tr><td>rayopt_func_b6230_00000</td><td>ERROR   </td><td>     </td><td style=\"text-align: right;\">       157</td><td style=\"text-align: right;\">         43</td><td style=\"text-align: right;\">               0.0523056 </td></tr>\n",
       "<tr><td>rayopt_func_b6230_00001</td><td>ERROR   </td><td>     </td><td style=\"text-align: right;\">       149</td><td style=\"text-align: right;\">         27</td><td style=\"text-align: right;\">               0.0291431 </td></tr>\n",
       "<tr><td>rayopt_func_b6230_00002</td><td>ERROR   </td><td>     </td><td style=\"text-align: right;\">       178</td><td style=\"text-align: right;\">         39</td><td style=\"text-align: right;\">               0.186552  </td></tr>\n",
       "<tr><td>rayopt_func_b6230_00003</td><td>ERROR   </td><td>     </td><td style=\"text-align: right;\">       158</td><td style=\"text-align: right;\">         50</td><td style=\"text-align: right;\">               0.156041  </td></tr>\n",
       "<tr><td>rayopt_func_b6230_00004</td><td>ERROR   </td><td>     </td><td style=\"text-align: right;\">       178</td><td style=\"text-align: right;\">         54</td><td style=\"text-align: right;\">               0.141422  </td></tr>\n",
       "<tr><td>rayopt_func_b6230_00005</td><td>ERROR   </td><td>     </td><td style=\"text-align: right;\">       135</td><td style=\"text-align: right;\">         48</td><td style=\"text-align: right;\">               0.0358195 </td></tr>\n",
       "<tr><td>rayopt_func_b6230_00006</td><td>ERROR   </td><td>     </td><td style=\"text-align: right;\">       119</td><td style=\"text-align: right;\">         13</td><td style=\"text-align: right;\">               0.198517  </td></tr>\n",
       "<tr><td>rayopt_func_b6230_00007</td><td>ERROR   </td><td>     </td><td style=\"text-align: right;\">       167</td><td style=\"text-align: right;\">         43</td><td style=\"text-align: right;\">               0.146585  </td></tr>\n",
       "<tr><td>rayopt_func_b6230_00008</td><td>ERROR   </td><td>     </td><td style=\"text-align: right;\">       192</td><td style=\"text-align: right;\">         43</td><td style=\"text-align: right;\">               0.134291  </td></tr>\n",
       "<tr><td>rayopt_func_b6230_00009</td><td>ERROR   </td><td>     </td><td style=\"text-align: right;\">       106</td><td style=\"text-align: right;\">         62</td><td style=\"text-align: right;\">               0.184648  </td></tr>\n",
       "<tr><td>rayopt_func_b6230_00010</td><td>ERROR   </td><td>     </td><td style=\"text-align: right;\">       166</td><td style=\"text-align: right;\">         35</td><td style=\"text-align: right;\">               0.0847983 </td></tr>\n",
       "<tr><td>rayopt_func_b6230_00011</td><td>ERROR   </td><td>     </td><td style=\"text-align: right;\">       126</td><td style=\"text-align: right;\">         31</td><td style=\"text-align: right;\">               0.144922  </td></tr>\n",
       "<tr><td>rayopt_func_b6230_00012</td><td>ERROR   </td><td>     </td><td style=\"text-align: right;\">       148</td><td style=\"text-align: right;\">         48</td><td style=\"text-align: right;\">               0.0708674 </td></tr>\n",
       "<tr><td>rayopt_func_b6230_00013</td><td>ERROR   </td><td>     </td><td style=\"text-align: right;\">       177</td><td style=\"text-align: right;\">         33</td><td style=\"text-align: right;\">               0.0655429 </td></tr>\n",
       "<tr><td>rayopt_func_b6230_00014</td><td>ERROR   </td><td>     </td><td style=\"text-align: right;\">       138</td><td style=\"text-align: right;\">         72</td><td style=\"text-align: right;\">               0.00213958</td></tr>\n",
       "<tr><td>rayopt_func_b6230_00015</td><td>ERROR   </td><td>     </td><td style=\"text-align: right;\">       186</td><td style=\"text-align: right;\">         28</td><td style=\"text-align: right;\">               0.0927868 </td></tr>\n",
       "</tbody>\n",
       "</table><br>Number of errored trials: 16<br><table>\n",
       "<thead>\n",
       "<tr><th>Trial name             </th><th style=\"text-align: right;\">  # failures</th><th>error file                                                                                                                                                                           </th></tr>\n",
       "</thead>\n",
       "<tbody>\n",
       "<tr><td>rayopt_func_b6230_00000</td><td style=\"text-align: right;\">           1</td><td>/Users/moussadiakite/ray_results/rayopt_func_2021-09-04_05-39-30/rayopt_func_b6230_00000_0_long_sma=157,short_sma=43,trailing_stop_order_pct=0.052306_2021-09-04_05-39-30/error.txt  </td></tr>\n",
       "<tr><td>rayopt_func_b6230_00001</td><td style=\"text-align: right;\">           1</td><td>/Users/moussadiakite/ray_results/rayopt_func_2021-09-04_05-39-30/rayopt_func_b6230_00001_1_long_sma=149,short_sma=27,trailing_stop_order_pct=0.029143_2021-09-04_05-39-30/error.txt  </td></tr>\n",
       "<tr><td>rayopt_func_b6230_00002</td><td style=\"text-align: right;\">           1</td><td>/Users/moussadiakite/ray_results/rayopt_func_2021-09-04_05-39-30/rayopt_func_b6230_00002_2_long_sma=178,short_sma=39,trailing_stop_order_pct=0.18655_2021-09-04_05-39-30/error.txt   </td></tr>\n",
       "<tr><td>rayopt_func_b6230_00003</td><td style=\"text-align: right;\">           1</td><td>/Users/moussadiakite/ray_results/rayopt_func_2021-09-04_05-39-30/rayopt_func_b6230_00003_3_long_sma=158,short_sma=50,trailing_stop_order_pct=0.15604_2021-09-04_05-39-30/error.txt   </td></tr>\n",
       "<tr><td>rayopt_func_b6230_00004</td><td style=\"text-align: right;\">           1</td><td>/Users/moussadiakite/ray_results/rayopt_func_2021-09-04_05-39-30/rayopt_func_b6230_00004_4_long_sma=178,short_sma=54,trailing_stop_order_pct=0.14142_2021-09-04_05-39-30/error.txt   </td></tr>\n",
       "<tr><td>rayopt_func_b6230_00005</td><td style=\"text-align: right;\">           1</td><td>/Users/moussadiakite/ray_results/rayopt_func_2021-09-04_05-39-30/rayopt_func_b6230_00005_5_long_sma=135,short_sma=48,trailing_stop_order_pct=0.035819_2021-09-04_05-39-39/error.txt  </td></tr>\n",
       "<tr><td>rayopt_func_b6230_00006</td><td style=\"text-align: right;\">           1</td><td>/Users/moussadiakite/ray_results/rayopt_func_2021-09-04_05-39-30/rayopt_func_b6230_00006_6_long_sma=119,short_sma=13,trailing_stop_order_pct=0.19852_2021-09-04_05-39-39/error.txt   </td></tr>\n",
       "<tr><td>rayopt_func_b6230_00007</td><td style=\"text-align: right;\">           1</td><td>/Users/moussadiakite/ray_results/rayopt_func_2021-09-04_05-39-30/rayopt_func_b6230_00007_7_long_sma=167,short_sma=43,trailing_stop_order_pct=0.14659_2021-09-04_05-39-39/error.txt   </td></tr>\n",
       "<tr><td>rayopt_func_b6230_00008</td><td style=\"text-align: right;\">           1</td><td>/Users/moussadiakite/ray_results/rayopt_func_2021-09-04_05-39-30/rayopt_func_b6230_00008_8_long_sma=192,short_sma=43,trailing_stop_order_pct=0.13429_2021-09-04_05-39-40/error.txt   </td></tr>\n",
       "<tr><td>rayopt_func_b6230_00009</td><td style=\"text-align: right;\">           1</td><td>/Users/moussadiakite/ray_results/rayopt_func_2021-09-04_05-39-30/rayopt_func_b6230_00009_9_long_sma=106,short_sma=62,trailing_stop_order_pct=0.18465_2021-09-04_05-39-52/error.txt   </td></tr>\n",
       "<tr><td>rayopt_func_b6230_00010</td><td style=\"text-align: right;\">           1</td><td>/Users/moussadiakite/ray_results/rayopt_func_2021-09-04_05-39-30/rayopt_func_b6230_00010_10_long_sma=166,short_sma=35,trailing_stop_order_pct=0.084798_2021-09-04_05-39-53/error.txt </td></tr>\n",
       "<tr><td>rayopt_func_b6230_00011</td><td style=\"text-align: right;\">           1</td><td>/Users/moussadiakite/ray_results/rayopt_func_2021-09-04_05-39-30/rayopt_func_b6230_00011_11_long_sma=126,short_sma=31,trailing_stop_order_pct=0.14492_2021-09-04_05-39-53/error.txt  </td></tr>\n",
       "<tr><td>rayopt_func_b6230_00012</td><td style=\"text-align: right;\">           1</td><td>/Users/moussadiakite/ray_results/rayopt_func_2021-09-04_05-39-30/rayopt_func_b6230_00012_12_long_sma=148,short_sma=48,trailing_stop_order_pct=0.070867_2021-09-04_05-39-53/error.txt </td></tr>\n",
       "<tr><td>rayopt_func_b6230_00013</td><td style=\"text-align: right;\">           1</td><td>/Users/moussadiakite/ray_results/rayopt_func_2021-09-04_05-39-30/rayopt_func_b6230_00013_13_long_sma=177,short_sma=33,trailing_stop_order_pct=0.065543_2021-09-04_05-40-03/error.txt </td></tr>\n",
       "<tr><td>rayopt_func_b6230_00014</td><td style=\"text-align: right;\">           1</td><td>/Users/moussadiakite/ray_results/rayopt_func_2021-09-04_05-39-30/rayopt_func_b6230_00014_14_long_sma=138,short_sma=72,trailing_stop_order_pct=0.0021396_2021-09-04_05-40-03/error.txt</td></tr>\n",
       "<tr><td>rayopt_func_b6230_00015</td><td style=\"text-align: right;\">           1</td><td>/Users/moussadiakite/ray_results/rayopt_func_2021-09-04_05-39-30/rayopt_func_b6230_00015_15_long_sma=186,short_sma=28,trailing_stop_order_pct=0.092787_2021-09-04_05-40-03/error.txt </td></tr>\n",
       "</tbody>\n",
       "</table><br>"
      ],
      "text/plain": [
       "<IPython.core.display.HTML object>"
      ]
     },
     "metadata": {},
     "output_type": "display_data"
    },
    {
     "ename": "TuneError",
     "evalue": "('Trials did not complete', [rayopt_func_b6230_00000, rayopt_func_b6230_00001, rayopt_func_b6230_00002, rayopt_func_b6230_00003, rayopt_func_b6230_00004, rayopt_func_b6230_00005, rayopt_func_b6230_00006, rayopt_func_b6230_00007, rayopt_func_b6230_00008, rayopt_func_b6230_00009, rayopt_func_b6230_00010, rayopt_func_b6230_00011, rayopt_func_b6230_00012, rayopt_func_b6230_00013, rayopt_func_b6230_00014, rayopt_func_b6230_00015])",
     "output_type": "error",
     "traceback": [
      "\u001b[0;31m---------------------------------------------------------------------------\u001b[0m",
      "\u001b[0;31mTuneError\u001b[0m                                 Traceback (most recent call last)",
      "\u001b[0;32m<ipython-input-12-76f6da0d08a3>\u001b[0m in \u001b[0;36m<module>\u001b[0;34m\u001b[0m\n\u001b[1;32m     16\u001b[0m         },\n\u001b[1;32m     17\u001b[0m         \u001b[0mnb_iter\u001b[0m \u001b[0;34m=\u001b[0m \u001b[0;36m16\u001b[0m\u001b[0;34m,\u001b[0m\u001b[0;34m\u001b[0m\u001b[0;34m\u001b[0m\u001b[0m\n\u001b[0;32m---> 18\u001b[0;31m         \u001b[0mmax_evals\u001b[0m \u001b[0;34m=\u001b[0m \u001b[0;36m1\u001b[0m\u001b[0;34m\u001b[0m\u001b[0;34m\u001b[0m\u001b[0m\n\u001b[0m\u001b[1;32m     19\u001b[0m )\n",
      "\u001b[0;32m~/Google_Drive/Projects/MInvest/Trazy/trazy_analysis/optimization/optimizer.py\u001b[0m in \u001b[0;36mmaximize\u001b[0;34m(self, func, space, nb_iter, max_evals)\u001b[0m\n\u001b[1;32m    329\u001b[0m         }\n\u001b[1;32m    330\u001b[0m \u001b[0;34m\u001b[0m\u001b[0m\n\u001b[0;32m--> 331\u001b[0;31m         analysis = tune.run(rayopt_func, metric=\"func_result\", num_samples=nb_iter, config=search_space, mode=\"max\",\n\u001b[0m\u001b[1;32m    332\u001b[0m                             resources_per_trial={\"cpu\": max_evals})\n\u001b[1;32m    333\u001b[0m \u001b[0;34m\u001b[0m\u001b[0m\n",
      "\u001b[0;32m~/Google_Drive/Projects/MInvest/Trazy/trazy_analysis/env/lib/python3.6/site-packages/ray/tune/tune.py\u001b[0m in \u001b[0;36mrun\u001b[0;34m(run_or_experiment, name, metric, mode, stop, time_budget_s, config, resources_per_trial, num_samples, local_dir, search_alg, scheduler, keep_checkpoints_num, checkpoint_score_attr, checkpoint_freq, checkpoint_at_end, verbose, progress_reporter, log_to_file, trial_name_creator, trial_dirname_creator, sync_config, export_formats, max_failures, fail_fast, restore, server_port, resume, queue_trials, reuse_actors, trial_executor, raise_on_failed_trial, callbacks, loggers, ray_auto_init, run_errored_only, global_checkpoint_period, with_server, upload_dir, sync_to_cloud, sync_to_driver, sync_on_checkpoint, _remote)\u001b[0m\n\u001b[1;32m    553\u001b[0m     \u001b[0;32mif\u001b[0m \u001b[0mincomplete_trials\u001b[0m\u001b[0;34m:\u001b[0m\u001b[0;34m\u001b[0m\u001b[0;34m\u001b[0m\u001b[0m\n\u001b[1;32m    554\u001b[0m         \u001b[0;32mif\u001b[0m \u001b[0mraise_on_failed_trial\u001b[0m \u001b[0;32mand\u001b[0m \u001b[0;32mnot\u001b[0m \u001b[0mstate\u001b[0m\u001b[0;34m[\u001b[0m\u001b[0msignal\u001b[0m\u001b[0;34m.\u001b[0m\u001b[0mSIGINT\u001b[0m\u001b[0;34m]\u001b[0m\u001b[0;34m:\u001b[0m\u001b[0;34m\u001b[0m\u001b[0;34m\u001b[0m\u001b[0m\n\u001b[0;32m--> 555\u001b[0;31m             \u001b[0;32mraise\u001b[0m \u001b[0mTuneError\u001b[0m\u001b[0;34m(\u001b[0m\u001b[0;34m\"Trials did not complete\"\u001b[0m\u001b[0;34m,\u001b[0m \u001b[0mincomplete_trials\u001b[0m\u001b[0;34m)\u001b[0m\u001b[0;34m\u001b[0m\u001b[0;34m\u001b[0m\u001b[0m\n\u001b[0m\u001b[1;32m    556\u001b[0m         \u001b[0;32melse\u001b[0m\u001b[0;34m:\u001b[0m\u001b[0;34m\u001b[0m\u001b[0;34m\u001b[0m\u001b[0m\n\u001b[1;32m    557\u001b[0m             \u001b[0mlogger\u001b[0m\u001b[0;34m.\u001b[0m\u001b[0merror\u001b[0m\u001b[0;34m(\u001b[0m\u001b[0;34m\"Trials did not complete: %s\"\u001b[0m\u001b[0;34m,\u001b[0m \u001b[0mincomplete_trials\u001b[0m\u001b[0;34m)\u001b[0m\u001b[0;34m\u001b[0m\u001b[0;34m\u001b[0m\u001b[0m\n",
      "\u001b[0;31mTuneError\u001b[0m: ('Trials did not complete', [rayopt_func_b6230_00000, rayopt_func_b6230_00001, rayopt_func_b6230_00002, rayopt_func_b6230_00003, rayopt_func_b6230_00004, rayopt_func_b6230_00005, rayopt_func_b6230_00006, rayopt_func_b6230_00007, rayopt_func_b6230_00008, rayopt_func_b6230_00009, rayopt_func_b6230_00010, rayopt_func_b6230_00011, rayopt_func_b6230_00012, rayopt_func_b6230_00013, rayopt_func_b6230_00014, rayopt_func_b6230_00015])"
     ]
    }
   ],
   "source": [
    "from trazy_analysis.optimization.optimizer import RayOptimizer\n",
    "from trazy_analysis.optimization.parameter import (\n",
    "    Choice,\n",
    "    Continuous,\n",
    "    Discrete,\n",
    "    Ordinal,\n",
    "    Parameter,\n",
    ")\n",
    "\n",
    "optimizer = RayOptimizer()\n",
    "best_params = optimizer.maximize(func=sma_cross_backtest,\n",
    "        space={\n",
    "            \"short_sma\": Discrete([5, 75]),\n",
    "            \"long_sma\": Discrete([100, 200]),\n",
    "            \"trailing_stop_order_pct\": Continuous([0.1, 0.5]),\n",
    "        },\n",
    "        nb_iter = 16,\n",
    "        max_evals = 1\n",
    ")"
   ]
  },
  {
   "cell_type": "markdown",
   "id": "99233f44",
   "metadata": {},
   "source": [
    "### Bayesian optimization"
   ]
  },
  {
   "cell_type": "code",
   "execution_count": 18,
   "id": "53d100e3",
   "metadata": {},
   "outputs": [
    {
     "name": "stdout",
     "output_type": "stream",
     "text": [
      "|   iter    |  target   | long_sma  | short_sma | traili... |\n",
      "-------------------------------------------------------------\n",
      "55\n",
      "154\n",
      "0.12055267521432877\n",
      "| \u001b[0m 1       \u001b[0m | \u001b[0m 1.003e+0\u001b[0m | \u001b[0m 154.9   \u001b[0m | \u001b[0m 55.06   \u001b[0m | \u001b[0m 0.1206  \u001b[0m |\n",
      "54\n",
      "166\n",
      "0.16927595154206607\n",
      "| \u001b[0m 2       \u001b[0m | \u001b[0m 1.002e+0\u001b[0m | \u001b[0m 166.9   \u001b[0m | \u001b[0m 54.72   \u001b[0m | \u001b[0m 0.1693  \u001b[0m |\n",
      "72\n",
      "123\n",
      "0.07664977500990929\n",
      "| \u001b[0m 3       \u001b[0m | \u001b[0m 1.003e+0\u001b[0m | \u001b[0m 123.0   \u001b[0m | \u001b[0m 72.03   \u001b[0m | \u001b[0m 0.07665 \u001b[0m |\n",
      "43\n",
      "154\n",
      "0.14651290574957507\n",
      "| \u001b[0m 4       \u001b[0m | \u001b[0m 1.003e+0\u001b[0m | \u001b[0m 154.1   \u001b[0m | \u001b[0m 43.72   \u001b[0m | \u001b[0m 0.1465  \u001b[0m |\n",
      "56\n",
      "155\n",
      "0.05758241571246439\n",
      "| \u001b[95m 5       \u001b[0m | \u001b[95m 1.003e+0\u001b[0m | \u001b[95m 155.5   \u001b[0m | \u001b[95m 56.4    \u001b[0m | \u001b[95m 0.05758 \u001b[0m |\n",
      "60\n",
      "147\n",
      "0.0\n",
      "| \u001b[0m 6       \u001b[0m | \u001b[0m 9.992e+0\u001b[0m | \u001b[0m 147.2   \u001b[0m | \u001b[0m 60.23   \u001b[0m | \u001b[0m 0.0     \u001b[0m |\n",
      "48\n",
      "159\n",
      "0.16677987146142892\n",
      "| \u001b[0m 7       \u001b[0m | \u001b[0m 1.002e+0\u001b[0m | \u001b[0m 159.3   \u001b[0m | \u001b[0m 48.82   \u001b[0m | \u001b[0m 0.1668  \u001b[0m |\n",
      "35\n",
      "159\n",
      "0.0\n",
      "| \u001b[0m 8       \u001b[0m | \u001b[0m 9.99e+03\u001b[0m | \u001b[0m 159.7   \u001b[0m | \u001b[0m 35.68   \u001b[0m | \u001b[0m 0.0     \u001b[0m |\n",
      "44\n",
      "146\n",
      "0.2\n",
      "| \u001b[0m 9       \u001b[0m | \u001b[0m 1.002e+0\u001b[0m | \u001b[0m 146.3   \u001b[0m | \u001b[0m 44.42   \u001b[0m | \u001b[0m 0.2     \u001b[0m |\n",
      "70\n",
      "115\n",
      "0.19648162531884303\n",
      "| \u001b[95m 10      \u001b[0m | \u001b[95m 1.003e+0\u001b[0m | \u001b[95m 115.2   \u001b[0m | \u001b[95m 70.08   \u001b[0m | \u001b[95m 0.1965  \u001b[0m |\n",
      "63\n",
      "116\n",
      "0.17872093294967237\n",
      "| \u001b[0m 11      \u001b[0m | \u001b[0m 1.002e+0\u001b[0m | \u001b[0m 116.9   \u001b[0m | \u001b[0m 63.04   \u001b[0m | \u001b[0m 0.1787  \u001b[0m |\n",
      "74\n",
      "110\n",
      "0.1339175296564364\n",
      "| \u001b[0m 12      \u001b[0m | \u001b[0m 1.003e+0\u001b[0m | \u001b[0m 110.6   \u001b[0m | \u001b[0m 74.36   \u001b[0m | \u001b[0m 0.1339  \u001b[0m |\n",
      "68\n",
      "106\n",
      "0.1445081946685255\n",
      "| \u001b[0m 13      \u001b[0m | \u001b[0m 1.002e+0\u001b[0m | \u001b[0m 106.1   \u001b[0m | \u001b[0m 68.33   \u001b[0m | \u001b[0m 0.1445  \u001b[0m |\n",
      "74\n",
      "117\n",
      "0.17400633829807416\n",
      "| \u001b[0m 14      \u001b[0m | \u001b[0m 1.002e+0\u001b[0m | \u001b[0m 117.9   \u001b[0m | \u001b[0m 74.92   \u001b[0m | \u001b[0m 0.174   \u001b[0m |\n",
      "74\n",
      "103\n",
      "0.19722088920523226\n",
      "| \u001b[0m 15      \u001b[0m | \u001b[0m 1.003e+0\u001b[0m | \u001b[0m 103.5   \u001b[0m | \u001b[0m 74.81   \u001b[0m | \u001b[0m 0.1972  \u001b[0m |\n",
      "75\n",
      "132\n",
      "0.2\n",
      "| \u001b[0m 16      \u001b[0m | \u001b[0m 1.002e+0\u001b[0m | \u001b[0m 133.0   \u001b[0m | \u001b[0m 75.0    \u001b[0m | \u001b[0m 0.2     \u001b[0m |\n",
      "=============================================================\n"
     ]
    }
   ],
   "source": [
    "from bayes_opt import BayesianOptimization\n",
    "\n",
    "def sma_cross_backtest_bayes_opt(short_sma, long_sma, trailing_stop_order_pct):\n",
    "    return sma_cross_backtest(short_sma, long_sma, trailing_stop_order_pct)\n",
    "\n",
    "# Bounded region of parameter space\n",
    "pbounds = {'short_sma': (5, 75), 'long_sma': (100, 200), 'trailing_stop_order_pct': (0, 0.20)}\n",
    "\n",
    "optimizer = BayesianOptimization(\n",
    "    f=sma_cross_backtest_bayes_opt,\n",
    "    pbounds=pbounds,\n",
    "    random_state=0,\n",
    ")\n",
    "\n",
    "t = optimizer.maximize(\n",
    "    init_points=1,\n",
    "    n_iter=15,\n",
    ")"
   ]
  },
  {
   "cell_type": "code",
   "execution_count": 22,
   "id": "e2299ff1",
   "metadata": {},
   "outputs": [
    {
     "data": {
      "text/plain": [
       "{'target': 10033.87155654576,\n",
       " 'params': {'long_sma': 115.18521400201854,\n",
       "  'short_sma': 70.0823844351681,\n",
       "  'trailing_stop_order_pct': 0.19648162531884303}}"
      ]
     },
     "execution_count": 22,
     "metadata": {},
     "output_type": "execute_result"
    }
   ],
   "source": [
    "optimizer.max"
   ]
  },
  {
   "cell_type": "code",
   "execution_count": null,
   "id": "dd3b9ffa",
   "metadata": {},
   "outputs": [],
   "source": [
    "from trazy_analysis.optimization.optimizer import BayesianOptimizer\n",
    "from trazy_analysis.optimization.parameter import (\n",
    "    Choice,\n",
    "    Continuous,\n",
    "    Discrete,\n",
    "    Ordinal,\n",
    "    Parameter,\n",
    ")\n",
    "\n",
    "optimizer = BayesianOptimizer()\n",
    "best_params = optimizer.maximize(func=sma_cross_backtest,\n",
    "        space={\n",
    "            \"short_sma\": Discrete([5, 75]),\n",
    "            \"long_sma\": Discrete([100, 200]),\n",
    "            \"trailing_stop_order_pct\": Continuous([0.1, 0.5]),\n",
    "        },\n",
    "        nb_iter = 52,\n",
    "        max_evals = 1\n",
    ")"
   ]
  },
  {
   "cell_type": "markdown",
   "id": "11c55af9",
   "metadata": {},
   "source": [
    "### Sherpa"
   ]
  },
  {
   "cell_type": "code",
   "execution_count": null,
   "id": "49a6ed0e",
   "metadata": {},
   "outputs": [],
   "source": [
    "import sherpa\n",
    "parameters = [\n",
    "    sherpa.Discrete('short_sma', [5, 75]),\n",
    "    sherpa.Discrete('long_sma', [100, 200]),\n",
    "    sherpa.Continuous('trailing_stop_order_pct', [0.05, 0.20]),\n",
    "]\n",
    "alg = sherpa.algorithms.GPyOpt(max_num_trials=52)\n",
    "study = sherpa.Study(parameters=parameters,\n",
    "                     algorithm=alg,\n",
    "                     lower_is_better=True)\n",
    "\n",
    "iteration = 1\n",
    "for trial in study:\n",
    "    short_sma = trial.parameters[\"short_sma\"]\n",
    "    long_sma = trial.parameters[\"long_sma\"]\n",
    "    trailing_stop_order_pct = trial.parameters[\"trailing_stop_order_pct\"]\n",
    "    profit = sma_cross_backtest((short_sma, long_sma, trailing_stop_order_pct))\n",
    "    study.add_observation(trial=trial,\n",
    "                          iteration=iteration,\n",
    "                          objective=profit\n",
    "    )\n",
    "    iteration += 1\n",
    "\n",
    "study.finalize(trial)"
   ]
  },
  {
   "cell_type": "code",
   "execution_count": null,
   "id": "58566f9d",
   "metadata": {},
   "outputs": [],
   "source": [
    "study.get_best_result()"
   ]
  },
  {
   "cell_type": "markdown",
   "id": "3579f12a",
   "metadata": {},
   "source": [
    "### GPyOpt"
   ]
  },
  {
   "cell_type": "code",
   "execution_count": null,
   "id": "f94aabee",
   "metadata": {},
   "outputs": [],
   "source": [
    "import GPyOpt\n",
    "\n",
    "bounds = [\n",
    "    {'name': 'short_sma', 'type': 'discrete', 'domain': (5,75)},\n",
    "    {'name': 'long_sma', 'type': 'discrete', 'domain': (100,200)},\n",
    "    {'name': 'trailing_stop_order_pct', 'type': 'continuous', 'domain': (0.,0.20)},\n",
    "]\n",
    "\n",
    "def sma_cross_backtest_gpy_opt(params):\n",
    "    short_sma = params[0][0]\n",
    "    long_sma = params[0][1]\n",
    "    trailing_stop_order_pct = params[0][2]\n",
    "    return sma_cross_backtest((short_sma, long_sma, trailing_stop_order_pct))\n",
    "\n",
    "myProblem = GPyOpt.methods.BayesianOptimization(sma_cross_backtest_gpy_opt, bounds)\n",
    "myProblem.run_optimization(52)"
   ]
  },
  {
   "cell_type": "code",
   "execution_count": null,
   "id": "1f5d6b5f",
   "metadata": {},
   "outputs": [],
   "source": [
    "myProblem.x_opt"
   ]
  },
  {
   "cell_type": "code",
   "execution_count": null,
   "id": "5b17bcba",
   "metadata": {},
   "outputs": [],
   "source": [
    "myProblem.fx_opt"
   ]
  },
  {
   "cell_type": "code",
   "execution_count": null,
   "id": "a0833943",
   "metadata": {},
   "outputs": [],
   "source": []
  }
 ],
 "metadata": {
  "kernelspec": {
   "display_name": "env",
   "language": "python",
   "name": "env"
  },
  "language_info": {
   "codemirror_mode": {
    "name": "ipython",
    "version": 3
   },
   "file_extension": ".py",
   "mimetype": "text/x-python",
   "name": "python",
   "nbconvert_exporter": "python",
   "pygments_lexer": "ipython3",
   "version": "3.6.8"
  }
 },
 "nbformat": 4,
 "nbformat_minor": 5
}
