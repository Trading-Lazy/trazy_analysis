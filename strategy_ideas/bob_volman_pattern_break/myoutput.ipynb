{
 "cells": [
  {
   "cell_type": "code",
   "execution_count": null,
   "id": "232427aa",
   "metadata": {},
   "outputs": [],
   "source": [
    "# @@ Cell 1\n",
    "import os\n",
    "from pathlib import Path"
   ]
  },
  {
   "cell_type": "code",
   "execution_count": null,
   "id": "1a905be0",
   "metadata": {},
   "outputs": [],
   "source": [
    "#list the current work dir\n",
    "cwd = os.getcwd()\n",
    "current_path = Path(cwd)\n",
    "project_root = current_path.parent.parent.parent\n",
    "print(project_root)"
   ]
  },
  {
   "cell_type": "code",
   "execution_count": null,
   "id": "293228aa",
   "metadata": {},
   "outputs": [],
   "source": [
    "#change the current work dir\n",
    "os.chdir(project_root)"
   ]
  },
  {
   "cell_type": "code",
   "execution_count": null,
   "id": "c2f51d1a",
   "metadata": {},
   "outputs": [],
   "source": [
    "# @@ Cell 2\n",
    "get_ipython().system('pip install mplfinance')"
   ]
  },
  {
   "cell_type": "code",
   "execution_count": null,
   "id": "f751c07f",
   "metadata": {},
   "outputs": [],
   "source": [
    "# @@ Cell 3\n",
    "from trazy_analysis.common.ccxt_connector import CcxtConnector\n",
    "from trazy_analysis.models.asset import Asset\n",
    "from datetime import datetime\n",
    "from trazy_analysis.market_data.historical.ccxt_historical_data_handler import CcxtHistoricalDataHandler\n",
    "from collections import deque\n",
    "from trazy_analysis.feed.feed import Feed, CsvFeed\n",
    "import pytz\n",
    "import numpy as np\n",
    "import pandas as pd\n",
    "import math\n",
    "import mplfinance as mpf\n",
    "from mplfinance.original_flavor import candlestick_ohlc, candlestick2_ohlc\n",
    "import matplotlib.dates as mpl_dates\n",
    "import matplotlib.pyplot as plt\n",
    "from matplotlib import ticker"
   ]
  },
  {
   "cell_type": "code",
   "execution_count": null,
   "id": "b2cbe3f6",
   "metadata": {},
   "outputs": [],
   "source": [
    "# @@ Cell 4\n",
    "exchange = \"BINANCE\""
   ]
  },
  {
   "cell_type": "code",
   "execution_count": null,
   "id": "3e2bd38e",
   "metadata": {},
   "outputs": [],
   "source": [
    "# @@ Cell 5\n",
    "exchange_asset = Asset(symbol=\"BTC/USDT\", exchange=exchange)"
   ]
  },
  {
   "cell_type": "code",
   "execution_count": null,
   "id": "afa75b0e",
   "metadata": {},
   "outputs": [],
   "source": [
    "# @@ Cell 6\n",
    "# load data\n",
    "events = deque()\n",
    "feed: Feed = CsvFeed(\n",
    "    {\n",
    "        exchange_asset: f\"trazy_analysis/strategy_ideas/bob_volman_pattern_break/data/btc_usdt.csv\"\n",
    "    },\n",
    "    events,\n",
    ")"
   ]
  },
  {
   "cell_type": "code",
   "execution_count": null,
   "id": "07b903f7",
   "metadata": {},
   "outputs": [],
   "source": [
    "# @@ Cell 7\n",
    "df = feed.candle_dataframes[exchange_asset]"
   ]
  },
  {
   "cell_type": "code",
   "execution_count": null,
   "id": "0f346cf9",
   "metadata": {},
   "outputs": [],
   "source": [
    "# @@ Cell 8\n",
    "df_sample = df.head(500)"
   ]
  },
  {
   "cell_type": "code",
   "execution_count": null,
   "id": "f8a1fcea",
   "metadata": {},
   "outputs": [],
   "source": [
    "# @@ Cell 9\n",
    "numeric_df = pd.DataFrame()"
   ]
  },
  {
   "cell_type": "code",
   "execution_count": null,
   "id": "94fc1cbe",
   "metadata": {},
   "outputs": [],
   "source": [
    "# @@ Cell 10\n",
    "numeric_df[\"open\"] = pd.to_numeric(df_sample[\"open\"])\n",
    "numeric_df[\"high\"] = pd.to_numeric(df_sample[\"high\"])\n",
    "numeric_df[\"low\"] = pd.to_numeric(df_sample[\"low\"])\n",
    "numeric_df[\"close\"] = pd.to_numeric(df_sample[\"close\"])\n",
    "numeric_df[\"volume\"] = pd.to_numeric(df_sample[\"volume\"])\n",
    "numeric_df.index = pd.to_datetime(numeric_df.index)\n",
    "numeric_df['date'] = mpl_dates.date2num(numeric_df.index)"
   ]
  },
  {
   "cell_type": "code",
   "execution_count": null,
   "id": "c020237c",
   "metadata": {},
   "outputs": [],
   "source": [
    "# @@ Cell 11\n",
    "from scipy.signal import argrelextrema"
   ]
  },
  {
   "cell_type": "code",
   "execution_count": null,
   "id": "fd00f222",
   "metadata": {},
   "outputs": [],
   "source": [
    "x = np.array(numeric_df['close'])"
   ]
  },
  {
   "cell_type": "code",
   "execution_count": null,
   "id": "0c311d92",
   "metadata": {},
   "outputs": [],
   "source": [
    "# for local maxima\n",
    "maximas = argrelextrema(x, np.greater)"
   ]
  },
  {
   "cell_type": "code",
   "execution_count": null,
   "id": "cc4c5aac",
   "metadata": {},
   "outputs": [],
   "source": [
    "# for local minima\n",
    "minimas = argrelextrema(x, np.less)"
   ]
  },
  {
   "cell_type": "code",
   "execution_count": null,
   "id": "ec5c95d6",
   "metadata": {},
   "outputs": [],
   "source": [
    "# @@ Cell 12\n",
    "maximas"
   ]
  },
  {
   "cell_type": "code",
   "execution_count": null,
   "id": "b3be8e4a",
   "metadata": {},
   "outputs": [],
   "source": [
    "# @@ Cell 13\n",
    "minimas"
   ]
  },
  {
   "cell_type": "code",
   "execution_count": null,
   "id": "8d496867",
   "metadata": {},
   "outputs": [],
   "source": [
    "# @@ Cell 14\n",
    "np.concatenate((maximas, minimas), axis=0)"
   ]
  },
  {
   "cell_type": "code",
   "execution_count": null,
   "id": "9904e991",
   "metadata": {},
   "outputs": [],
   "source": [
    "# @@ Cell 15\n",
    "np.concatenate((maximas, minimas), axis=1)"
   ]
  },
  {
   "cell_type": "code",
   "execution_count": null,
   "id": "14e75642",
   "metadata": {},
   "outputs": [],
   "source": [
    "# @@ Cell 16\n",
    "extremas = np.concatenate((maximas, minimas), axis=1)[0]"
   ]
  },
  {
   "cell_type": "code",
   "execution_count": null,
   "id": "70662947",
   "metadata": {},
   "outputs": [],
   "source": [
    "# @@ Cell 17\n",
    "extremas"
   ]
  },
  {
   "cell_type": "code",
   "execution_count": null,
   "id": "975eac83",
   "metadata": {},
   "outputs": [],
   "source": [
    "# @@ Cell 18\n",
    "np.sort(extremas) "
   ]
  },
  {
   "cell_type": "code",
   "execution_count": null,
   "id": "2b8860cb",
   "metadata": {},
   "outputs": [],
   "source": [
    "# @@ Cell 19\n",
    "sort_extremas = np.sort(extremas) "
   ]
  },
  {
   "cell_type": "code",
   "execution_count": null,
   "id": "fc8f16e5",
   "metadata": {},
   "outputs": [],
   "source": [
    "# @@ Cell 20\n",
    "sort_extremas"
   ]
  },
  {
   "cell_type": "code",
   "execution_count": null,
   "id": "5e2c05e3",
   "metadata": {
    "lines_to_next_cell": 1
   },
   "outputs": [],
   "source": [
    "# @@ Cell 21\n",
    "ave =  np.mean(numeric_df['high'] - numeric_df['low'])"
   ]
  },
  {
   "cell_type": "code",
   "execution_count": null,
   "id": "f5a5fa8a",
   "metadata": {
    "lines_to_next_cell": 1
   },
   "outputs": [],
   "source": [
    "# a list to store resistance and support levels\n",
    "class Level:\n",
    "    def __init__(self, index, level):\n",
    "        self.index = index\n",
    "        self.level = level\n",
    "\n",
    "    def __hash__(self):\n",
    "        return 0\n",
    "\n",
    "    def __eq__(self, other):\n",
    "        return abs(self.level - other.level) < ave\n",
    "    \n",
    "    def __str__(self):\n",
    "        return f\"({self.index}, {self.level})\""
   ]
  },
  {
   "cell_type": "code",
   "execution_count": null,
   "id": "f9efc25e",
   "metadata": {},
   "outputs": [],
   "source": [
    "levels = {}"
   ]
  },
  {
   "cell_type": "code",
   "execution_count": null,
   "id": "47b61717",
   "metadata": {},
   "outputs": [],
   "source": [
    "for low in minimas:\n",
    "    level = Level(i, low)\n",
    "    power = levels.get(level, 0) + 1\n",
    "    levels.update({level: power})"
   ]
  },
  {
   "cell_type": "code",
   "execution_count": null,
   "id": "eb4ff72a",
   "metadata": {},
   "outputs": [],
   "source": [
    "for high in extremas:\n",
    "    level = Level(i, high)\n",
    "    power = levels.get(level, 0) + 1\n",
    "    levels.update({level: power})"
   ]
  },
  {
   "cell_type": "code",
   "execution_count": null,
   "id": "33c7b739",
   "metadata": {
    "lines_to_next_cell": 1
   },
   "outputs": [],
   "source": [
    "# @@ Cell 22\n",
    "ave =  np.mean(numeric_df['high'] - numeric_df['low'])"
   ]
  },
  {
   "cell_type": "code",
   "execution_count": null,
   "id": "28d96dd7",
   "metadata": {
    "lines_to_next_cell": 1
   },
   "outputs": [],
   "source": [
    "# a list to store resistance and support levels\n",
    "class Level:\n",
    "    def __init__(self, index, level):\n",
    "        self.index = index\n",
    "        self.level = level\n",
    "\n",
    "    def __hash__(self):\n",
    "        return 0\n",
    "\n",
    "    def __eq__(self, other):\n",
    "        return abs(self.level - other.level) < ave\n",
    "    \n",
    "    def __str__(self):\n",
    "        return f\"({self.index}, {self.level})\""
   ]
  },
  {
   "cell_type": "code",
   "execution_count": null,
   "id": "66a6804a",
   "metadata": {},
   "outputs": [],
   "source": [
    "levels = {}"
   ]
  },
  {
   "cell_type": "code",
   "execution_count": null,
   "id": "89f707aa",
   "metadata": {},
   "outputs": [],
   "source": [
    "for i in minimas:\n",
    "    low = numeric_df['close'].iloc[i]\n",
    "    level = Level(i, low)\n",
    "    power = levels.get(level, 0) + 1\n",
    "    levels.update({level: power})"
   ]
  },
  {
   "cell_type": "code",
   "execution_count": null,
   "id": "9574d0e3",
   "metadata": {},
   "outputs": [],
   "source": [
    "for i in extremas:\n",
    "    high = numeric_df['close'].iloc[i]\n",
    "    level = Level(i, high)\n",
    "    power = levels.get(level, 0) + 1\n",
    "    levels.update({level: power})"
   ]
  },
  {
   "cell_type": "code",
   "execution_count": null,
   "id": "b71b5897",
   "metadata": {
    "lines_to_next_cell": 1
   },
   "outputs": [],
   "source": [
    "# @@ Cell 23\n",
    "ave =  np.mean(numeric_df['high'] - numeric_df['low'])"
   ]
  },
  {
   "cell_type": "code",
   "execution_count": null,
   "id": "706111fd",
   "metadata": {
    "lines_to_next_cell": 1
   },
   "outputs": [],
   "source": [
    "# a list to store resistance and support levels\n",
    "class Level:\n",
    "    def __init__(self, index, level):\n",
    "        self.index = index\n",
    "        self.level = level\n",
    "\n",
    "    def __hash__(self):\n",
    "        return 0\n",
    "\n",
    "    def __eq__(self, other):\n",
    "        return abs(self.level - other.level) < ave\n",
    "    \n",
    "    def __str__(self):\n",
    "        return f\"({self.index}, {self.level})\""
   ]
  },
  {
   "cell_type": "code",
   "execution_count": null,
   "id": "0ece0284",
   "metadata": {},
   "outputs": [],
   "source": [
    "levels = {}"
   ]
  },
  {
   "cell_type": "code",
   "execution_count": null,
   "id": "8a3d24be",
   "metadata": {},
   "outputs": [],
   "source": [
    "for i in minimas:\n",
    "    low = numeric_df.get_value(i, 'close')\n",
    "    level = Level(i, low)\n",
    "    power = levels.get(level, 0) + 1\n",
    "    levels.update({level: power})"
   ]
  },
  {
   "cell_type": "code",
   "execution_count": null,
   "id": "842a87e2",
   "metadata": {},
   "outputs": [],
   "source": [
    "for i in extremas:\n",
    "    high = numeric_df.get_value(i, 'close')\n",
    "    level = Level(i, high)\n",
    "    power = levels.get(level, 0) + 1\n",
    "    levels.update({level: power})"
   ]
  },
  {
   "cell_type": "code",
   "execution_count": null,
   "id": "cb953fe1",
   "metadata": {
    "lines_to_next_cell": 1
   },
   "outputs": [],
   "source": [
    "# @@ Cell 24\n",
    "ave =  np.mean(numeric_df['high'] - numeric_df['low'])"
   ]
  },
  {
   "cell_type": "code",
   "execution_count": null,
   "id": "ce99ae01",
   "metadata": {
    "lines_to_next_cell": 1
   },
   "outputs": [],
   "source": [
    "# a list to store resistance and support levels\n",
    "class Level:\n",
    "    def __init__(self, index, level):\n",
    "        self.index = index\n",
    "        self.level = level\n",
    "\n",
    "    def __hash__(self):\n",
    "        return 0\n",
    "\n",
    "    def __eq__(self, other):\n",
    "        return abs(self.level - other.level) < ave\n",
    "    \n",
    "    def __str__(self):\n",
    "        return f\"({self.index}, {self.level})\""
   ]
  },
  {
   "cell_type": "code",
   "execution_count": null,
   "id": "b796f12c",
   "metadata": {},
   "outputs": [],
   "source": [
    "levels = {}"
   ]
  },
  {
   "cell_type": "code",
   "execution_count": null,
   "id": "22576848",
   "metadata": {},
   "outputs": [],
   "source": [
    "for i in minimas:\n",
    "    low = numeric_df._get_value(i, 'close')\n",
    "    level = Level(i, low)\n",
    "    power = levels.get(level, 0) + 1\n",
    "    levels.update({level: power})"
   ]
  },
  {
   "cell_type": "code",
   "execution_count": null,
   "id": "c0913491",
   "metadata": {},
   "outputs": [],
   "source": [
    "for i in extremas:\n",
    "    high = numeric_df._get_value(i, 'close')\n",
    "    level = Level(i, high)\n",
    "    power = levels.get(level, 0) + 1\n",
    "    levels.update({level: power})"
   ]
  },
  {
   "cell_type": "code",
   "execution_count": null,
   "id": "8fd24f7a",
   "metadata": {},
   "outputs": [],
   "source": [
    "# @@ Cell 25\n",
    "extremas"
   ]
  },
  {
   "cell_type": "code",
   "execution_count": null,
   "id": "92754f5e",
   "metadata": {},
   "outputs": [],
   "source": [
    "# @@ Cell 26\n",
    "type(minimas)"
   ]
  },
  {
   "cell_type": "code",
   "execution_count": null,
   "id": "d60b60e2",
   "metadata": {},
   "outputs": [],
   "source": [
    "# @@ Cell 27\n",
    "from scipy.signal import argrelextrema"
   ]
  },
  {
   "cell_type": "code",
   "execution_count": null,
   "id": "b19d4a81",
   "metadata": {},
   "outputs": [],
   "source": [
    "x = np.array(numeric_df['close'])"
   ]
  },
  {
   "cell_type": "code",
   "execution_count": null,
   "id": "35ac363c",
   "metadata": {},
   "outputs": [],
   "source": [
    "# for local maxima\n",
    "maximas = argrelextrema(x, np.greater)[0]"
   ]
  },
  {
   "cell_type": "code",
   "execution_count": null,
   "id": "688875aa",
   "metadata": {},
   "outputs": [],
   "source": [
    "# for local minima\n",
    "minimas = argrelextrema(x, np.less)[0]"
   ]
  },
  {
   "cell_type": "code",
   "execution_count": null,
   "id": "36e5b69d",
   "metadata": {},
   "outputs": [],
   "source": [
    "# @@ Cell 28\n",
    "maximas"
   ]
  },
  {
   "cell_type": "code",
   "execution_count": null,
   "id": "e29130b0",
   "metadata": {},
   "outputs": [],
   "source": [
    "# @@ Cell 29\n",
    "minimas"
   ]
  },
  {
   "cell_type": "code",
   "execution_count": null,
   "id": "27998cc6",
   "metadata": {},
   "outputs": [],
   "source": [
    "# @@ Cell 30\n",
    "sorted_extremas = np.sort(extremas) "
   ]
  },
  {
   "cell_type": "code",
   "execution_count": null,
   "id": "c668b652",
   "metadata": {},
   "outputs": [],
   "source": [
    "# @@ Cell 31\n",
    "sorted_extremas"
   ]
  },
  {
   "cell_type": "code",
   "execution_count": null,
   "id": "6f176a2c",
   "metadata": {
    "lines_to_next_cell": 1
   },
   "outputs": [],
   "source": [
    "# @@ Cell 32\n",
    "ave =  np.mean(numeric_df['high'] - numeric_df['low'])"
   ]
  },
  {
   "cell_type": "code",
   "execution_count": null,
   "id": "88f96e8a",
   "metadata": {
    "lines_to_next_cell": 1
   },
   "outputs": [],
   "source": [
    "# a list to store resistance and support levels\n",
    "class Level:\n",
    "    def __init__(self, index, level):\n",
    "        self.index = index\n",
    "        self.level = level\n",
    "\n",
    "    def __hash__(self):\n",
    "        return 0\n",
    "\n",
    "    def __eq__(self, other):\n",
    "        return abs(self.level - other.level) < ave\n",
    "    \n",
    "    def __str__(self):\n",
    "        return f\"({self.index}, {self.level})\""
   ]
  },
  {
   "cell_type": "code",
   "execution_count": null,
   "id": "cee80ff3",
   "metadata": {},
   "outputs": [],
   "source": [
    "levels = {}"
   ]
  },
  {
   "cell_type": "code",
   "execution_count": null,
   "id": "664fa3f6",
   "metadata": {},
   "outputs": [],
   "source": [
    "for i in minimas:\n",
    "    low = numeric_df._get_value(i, 'close')\n",
    "    level = Level(i, low)\n",
    "    power = levels.get(level, 0) + 1\n",
    "    levels.update({level: power})"
   ]
  },
  {
   "cell_type": "code",
   "execution_count": null,
   "id": "4ce6ff44",
   "metadata": {},
   "outputs": [],
   "source": [
    "for i in extremas:\n",
    "    high = numeric_df._get_value(i, 'close')\n",
    "    level = Level(i, high)\n",
    "    power = levels.get(level, 0) + 1\n",
    "    levels.update({level: power})"
   ]
  },
  {
   "cell_type": "code",
   "execution_count": null,
   "id": "273c7bcd",
   "metadata": {},
   "outputs": [],
   "source": [
    "# @@ Cell 33\n",
    "numeric_df.iloc[0]"
   ]
  },
  {
   "cell_type": "code",
   "execution_count": null,
   "id": "ad3f9a3d",
   "metadata": {},
   "outputs": [],
   "source": [
    "# @@ Cell 34\n",
    "numeric_df['close'].iloc[0]"
   ]
  },
  {
   "cell_type": "code",
   "execution_count": null,
   "id": "c94acee7",
   "metadata": {},
   "outputs": [],
   "source": [
    "# @@ Cell 35\n",
    "type(numeric_df['close'].iloc[0])"
   ]
  },
  {
   "cell_type": "code",
   "execution_count": null,
   "id": "a38ff515",
   "metadata": {
    "lines_to_next_cell": 1
   },
   "outputs": [],
   "source": [
    "# @@ Cell 36\n",
    "ave =  np.mean(numeric_df['high'] - numeric_df['low'])"
   ]
  },
  {
   "cell_type": "code",
   "execution_count": null,
   "id": "cef6cf86",
   "metadata": {
    "lines_to_next_cell": 1
   },
   "outputs": [],
   "source": [
    "# a list to store resistance and support levels\n",
    "class Level:\n",
    "    def __init__(self, index, level):\n",
    "        self.index = index\n",
    "        self.level = level\n",
    "\n",
    "    def __hash__(self):\n",
    "        return 0\n",
    "\n",
    "    def __eq__(self, other):\n",
    "        return abs(self.level - other.level) < ave\n",
    "    \n",
    "    def __str__(self):\n",
    "        return f\"({self.index}, {self.level})\""
   ]
  },
  {
   "cell_type": "code",
   "execution_count": null,
   "id": "681d7bb7",
   "metadata": {},
   "outputs": [],
   "source": [
    "levels = {}"
   ]
  },
  {
   "cell_type": "code",
   "execution_count": null,
   "id": "045d9119",
   "metadata": {},
   "outputs": [],
   "source": [
    "for i in minimas:\n",
    "    low = numeric_df['close'].iloc[i]\n",
    "    level = Level(i, low)\n",
    "    power = levels.get(level, 0) + 1\n",
    "    levels.update({level: power})"
   ]
  },
  {
   "cell_type": "code",
   "execution_count": null,
   "id": "16e5eb4a",
   "metadata": {},
   "outputs": [],
   "source": [
    "for i in extremas:\n",
    "    high = numeric_df['close'].iloc[i]\n",
    "    level = Level(i, high)\n",
    "    power = levels.get(level, 0) + 1\n",
    "    levels.update({level: power})"
   ]
  },
  {
   "cell_type": "code",
   "execution_count": null,
   "id": "4520ceb7",
   "metadata": {},
   "outputs": [],
   "source": [
    "# @@ Cell 37\n",
    "{str(level): power for level, power in levels.items()}"
   ]
  },
  {
   "cell_type": "code",
   "execution_count": null,
   "id": "8fc3c995",
   "metadata": {},
   "outputs": [],
   "source": [
    "# @@ Cell 38\n",
    "levels_values = [level.level for level, power in levels.items()]"
   ]
  },
  {
   "cell_type": "code",
   "execution_count": null,
   "id": "3b34cef9",
   "metadata": {},
   "outputs": [],
   "source": [
    "# @@ Cell 39\n",
    "levels_values"
   ]
  },
  {
   "cell_type": "code",
   "execution_count": null,
   "id": "b6ec2022",
   "metadata": {},
   "outputs": [],
   "source": [
    "# @@ Cell 40\n",
    "import matplotlib.colors as mcolors\n",
    "import seaborn as sns\n",
    "color_palette = sns.color_palette(\"husl\", len(levels_values))\n",
    "colors = [mcolors.to_hex(c) for c in color_palette] "
   ]
  },
  {
   "cell_type": "code",
   "execution_count": null,
   "id": "773928d0",
   "metadata": {},
   "outputs": [],
   "source": [
    "# @@ Cell 41\n",
    "colors"
   ]
  },
  {
   "cell_type": "code",
   "execution_count": null,
   "id": "1834e04d",
   "metadata": {},
   "outputs": [],
   "source": [
    "# @@ Cell 42\n",
    "mpf.plot(\n",
    "    numeric_df,\n",
    "    hlines=dict(hlines=levels_values,colors=colors,linestyle='-.'),\n",
    "    type='candle',\n",
    "    mav=(3, 5),volume=True,\n",
    "    title='BTC-USDT'\n",
    ")"
   ]
  },
  {
   "cell_type": "code",
   "execution_count": null,
   "id": "ec62bdca",
   "metadata": {},
   "outputs": [],
   "source": [
    "# @@ Cell 43\n",
    "plt.plot(numeric_df['close'], sorted_extremas, \"x\")"
   ]
  },
  {
   "cell_type": "code",
   "execution_count": null,
   "id": "abc80811",
   "metadata": {},
   "outputs": [],
   "source": [
    "# @@ Cell 44\n",
    "numeric_df['min'] = numeric_df.iloc[argrelextrema(numeric_df.data.values, np.less_equal,\n",
    "                    order=n)[0]]['data']\n",
    "numeric_df['max'] = numeric_df.iloc[argrelextrema(numeric_df.data.values, np.greater_equal,\n",
    "                    order=n)[0]]['data']"
   ]
  },
  {
   "cell_type": "markdown",
   "id": "ac4e6a00",
   "metadata": {},
   "source": [
    "Plot results"
   ]
  },
  {
   "cell_type": "code",
   "execution_count": null,
   "id": "4b32cfff",
   "metadata": {},
   "outputs": [],
   "source": [
    "plt.scatter(df.index, df['min'], c='r')\n",
    "plt.scatter(df.index, df['max'], c='g')\n",
    "plt.plot(df.index, df['data'])\n",
    "plt.show()"
   ]
  },
  {
   "cell_type": "code",
   "execution_count": null,
   "id": "f92f3c5b",
   "metadata": {},
   "outputs": [],
   "source": [
    "# @@ Cell 45\n",
    "numeric_df['min'] = numeric_df.iloc[argrelextrema(x, np.less_equal,\n",
    "                    order=n)[0]]['data']\n",
    "numeric_df['max'] = numeric_df.iloc[argrelextrema(x, np.greater_equal,\n",
    "                    order=n)[0]]['data']"
   ]
  },
  {
   "cell_type": "markdown",
   "id": "4f4efdf8",
   "metadata": {},
   "source": [
    "Plot results"
   ]
  },
  {
   "cell_type": "code",
   "execution_count": null,
   "id": "bee65175",
   "metadata": {},
   "outputs": [],
   "source": [
    "plt.scatter(df.index, df['min'], c='r')\n",
    "plt.scatter(df.index, df['max'], c='g')\n",
    "plt.plot(df.index, df['data'])\n",
    "plt.show()"
   ]
  },
  {
   "cell_type": "code",
   "execution_count": null,
   "id": "36d39d17",
   "metadata": {},
   "outputs": [],
   "source": [
    "# @@ Cell 46\n",
    "numeric_df['min'] = numeric_df.iloc[argrelextrema(x, np.less_equal)[0]]['data']\n",
    "numeric_df['max'] = numeric_df.iloc[argrelextrema(x, np.greater_equal)[0]]['data']"
   ]
  },
  {
   "cell_type": "markdown",
   "id": "b6c9fcf0",
   "metadata": {},
   "source": [
    "Plot results"
   ]
  },
  {
   "cell_type": "code",
   "execution_count": null,
   "id": "e0ef6512",
   "metadata": {},
   "outputs": [],
   "source": [
    "plt.scatter(df.index, df['min'], c='r')\n",
    "plt.scatter(df.index, df['max'], c='g')\n",
    "plt.plot(df.index, df['data'])\n",
    "plt.show()"
   ]
  },
  {
   "cell_type": "code",
   "execution_count": null,
   "id": "dd3e57e6",
   "metadata": {},
   "outputs": [],
   "source": [
    "# @@ Cell 47\n",
    "numeric_df['min'] = numeric_df.iloc[argrelextrema(x, np.less_equal)[0]]['data']\n",
    "numeric_df['max'] = numeric_df.iloc[argrelextrema(x, np.greater_equal)[0]]['data']"
   ]
  },
  {
   "cell_type": "markdown",
   "id": "143a7216",
   "metadata": {},
   "source": [
    "Plot results"
   ]
  },
  {
   "cell_type": "code",
   "execution_count": null,
   "id": "b42505f9",
   "metadata": {},
   "outputs": [],
   "source": [
    "plt.scatter(numeric_df.index, numeric_df['min'], c='r')\n",
    "plt.scatter(numeric_df.index, numeric_df['max'], c='g')\n",
    "plt.plot(numeric_df.index, numeric_df['close'])\n",
    "plt.show()"
   ]
  },
  {
   "cell_type": "code",
   "execution_count": null,
   "id": "a5fae3a0",
   "metadata": {},
   "outputs": [],
   "source": [
    "# @@ Cell 48\n",
    "numeric_df['min'] = numeric_df.iloc[argrelextrema(x, np.less_equal)[0]]['close']\n",
    "numeric_df['max'] = numeric_df.iloc[argrelextrema(x, np.greater_equal)[0]]['close']"
   ]
  },
  {
   "cell_type": "markdown",
   "id": "a456cb2c",
   "metadata": {},
   "source": [
    "Plot results"
   ]
  },
  {
   "cell_type": "code",
   "execution_count": null,
   "id": "c2e6b984",
   "metadata": {},
   "outputs": [],
   "source": [
    "plt.scatter(numeric_df.index, numeric_df['min'], c='r')\n",
    "plt.scatter(numeric_df.index, numeric_df['max'], c='g')\n",
    "plt.plot(numeric_df.index, numeric_df['close'])\n",
    "plt.show()"
   ]
  },
  {
   "cell_type": "code",
   "execution_count": null,
   "id": "501e1cd8",
   "metadata": {},
   "outputs": [],
   "source": [
    "# @@ Cell 49\n",
    "df_sample = df.head(50)"
   ]
  },
  {
   "cell_type": "code",
   "execution_count": null,
   "id": "3908ad03",
   "metadata": {},
   "outputs": [],
   "source": [
    "# @@ Cell 50\n",
    "numeric_df = pd.DataFrame()"
   ]
  },
  {
   "cell_type": "code",
   "execution_count": null,
   "id": "ccc7df1e",
   "metadata": {},
   "outputs": [],
   "source": [
    "# @@ Cell 51\n",
    "numeric_df[\"open\"] = pd.to_numeric(df_sample[\"open\"])\n",
    "numeric_df[\"high\"] = pd.to_numeric(df_sample[\"high\"])\n",
    "numeric_df[\"low\"] = pd.to_numeric(df_sample[\"low\"])\n",
    "numeric_df[\"close\"] = pd.to_numeric(df_sample[\"close\"])\n",
    "numeric_df[\"volume\"] = pd.to_numeric(df_sample[\"volume\"])\n",
    "numeric_df.index = pd.to_datetime(numeric_df.index)\n",
    "numeric_df['date'] = mpl_dates.date2num(numeric_df.index)"
   ]
  },
  {
   "cell_type": "code",
   "execution_count": null,
   "id": "85768d27",
   "metadata": {},
   "outputs": [],
   "source": [
    "# @@ Cell 52\n",
    "from scipy.signal import argrelextrema"
   ]
  },
  {
   "cell_type": "code",
   "execution_count": null,
   "id": "36f9b128",
   "metadata": {},
   "outputs": [],
   "source": [
    "x = np.array(numeric_df['close'])"
   ]
  },
  {
   "cell_type": "code",
   "execution_count": null,
   "id": "065ae691",
   "metadata": {},
   "outputs": [],
   "source": [
    "# for local maxima\n",
    "maximas = argrelextrema(x, np.greater)[0]"
   ]
  },
  {
   "cell_type": "code",
   "execution_count": null,
   "id": "1097ca17",
   "metadata": {},
   "outputs": [],
   "source": [
    "# for local minima\n",
    "minimas = argrelextrema(x, np.less)[0]"
   ]
  },
  {
   "cell_type": "code",
   "execution_count": null,
   "id": "bccb6514",
   "metadata": {},
   "outputs": [],
   "source": [
    "# @@ Cell 53\n",
    "maximas"
   ]
  },
  {
   "cell_type": "code",
   "execution_count": null,
   "id": "93678353",
   "metadata": {},
   "outputs": [],
   "source": [
    "# @@ Cell 54\n",
    "minimas"
   ]
  },
  {
   "cell_type": "code",
   "execution_count": null,
   "id": "355cc8cd",
   "metadata": {},
   "outputs": [],
   "source": [
    "# @@ Cell 55\n",
    "extremas = np.concatenate((maximas, minimas), axis=1)[0]"
   ]
  },
  {
   "cell_type": "code",
   "execution_count": null,
   "id": "ba8ce121",
   "metadata": {},
   "outputs": [],
   "source": [
    "# @@ Cell 56\n",
    "extremas = np.concatenate((maximas, minimas), axis=0)[0]"
   ]
  },
  {
   "cell_type": "code",
   "execution_count": null,
   "id": "57c8bbf6",
   "metadata": {},
   "outputs": [],
   "source": [
    "# @@ Cell 57\n",
    "extremas"
   ]
  },
  {
   "cell_type": "code",
   "execution_count": null,
   "id": "49fae3d7",
   "metadata": {},
   "outputs": [],
   "source": [
    "# @@ Cell 58\n",
    "extremas = np.concatenate((maximas, minimas), axis=1)"
   ]
  },
  {
   "cell_type": "code",
   "execution_count": null,
   "id": "30bdefd7",
   "metadata": {},
   "outputs": [],
   "source": [
    "# @@ Cell 59\n",
    "extremas = np.concatenate((maximas, minimas), axis=0)"
   ]
  },
  {
   "cell_type": "code",
   "execution_count": null,
   "id": "fe93cbac",
   "metadata": {},
   "outputs": [],
   "source": [
    "# @@ Cell 60\n",
    "extremas"
   ]
  },
  {
   "cell_type": "code",
   "execution_count": null,
   "id": "d3357150",
   "metadata": {},
   "outputs": [],
   "source": [
    "# @@ Cell 61\n",
    "sorted_extremas = np.sort(extremas) "
   ]
  },
  {
   "cell_type": "code",
   "execution_count": null,
   "id": "9346a96e",
   "metadata": {},
   "outputs": [],
   "source": [
    "# @@ Cell 62\n",
    "sorted_extremas"
   ]
  },
  {
   "cell_type": "code",
   "execution_count": null,
   "id": "8f0af408",
   "metadata": {},
   "outputs": [],
   "source": [
    "# @@ Cell 63\n",
    "numeric_df['min'] = numeric_df.iloc[argrelextrema(x, np.less_equal)[0]]['close']\n",
    "numeric_df['max'] = numeric_df.iloc[argrelextrema(x, np.greater_equal)[0]]['close']"
   ]
  },
  {
   "cell_type": "markdown",
   "id": "328c6bd5",
   "metadata": {},
   "source": [
    "Plot results"
   ]
  },
  {
   "cell_type": "code",
   "execution_count": null,
   "id": "fb71e23e",
   "metadata": {},
   "outputs": [],
   "source": [
    "plt.scatter(numeric_df.index, numeric_df['min'], c='r')\n",
    "plt.scatter(numeric_df.index, numeric_df['max'], c='g')\n",
    "plt.plot(numeric_df.index, numeric_df['close'])\n",
    "plt.show()"
   ]
  },
  {
   "cell_type": "code",
   "execution_count": null,
   "id": "d9341e17",
   "metadata": {},
   "outputs": [],
   "source": [
    "# @@ Cell 64\n",
    "type(numeric_df['close'].iloc[0])"
   ]
  },
  {
   "cell_type": "code",
   "execution_count": null,
   "id": "6a14b494",
   "metadata": {
    "lines_to_next_cell": 1
   },
   "outputs": [],
   "source": [
    "# @@ Cell 65\n",
    "ave =  np.mean(numeric_df['high'] - numeric_df['low'])"
   ]
  },
  {
   "cell_type": "code",
   "execution_count": null,
   "id": "5b51e5e7",
   "metadata": {
    "lines_to_next_cell": 1
   },
   "outputs": [],
   "source": [
    "# a list to store resistance and support levels\n",
    "class Level:\n",
    "    def __init__(self, index, level):\n",
    "        self.index = index\n",
    "        self.level = level\n",
    "\n",
    "    def __hash__(self):\n",
    "        return 0\n",
    "\n",
    "    def __eq__(self, other):\n",
    "        return abs(self.level - other.level) < ave\n",
    "    \n",
    "    def __str__(self):\n",
    "        return f\"({self.index}, {self.level})\""
   ]
  },
  {
   "cell_type": "code",
   "execution_count": null,
   "id": "77a55331",
   "metadata": {},
   "outputs": [],
   "source": [
    "levels = {}"
   ]
  },
  {
   "cell_type": "code",
   "execution_count": null,
   "id": "30be9674",
   "metadata": {},
   "outputs": [],
   "source": [
    "for i in minimas:\n",
    "    low = numeric_df['close'].iloc[i]\n",
    "    level = Level(i, low)\n",
    "    power = levels.get(level, 0) + 1\n",
    "    levels.update({level: power})"
   ]
  },
  {
   "cell_type": "code",
   "execution_count": null,
   "id": "510745fb",
   "metadata": {},
   "outputs": [],
   "source": [
    "for i in extremas:\n",
    "    high = numeric_df['close'].iloc[i]\n",
    "    level = Level(i, high)\n",
    "    power = levels.get(level, 0) + 1\n",
    "    levels.update({level: power})"
   ]
  },
  {
   "cell_type": "code",
   "execution_count": null,
   "id": "29eaff12",
   "metadata": {},
   "outputs": [],
   "source": [
    "# @@ Cell 66\n",
    "{str(level): power for level, power in levels.items()}"
   ]
  },
  {
   "cell_type": "code",
   "execution_count": null,
   "id": "391f32fb",
   "metadata": {
    "lines_to_next_cell": 1
   },
   "outputs": [],
   "source": [
    "# @@ Cell 67\n",
    "ave"
   ]
  },
  {
   "cell_type": "code",
   "execution_count": null,
   "id": "82d6c190",
   "metadata": {
    "lines_to_next_cell": 1
   },
   "outputs": [],
   "source": [
    "# @@ Cell 68\n",
    "#method 1: fractal candlestick pattern\n",
    "# determine bullish fractal \n",
    "def is_support(df,i):  \n",
    "  cond1 = df['low'][i] < df['low'][i-1]   \n",
    "  cond2 = df['low'][i] < df['low'][i+1]   \n",
    "  cond3 = df['low'][i+1] < df['low'][i+2]   \n",
    "  cond4 = df['low'][i-1] < df['low'][i-2]  \n",
    "  return (cond1 and cond2 and cond3 and cond4) \n",
    "# determine bearish fractal\n",
    "def is_resistance(df,i):  \n",
    "  cond1 = df['high'][i] > df['high'][i-1]   \n",
    "  cond2 = df['high'][i] > df['high'][i+1]   \n",
    "  cond3 = df['high'][i+1] > df['high'][i+2]   \n",
    "  cond4 = df['high'][i-1] > df['high'][i-2]  \n",
    "  return (cond1 and cond2 and cond3 and cond4)\n",
    "# to make sure the new level area does not exist already"
   ]
  },
  {
   "cell_type": "code",
   "execution_count": null,
   "id": "5d6b7a93",
   "metadata": {
    "lines_to_next_cell": 1
   },
   "outputs": [],
   "source": [
    "levels_power = []\n",
    "ave =  np.mean(numeric_df['high'] - numeric_df['low'])\n",
    "def is_far_from_level(value, levels, df):  \n",
    "  return np.sum([abs(value-level) < ave for _,level in levels])==0"
   ]
  },
  {
   "cell_type": "code",
   "execution_count": null,
   "id": "15f075bd",
   "metadata": {
    "lines_to_next_cell": 1
   },
   "outputs": [],
   "source": [
    "# a list to store resistance and support levels\n",
    "class Level:\n",
    "    def __init__(self, index, level):\n",
    "        self.index = index\n",
    "        self.level = level\n",
    "\n",
    "    def __hash__(self):\n",
    "        return 0\n",
    "\n",
    "    def __eq__(self, other):\n",
    "        return abs(self.level - other.level) < ave\n",
    "    \n",
    "    def __str__(self):\n",
    "        return f\"({self.index}, {self.level})\""
   ]
  },
  {
   "cell_type": "code",
   "execution_count": null,
   "id": "7b9f7de3",
   "metadata": {
    "lines_to_next_cell": 1
   },
   "outputs": [],
   "source": [
    "levels = {}\n",
    "for i in range(2, numeric_df.shape[0] - 2):  \n",
    "    if is_support(numeric_df, i):    \n",
    "        low = numeric_df['low'][i]    \n",
    "        #if is_far_from_level(low, levels, numeric_df):      \n",
    "        level = Level(i, low)\n",
    "        power = levels.get(level, 0) + 1\n",
    "        levels.update({level: power})\n",
    "    elif is_resistance(numeric_df, i):    \n",
    "        high = numeric_df['high'][i]    \n",
    "        #if is_far_from_level(high, levels, numeric_df):      \n",
    "        level = Level(i, high)\n",
    "        power = levels.get(level, 0) + 1\n",
    "        levels.update({level: power})\n",
    "    print({str(level): power} for level, power in levels.items())"
   ]
  },
  {
   "cell_type": "code",
   "execution_count": null,
   "id": "37030f3c",
   "metadata": {
    "lines_to_next_cell": 1
   },
   "outputs": [],
   "source": [
    "# @@ Cell 69\n",
    "#method 1: fractal candlestick pattern\n",
    "# determine bullish fractal \n",
    "def is_support(df,i):  \n",
    "  cond1 = df['low'][i] < df['low'][i-1]   \n",
    "  cond2 = df['low'][i] < df['low'][i+1]   \n",
    "  cond3 = df['low'][i+1] < df['low'][i+2]   \n",
    "  cond4 = df['low'][i-1] < df['low'][i-2]  \n",
    "  return (cond1 and cond2 and cond3 and cond4) \n",
    "# determine bearish fractal\n",
    "def is_resistance(df,i):  \n",
    "  cond1 = df['high'][i] > df['high'][i-1]   \n",
    "  cond2 = df['high'][i] > df['high'][i+1]   \n",
    "  cond3 = df['high'][i+1] > df['high'][i+2]   \n",
    "  cond4 = df['high'][i-1] > df['high'][i-2]  \n",
    "  return (cond1 and cond2 and cond3 and cond4)\n",
    "# to make sure the new level area does not exist already"
   ]
  },
  {
   "cell_type": "code",
   "execution_count": null,
   "id": "029cf878",
   "metadata": {
    "lines_to_next_cell": 1
   },
   "outputs": [],
   "source": [
    "levels_power = []\n",
    "ave =  np.mean(numeric_df['high'] - numeric_df['low'])\n",
    "def is_far_from_level(value, levels, df):  \n",
    "  return np.sum([abs(value-level) < ave for _,level in levels])==0"
   ]
  },
  {
   "cell_type": "code",
   "execution_count": null,
   "id": "3953e769",
   "metadata": {
    "lines_to_next_cell": 1
   },
   "outputs": [],
   "source": [
    "# a list to store resistance and support levels\n",
    "class Level:\n",
    "    def __init__(self, index, level):\n",
    "        self.index = index\n",
    "        self.level = level\n",
    "\n",
    "    def __hash__(self):\n",
    "        return 0\n",
    "\n",
    "    def __eq__(self, other):\n",
    "        return abs(self.level - other.level) < ave\n",
    "    \n",
    "    def __str__(self):\n",
    "        return f\"({self.index}, {self.level})\""
   ]
  },
  {
   "cell_type": "code",
   "execution_count": null,
   "id": "18e0b0e5",
   "metadata": {},
   "outputs": [],
   "source": [
    "levels = {}\n",
    "for i in range(2, numeric_df.shape[0] - 2):  \n",
    "    if is_support(numeric_df, i):    \n",
    "        low = numeric_df['low'][i]    \n",
    "        #if is_far_from_level(low, levels, numeric_df):      \n",
    "        level = Level(i, low)\n",
    "        power = levels.get(level, 0) + 1\n",
    "        levels.update({level: power})\n",
    "    elif is_resistance(numeric_df, i):    \n",
    "        high = numeric_df['high'][i]    \n",
    "        #if is_far_from_level(high, levels, numeric_df):      \n",
    "        level = Level(i, high)\n",
    "        power = levels.get(level, 0) + 1\n",
    "        levels.update({level: power})\n",
    "    print({str(level): power for level, power in levels.items()})"
   ]
  },
  {
   "cell_type": "code",
   "execution_count": null,
   "id": "6f79ce28",
   "metadata": {
    "lines_to_next_cell": 1
   },
   "outputs": [],
   "source": [
    "# @@ Cell 70\n",
    "ave =  np.mean(numeric_df['high'] - numeric_df['low'])"
   ]
  },
  {
   "cell_type": "code",
   "execution_count": null,
   "id": "d7f55d00",
   "metadata": {
    "lines_to_next_cell": 1
   },
   "outputs": [],
   "source": [
    "# a list to store resistance and support levels\n",
    "class Level:\n",
    "    def __init__(self, index, level):\n",
    "        self.index = index\n",
    "        self.level = level\n",
    "\n",
    "    def __hash__(self):\n",
    "        return 0\n",
    "\n",
    "    def __eq__(self, other):\n",
    "        return abs(self.level - other.level) < ave\n",
    "    \n",
    "    def __str__(self):\n",
    "        return f\"({self.index}, {self.level})\""
   ]
  },
  {
   "cell_type": "code",
   "execution_count": null,
   "id": "9eebb3d3",
   "metadata": {},
   "outputs": [],
   "source": [
    "levels = {}"
   ]
  },
  {
   "cell_type": "code",
   "execution_count": null,
   "id": "12aa21f6",
   "metadata": {},
   "outputs": [],
   "source": [
    "for i in minimas:\n",
    "    low = numeric_df['close'].iloc[i]\n",
    "    level = Level(i, low)\n",
    "    power = levels.get(level, 0) + 1\n",
    "    levels.update({level: power})\n",
    "    print({str(level): power for level, power in levels.items()})"
   ]
  },
  {
   "cell_type": "code",
   "execution_count": null,
   "id": "10b1b8a5",
   "metadata": {},
   "outputs": [],
   "source": [
    "for i in extremas:\n",
    "    high = numeric_df['close'].iloc[i]\n",
    "    level = Level(i, high)\n",
    "    power = levels.get(level, 0) + 1\n",
    "    levels.update({level: power})\n",
    "    print({str(level): power for level, power in levels.items()})"
   ]
  },
  {
   "cell_type": "code",
   "execution_count": null,
   "id": "5049328d",
   "metadata": {
    "lines_to_next_cell": 1
   },
   "outputs": [],
   "source": [
    "# @@ Cell 71\n",
    "ave =  np.mean(numeric_df['high'] - numeric_df['low'])"
   ]
  },
  {
   "cell_type": "code",
   "execution_count": null,
   "id": "8a8289dc",
   "metadata": {
    "lines_to_next_cell": 1
   },
   "outputs": [],
   "source": [
    "# a list to store resistance and support levels\n",
    "class Level:\n",
    "    def __init__(self, index, level):\n",
    "        self.index = index\n",
    "        self.level = level\n",
    "\n",
    "    def __hash__(self):\n",
    "        return 0\n",
    "\n",
    "    def __eq__(self, other):\n",
    "        return abs(self.level - other.level) < ave\n",
    "    \n",
    "    def __str__(self):\n",
    "        return f\"({self.index}, {self.level})\""
   ]
  },
  {
   "cell_type": "code",
   "execution_count": null,
   "id": "6b02ad82",
   "metadata": {},
   "outputs": [],
   "source": [
    "levels = {}"
   ]
  },
  {
   "cell_type": "code",
   "execution_count": null,
   "id": "0585cd8f",
   "metadata": {},
   "outputs": [],
   "source": [
    "for i in minimas:\n",
    "    low = numeric_df['close'].iloc[i]\n",
    "    level = Level(i, low)\n",
    "    power = levels.get(level, 0) + 1\n",
    "    levels.update({level: power})\n",
    "    print(f\"Take into account {str(level)}: {power}\")\n",
    "    print({str(level): power for level, power in levels.items()})"
   ]
  },
  {
   "cell_type": "code",
   "execution_count": null,
   "id": "7910ea70",
   "metadata": {},
   "outputs": [],
   "source": [
    "print(\"----------------------------------------------------------\")\n",
    "for i in extremas:\n",
    "    high = numeric_df['close'].iloc[i]\n",
    "    level = Level(i, high)\n",
    "    power = levels.get(level, 0) + 1\n",
    "    levels.update({level: power})\n",
    "    print(f\"Take into account {str(level)}: {power}\")\n",
    "    print({str(level): power for level, power in levels.items()})"
   ]
  },
  {
   "cell_type": "code",
   "execution_count": null,
   "id": "ddf78756",
   "metadata": {
    "lines_to_next_cell": 1
   },
   "outputs": [],
   "source": [
    "# @@ Cell 72\n",
    "ave =  np.mean(numeric_df['high'] - numeric_df['low'])"
   ]
  },
  {
   "cell_type": "code",
   "execution_count": null,
   "id": "f409dde8",
   "metadata": {
    "lines_to_next_cell": 1
   },
   "outputs": [],
   "source": [
    "# a list to store resistance and support levels\n",
    "class Level:\n",
    "    def __init__(self, index, level):\n",
    "        self.index = index\n",
    "        self.level = level\n",
    "\n",
    "    def __hash__(self):\n",
    "        return 0\n",
    "\n",
    "    def __eq__(self, other):\n",
    "        return abs(self.level - other.level) < ave\n",
    "    \n",
    "    def __str__(self):\n",
    "        return f\"({self.index}, {self.level})\""
   ]
  },
  {
   "cell_type": "code",
   "execution_count": null,
   "id": "1491cb98",
   "metadata": {},
   "outputs": [],
   "source": [
    "levels = {}"
   ]
  },
  {
   "cell_type": "code",
   "execution_count": null,
   "id": "3efa2cb6",
   "metadata": {},
   "outputs": [],
   "source": [
    "for i in minimas:\n",
    "    low = numeric_df['close'].iloc[i]\n",
    "    level = Level(i, low)\n",
    "    power = levels.get(level, 0) + 1\n",
    "    levels.update({level: power})\n",
    "    print(f\"Take into account {str(level)}: {power}\")\n",
    "    print({str(level): power for level, power in levels.items()})"
   ]
  },
  {
   "cell_type": "code",
   "execution_count": null,
   "id": "7b7265d9",
   "metadata": {},
   "outputs": [],
   "source": [
    "print(\"----------------------------------------------------------\")\n",
    "for i in maximas:\n",
    "    high = numeric_df['close'].iloc[i]\n",
    "    level = Level(i, high)\n",
    "    power = levels.get(level, 0) + 1\n",
    "    levels.update({level: power})\n",
    "    print(f\"Take into account {str(level)}: {power}\")\n",
    "    print({str(level): power for level, power in levels.items()})"
   ]
  },
  {
   "cell_type": "code",
   "execution_count": null,
   "id": "d2de3096",
   "metadata": {},
   "outputs": [],
   "source": [
    "# @@ Cell 73\n",
    "{str(level): power for level, power in levels.items()}"
   ]
  },
  {
   "cell_type": "code",
   "execution_count": null,
   "id": "d628f7c3",
   "metadata": {},
   "outputs": [],
   "source": [
    "# @@ Cell 74\n",
    "numeric_df.head()"
   ]
  },
  {
   "cell_type": "code",
   "execution_count": null,
   "id": "fb984f54",
   "metadata": {},
   "outputs": [],
   "source": [
    "# @@ Cell 75\n",
    "numeric_df['min'] = numeric_df.iloc[argrelextrema(x, np.less)[0]]['close']\n",
    "numeric_df['max'] = numeric_df.iloc[argrelextrema(x, np.greater)[0]]['close']"
   ]
  },
  {
   "cell_type": "markdown",
   "id": "6f5f0c3a",
   "metadata": {},
   "source": [
    "Plot results"
   ]
  },
  {
   "cell_type": "code",
   "execution_count": null,
   "id": "c750e8d0",
   "metadata": {},
   "outputs": [],
   "source": [
    "plt.scatter(numeric_df.index, numeric_df['min'], c='r')\n",
    "plt.scatter(numeric_df.index, numeric_df['max'], c='g')\n",
    "plt.plot(numeric_df.index, numeric_df['close'])\n",
    "plt.show()"
   ]
  },
  {
   "cell_type": "code",
   "execution_count": null,
   "id": "49eb8128",
   "metadata": {
    "lines_to_next_cell": 1
   },
   "outputs": [],
   "source": [
    "# @@ Cell 76\n",
    "ave =  np.mean(numeric_df['high'] - numeric_df['low'])"
   ]
  },
  {
   "cell_type": "code",
   "execution_count": null,
   "id": "e7440948",
   "metadata": {
    "lines_to_next_cell": 1
   },
   "outputs": [],
   "source": [
    "# a list to store resistance and support levels\n",
    "class Level:\n",
    "    def __init__(self, index, level, level_type):\n",
    "        self.index = index\n",
    "        self.level = level\n",
    "        self.level_type = level_type\n",
    "\n",
    "    def __hash__(self):\n",
    "        return 0\n",
    "\n",
    "    def __eq__(self, other):\n",
    "        return abs(self.level - other.level) < ave\n",
    "    \n",
    "    def __str__(self):\n",
    "        return f\"({self.index}, {self.level}, {self.level_type})\""
   ]
  },
  {
   "cell_type": "code",
   "execution_count": null,
   "id": "c08f80f0",
   "metadata": {},
   "outputs": [],
   "source": [
    "levels = {}"
   ]
  },
  {
   "cell_type": "code",
   "execution_count": null,
   "id": "7e97281d",
   "metadata": {},
   "outputs": [],
   "source": [
    "for i in minimas:\n",
    "    low = numeric_df['close'].iloc[i]\n",
    "    level = Level(i, low)\n",
    "    power = levels.get(level, 0) + 1\n",
    "    levels.update({level: power})\n",
    "    print(f\"Take into account {str(level)}: {power}\")\n",
    "    print({str(level): power for level, power in levels.items()})"
   ]
  },
  {
   "cell_type": "code",
   "execution_count": null,
   "id": "6f9f8506",
   "metadata": {},
   "outputs": [],
   "source": [
    "print(\"----------------------------------------------------------\")\n",
    "for i in maximas:\n",
    "    high = numeric_df['close'].iloc[i]\n",
    "    level = Level(i, high)\n",
    "    power = levels.get(level, 0) + 1\n",
    "    levels.update({level: power})\n",
    "    print(f\"Take into account {str(level)}: {power}\")\n",
    "    print({str(level): power for level, power in levels.items()})"
   ]
  },
  {
   "cell_type": "code",
   "execution_count": null,
   "id": "85beac49",
   "metadata": {
    "lines_to_next_cell": 1
   },
   "outputs": [],
   "source": [
    "# @@ Cell 77\n",
    "ave =  np.mean(numeric_df['high'] - numeric_df['low'])"
   ]
  },
  {
   "cell_type": "code",
   "execution_count": null,
   "id": "f4d10407",
   "metadata": {
    "lines_to_next_cell": 1
   },
   "outputs": [],
   "source": [
    "# a list to store resistance and support levels\n",
    "class Level:\n",
    "    def __init__(self, index, level, level_type):\n",
    "        self.index = index\n",
    "        self.level = level\n",
    "        self.level_type = level_type\n",
    "\n",
    "    def __hash__(self):\n",
    "        return 0\n",
    "\n",
    "    def __eq__(self, other):\n",
    "        return abs(self.level - other.level) < ave\n",
    "    \n",
    "    def __str__(self):\n",
    "        return f\"({self.index}, {self.level}, {self.level_type})\""
   ]
  },
  {
   "cell_type": "code",
   "execution_count": null,
   "id": "e136818a",
   "metadata": {},
   "outputs": [],
   "source": [
    "levels = {}"
   ]
  },
  {
   "cell_type": "code",
   "execution_count": null,
   "id": "72df713b",
   "metadata": {},
   "outputs": [],
   "source": [
    "for i in minimas:\n",
    "    low = numeric_df['close'].iloc[i]\n",
    "    level = Level(i, low)\n",
    "    power = levels.get(level, 0, \"support\") + 1\n",
    "    levels.update({level: power})\n",
    "    print(f\"Take into account {str(level)}: {power}\")\n",
    "    print({str(level): power for level, power in levels.items()})"
   ]
  },
  {
   "cell_type": "code",
   "execution_count": null,
   "id": "34962e38",
   "metadata": {},
   "outputs": [],
   "source": [
    "print(\"----------------------------------------------------------\")\n",
    "for i in maximas:\n",
    "    high = numeric_df['close'].iloc[i]\n",
    "    level = Level(i, high)\n",
    "    power = levels.get(level, 0, \"resistance\") + 1\n",
    "    levels.update({level: power})\n",
    "    print(f\"Take into account {str(level)}: {power}\")\n",
    "    print({str(level): power for level, power in levels.items()})"
   ]
  },
  {
   "cell_type": "code",
   "execution_count": null,
   "id": "1de1fe52",
   "metadata": {
    "lines_to_next_cell": 1
   },
   "outputs": [],
   "source": [
    "# @@ Cell 78\n",
    "ave =  np.mean(numeric_df['high'] - numeric_df['low'])"
   ]
  },
  {
   "cell_type": "code",
   "execution_count": null,
   "id": "46e0c4a0",
   "metadata": {
    "lines_to_next_cell": 1
   },
   "outputs": [],
   "source": [
    "# a list to store resistance and support levels\n",
    "class Level:\n",
    "    def __init__(self, index, level, level_type):\n",
    "        self.index = index\n",
    "        self.level = level\n",
    "        self.level_type = level_type\n",
    "\n",
    "    def __hash__(self):\n",
    "        return 0\n",
    "\n",
    "    def __eq__(self, other):\n",
    "        return abs(self.level - other.level) < ave\n",
    "    \n",
    "    def __str__(self):\n",
    "        return f\"({self.index}, {self.level}, {self.level_type})\""
   ]
  },
  {
   "cell_type": "code",
   "execution_count": null,
   "id": "d3f9f532",
   "metadata": {},
   "outputs": [],
   "source": [
    "levels = {}"
   ]
  },
  {
   "cell_type": "code",
   "execution_count": null,
   "id": "7de37a70",
   "metadata": {},
   "outputs": [],
   "source": [
    "for i in minimas:\n",
    "    low = numeric_df['close'].iloc[i]\n",
    "    level = Level(i, low, \"support\")\n",
    "    power = levels.get(level, 0) + 1\n",
    "    levels.update({level: power})\n",
    "    print(f\"Take into account {str(level)}: {power}\")\n",
    "    print({str(level): power for level, power in levels.items()})"
   ]
  },
  {
   "cell_type": "code",
   "execution_count": null,
   "id": "9171a79a",
   "metadata": {},
   "outputs": [],
   "source": [
    "print(\"----------------------------------------------------------\")\n",
    "for i in maximas:\n",
    "    high = numeric_df['close'].iloc[i]\n",
    "    level = Level(i, high, \"resistance\")\n",
    "    power = levels.get(level, 0, \"resistance\") + 1\n",
    "    levels.update({level: power})\n",
    "    print(f\"Take into account {str(level)}: {power}\")\n",
    "    print({str(level): power for level, power in levels.items()})"
   ]
  },
  {
   "cell_type": "code",
   "execution_count": null,
   "id": "73a0dd77",
   "metadata": {
    "lines_to_next_cell": 1
   },
   "outputs": [],
   "source": [
    "# @@ Cell 79\n",
    "ave =  np.mean(numeric_df['high'] - numeric_df['low'])"
   ]
  },
  {
   "cell_type": "code",
   "execution_count": null,
   "id": "50528e4c",
   "metadata": {
    "lines_to_next_cell": 1
   },
   "outputs": [],
   "source": [
    "# a list to store resistance and support levels\n",
    "class Level:\n",
    "    def __init__(self, index, level, level_type):\n",
    "        self.index = index\n",
    "        self.level = level\n",
    "        self.level_type = level_type\n",
    "\n",
    "    def __hash__(self):\n",
    "        return 0\n",
    "\n",
    "    def __eq__(self, other):\n",
    "        return abs(self.level - other.level) < ave\n",
    "    \n",
    "    def __str__(self):\n",
    "        return f\"({self.index}, {self.level}, {self.level_type})\""
   ]
  },
  {
   "cell_type": "code",
   "execution_count": null,
   "id": "bd71aa84",
   "metadata": {},
   "outputs": [],
   "source": [
    "levels = {}"
   ]
  },
  {
   "cell_type": "code",
   "execution_count": null,
   "id": "d54e4260",
   "metadata": {},
   "outputs": [],
   "source": [
    "for i in minimas:\n",
    "    low = numeric_df['close'].iloc[i]\n",
    "    level = Level(i, low, \"support\")\n",
    "    power = levels.get(level, 0) + 1\n",
    "    levels.update({level: power})\n",
    "    print(f\"Take into account {str(level)}: {power}\")\n",
    "    print({str(level): power for level, power in levels.items()})"
   ]
  },
  {
   "cell_type": "code",
   "execution_count": null,
   "id": "bce598b1",
   "metadata": {},
   "outputs": [],
   "source": [
    "print(\"----------------------------------------------------------\")\n",
    "for i in maximas:\n",
    "    high = numeric_df['close'].iloc[i]\n",
    "    level = Level(i, high, \"resistance\")\n",
    "    power = levels.get(level, 0) + 1\n",
    "    levels.update({level: power})\n",
    "    print(f\"Take into account {str(level)}: {power}\")\n",
    "    print({str(level): power for level, power in levels.items()})"
   ]
  },
  {
   "cell_type": "code",
   "execution_count": null,
   "id": "01d1e220",
   "metadata": {},
   "outputs": [],
   "source": [
    "# @@ Cell 80\n",
    "{str(level): power for level, power in levels.items()}"
   ]
  },
  {
   "cell_type": "code",
   "execution_count": null,
   "id": "77dba97b",
   "metadata": {
    "lines_to_next_cell": 1
   },
   "outputs": [],
   "source": [
    "# @@ Cell 81\n",
    "ave =  np.mean(numeric_df['high'] - numeric_df['low'])"
   ]
  },
  {
   "cell_type": "code",
   "execution_count": null,
   "id": "7e7ec428",
   "metadata": {
    "lines_to_next_cell": 1
   },
   "outputs": [],
   "source": [
    "# a list to store resistance and support levels\n",
    "class Level:\n",
    "    def __init__(self, index, level, level_type):\n",
    "        self.index = index\n",
    "        self.level = level\n",
    "        self.level_type = level_type\n",
    "\n",
    "    def __hash__(self):\n",
    "        return 0\n",
    "\n",
    "    def __eq__(self, other):\n",
    "        return self.level_type = other.level_type and abs(self.level - other.level) < ave\n",
    "    \n",
    "    def __str__(self):\n",
    "        return f\"({self.index}, {self.level}, {self.level_type})\""
   ]
  },
  {
   "cell_type": "code",
   "execution_count": null,
   "id": "b1443d6a",
   "metadata": {},
   "outputs": [],
   "source": [
    "levels = {}"
   ]
  },
  {
   "cell_type": "code",
   "execution_count": null,
   "id": "19c587a7",
   "metadata": {},
   "outputs": [],
   "source": [
    "for i in minimas:\n",
    "    low = numeric_df['close'].iloc[i]\n",
    "    level = Level(i, low, \"support\")\n",
    "    power = levels.get(level, 0) + 1\n",
    "    levels.update({level: power})\n",
    "    print(f\"Take into account {str(level)}: {power}\")\n",
    "    print({str(level): power for level, power in levels.items()})"
   ]
  },
  {
   "cell_type": "code",
   "execution_count": null,
   "id": "ad76e990",
   "metadata": {},
   "outputs": [],
   "source": [
    "print(\"----------------------------------------------------------\")\n",
    "for i in maximas:\n",
    "    high = numeric_df['close'].iloc[i]\n",
    "    level = Level(i, high, \"resistance\")\n",
    "    power = levels.get(level, 0) + 1\n",
    "    levels.update({level: power})\n",
    "    print(f\"Take into account {str(level)}: {power}\")\n",
    "    print({str(level): power for level, power in levels.items()})"
   ]
  },
  {
   "cell_type": "code",
   "execution_count": null,
   "id": "11189673",
   "metadata": {
    "lines_to_next_cell": 1
   },
   "outputs": [],
   "source": [
    "# @@ Cell 82\n",
    "ave =  np.mean(numeric_df['high'] - numeric_df['low'])"
   ]
  },
  {
   "cell_type": "code",
   "execution_count": null,
   "id": "73eb8d16",
   "metadata": {
    "lines_to_next_cell": 1
   },
   "outputs": [],
   "source": [
    "# a list to store resistance and support levels\n",
    "class Level:\n",
    "    def __init__(self, index, level, level_type):\n",
    "        self.index = index\n",
    "        self.level = level\n",
    "        self.level_type = level_type\n",
    "\n",
    "    def __hash__(self):\n",
    "        return 0\n",
    "\n",
    "    def __eq__(self, other):\n",
    "        return self.level_type == other.level_type and abs(self.level - other.level) < ave\n",
    "    \n",
    "    def __str__(self):\n",
    "        return f\"({self.index}, {self.level}, {self.level_type})\""
   ]
  },
  {
   "cell_type": "code",
   "execution_count": null,
   "id": "5a4c5e52",
   "metadata": {},
   "outputs": [],
   "source": [
    "levels = {}"
   ]
  },
  {
   "cell_type": "code",
   "execution_count": null,
   "id": "8ac87bdb",
   "metadata": {},
   "outputs": [],
   "source": [
    "for i in minimas:\n",
    "    low = numeric_df['close'].iloc[i]\n",
    "    level = Level(i, low, \"support\")\n",
    "    power = levels.get(level, 0) + 1\n",
    "    levels.update({level: power})\n",
    "    print(f\"Take into account {str(level)}: {power}\")\n",
    "    print({str(level): power for level, power in levels.items()})"
   ]
  },
  {
   "cell_type": "code",
   "execution_count": null,
   "id": "16febe86",
   "metadata": {},
   "outputs": [],
   "source": [
    "print(\"----------------------------------------------------------\")\n",
    "for i in maximas:\n",
    "    high = numeric_df['close'].iloc[i]\n",
    "    level = Level(i, high, \"resistance\")\n",
    "    power = levels.get(level, 0) + 1\n",
    "    levels.update({level: power})\n",
    "    print(f\"Take into account {str(level)}: {power}\")\n",
    "    print({str(level): power for level, power in levels.items()})"
   ]
  },
  {
   "cell_type": "code",
   "execution_count": null,
   "id": "d11d2829",
   "metadata": {},
   "outputs": [],
   "source": [
    "# @@ Cell 83\n",
    "{str(level): power for level, power in levels.items()}"
   ]
  },
  {
   "cell_type": "code",
   "execution_count": null,
   "id": "0d6961e3",
   "metadata": {
    "lines_to_next_cell": 1
   },
   "outputs": [],
   "source": [
    "# @@ Cell 84\n",
    "ave =  np.mean(numeric_df['high'] - numeric_df['low']) / 2"
   ]
  },
  {
   "cell_type": "code",
   "execution_count": null,
   "id": "939c6c80",
   "metadata": {
    "lines_to_next_cell": 1
   },
   "outputs": [],
   "source": [
    "# a list to store resistance and support levels\n",
    "class Level:\n",
    "    def __init__(self, index, level, level_type):\n",
    "        self.index = index\n",
    "        self.level = level\n",
    "        self.level_type = level_type\n",
    "\n",
    "    def __hash__(self):\n",
    "        return 0\n",
    "\n",
    "    def __eq__(self, other):\n",
    "        return self.level_type == other.level_type and abs(self.level - other.level) < ave\n",
    "    \n",
    "    def __str__(self):\n",
    "        return f\"({self.index}, {self.level}, {self.level_type})\""
   ]
  },
  {
   "cell_type": "code",
   "execution_count": null,
   "id": "e5e6ddd5",
   "metadata": {},
   "outputs": [],
   "source": [
    "levels = {}"
   ]
  },
  {
   "cell_type": "code",
   "execution_count": null,
   "id": "a5d5f7ef",
   "metadata": {},
   "outputs": [],
   "source": [
    "for i in minimas:\n",
    "    low = numeric_df['close'].iloc[i]\n",
    "    level = Level(i, low, \"support\")\n",
    "    power = levels.get(level, 0) + 1\n",
    "    levels.update({level: power})\n",
    "    print(f\"Take into account {str(level)}: {power}\")\n",
    "    print({str(level): power for level, power in levels.items()})"
   ]
  },
  {
   "cell_type": "code",
   "execution_count": null,
   "id": "d762de88",
   "metadata": {
    "lines_to_next_cell": 1
   },
   "outputs": [],
   "source": [
    "print(\"----------------------------------------------------------\")\n",
    "for i in maximas:\n",
    "    high = numeric_df['close'].iloc[i]\n",
    "    level = Level(i, high, \"resistance\")\n",
    "    power = levels.get(level, 0) + 1\n",
    "    levels.update({level: power})\n",
    "    print(f\"Take into account {str(level)}: {power}\")\n",
    "    print({str(level): power for level, power in levels.items()})"
   ]
  },
  {
   "cell_type": "code",
   "execution_count": null,
   "id": "a964f559",
   "metadata": {
    "lines_to_next_cell": 1
   },
   "outputs": [],
   "source": [
    "# @@ Cell 85\n",
    "#method 1: fractal candlestick pattern\n",
    "# determine bullish fractal \n",
    "def is_support(df,i):  \n",
    "  cond1 = df['low'][i] < df['low'][i-1]   \n",
    "  cond2 = df['low'][i] < df['low'][i+1]   \n",
    "  cond3 = df['low'][i+1] < df['low'][i+2]   \n",
    "  cond4 = df['low'][i-1] < df['low'][i-2]  \n",
    "  return (cond1 and cond2 and cond3 and cond4) \n",
    "# determine bearish fractal\n",
    "def is_resistance(df,i):  \n",
    "  cond1 = df['high'][i] > df['high'][i-1]   \n",
    "  cond2 = df['high'][i] > df['high'][i+1]   \n",
    "  cond3 = df['high'][i+1] > df['high'][i+2]   \n",
    "  cond4 = df['high'][i-1] > df['high'][i-2]  \n",
    "  return (cond1 and cond2 and cond3 and cond4)\n",
    "# to make sure the new level area does not exist already"
   ]
  },
  {
   "cell_type": "code",
   "execution_count": null,
   "id": "03dd2c94",
   "metadata": {
    "lines_to_next_cell": 1
   },
   "outputs": [],
   "source": [
    "levels_power = []\n",
    "ave =  np.mean(numeric_df['high'] - numeric_df['low'])\n",
    "def is_far_from_level(value, levels, df):  \n",
    "  return np.sum([abs(value-level) < ave for _,level in levels])==0"
   ]
  },
  {
   "cell_type": "code",
   "execution_count": null,
   "id": "b55d8a57",
   "metadata": {
    "lines_to_next_cell": 1
   },
   "outputs": [],
   "source": [
    "# a list to store resistance and support levels\n",
    "class Level:\n",
    "    def __init__(self, index, level):\n",
    "        self.index = index\n",
    "        self.level = level\n",
    "\n",
    "    def __hash__(self):\n",
    "        return 0\n",
    "\n",
    "    def __eq__(self, other):\n",
    "        return abs(self.level - other.level) < ave\n",
    "    \n",
    "    def __str__(self):\n",
    "        return f\"({self.index}, {self.level})\""
   ]
  },
  {
   "cell_type": "code",
   "execution_count": null,
   "id": "d98f0836",
   "metadata": {},
   "outputs": [],
   "source": [
    "levels = {}\n",
    "for i in range(2, numeric_df.shape[0] - 2):  \n",
    "    if is_support(numeric_df, i):    \n",
    "        low = numeric_df['low'][i]    \n",
    "        #if is_far_from_level(low, levels, numeric_df):      \n",
    "        level = Level(i, low)\n",
    "        power = levels.get(level, 0) + 1\n",
    "        levels.update({level: power})\n",
    "    elif is_resistance(numeric_df, i):    \n",
    "        high = numeric_df['high'][i]    \n",
    "        #if is_far_from_level(high, levels, numeric_df):      \n",
    "        level = Level(i, high)\n",
    "        power = levels.get(level, 0) + 1\n",
    "        levels.update({level: power})"
   ]
  },
  {
   "cell_type": "code",
   "execution_count": null,
   "id": "f8fb58d3",
   "metadata": {},
   "outputs": [],
   "source": [
    "# @@ Cell 86\n",
    "{str(level): power for level, power in levels.items()}"
   ]
  },
  {
   "cell_type": "code",
   "execution_count": null,
   "id": "9babbe4f",
   "metadata": {
    "lines_to_next_cell": 1
   },
   "outputs": [],
   "source": [
    "# @@ Cell 87\n",
    "ave =  np.mean(numeric_df['high'] - numeric_df['low']) / 2"
   ]
  },
  {
   "cell_type": "code",
   "execution_count": null,
   "id": "4e59edf7",
   "metadata": {
    "lines_to_next_cell": 1
   },
   "outputs": [],
   "source": [
    "# a list to store resistance and support levels\n",
    "class Level:\n",
    "    def __init__(self, index, level, level_type):\n",
    "        self.index = index\n",
    "        self.level = level\n",
    "        self.level_type = level_type\n",
    "\n",
    "    def __hash__(self):\n",
    "        return 0\n",
    "\n",
    "    def __eq__(self, other):\n",
    "        return self.level_type == other.level_type and abs(self.level - other.level) < ave\n",
    "    \n",
    "    def __str__(self):\n",
    "        return f\"({self.index}, {self.level}, {self.level_type})\""
   ]
  },
  {
   "cell_type": "code",
   "execution_count": null,
   "id": "309f0b61",
   "metadata": {},
   "outputs": [],
   "source": [
    "levels = {}"
   ]
  },
  {
   "cell_type": "code",
   "execution_count": null,
   "id": "4e6df91e",
   "metadata": {},
   "outputs": [],
   "source": [
    "for i in minimas:\n",
    "    low = numeric_df['close'].iloc[i]\n",
    "    level = Level(i, low, \"support\")\n",
    "    power = levels.get(level, 0) + 1\n",
    "    levels.update({level: power})\n",
    "    print(f\"Take into account {str(level)}: {power}\")\n",
    "    print({str(level): power for level, power in levels.items()})"
   ]
  },
  {
   "cell_type": "code",
   "execution_count": null,
   "id": "6b62b3dc",
   "metadata": {},
   "outputs": [],
   "source": [
    "print(\"----------------------------------------------------------\")\n",
    "for i in maximas:\n",
    "    high = numeric_df['close'].iloc[i]\n",
    "    level = Level(i, high, \"resistance\")\n",
    "    power = levels.get(level, 0) + 1\n",
    "    levels.update({level: power})\n",
    "    print(f\"Take into account {str(level)}: {power}\")\n",
    "    print({str(level): power for level, power in levels.items()})"
   ]
  },
  {
   "cell_type": "code",
   "execution_count": null,
   "id": "7c4576ef",
   "metadata": {},
   "outputs": [],
   "source": [
    "# @@ Cell 88\n",
    "{str(level): power for level, power in levels.items()}"
   ]
  },
  {
   "cell_type": "code",
   "execution_count": null,
   "id": "6c439ed1",
   "metadata": {},
   "outputs": [],
   "source": [
    "# @@ Cell 89\n",
    "levels_values = [level.level for level, power in levels.items()]"
   ]
  },
  {
   "cell_type": "code",
   "execution_count": null,
   "id": "f4baf4e1",
   "metadata": {},
   "outputs": [],
   "source": [
    "# @@ Cell 90\n",
    "levels_values"
   ]
  },
  {
   "cell_type": "code",
   "execution_count": null,
   "id": "515616b0",
   "metadata": {},
   "outputs": [],
   "source": [
    "# @@ Cell 91\n",
    "import matplotlib.colors as mcolors\n",
    "import seaborn as sns\n",
    "color_palette = sns.color_palette(\"husl\", len(levels_values))\n",
    "colors = [mcolors.to_hex(c) for c in color_palette] "
   ]
  },
  {
   "cell_type": "code",
   "execution_count": null,
   "id": "fccca571",
   "metadata": {},
   "outputs": [],
   "source": [
    "# @@ Cell 92\n",
    "colors"
   ]
  },
  {
   "cell_type": "code",
   "execution_count": null,
   "id": "58ae1b14",
   "metadata": {},
   "outputs": [],
   "source": [
    "# @@ Cell 93\n",
    "mpf.plot(\n",
    "    numeric_df,\n",
    "    hlines=dict(hlines=levels_values,colors=colors,linestyle='-.'),\n",
    "    type='candle',\n",
    "    mav=(3, 5),volume=True,\n",
    "    title='BTC-USDT'\n",
    ")"
   ]
  },
  {
   "cell_type": "code",
   "execution_count": null,
   "id": "aef5765e",
   "metadata": {},
   "outputs": [],
   "source": [
    "# @@ Cell 94\n",
    "ave"
   ]
  },
  {
   "cell_type": "code",
   "execution_count": null,
   "id": "50bda0c8",
   "metadata": {},
   "outputs": [],
   "source": [
    "# @@ Cell 95\n",
    "from sklearn.cluster import KMeans\n",
    "import numpy as np\n",
    "from kneed import KneeLocator"
   ]
  },
  {
   "cell_type": "code",
   "execution_count": null,
   "id": "3555f8ba",
   "metadata": {},
   "outputs": [],
   "source": [
    "sum_of_squared_distances = []\n",
    "K = range(1,15)\n",
    "for k in K:\n",
    "    km = KMeans(n_clusters=k)\n",
    "    km = km.fit(extremas.reshape(-1,1))\n",
    "    sum_of_squared_distances.append(km.inertia_)\n",
    "kn = KneeLocator(K, sum_of_squared_distances,S=1.0, curve=\"convex\", direction=\"decreasing\")\n",
    "kn.plot_knee()"
   ]
  },
  {
   "cell_type": "code",
   "execution_count": null,
   "id": "bfd9ddf5",
   "metadata": {},
   "outputs": [],
   "source": [
    "# @@ Cell 96\n",
    "numeric_df['close'].iloc[extremas]"
   ]
  },
  {
   "cell_type": "code",
   "execution_count": null,
   "id": "1855b85e",
   "metadata": {},
   "outputs": [],
   "source": [
    "# @@ Cell 97\n",
    "numeric_df['close'].iloc[sorted_extremas]"
   ]
  },
  {
   "cell_type": "code",
   "execution_count": null,
   "id": "ddc2f872",
   "metadata": {},
   "outputs": [],
   "source": [
    "# @@ Cell 98\n",
    "from sklearn.cluster import KMeans\n",
    "import numpy as np\n",
    "from kneed import KneeLocator"
   ]
  },
  {
   "cell_type": "code",
   "execution_count": null,
   "id": "33bc2080",
   "metadata": {},
   "outputs": [],
   "source": [
    "sum_of_squared_distances = []\n",
    "K = range(1,15)\n",
    "for k in K:\n",
    "    km = KMeans(n_clusters=k)\n",
    "    km = km.fit(X.reshape(-1,1))\n",
    "    sum_of_squared_distances.append(km.inertia_)\n",
    "kn = KneeLocator(K, sum_of_squared_distances,S=1.0, curve=\"convex\", direction=\"decreasing\")\n",
    "kn.plot_knee()"
   ]
  },
  {
   "cell_type": "code",
   "execution_count": null,
   "id": "982964eb",
   "metadata": {},
   "outputs": [],
   "source": [
    "# @@ Cell 99\n",
    "X = numeric_df['close'].iloc[sorted_extremas]"
   ]
  },
  {
   "cell_type": "code",
   "execution_count": null,
   "id": "0a889d2e",
   "metadata": {},
   "outputs": [],
   "source": [
    "# @@ Cell 100\n",
    "from sklearn.cluster import KMeans\n",
    "import numpy as np\n",
    "from kneed import KneeLocator"
   ]
  },
  {
   "cell_type": "code",
   "execution_count": null,
   "id": "83b112f5",
   "metadata": {},
   "outputs": [],
   "source": [
    "sum_of_squared_distances = []\n",
    "K = range(1,15)\n",
    "for k in K:\n",
    "    km = KMeans(n_clusters=k)\n",
    "    km = km.fit(X.reshape(-1,1))\n",
    "    sum_of_squared_distances.append(km.inertia_)\n",
    "kn = KneeLocator(K, sum_of_squared_distances,S=1.0, curve=\"convex\", direction=\"decreasing\")\n",
    "kn.plot_knee()"
   ]
  },
  {
   "cell_type": "code",
   "execution_count": null,
   "id": "fa8783da",
   "metadata": {},
   "outputs": [],
   "source": [
    "# @@ Cell 101\n",
    "X = np.array(numeric_df['close'].iloc[sorted_extremas])"
   ]
  },
  {
   "cell_type": "code",
   "execution_count": null,
   "id": "960b9198",
   "metadata": {},
   "outputs": [],
   "source": [
    "# @@ Cell 102\n",
    "from sklearn.cluster import KMeans\n",
    "import numpy as np\n",
    "from kneed import KneeLocator"
   ]
  },
  {
   "cell_type": "code",
   "execution_count": null,
   "id": "361938cd",
   "metadata": {},
   "outputs": [],
   "source": [
    "sum_of_squared_distances = []\n",
    "K = range(1,15)\n",
    "for k in K:\n",
    "    km = KMeans(n_clusters=k)\n",
    "    km = km.fit(X.reshape(-1,1))\n",
    "    sum_of_squared_distances.append(km.inertia_)\n",
    "kn = KneeLocator(K, sum_of_squared_distances,S=1.0, curve=\"convex\", direction=\"decreasing\")\n",
    "kn.plot_knee()"
   ]
  },
  {
   "cell_type": "code",
   "execution_count": null,
   "id": "25e83915",
   "metadata": {},
   "outputs": [],
   "source": [
    "# @@ Cell 103\n",
    "n_clusters = kn.knee\n",
    "kmeans = KMeans(n_clusters=n_clusters).fit(X.reshape(-1,1))\n",
    "c = kmeans.predict(X.reshape(-1,1))\n",
    "minmax = []\n",
    "for i in range(n_clusters):\n",
    "    minmax.append([-np.inf,np.inf])\n",
    "for i in range(len(X)):\n",
    "    cluster = c[i]\n",
    "    if X[i] > minmax[cluster][0]:\n",
    "        minmax[cluster][0] = X[i]\n",
    "    if X[i] < minmax[cluster][1]:\n",
    "        minmax[cluster][1] = X[i]"
   ]
  },
  {
   "cell_type": "code",
   "execution_count": null,
   "id": "e175ba9d",
   "metadata": {},
   "outputs": [],
   "source": [
    "# @@ Cell 104\n",
    "minmax"
   ]
  },
  {
   "cell_type": "code",
   "execution_count": null,
   "id": "5dc331a3",
   "metadata": {},
   "outputs": [],
   "source": [
    "# @@ Cell 105\n",
    "levels_values = [level for level_tuple in minmax for level in level_tuple]"
   ]
  },
  {
   "cell_type": "code",
   "execution_count": null,
   "id": "0f534bd5",
   "metadata": {},
   "outputs": [],
   "source": [
    "# @@ Cell 106\n",
    "levels_values"
   ]
  },
  {
   "cell_type": "code",
   "execution_count": null,
   "id": "1137e344",
   "metadata": {},
   "outputs": [],
   "source": [
    "# @@ Cell 107\n",
    "import matplotlib.colors as mcolors\n",
    "import seaborn as sns\n",
    "color_palette = sns.color_palette(\"husl\", len(levels_values) // 2)\n",
    "colors = [[mcolors.to_hex(c)] * 2 for c in color_palette]\n",
    "colors = [color for color_tuple in colors for color in color_tuple]"
   ]
  },
  {
   "cell_type": "code",
   "execution_count": null,
   "id": "a8afb0fe",
   "metadata": {},
   "outputs": [],
   "source": [
    "# @@ Cell 108\n",
    "colors "
   ]
  },
  {
   "cell_type": "code",
   "execution_count": null,
   "id": "b465d769",
   "metadata": {},
   "outputs": [],
   "source": [
    "# @@ Cell 109\n",
    "mpf.plot(\n",
    "    numeric_df,\n",
    "    hlines=dict(hlines=levels_values,colors=colors,linestyle='-.'),\n",
    "    type='candle',\n",
    "    mav=(3, 5),volume=True,\n",
    "    title='BTC-USDT'\n",
    ")"
   ]
  },
  {
   "cell_type": "code",
   "execution_count": null,
   "id": "1af3f874",
   "metadata": {},
   "outputs": [],
   "source": [
    "# @@ Cell 110\n",
    "mpf.plot(\n",
    "    numeric_df,\n",
    "    hlines=dict(hlines=levels_values,colors=colors,linestyle='-.'),\n",
    "    type='candle',\n",
    "    volume=True,\n",
    "    title='BTC-USDT'\n",
    ")"
   ]
  },
  {
   "cell_type": "code",
   "execution_count": null,
   "id": "d72a2e21",
   "metadata": {},
   "outputs": [],
   "source": [
    "# @@ Cell 111\n",
    "mpf.plot(\n",
    "    numeric_df,\n",
    "    hlines=dict(hlines=levels_values,colors=colors,linestyle='-.'),\n",
    "    type='candle',\n",
    "    volume=True,\n",
    "    title='BTC-USDT'\n",
    ")"
   ]
  },
  {
   "cell_type": "code",
   "execution_count": null,
   "id": "49bce2d3",
   "metadata": {},
   "outputs": [],
   "source": [
    "# @@ Cell 112\n",
    "X = np.array(numeric_df['close'].iloc[minimas])"
   ]
  },
  {
   "cell_type": "code",
   "execution_count": null,
   "id": "c791d1e6",
   "metadata": {},
   "outputs": [],
   "source": [
    "# @@ Cell 113\n",
    "from sklearn.cluster import KMeans\n",
    "import numpy as np\n",
    "from kneed import KneeLocator"
   ]
  },
  {
   "cell_type": "code",
   "execution_count": null,
   "id": "1bb9d43b",
   "metadata": {},
   "outputs": [],
   "source": [
    "sum_of_squared_distances = []\n",
    "K = range(1,15)\n",
    "for k in K:\n",
    "    km = KMeans(n_clusters=k)\n",
    "    km = km.fit(X.reshape(-1,1))\n",
    "    sum_of_squared_distances.append(km.inertia_)\n",
    "kn = KneeLocator(K, sum_of_squared_distances,S=1.0, curve=\"convex\", direction=\"decreasing\")\n",
    "kn.plot_knee()"
   ]
  },
  {
   "cell_type": "code",
   "execution_count": null,
   "id": "c026abe2",
   "metadata": {},
   "outputs": [],
   "source": [
    "# @@ Cell 114\n",
    "from sklearn.cluster import KMeans\n",
    "import numpy as np\n",
    "from kneed import KneeLocator"
   ]
  },
  {
   "cell_type": "code",
   "execution_count": null,
   "id": "31ba255f",
   "metadata": {},
   "outputs": [],
   "source": [
    "sum_of_squared_distances = []\n",
    "K = range(1,10)\n",
    "for k in K:\n",
    "    km = KMeans(n_clusters=k)\n",
    "    km = km.fit(X.reshape(-1,1))\n",
    "    sum_of_squared_distances.append(km.inertia_)\n",
    "kn = KneeLocator(K, sum_of_squared_distances,S=1.0, curve=\"convex\", direction=\"decreasing\")\n",
    "kn.plot_knee()"
   ]
  },
  {
   "cell_type": "code",
   "execution_count": null,
   "id": "0bb27a9b",
   "metadata": {},
   "outputs": [],
   "source": [
    "# @@ Cell 115\n",
    "n_clusters = kn.knee\n",
    "kmeans = KMeans(n_clusters=n_clusters).fit(X.reshape(-1,1))\n",
    "c = kmeans.predict(X.reshape(-1,1))\n",
    "min_values = []\n",
    "for i in range(n_clusters):\n",
    "    min_values.append(np.inf)\n",
    "for i in range(len(X)):\n",
    "    cluster = c[i]\n",
    "    min_values[cluster] = X[i]"
   ]
  },
  {
   "cell_type": "code",
   "execution_count": null,
   "id": "ec020eaf",
   "metadata": {},
   "outputs": [],
   "source": [
    "# @@ Cell 116\n",
    "min_values"
   ]
  },
  {
   "cell_type": "code",
   "execution_count": null,
   "id": "7d5e982b",
   "metadata": {},
   "outputs": [],
   "source": [
    "# @@ Cell 117\n",
    "levels_values = [level for level in min_values]"
   ]
  },
  {
   "cell_type": "code",
   "execution_count": null,
   "id": "89aec896",
   "metadata": {},
   "outputs": [],
   "source": [
    "# @@ Cell 118\n",
    "levels_values"
   ]
  },
  {
   "cell_type": "code",
   "execution_count": null,
   "id": "98851955",
   "metadata": {},
   "outputs": [],
   "source": [
    "# @@ Cell 119\n",
    "import matplotlib.colors as mcolors\n",
    "import seaborn as sns\n",
    "color_palette = sns.color_palette(\"husl\", len(levels_values) // 2)\n",
    "colors = [[mcolors.to_hex(c)] * 2 for c in color_palette]\n",
    "colors = [color for color_tuple in colors for color in color_tuple]"
   ]
  },
  {
   "cell_type": "code",
   "execution_count": null,
   "id": "2cfd6b6a",
   "metadata": {},
   "outputs": [],
   "source": [
    "# @@ Cell 120\n",
    "colors "
   ]
  },
  {
   "cell_type": "code",
   "execution_count": null,
   "id": "2f977abf",
   "metadata": {},
   "outputs": [],
   "source": [
    "# @@ Cell 121\n",
    "mpf.plot(\n",
    "    numeric_df,\n",
    "    hlines=dict(hlines=levels_values,colors=colors,linestyle='-.'),\n",
    "    type='candle',\n",
    "    volume=True,\n",
    "    title='BTC-USDT'\n",
    ")"
   ]
  },
  {
   "cell_type": "code",
   "execution_count": null,
   "id": "55d410ce",
   "metadata": {},
   "outputs": [],
   "source": [
    "# @@ Cell 122\n",
    "from scipy.signal import argrelextrema"
   ]
  },
  {
   "cell_type": "code",
   "execution_count": null,
   "id": "586d8265",
   "metadata": {},
   "outputs": [],
   "source": [
    "x_max = np.array(numeric_df['high'])\n",
    "x_min = np.array(numeric_df['low'])"
   ]
  },
  {
   "cell_type": "code",
   "execution_count": null,
   "id": "21c8c7b7",
   "metadata": {},
   "outputs": [],
   "source": [
    "# for local maxima\n",
    "maximas = argrelextrema(x_max, np.greater)[0]"
   ]
  },
  {
   "cell_type": "code",
   "execution_count": null,
   "id": "f2fce9ff",
   "metadata": {},
   "outputs": [],
   "source": [
    "# for local minima\n",
    "minimas = argrelextrema(x_min, np.less)[0]"
   ]
  },
  {
   "cell_type": "code",
   "execution_count": null,
   "id": "b070144e",
   "metadata": {},
   "outputs": [],
   "source": [
    "# @@ Cell 123\n",
    "maximas"
   ]
  },
  {
   "cell_type": "code",
   "execution_count": null,
   "id": "825002f6",
   "metadata": {},
   "outputs": [],
   "source": [
    "# @@ Cell 124\n",
    "minimas"
   ]
  },
  {
   "cell_type": "code",
   "execution_count": null,
   "id": "601d0390",
   "metadata": {},
   "outputs": [],
   "source": [
    "# @@ Cell 125\n",
    "extremas = np.concatenate((maximas, minimas), axis=0)"
   ]
  },
  {
   "cell_type": "code",
   "execution_count": null,
   "id": "8bd708cf",
   "metadata": {},
   "outputs": [],
   "source": [
    "# @@ Cell 126\n",
    "extremas"
   ]
  },
  {
   "cell_type": "code",
   "execution_count": null,
   "id": "a13f62ef",
   "metadata": {},
   "outputs": [],
   "source": [
    "# @@ Cell 127\n",
    "sorted_extremas = np.sort(extremas) "
   ]
  },
  {
   "cell_type": "code",
   "execution_count": null,
   "id": "6cfacff8",
   "metadata": {},
   "outputs": [],
   "source": [
    "# @@ Cell 128\n",
    "sorted_extremas"
   ]
  },
  {
   "cell_type": "code",
   "execution_count": null,
   "id": "3fbb3cc8",
   "metadata": {},
   "outputs": [],
   "source": [
    "# @@ Cell 129\n",
    "numeric_df['min'] = numeric_df.iloc[argrelextrema(x, np.less)[0]]['low']\n",
    "numeric_df['max'] = numeric_df.iloc[argrelextrema(x, np.greater)[0]]['high']"
   ]
  },
  {
   "cell_type": "markdown",
   "id": "d63505a9",
   "metadata": {},
   "source": [
    "Plot results"
   ]
  },
  {
   "cell_type": "code",
   "execution_count": null,
   "id": "59c7924c",
   "metadata": {},
   "outputs": [],
   "source": [
    "plt.scatter(numeric_df.index, numeric_df['min'], c='r')\n",
    "plt.scatter(numeric_df.index, numeric_df['max'], c='g')\n",
    "plt.plot(numeric_df.index, numeric_df['close'])\n",
    "plt.show()"
   ]
  },
  {
   "cell_type": "code",
   "execution_count": null,
   "id": "83b2e9fa",
   "metadata": {
    "lines_to_next_cell": 1
   },
   "outputs": [],
   "source": [
    "# @@ Cell 130\n",
    "ave =  np.mean(numeric_df['high'] - numeric_df['low']) / 2"
   ]
  },
  {
   "cell_type": "code",
   "execution_count": null,
   "id": "2665909f",
   "metadata": {
    "lines_to_next_cell": 1
   },
   "outputs": [],
   "source": [
    "# a list to store resistance and support levels\n",
    "class Level:\n",
    "    def __init__(self, index, level, level_type):\n",
    "        self.index = index\n",
    "        self.level = level\n",
    "        self.level_type = level_type\n",
    "\n",
    "    def __hash__(self):\n",
    "        return 0\n",
    "\n",
    "    def __eq__(self, other):\n",
    "        return self.level_type == other.level_type and abs(self.level - other.level) < ave\n",
    "    \n",
    "    def __str__(self):\n",
    "        return f\"({self.index}, {self.level}, {self.level_type})\""
   ]
  },
  {
   "cell_type": "code",
   "execution_count": null,
   "id": "5d0d5ffa",
   "metadata": {},
   "outputs": [],
   "source": [
    "levels = {}"
   ]
  },
  {
   "cell_type": "code",
   "execution_count": null,
   "id": "4bc4cc3e",
   "metadata": {},
   "outputs": [],
   "source": [
    "for i in minimas:\n",
    "    low = numeric_df['low'].iloc[i]\n",
    "    level = Level(i, low, \"support\")\n",
    "    power = levels.get(level, 0) + 1\n",
    "    levels.update({level: power})\n",
    "    print(f\"Take into account {str(level)}: {power}\")\n",
    "    print({str(level): power for level, power in levels.items()})"
   ]
  },
  {
   "cell_type": "code",
   "execution_count": null,
   "id": "ad6506fd",
   "metadata": {},
   "outputs": [],
   "source": [
    "print(\"----------------------------------------------------------\")\n",
    "for i in maximas:\n",
    "    high = numeric_df['high'].iloc[i]\n",
    "    level = Level(i, high, \"resistance\")\n",
    "    power = levels.get(level, 0) + 1\n",
    "    levels.update({level: power})\n",
    "    print(f\"Take into account {str(level)}: {power}\")\n",
    "    print({str(level): power for level, power in levels.items()})"
   ]
  },
  {
   "cell_type": "code",
   "execution_count": null,
   "id": "af346a84",
   "metadata": {},
   "outputs": [],
   "source": [
    "# @@ Cell 131\n",
    "{str(level): power for level, power in levels.items()}"
   ]
  },
  {
   "cell_type": "code",
   "execution_count": null,
   "id": "60117cc8",
   "metadata": {},
   "outputs": [],
   "source": [
    "# @@ Cell 132\n",
    "levels_values = [level.level for level, power in levels.items()]"
   ]
  },
  {
   "cell_type": "code",
   "execution_count": null,
   "id": "e8605aa7",
   "metadata": {},
   "outputs": [],
   "source": [
    "# @@ Cell 133\n",
    "levels_values"
   ]
  },
  {
   "cell_type": "code",
   "execution_count": null,
   "id": "720d053d",
   "metadata": {},
   "outputs": [],
   "source": [
    "# @@ Cell 134\n",
    "import matplotlib.colors as mcolors\n",
    "import seaborn as sns\n",
    "color_palette = sns.color_palette(\"husl\", len(levels_values))\n",
    "colors = [mcolors.to_hex(c) for c in color_palette] "
   ]
  },
  {
   "cell_type": "code",
   "execution_count": null,
   "id": "d21c1db4",
   "metadata": {},
   "outputs": [],
   "source": [
    "# @@ Cell 135\n",
    "colors"
   ]
  },
  {
   "cell_type": "code",
   "execution_count": null,
   "id": "5008130b",
   "metadata": {},
   "outputs": [],
   "source": [
    "# @@ Cell 136\n",
    "mpf.plot(\n",
    "    numeric_df,\n",
    "    hlines=dict(hlines=levels_values,colors=colors,linestyle='-.'),\n",
    "    type='candle',\n",
    "    volume=True,\n",
    "    title='BTC-USDT'\n",
    ")"
   ]
  },
  {
   "cell_type": "code",
   "execution_count": null,
   "id": "d65211c6",
   "metadata": {},
   "outputs": [],
   "source": [
    "# @@ Cell 137\n",
    "X_min = np.array(numeric_df['min'].iloc[minimas])\n",
    "X_max = np.array(numeric_df['max'].iloc[maximas])"
   ]
  },
  {
   "cell_type": "code",
   "execution_count": null,
   "id": "aa2a847b",
   "metadata": {},
   "outputs": [],
   "source": [
    "# @@ Cell 138\n",
    "from sklearn.cluster import KMeans\n",
    "import numpy as np\n",
    "from kneed import KneeLocator"
   ]
  },
  {
   "cell_type": "code",
   "execution_count": null,
   "id": "7d969c38",
   "metadata": {},
   "outputs": [],
   "source": [
    "sum_of_squared_distances = []\n",
    "K = range(1,10)\n",
    "for k in K:\n",
    "    km = KMeans(n_clusters=k)\n",
    "    km = km.fit(X_min.reshape(-1,1))\n",
    "    sum_of_squared_distances.append(km.inertia_)\n",
    "kn = KneeLocator(K, sum_of_squared_distances,S=1.0, curve=\"convex\", direction=\"decreasing\")\n",
    "kn.plot_knee()"
   ]
  },
  {
   "cell_type": "code",
   "execution_count": null,
   "id": "3171e0d5",
   "metadata": {},
   "outputs": [],
   "source": [
    "# @@ Cell 139\n",
    "X_min = np.array(numeric_df['low'].iloc[minimas])\n",
    "X_max = np.array(numeric_df['high'].iloc[maximas])"
   ]
  },
  {
   "cell_type": "code",
   "execution_count": null,
   "id": "2dcd2dbe",
   "metadata": {},
   "outputs": [],
   "source": [
    "# @@ Cell 140\n",
    "from sklearn.cluster import KMeans\n",
    "import numpy as np\n",
    "from kneed import KneeLocator"
   ]
  },
  {
   "cell_type": "code",
   "execution_count": null,
   "id": "306b31ab",
   "metadata": {},
   "outputs": [],
   "source": [
    "sum_of_squared_distances = []\n",
    "K = range(1,10)\n",
    "for k in K:\n",
    "    km = KMeans(n_clusters=k)\n",
    "    km = km.fit(X_min.reshape(-1,1))\n",
    "    sum_of_squared_distances.append(km.inertia_)\n",
    "kn = KneeLocator(K, sum_of_squared_distances,S=1.0, curve=\"convex\", direction=\"decreasing\")\n",
    "kn.plot_knee()"
   ]
  },
  {
   "cell_type": "code",
   "execution_count": null,
   "id": "261b79ef",
   "metadata": {},
   "outputs": [],
   "source": [
    "# @@ Cell 141\n",
    "n_clusters = kn.knee\n",
    "kmeans = KMeans(n_clusters=n_clusters).fit(X_min.reshape(-1,1))\n",
    "c = kmeans.predict(X_min.reshape(-1,1))\n",
    "min_values = []\n",
    "for i in range(n_clusters):\n",
    "    min_values.append(np.inf)\n",
    "for i in range(len(X_min)):\n",
    "    cluster = c[i]\n",
    "    min_values[cluster] = X_min[i]"
   ]
  },
  {
   "cell_type": "code",
   "execution_count": null,
   "id": "f11a73d8",
   "metadata": {},
   "outputs": [],
   "source": [
    "# @@ Cell 142\n",
    "min_values"
   ]
  },
  {
   "cell_type": "code",
   "execution_count": null,
   "id": "c4a0c228",
   "metadata": {},
   "outputs": [],
   "source": [
    "# @@ Cell 143\n",
    "levels_values = [level for level in min_values]"
   ]
  },
  {
   "cell_type": "code",
   "execution_count": null,
   "id": "d711c9b2",
   "metadata": {},
   "outputs": [],
   "source": [
    "# @@ Cell 144\n",
    "levels_values"
   ]
  },
  {
   "cell_type": "code",
   "execution_count": null,
   "id": "1f9b94ac",
   "metadata": {},
   "outputs": [],
   "source": [
    "# @@ Cell 145\n",
    "import matplotlib.colors as mcolors\n",
    "import seaborn as sns\n",
    "color_palette = sns.color_palette(\"husl\", len(levels_values) // 2)\n",
    "colors = [[mcolors.to_hex(c)] * 2 for c in color_palette]\n",
    "colors = [color for color_tuple in colors for color in color_tuple]"
   ]
  },
  {
   "cell_type": "code",
   "execution_count": null,
   "id": "35804144",
   "metadata": {},
   "outputs": [],
   "source": [
    "# @@ Cell 146\n",
    "colors "
   ]
  },
  {
   "cell_type": "code",
   "execution_count": null,
   "id": "57944498",
   "metadata": {},
   "outputs": [],
   "source": [
    "# @@ Cell 147\n",
    "mpf.plot(\n",
    "    numeric_df,\n",
    "    hlines=dict(hlines=levels_values,colors=colors,linestyle='-.'),\n",
    "    type='candle',\n",
    "    volume=True,\n",
    "    title='BTC-USDT'\n",
    ")"
   ]
  },
  {
   "cell_type": "code",
   "execution_count": null,
   "id": "2dec8786",
   "metadata": {},
   "outputs": [],
   "source": [
    "# @@ Cell 148\n",
    "colors = ['r', 'g'] "
   ]
  },
  {
   "cell_type": "code",
   "execution_count": null,
   "id": "d1c96d6c",
   "metadata": {},
   "outputs": [],
   "source": [
    "# @@ Cell 149\n",
    "colors"
   ]
  },
  {
   "cell_type": "code",
   "execution_count": null,
   "id": "c174b96f",
   "metadata": {},
   "outputs": [],
   "source": [
    "# @@ Cell 150\n",
    "import matplotlib.colors as mcolors\n",
    "import seaborn as sns\n",
    "color_palette = sns.color_palette(\"husl\", 2)\n",
    "colors = ['r', 'g']#[mcolors.to_hex(c) for c in color_palette] "
   ]
  },
  {
   "cell_type": "code",
   "execution_count": null,
   "id": "04477dfc",
   "metadata": {},
   "outputs": [],
   "source": [
    "# @@ Cell 151\n",
    "colors"
   ]
  },
  {
   "cell_type": "code",
   "execution_count": null,
   "id": "2aeb8dd3",
   "metadata": {},
   "outputs": [],
   "source": [
    "# @@ Cell 152\n",
    "mpf.plot(\n",
    "    numeric_df,\n",
    "    hlines=dict(hlines=levels_values,colors=colors,linestyle='-.'),\n",
    "    type='candle',\n",
    "    volume=True,\n",
    "    title='BTC-USDT'\n",
    ")"
   ]
  },
  {
   "cell_type": "code",
   "execution_count": null,
   "id": "17f71c0e",
   "metadata": {},
   "outputs": [],
   "source": [
    "# @@ Cell 153\n",
    "support_values = [level.level for level, power, level_type in levels.items() if level_type == 'support']\n",
    "resistance_values = [level.level for level, power, level_type in levels.items() if level_type == 'resistance']"
   ]
  },
  {
   "cell_type": "code",
   "execution_count": null,
   "id": "6bf4200f",
   "metadata": {},
   "outputs": [],
   "source": [
    "# @@ Cell 154\n",
    "support_values = [level.level for level, power in levels.items() if level.level_type == 'support']\n",
    "resistance_values = [level.level for level, power in levels.items() if level.level_type == 'resistance']"
   ]
  },
  {
   "cell_type": "code",
   "execution_count": null,
   "id": "115aed89",
   "metadata": {},
   "outputs": [],
   "source": [
    "# @@ Cell 155\n",
    "[1] + [2]"
   ]
  },
  {
   "cell_type": "code",
   "execution_count": null,
   "id": "d905707f",
   "metadata": {},
   "outputs": [],
   "source": [
    "# @@ Cell 156\n",
    "support_values = [level.level for level, power in levels.items() if level.level_type == 'support']\n",
    "resistance_values = [level.level for level, power in levels.items() if level.level_type == 'resistance']"
   ]
  },
  {
   "cell_type": "code",
   "execution_count": null,
   "id": "968075e8",
   "metadata": {},
   "outputs": [],
   "source": [
    "# @@ Cell 157\n",
    "colors = ['r'] * len(support_values) + ['g'] * len(resistance_values)"
   ]
  },
  {
   "cell_type": "code",
   "execution_count": null,
   "id": "ed1b609c",
   "metadata": {},
   "outputs": [],
   "source": [
    "# @@ Cell 158\n",
    "levels_values = support_values + resistance_values"
   ]
  },
  {
   "cell_type": "code",
   "execution_count": null,
   "id": "81da7e90",
   "metadata": {},
   "outputs": [],
   "source": [
    "# @@ Cell 159\n",
    "colors = ['r'] * len(support_values) + ['g'] * len(resistance_values)"
   ]
  },
  {
   "cell_type": "code",
   "execution_count": null,
   "id": "c98a60ee",
   "metadata": {
    "lines_to_next_cell": 1
   },
   "outputs": [],
   "source": [
    "# @@ Cell 160\n",
    "mpf.plot(\n",
    "    numeric_df,\n",
    "    hlines=dict(hlines=levels_values,colors=colors,linestyle='-.'),\n",
    "    type='candle',\n",
    "    volume=True,\n",
    "    title='BTC-USDT'\n",
    ")"
   ]
  },
  {
   "cell_type": "code",
   "execution_count": null,
   "id": "4a80204b",
   "metadata": {
    "lines_to_next_cell": 1
   },
   "outputs": [],
   "source": [
    "# @@ Cell 161\n",
    "#method 1: fractal candlestick pattern\n",
    "# determine bullish fractal \n",
    "def is_support(df,i):  \n",
    "  cond1 = df['low'][i] < df['low'][i-1]   \n",
    "  cond2 = df['low'][i] < df['low'][i+1]   \n",
    "  cond3 = df['low'][i+1] < df['low'][i+2]   \n",
    "  cond4 = df['low'][i-1] < df['low'][i-2]  \n",
    "  return (cond1 and cond2 and cond3 and cond4) \n",
    "# determine bearish fractal\n",
    "def is_resistance(df,i):  \n",
    "  cond1 = df['high'][i] > df['high'][i-1]   \n",
    "  cond2 = df['high'][i] > df['high'][i+1]   \n",
    "  cond3 = df['high'][i+1] > df['high'][i+2]   \n",
    "  cond4 = df['high'][i-1] > df['high'][i-2]  \n",
    "  return (cond1 and cond2 and cond3 and cond4)\n",
    "# to make sure the new level area does not exist already"
   ]
  },
  {
   "cell_type": "code",
   "execution_count": null,
   "id": "8dc9cf5d",
   "metadata": {
    "lines_to_next_cell": 1
   },
   "outputs": [],
   "source": [
    "levels_power = []\n",
    "ave =  np.mean(numeric_df['high'] - numeric_df['low'])\n",
    "def is_far_from_level(value, levels, df):  \n",
    "  return np.sum([abs(value-level) < ave for _,level in levels])==0"
   ]
  },
  {
   "cell_type": "code",
   "execution_count": null,
   "id": "09d610f1",
   "metadata": {
    "lines_to_next_cell": 1
   },
   "outputs": [],
   "source": [
    "# a list to store resistance and support levels\n",
    "class Level:\n",
    "    def __init__(self, index, level):\n",
    "        self.index = index\n",
    "        self.level = level\n",
    "        self.min_value = level\n",
    "\n",
    "    def __hash__(self):\n",
    "        return 0\n",
    "\n",
    "    def __eq__(self, other):\n",
    "        return abs(self.level - other.level) < ave\n",
    "    \n",
    "    def __str__(self):\n",
    "        return f\"({self.index}, {self.level})\""
   ]
  },
  {
   "cell_type": "code",
   "execution_count": null,
   "id": "6b8cc267",
   "metadata": {},
   "outputs": [],
   "source": [
    "class LevelInfo:\n",
    "    def __init__(self):\n",
    "        self.min_value = float(\"inf\")\n",
    "        self.max_value = float(\"-inf\")\n",
    "        self.power = 0\n",
    "    \n",
    "    def update(value):\n",
    "        self.min_value = min(self.min_value, value)\n",
    "        self.max_value = max(self.max_value, value)\n",
    "        self.power += 1"
   ]
  },
  {
   "cell_type": "code",
   "execution_count": null,
   "id": "6525792f",
   "metadata": {
    "lines_to_next_cell": 1
   },
   "outputs": [],
   "source": [
    "levels = {}\n",
    "for i in range(2, numeric_df.shape[0] - 2):  \n",
    "    if is_support(numeric_df, i):    \n",
    "        low = numeric_df['low'][i]    \n",
    "        #if is_far_from_level(low, levels, numeric_df):      \n",
    "        level = Level(i, low)\n",
    "        level_info = levels.get(level, LevelInfo())\n",
    "        level_info.update(level)\n",
    "        levels.update({level: level_info})\n",
    "    elif is_resistance(numeric_df, i):    \n",
    "        high = numeric_df['high'][i]    \n",
    "        #if is_far_from_level(high, levels, numeric_df):      \n",
    "        level = Level(i, high)\n",
    "        level_info = levels.get(level, LevelInfo())\n",
    "        level_info.update(level)\n",
    "        levels.update({level: level_info})"
   ]
  },
  {
   "cell_type": "code",
   "execution_count": null,
   "id": "8d994dc6",
   "metadata": {
    "lines_to_next_cell": 1
   },
   "outputs": [],
   "source": [
    "# @@ Cell 162\n",
    "#method 1: fractal candlestick pattern\n",
    "# determine bullish fractal \n",
    "def is_support(df,i):  \n",
    "  cond1 = df['low'][i] < df['low'][i-1]   \n",
    "  cond2 = df['low'][i] < df['low'][i+1]   \n",
    "  cond3 = df['low'][i+1] < df['low'][i+2]   \n",
    "  cond4 = df['low'][i-1] < df['low'][i-2]  \n",
    "  return (cond1 and cond2 and cond3 and cond4) \n",
    "# determine bearish fractal\n",
    "def is_resistance(df,i):  \n",
    "  cond1 = df['high'][i] > df['high'][i-1]   \n",
    "  cond2 = df['high'][i] > df['high'][i+1]   \n",
    "  cond3 = df['high'][i+1] > df['high'][i+2]   \n",
    "  cond4 = df['high'][i-1] > df['high'][i-2]  \n",
    "  return (cond1 and cond2 and cond3 and cond4)\n",
    "# to make sure the new level area does not exist already"
   ]
  },
  {
   "cell_type": "code",
   "execution_count": null,
   "id": "4da33d01",
   "metadata": {
    "lines_to_next_cell": 1
   },
   "outputs": [],
   "source": [
    "levels_power = []\n",
    "ave =  np.mean(numeric_df['high'] - numeric_df['low'])\n",
    "def is_far_from_level(value, levels, df):  \n",
    "  return np.sum([abs(value-level) < ave for _,level in levels])==0"
   ]
  },
  {
   "cell_type": "code",
   "execution_count": null,
   "id": "83a03d8d",
   "metadata": {
    "lines_to_next_cell": 1
   },
   "outputs": [],
   "source": [
    "# a list to store resistance and support levels\n",
    "class Level:\n",
    "    def __init__(self, index, level):\n",
    "        self.index = index\n",
    "        self.level = level\n",
    "        self.min_value = level\n",
    "\n",
    "    def __hash__(self):\n",
    "        return 0\n",
    "\n",
    "    def __eq__(self, other):\n",
    "        return abs(self.level - other.level) < ave\n",
    "    \n",
    "    def __str__(self):\n",
    "        return f\"({self.index}, {self.level})\""
   ]
  },
  {
   "cell_type": "code",
   "execution_count": null,
   "id": "062fa7a2",
   "metadata": {},
   "outputs": [],
   "source": [
    "class LevelInfo:\n",
    "    def __init__(self):\n",
    "        self.min_value = float(\"inf\")\n",
    "        self.max_value = float(\"-inf\")\n",
    "        self.power = 0\n",
    "    \n",
    "    def update(self, value):\n",
    "        self.min_value = min(self.min_value, value)\n",
    "        self.max_value = max(self.max_value, value)\n",
    "        self.power += 1"
   ]
  },
  {
   "cell_type": "code",
   "execution_count": null,
   "id": "d5c3909b",
   "metadata": {
    "lines_to_next_cell": 1
   },
   "outputs": [],
   "source": [
    "levels = {}\n",
    "for i in range(2, numeric_df.shape[0] - 2):  \n",
    "    if is_support(numeric_df, i):    \n",
    "        low = numeric_df['low'][i]    \n",
    "        #if is_far_from_level(low, levels, numeric_df):      \n",
    "        level = Level(i, low)\n",
    "        level_info = levels.get(level, LevelInfo())\n",
    "        level_info.update(level)\n",
    "        levels.update({level: level_info})\n",
    "    elif is_resistance(numeric_df, i):    \n",
    "        high = numeric_df['high'][i]    \n",
    "        #if is_far_from_level(high, levels, numeric_df):      \n",
    "        level = Level(i, high)\n",
    "        level_info = levels.get(level, LevelInfo())\n",
    "        level_info.update(level)\n",
    "        levels.update({level: level_info})"
   ]
  },
  {
   "cell_type": "code",
   "execution_count": null,
   "id": "55e58100",
   "metadata": {
    "lines_to_next_cell": 1
   },
   "outputs": [],
   "source": [
    "# @@ Cell 163\n",
    "#method 1: fractal candlestick pattern\n",
    "# determine bullish fractal \n",
    "def is_support(df,i):  \n",
    "  cond1 = df['low'][i] < df['low'][i-1]   \n",
    "  cond2 = df['low'][i] < df['low'][i+1]   \n",
    "  cond3 = df['low'][i+1] < df['low'][i+2]   \n",
    "  cond4 = df['low'][i-1] < df['low'][i-2]  \n",
    "  return (cond1 and cond2 and cond3 and cond4) \n",
    "# determine bearish fractal\n",
    "def is_resistance(df,i):  \n",
    "  cond1 = df['high'][i] > df['high'][i-1]   \n",
    "  cond2 = df['high'][i] > df['high'][i+1]   \n",
    "  cond3 = df['high'][i+1] > df['high'][i+2]   \n",
    "  cond4 = df['high'][i-1] > df['high'][i-2]  \n",
    "  return (cond1 and cond2 and cond3 and cond4)\n",
    "# to make sure the new level area does not exist already"
   ]
  },
  {
   "cell_type": "code",
   "execution_count": null,
   "id": "36c7ecb0",
   "metadata": {
    "lines_to_next_cell": 1
   },
   "outputs": [],
   "source": [
    "levels_power = []\n",
    "ave =  np.mean(numeric_df['high'] - numeric_df['low'])\n",
    "def is_far_from_level(value, levels, df):  \n",
    "  return np.sum([abs(value-level) < ave for _,level in levels])==0"
   ]
  },
  {
   "cell_type": "code",
   "execution_count": null,
   "id": "451ef7a0",
   "metadata": {
    "lines_to_next_cell": 1
   },
   "outputs": [],
   "source": [
    "# a list to store resistance and support levels\n",
    "class Level:\n",
    "    def __init__(self, index, level):\n",
    "        self.index = index\n",
    "        self.level = level\n",
    "        self.min_value = level\n",
    "\n",
    "    def __hash__(self):\n",
    "        return 0\n",
    "\n",
    "    def __eq__(self, other):\n",
    "        return abs(self.level - other.level) < ave\n",
    "    \n",
    "    def __str__(self):\n",
    "        return f\"({self.index}, {self.level})\""
   ]
  },
  {
   "cell_type": "code",
   "execution_count": null,
   "id": "748ad6d7",
   "metadata": {},
   "outputs": [],
   "source": [
    "class LevelInfo:\n",
    "    def __init__(self):\n",
    "        self.min_value = float(\"inf\")\n",
    "        self.max_value = float(\"-inf\")\n",
    "        self.power = 0\n",
    "    \n",
    "    def update(self, value):\n",
    "        self.min_value = min(self.min_value, value)\n",
    "        self.max_value = max(self.max_value, value)\n",
    "        self.power += 1"
   ]
  },
  {
   "cell_type": "code",
   "execution_count": null,
   "id": "5d9f145c",
   "metadata": {
    "lines_to_next_cell": 1
   },
   "outputs": [],
   "source": [
    "levels = {}\n",
    "for i in range(2, numeric_df.shape[0] - 2):  \n",
    "    if is_support(numeric_df, i):    \n",
    "        low = numeric_df['low'][i]    \n",
    "        #if is_far_from_level(low, levels, numeric_df):      \n",
    "        level = Level(i, low)\n",
    "        level_info = levels.get(level, LevelInfo())\n",
    "        level_info.update(level.level)\n",
    "        levels.update({level: level_info})\n",
    "    elif is_resistance(numeric_df, i):    \n",
    "        high = numeric_df['high'][i]    \n",
    "        #if is_far_from_level(high, levels, numeric_df):      \n",
    "        level = Level(i, high)\n",
    "        level_info = levels.get(level, LevelInfo())\n",
    "        level_info.update(level.level)\n",
    "        levels.update({level: level_info})"
   ]
  },
  {
   "cell_type": "code",
   "execution_count": null,
   "id": "2b4899cd",
   "metadata": {
    "lines_to_next_cell": 1
   },
   "outputs": [],
   "source": [
    "# @@ Cell 164\n",
    "#method 1: fractal candlestick pattern\n",
    "# determine bullish fractal \n",
    "def is_support(df,i):  \n",
    "  cond1 = df['low'][i] < df['low'][i-1]   \n",
    "  cond2 = df['low'][i] < df['low'][i+1]   \n",
    "  cond3 = df['low'][i+1] < df['low'][i+2]   \n",
    "  cond4 = df['low'][i-1] < df['low'][i-2]  \n",
    "  return (cond1 and cond2 and cond3 and cond4) \n",
    "# determine bearish fractal\n",
    "def is_resistance(df,i):  \n",
    "  cond1 = df['high'][i] > df['high'][i-1]   \n",
    "  cond2 = df['high'][i] > df['high'][i+1]   \n",
    "  cond3 = df['high'][i+1] > df['high'][i+2]   \n",
    "  cond4 = df['high'][i-1] > df['high'][i-2]  \n",
    "  return (cond1 and cond2 and cond3 and cond4)\n",
    "# to make sure the new level area does not exist already"
   ]
  },
  {
   "cell_type": "code",
   "execution_count": null,
   "id": "7d907b0c",
   "metadata": {
    "lines_to_next_cell": 1
   },
   "outputs": [],
   "source": [
    "levels_power = []\n",
    "ave =  np.mean(numeric_df['high'] - numeric_df['low'])\n",
    "def is_far_from_level(value, levels, df):  \n",
    "  return np.sum([abs(value-level) < ave for _,level in levels])==0"
   ]
  },
  {
   "cell_type": "code",
   "execution_count": null,
   "id": "0d1ddaf0",
   "metadata": {
    "lines_to_next_cell": 1
   },
   "outputs": [],
   "source": [
    "# a list to store resistance and support levels\n",
    "class Level:\n",
    "    def __init__(self, index, level):\n",
    "        self.index = index\n",
    "        self.level = level\n",
    "        self.min_value = level\n",
    "\n",
    "    def __hash__(self):\n",
    "        return 0\n",
    "\n",
    "    def __eq__(self, other):\n",
    "        return abs(self.level - other.level) < ave\n",
    "    \n",
    "    def __str__(self):\n",
    "        return f\"({self.index}, {self.level})\""
   ]
  },
  {
   "cell_type": "code",
   "execution_count": null,
   "id": "68489c98",
   "metadata": {},
   "outputs": [],
   "source": [
    "class LevelInfo:\n",
    "    def __init__(self):\n",
    "        self.min_value = float(\"inf\")\n",
    "        self.max_value = float(\"-inf\")\n",
    "        self.power = 0\n",
    "    \n",
    "    def update(self, value):\n",
    "        self.min_value = min(self.min_value, value)\n",
    "        self.max_value = max(self.max_value, value)\n",
    "        self.power += 1\n",
    "    \n",
    "    def __str__(self):\n",
    "        return f\"power: {power}, range: [{level_info.min_value}, {level_info.max_value}]\""
   ]
  },
  {
   "cell_type": "code",
   "execution_count": null,
   "id": "d930672e",
   "metadata": {},
   "outputs": [],
   "source": [
    "levels = {}\n",
    "for i in range(2, numeric_df.shape[0] - 2):  \n",
    "    if is_support(numeric_df, i):    \n",
    "        low = numeric_df['low'][i]    \n",
    "        #if is_far_from_level(low, levels, numeric_df):      \n",
    "        level = Level(i, low)\n",
    "        level_info = levels.get(level, LevelInfo())\n",
    "        level_info.update(level.level)\n",
    "        levels.update({level: level_info})\n",
    "    elif is_resistance(numeric_df, i):    \n",
    "        high = numeric_df['high'][i]    \n",
    "        #if is_far_from_level(high, levels, numeric_df):      \n",
    "        level = Level(i, high)\n",
    "        level_info = levels.get(level, LevelInfo())\n",
    "        level_info.update(level.level)\n",
    "        levels.update({level: level_info})"
   ]
  },
  {
   "cell_type": "code",
   "execution_count": null,
   "id": "8c9e5fc5",
   "metadata": {},
   "outputs": [],
   "source": [
    "# @@ Cell 165\n",
    "{str(level): str(level_info) for level, level_info in levels.items()}"
   ]
  },
  {
   "cell_type": "code",
   "execution_count": null,
   "id": "89b2041c",
   "metadata": {
    "lines_to_next_cell": 1
   },
   "outputs": [],
   "source": [
    "# @@ Cell 166\n",
    "support_values = [(level_info.min_value, level_info.max_value) for level, level_info in levels.items() if level.level_type == 'support']\n",
    "resistance_values = [(level_info.min_value, level_info.max_value) for level, level_info in levels.items() if level.level_type == 'resistance']"
   ]
  },
  {
   "cell_type": "code",
   "execution_count": null,
   "id": "b2af6510",
   "metadata": {
    "lines_to_next_cell": 1
   },
   "outputs": [],
   "source": [
    "# @@ Cell 167\n",
    "#method 1: fractal candlestick pattern\n",
    "# determine bullish fractal \n",
    "def is_support(df,i):  \n",
    "  cond1 = df['low'][i] < df['low'][i-1]   \n",
    "  cond2 = df['low'][i] < df['low'][i+1]   \n",
    "  cond3 = df['low'][i+1] < df['low'][i+2]   \n",
    "  cond4 = df['low'][i-1] < df['low'][i-2]  \n",
    "  return (cond1 and cond2 and cond3 and cond4) \n",
    "# determine bearish fractal\n",
    "def is_resistance(df,i):  \n",
    "  cond1 = df['high'][i] > df['high'][i-1]   \n",
    "  cond2 = df['high'][i] > df['high'][i+1]   \n",
    "  cond3 = df['high'][i+1] > df['high'][i+2]   \n",
    "  cond4 = df['high'][i-1] > df['high'][i-2]  \n",
    "  return (cond1 and cond2 and cond3 and cond4)\n",
    "# to make sure the new level area does not exist already"
   ]
  },
  {
   "cell_type": "code",
   "execution_count": null,
   "id": "df7c7445",
   "metadata": {
    "lines_to_next_cell": 1
   },
   "outputs": [],
   "source": [
    "levels_power = []\n",
    "ave =  np.mean(numeric_df['high'] - numeric_df['low'])\n",
    "def is_far_from_level(value, levels, df):  \n",
    "  return np.sum([abs(value-level) < ave for _,level in levels])==0"
   ]
  },
  {
   "cell_type": "code",
   "execution_count": null,
   "id": "633c7bed",
   "metadata": {
    "lines_to_next_cell": 1
   },
   "outputs": [],
   "source": [
    "# a list to store resistance and support levels\n",
    "class Level:\n",
    "    def __init__(self, index, level):\n",
    "        self.index = index\n",
    "        self.level = level\n",
    "        self.level_type = level\n",
    "\n",
    "    def __hash__(self):\n",
    "        return 0\n",
    "\n",
    "    def __eq__(self, other):\n",
    "        return abs(self.level - other.level) < ave\n",
    "    \n",
    "    def __str__(self):\n",
    "        return f\"({self.index}, {self.level})\""
   ]
  },
  {
   "cell_type": "code",
   "execution_count": null,
   "id": "08bff33c",
   "metadata": {},
   "outputs": [],
   "source": [
    "class LevelInfo:\n",
    "    def __init__(self):\n",
    "        self.min_value = float(\"inf\")\n",
    "        self.max_value = float(\"-inf\")\n",
    "        self.power = 0\n",
    "    \n",
    "    def update(self, value):\n",
    "        self.min_value = min(self.min_value, value)\n",
    "        self.max_value = max(self.max_value, value)\n",
    "        self.power += 1\n",
    "    \n",
    "    def __str__(self):\n",
    "        return f\"power: {power}, range: [{level_info.min_value}, {level_info.max_value}]\""
   ]
  },
  {
   "cell_type": "code",
   "execution_count": null,
   "id": "a58eacb5",
   "metadata": {},
   "outputs": [],
   "source": [
    "levels = {}\n",
    "for i in range(2, numeric_df.shape[0] - 2):  \n",
    "    if is_support(numeric_df, i):    \n",
    "        low = numeric_df['low'][i]    \n",
    "        #if is_far_from_level(low, levels, numeric_df):      \n",
    "        level = Level(i, low)\n",
    "        level_info = levels.get(level, LevelInfo())\n",
    "        level_info.update(level.level)\n",
    "        levels.update({level: level_info})\n",
    "    elif is_resistance(numeric_df, i):    \n",
    "        high = numeric_df['high'][i]    \n",
    "        #if is_far_from_level(high, levels, numeric_df):      \n",
    "        level = Level(i, high)\n",
    "        level_info = levels.get(level, LevelInfo())\n",
    "        level_info.update(level.level)\n",
    "        levels.update({level: level_info})"
   ]
  },
  {
   "cell_type": "code",
   "execution_count": null,
   "id": "e1e6a4f8",
   "metadata": {},
   "outputs": [],
   "source": [
    "# @@ Cell 168\n",
    "{str(level): str(level_info) for level, level_info in levels.items()}"
   ]
  },
  {
   "cell_type": "code",
   "execution_count": null,
   "id": "08486e33",
   "metadata": {},
   "outputs": [],
   "source": [
    "# @@ Cell 169\n",
    "ave"
   ]
  },
  {
   "cell_type": "code",
   "execution_count": null,
   "id": "5500dc7f",
   "metadata": {},
   "outputs": [],
   "source": [
    "# @@ Cell 170\n",
    "support_values = [(level_info.min_value, level_info.max_value) for level, level_info in levels.items() if level.level_type == 'support']\n",
    "resistance_values = [(level_info.min_value, level_info.max_value) for level, level_info in levels.items() if level.level_type == 'resistance']"
   ]
  },
  {
   "cell_type": "code",
   "execution_count": null,
   "id": "27133930",
   "metadata": {},
   "outputs": [],
   "source": [
    "# @@ Cell 171\n",
    "support_range_values = [(level_info.min_value, level_info.max_value) for level, level_info in levels.items() if level.level_type == 'support']\n",
    "resistance_range_values = [(level_info.min_value, level_info.max_value) for level, level_info in levels.items() if level.level_type == 'resistance']"
   ]
  },
  {
   "cell_type": "code",
   "execution_count": null,
   "id": "1b131d7d",
   "metadata": {},
   "outputs": [],
   "source": [
    "# @@ Cell 172\n",
    "support_values = [value for value_range in support_range_values for value in value_range]\n",
    "resistance_values = [value for value_range in resistance_range_values for value in value_range]"
   ]
  },
  {
   "cell_type": "code",
   "execution_count": null,
   "id": "236be6f6",
   "metadata": {},
   "outputs": [],
   "source": [
    "# @@ Cell 173\n",
    "levels_values = support_values + resistance_values"
   ]
  },
  {
   "cell_type": "code",
   "execution_count": null,
   "id": "166cdefa",
   "metadata": {},
   "outputs": [],
   "source": [
    "# @@ Cell 174\n",
    "import matplotlib.colors as mcolors\n",
    "import seaborn as sns\n",
    "color_palette = sns.color_palette(\"husl\", len(levels_values) // 2)\n",
    "colors = [[mcolors.to_hex(c)] * 2 for c in color_palette]\n",
    "colors = [color for color_tuple in colors for color in color_tuple]"
   ]
  },
  {
   "cell_type": "code",
   "execution_count": null,
   "id": "7e08fb77",
   "metadata": {},
   "outputs": [],
   "source": [
    "# @@ Cell 175\n",
    "colors"
   ]
  },
  {
   "cell_type": "code",
   "execution_count": null,
   "id": "9cc6d2b5",
   "metadata": {},
   "outputs": [],
   "source": [
    "# @@ Cell 176\n",
    "levels_values"
   ]
  },
  {
   "cell_type": "code",
   "execution_count": null,
   "id": "043e0ea5",
   "metadata": {},
   "outputs": [],
   "source": [
    "# @@ Cell 177\n",
    "df_sample = df.head(50)"
   ]
  },
  {
   "cell_type": "code",
   "execution_count": null,
   "id": "1caf7147",
   "metadata": {},
   "outputs": [],
   "source": [
    "# @@ Cell 178\n",
    "numeric_df = pd.DataFrame()"
   ]
  },
  {
   "cell_type": "code",
   "execution_count": null,
   "id": "8fdbf63a",
   "metadata": {},
   "outputs": [],
   "source": [
    "# @@ Cell 179\n",
    "numeric_df.head()"
   ]
  },
  {
   "cell_type": "code",
   "execution_count": null,
   "id": "b1dfffa9",
   "metadata": {},
   "outputs": [],
   "source": [
    "# @@ Cell 180\n",
    "# load data\n",
    "events = deque()\n",
    "feed: Feed = CsvFeed(\n",
    "    {\n",
    "        exchange_asset: f\"trazy_analysis/strategy_ideas/bob_volman_pattern_break/data/btc_usdt.csv\"\n",
    "    },\n",
    "    events,\n",
    ")"
   ]
  },
  {
   "cell_type": "code",
   "execution_count": null,
   "id": "b3ca283d",
   "metadata": {},
   "outputs": [],
   "source": [
    "# @@ Cell 181\n",
    "df = feed.candle_dataframes[exchange_asset]"
   ]
  },
  {
   "cell_type": "code",
   "execution_count": null,
   "id": "48831c8e",
   "metadata": {},
   "outputs": [],
   "source": [
    "# @@ Cell 182\n",
    "df_sample = df.head(50)"
   ]
  },
  {
   "cell_type": "code",
   "execution_count": null,
   "id": "328f3c43",
   "metadata": {},
   "outputs": [],
   "source": [
    "# @@ Cell 183\n",
    "numeric_df = pd.DataFrame()"
   ]
  },
  {
   "cell_type": "code",
   "execution_count": null,
   "id": "d2cae80f",
   "metadata": {},
   "outputs": [],
   "source": [
    "# @@ Cell 184\n",
    "numeric_df.head()"
   ]
  },
  {
   "cell_type": "code",
   "execution_count": null,
   "id": "9bfc9740",
   "metadata": {},
   "outputs": [],
   "source": [
    "# @@ Cell 185\n",
    "numeric_df[\"open\"] = pd.to_numeric(df_sample[\"open\"])\n",
    "numeric_df[\"high\"] = pd.to_numeric(df_sample[\"high\"])\n",
    "numeric_df[\"low\"] = pd.to_numeric(df_sample[\"low\"])\n",
    "numeric_df[\"close\"] = pd.to_numeric(df_sample[\"close\"])\n",
    "numeric_df[\"volume\"] = pd.to_numeric(df_sample[\"volume\"])\n",
    "numeric_df.index = pd.to_datetime(numeric_df.index)\n",
    "numeric_df['date'] = mpl_dates.date2num(numeric_df.index)"
   ]
  },
  {
   "cell_type": "code",
   "execution_count": null,
   "id": "5be22bf1",
   "metadata": {},
   "outputs": [],
   "source": [
    "# @@ Cell 186\n",
    "from scipy.signal import argrelextrema"
   ]
  },
  {
   "cell_type": "code",
   "execution_count": null,
   "id": "539178d0",
   "metadata": {},
   "outputs": [],
   "source": [
    "x_max = np.array(numeric_df['high'])\n",
    "x_min = np.array(numeric_df['low'])"
   ]
  },
  {
   "cell_type": "code",
   "execution_count": null,
   "id": "a78432e4",
   "metadata": {},
   "outputs": [],
   "source": [
    "# for local maxima\n",
    "maximas = argrelextrema(x_max, np.greater)[0]"
   ]
  },
  {
   "cell_type": "code",
   "execution_count": null,
   "id": "9f5514cd",
   "metadata": {},
   "outputs": [],
   "source": [
    "# for local minima\n",
    "minimas = argrelextrema(x_min, np.less)[0]"
   ]
  },
  {
   "cell_type": "code",
   "execution_count": null,
   "id": "9ff3b3e2",
   "metadata": {},
   "outputs": [],
   "source": [
    "# @@ Cell 187\n",
    "maximas"
   ]
  },
  {
   "cell_type": "code",
   "execution_count": null,
   "id": "7b37964d",
   "metadata": {},
   "outputs": [],
   "source": [
    "# @@ Cell 188\n",
    "minimas"
   ]
  },
  {
   "cell_type": "code",
   "execution_count": null,
   "id": "3d7cda21",
   "metadata": {},
   "outputs": [],
   "source": [
    "# @@ Cell 189\n",
    "extremas = np.concatenate((maximas, minimas), axis=0)"
   ]
  },
  {
   "cell_type": "code",
   "execution_count": null,
   "id": "0a46c855",
   "metadata": {},
   "outputs": [],
   "source": [
    "# @@ Cell 190\n",
    "extremas"
   ]
  },
  {
   "cell_type": "code",
   "execution_count": null,
   "id": "1f4de372",
   "metadata": {},
   "outputs": [],
   "source": [
    "# @@ Cell 191\n",
    "sorted_extremas = np.sort(extremas) "
   ]
  },
  {
   "cell_type": "code",
   "execution_count": null,
   "id": "35fbde4c",
   "metadata": {},
   "outputs": [],
   "source": [
    "# @@ Cell 192\n",
    "sorted_extremas"
   ]
  },
  {
   "cell_type": "code",
   "execution_count": null,
   "id": "b7827d49",
   "metadata": {},
   "outputs": [],
   "source": [
    "# @@ Cell 193\n",
    "numeric_df['min'] = numeric_df.iloc[argrelextrema(x, np.less)[0]]['low']\n",
    "numeric_df['max'] = numeric_df.iloc[argrelextrema(x, np.greater)[0]]['high']"
   ]
  },
  {
   "cell_type": "markdown",
   "id": "70383bea",
   "metadata": {},
   "source": [
    "Plot results"
   ]
  },
  {
   "cell_type": "code",
   "execution_count": null,
   "id": "e846869e",
   "metadata": {},
   "outputs": [],
   "source": [
    "plt.scatter(numeric_df.index, numeric_df['min'], c='r')\n",
    "plt.scatter(numeric_df.index, numeric_df['max'], c='g')\n",
    "plt.plot(numeric_df.index, numeric_df['close'])\n",
    "plt.show()"
   ]
  },
  {
   "cell_type": "code",
   "execution_count": null,
   "id": "12cdb15a",
   "metadata": {},
   "outputs": [],
   "source": [
    "# @@ Cell 194\n",
    "type(numeric_df['close'].iloc[0])"
   ]
  },
  {
   "cell_type": "code",
   "execution_count": null,
   "id": "7236c87a",
   "metadata": {},
   "outputs": [],
   "source": [
    "# @@ Cell 195\n",
    "numeric_df['close'].iloc[sorted_extremas]"
   ]
  },
  {
   "cell_type": "code",
   "execution_count": null,
   "id": "5f19d2eb",
   "metadata": {},
   "outputs": [],
   "source": [
    "# @@ Cell 196\n",
    "ave"
   ]
  },
  {
   "cell_type": "code",
   "execution_count": null,
   "id": "45d2817e",
   "metadata": {
    "lines_to_next_cell": 1
   },
   "outputs": [],
   "source": [
    "# @@ Cell 197\n",
    "ave =  np.mean(numeric_df['high'] - numeric_df['low']) / 2"
   ]
  },
  {
   "cell_type": "code",
   "execution_count": null,
   "id": "f3a7efcc",
   "metadata": {
    "lines_to_next_cell": 1
   },
   "outputs": [],
   "source": [
    "# a list to store resistance and support levels\n",
    "class Level:\n",
    "    def __init__(self, index, level, level_type):\n",
    "        self.index = index\n",
    "        self.level = level\n",
    "        self.level_type = level_type\n",
    "\n",
    "    def __hash__(self):\n",
    "        return 0\n",
    "\n",
    "    def __eq__(self, other):\n",
    "        return self.level_type == other.level_type and abs(self.level - other.level) < ave\n",
    "    \n",
    "    def __str__(self):\n",
    "        return f\"({self.index}, {self.level}, {self.level_type})\""
   ]
  },
  {
   "cell_type": "code",
   "execution_count": null,
   "id": "88ed62d2",
   "metadata": {},
   "outputs": [],
   "source": [
    "levels = {}"
   ]
  },
  {
   "cell_type": "code",
   "execution_count": null,
   "id": "9366695f",
   "metadata": {},
   "outputs": [],
   "source": [
    "for i in minimas:\n",
    "    low = numeric_df['low'].iloc[i]\n",
    "    level = Level(i, low, \"support\")\n",
    "    power = levels.get(level, 0) + 1\n",
    "    levels.update({level: power})\n",
    "    print(f\"Take into account {str(level)}: {power}\")\n",
    "    print({str(level): power for level, power in levels.items()})"
   ]
  },
  {
   "cell_type": "code",
   "execution_count": null,
   "id": "15820c9a",
   "metadata": {
    "lines_to_next_cell": 1
   },
   "outputs": [],
   "source": [
    "print(\"----------------------------------------------------------\")\n",
    "for i in maximas:\n",
    "    high = numeric_df['high'].iloc[i]\n",
    "    level = Level(i, high, \"resistance\")\n",
    "    power = levels.get(level, 0) + 1\n",
    "    levels.update({level: power})\n",
    "    print(f\"Take into account {str(level)}: {power}\")\n",
    "    print({str(level): power for level, power in levels.items()})"
   ]
  },
  {
   "cell_type": "code",
   "execution_count": null,
   "id": "cea75f28",
   "metadata": {
    "lines_to_next_cell": 1
   },
   "outputs": [],
   "source": [
    "# @@ Cell 198\n",
    "#method 1: fractal candlestick pattern\n",
    "# determine bullish fractal \n",
    "def is_support(df,i):  \n",
    "  cond1 = df['low'][i] < df['low'][i-1]   \n",
    "  cond2 = df['low'][i] < df['low'][i+1]   \n",
    "  cond3 = df['low'][i+1] < df['low'][i+2]   \n",
    "  cond4 = df['low'][i-1] < df['low'][i-2]  \n",
    "  return (cond1 and cond2 and cond3 and cond4) \n",
    "# determine bearish fractal\n",
    "def is_resistance(df,i):  \n",
    "  cond1 = df['high'][i] > df['high'][i-1]   \n",
    "  cond2 = df['high'][i] > df['high'][i+1]   \n",
    "  cond3 = df['high'][i+1] > df['high'][i+2]   \n",
    "  cond4 = df['high'][i-1] > df['high'][i-2]  \n",
    "  return (cond1 and cond2 and cond3 and cond4)\n",
    "# to make sure the new level area does not exist already"
   ]
  },
  {
   "cell_type": "code",
   "execution_count": null,
   "id": "00921ffe",
   "metadata": {
    "lines_to_next_cell": 1
   },
   "outputs": [],
   "source": [
    "levels_power = []\n",
    "ave =  np.mean(numeric_df['high'] - numeric_df['low'])\n",
    "def is_far_from_level(value, levels, df):  \n",
    "  return np.sum([abs(value-level) < ave for _,level in levels])==0"
   ]
  },
  {
   "cell_type": "code",
   "execution_count": null,
   "id": "74394fd6",
   "metadata": {
    "lines_to_next_cell": 1
   },
   "outputs": [],
   "source": [
    "# a list to store resistance and support levels\n",
    "class Level:\n",
    "    def __init__(self, index, level):\n",
    "        self.index = index\n",
    "        self.level = level\n",
    "        self.level_type = level\n",
    "\n",
    "    def __hash__(self):\n",
    "        return 0\n",
    "\n",
    "    def __eq__(self, other):\n",
    "        return abs(self.level - other.level) < ave\n",
    "    \n",
    "    def __str__(self):\n",
    "        return f\"({self.index}, {self.level})\""
   ]
  },
  {
   "cell_type": "code",
   "execution_count": null,
   "id": "dbd37da6",
   "metadata": {},
   "outputs": [],
   "source": [
    "class LevelInfo:\n",
    "    def __init__(self):\n",
    "        self.min_value = float(\"inf\")\n",
    "        self.max_value = float(\"-inf\")\n",
    "        self.power = 0\n",
    "    \n",
    "    def update(self, value):\n",
    "        self.min_value = min(self.min_value, value)\n",
    "        self.max_value = max(self.max_value, value)\n",
    "        self.power += 1\n",
    "    \n",
    "    def __str__(self):\n",
    "        return f\"power: {power}, range: [{level_info.min_value}, {level_info.max_value}]\""
   ]
  },
  {
   "cell_type": "code",
   "execution_count": null,
   "id": "9bbbd638",
   "metadata": {},
   "outputs": [],
   "source": [
    "levels = {}\n",
    "for i in range(2, numeric_df.shape[0] - 2):  \n",
    "    if is_support(numeric_df, i):    \n",
    "        low = numeric_df['low'][i]    \n",
    "        #if is_far_from_level(low, levels, numeric_df):      \n",
    "        level = Level(i, low)\n",
    "        level_info = levels.get(level, LevelInfo())\n",
    "        level_info.update(level.level)\n",
    "        levels.update({level: level_info})\n",
    "    elif is_resistance(numeric_df, i):    \n",
    "        high = numeric_df['high'][i]    \n",
    "        #if is_far_from_level(high, levels, numeric_df):      \n",
    "        level = Level(i, high)\n",
    "        level_info = levels.get(level, LevelInfo())\n",
    "        level_info.update(level.level)\n",
    "        levels.update({level: level_info})"
   ]
  },
  {
   "cell_type": "code",
   "execution_count": null,
   "id": "7c411e89",
   "metadata": {},
   "outputs": [],
   "source": [
    "# @@ Cell 199\n",
    "{str(level): str(level_info) for level, level_info in levels.items()}"
   ]
  },
  {
   "cell_type": "code",
   "execution_count": null,
   "id": "0b1971c8",
   "metadata": {
    "lines_to_next_cell": 1
   },
   "outputs": [],
   "source": [
    "# @@ Cell 200\n",
    "ave =  np.mean(numeric_df['high'] - numeric_df['low']) / 2"
   ]
  },
  {
   "cell_type": "code",
   "execution_count": null,
   "id": "741f0825",
   "metadata": {
    "lines_to_next_cell": 1
   },
   "outputs": [],
   "source": [
    "# a list to store resistance and support levels\n",
    "class Level:\n",
    "    def __init__(self, index, level, level_type):\n",
    "        self.index = index\n",
    "        self.level = level\n",
    "        self.level_type = level_type\n",
    "\n",
    "    def __hash__(self):\n",
    "        return 0\n",
    "\n",
    "    def __eq__(self, other):\n",
    "        return self.level_type == other.level_type and abs(self.level - other.level) < ave\n",
    "    \n",
    "    def __str__(self):\n",
    "        return f\"({self.index}, {self.level}, {self.level_type})\""
   ]
  },
  {
   "cell_type": "code",
   "execution_count": null,
   "id": "d50c4102",
   "metadata": {},
   "outputs": [],
   "source": [
    "levels = {}"
   ]
  },
  {
   "cell_type": "code",
   "execution_count": null,
   "id": "e2ffd68c",
   "metadata": {},
   "outputs": [],
   "source": [
    "for i in minimas:\n",
    "    low = numeric_df['low'].iloc[i]\n",
    "    level = Level(i, low, \"support\")\n",
    "    power = levels.get(level, 0) + 1\n",
    "    levels.update({level: power})\n",
    "    print(f\"Take into account {str(level)}: {power}\")\n",
    "    print({str(level): power for level, power in levels.items()})"
   ]
  },
  {
   "cell_type": "code",
   "execution_count": null,
   "id": "2665e96e",
   "metadata": {},
   "outputs": [],
   "source": [
    "print(\"----------------------------------------------------------\")\n",
    "for i in maximas:\n",
    "    high = numeric_df['high'].iloc[i]\n",
    "    level = Level(i, high, \"resistance\")\n",
    "    power = levels.get(level, 0) + 1\n",
    "    levels.update({level: power})\n",
    "    print(f\"Take into account {str(level)}: {power}\")\n",
    "    print({str(level): power for level, power in levels.items()})"
   ]
  },
  {
   "cell_type": "code",
   "execution_count": null,
   "id": "69378102",
   "metadata": {},
   "outputs": [],
   "source": [
    "# @@ Cell 201\n",
    "{str(level): str(level_info) for level, level_info in levels.items()}"
   ]
  },
  {
   "cell_type": "code",
   "execution_count": null,
   "id": "73713c89",
   "metadata": {},
   "outputs": [],
   "source": [
    "# @@ Cell 202\n",
    "ave"
   ]
  },
  {
   "cell_type": "code",
   "execution_count": null,
   "id": "28e4769f",
   "metadata": {},
   "outputs": [],
   "source": [
    "# @@ Cell 203\n",
    "support_range_values = [(level_info.min_value, level_info.max_value) for level, level_info in levels.items() if level.level_type == 'support']\n",
    "resistance_range_values = [(level_info.min_value, level_info.max_value) for level, level_info in levels.items() if level.level_type == 'resistance']"
   ]
  },
  {
   "cell_type": "code",
   "execution_count": null,
   "id": "3c930ddf",
   "metadata": {
    "lines_to_next_cell": 1
   },
   "outputs": [],
   "source": [
    "# @@ Cell 204\n",
    "ave =  np.mean(numeric_df['high'] - numeric_df['low']) / 2"
   ]
  },
  {
   "cell_type": "code",
   "execution_count": null,
   "id": "b61c9c28",
   "metadata": {},
   "outputs": [],
   "source": [
    "# a list to store resistance and support levels\n",
    "class Level:\n",
    "    def __init__(self, index, level, level_type):\n",
    "        self.index = index\n",
    "        self.level = level\n",
    "        self.level_type = level_type\n",
    "\n",
    "    def __hash__(self):\n",
    "        return 0\n",
    "\n",
    "    def __eq__(self, other):\n",
    "        return self.level_type == other.level_type and abs(self.level - other.level) < ave\n",
    "    \n",
    "    def __str__(self):\n",
    "        return f\"({self.index}, {self.level}, {self.level_type})\""
   ]
  },
  {
   "cell_type": "code",
   "execution_count": null,
   "id": "be927db8",
   "metadata": {
    "lines_to_next_cell": 1
   },
   "outputs": [],
   "source": [
    "class LevelInfo:\n",
    "    def __init__(self):\n",
    "        self.min_value = float(\"inf\")\n",
    "        self.max_value = float(\"-inf\")\n",
    "        self.power = 0\n",
    "    \n",
    "    def update(self, value):\n",
    "        self.min_value = min(self.min_value, value)\n",
    "        self.max_value = max(self.max_value, value)\n",
    "        self.power += 1\n",
    "    \n",
    "    def __str__(self):\n",
    "        return f\"power: {power}, range: [{level_info.min_value}, {level_info.max_value}]\""
   ]
  },
  {
   "cell_type": "code",
   "execution_count": null,
   "id": "863cf5b8",
   "metadata": {},
   "outputs": [],
   "source": [
    "levels = {}"
   ]
  },
  {
   "cell_type": "code",
   "execution_count": null,
   "id": "ca395a3f",
   "metadata": {},
   "outputs": [],
   "source": [
    "for i in minimas:\n",
    "    low = numeric_df['low'].iloc[i]\n",
    "    level = Level(i, low, \"support\")\n",
    "    level_info = levels.get(level, LevelInfo())\n",
    "    level_info.update(level.level)\n",
    "    levels.update({level: level_info})\n",
    "    print(f\"Take into account {str(level)}: {str(level_info)}\")\n",
    "    print({str(level): str(level_info)} for level, power in levels.items()})"
   ]
  },
  {
   "cell_type": "code",
   "execution_count": null,
   "id": "21befe73",
   "metadata": {},
   "outputs": [],
   "source": [
    "print(\"----------------------------------------------------------\")\n",
    "for i in maximas:\n",
    "    high = numeric_df['high'].iloc[i]\n",
    "    level = Level(i, high, \"resistance\")\n",
    "    level_info = levels.get(level, LevelInfo())\n",
    "    level_info.update(level.level)\n",
    "    levels.update({level: level_info})\n",
    "    print(f\"Take into account {str(level)}: {str(level_info)}\")\n",
    "    print({str(level): str(level_info)} for level, power in levels.items()})"
   ]
  },
  {
   "cell_type": "code",
   "execution_count": null,
   "id": "9b82d44f",
   "metadata": {
    "lines_to_next_cell": 1
   },
   "outputs": [],
   "source": [
    "# @@ Cell 205\n",
    "ave =  np.mean(numeric_df['high'] - numeric_df['low']) / 2"
   ]
  },
  {
   "cell_type": "code",
   "execution_count": null,
   "id": "24063873",
   "metadata": {},
   "outputs": [],
   "source": [
    "# a list to store resistance and support levels\n",
    "class Level:\n",
    "    def __init__(self, index, level, level_type):\n",
    "        self.index = index\n",
    "        self.level = level\n",
    "        self.level_type = level_type\n",
    "\n",
    "    def __hash__(self):\n",
    "        return 0\n",
    "\n",
    "    def __eq__(self, other):\n",
    "        return self.level_type == other.level_type and abs(self.level - other.level) < ave\n",
    "    \n",
    "    def __str__(self):\n",
    "        return f\"({self.index}, {self.level}, {self.level_type})\""
   ]
  },
  {
   "cell_type": "code",
   "execution_count": null,
   "id": "d3500ad6",
   "metadata": {
    "lines_to_next_cell": 1
   },
   "outputs": [],
   "source": [
    "class LevelInfo:\n",
    "    def __init__(self):\n",
    "        self.min_value = float(\"inf\")\n",
    "        self.max_value = float(\"-inf\")\n",
    "        self.power = 0\n",
    "    \n",
    "    def update(self, value):\n",
    "        self.min_value = min(self.min_value, value)\n",
    "        self.max_value = max(self.max_value, value)\n",
    "        self.power += 1\n",
    "    \n",
    "    def __str__(self):\n",
    "        return f\"power: {power}, range: [{level_info.min_value}, {level_info.max_value}]\""
   ]
  },
  {
   "cell_type": "code",
   "execution_count": null,
   "id": "0ba71fef",
   "metadata": {},
   "outputs": [],
   "source": [
    "levels = {}"
   ]
  },
  {
   "cell_type": "code",
   "execution_count": null,
   "id": "f9532530",
   "metadata": {},
   "outputs": [],
   "source": [
    "for i in minimas:\n",
    "    low = numeric_df['low'].iloc[i]\n",
    "    level = Level(i, low, \"support\")\n",
    "    level_info = levels.get(level, LevelInfo())\n",
    "    level_info.update(level.level)\n",
    "    levels.update({level: level_info})\n",
    "    print(f\"Take into account {str(level)}: {str(level_info)}\")\n",
    "    print({str(level): str(level_info) for level, power in levels.items()})"
   ]
  },
  {
   "cell_type": "code",
   "execution_count": null,
   "id": "eda6e480",
   "metadata": {},
   "outputs": [],
   "source": [
    "print(\"----------------------------------------------------------\")\n",
    "for i in maximas:\n",
    "    high = numeric_df['high'].iloc[i]\n",
    "    level = Level(i, high, \"resistance\")\n",
    "    level_info = levels.get(level, LevelInfo())\n",
    "    level_info.update(level.level)\n",
    "    levels.update({level: level_info})\n",
    "    print(f\"Take into account {str(level)}: {str(level_info)}\")\n",
    "    print({str(level): str(level_info) for level, power in levels.items()})"
   ]
  },
  {
   "cell_type": "code",
   "execution_count": null,
   "id": "25242e29",
   "metadata": {},
   "outputs": [],
   "source": [
    "# @@ Cell 206\n",
    "{str(level): str(level_info) for level, level_info in levels.items()}"
   ]
  },
  {
   "cell_type": "code",
   "execution_count": null,
   "id": "839ec9b2",
   "metadata": {},
   "outputs": [],
   "source": [
    "# @@ Cell 207\n",
    "support_range_values = [(level_info.min_value, level_info.max_value) for level, level_info in levels.items() if level.level_type == 'support']\n",
    "resistance_range_values = [(level_info.min_value, level_info.max_value) for level, level_info in levels.items() if level.level_type == 'resistance']"
   ]
  },
  {
   "cell_type": "code",
   "execution_count": null,
   "id": "5bf391fb",
   "metadata": {},
   "outputs": [],
   "source": [
    "# @@ Cell 208\n",
    "support_values = [value for value_range in support_range_values for value in value_range]\n",
    "resistance_values = [value for value_range in resistance_range_values for value in value_range]"
   ]
  },
  {
   "cell_type": "code",
   "execution_count": null,
   "id": "ce2c5b3a",
   "metadata": {},
   "outputs": [],
   "source": [
    "# @@ Cell 209\n",
    "levels_values = support_values + resistance_values"
   ]
  },
  {
   "cell_type": "code",
   "execution_count": null,
   "id": "64de3f4b",
   "metadata": {},
   "outputs": [],
   "source": [
    "# @@ Cell 210\n",
    "levels_values"
   ]
  },
  {
   "cell_type": "code",
   "execution_count": null,
   "id": "4993fbbd",
   "metadata": {},
   "outputs": [],
   "source": [
    "# @@ Cell 211\n",
    "import matplotlib.colors as mcolors\n",
    "import seaborn as sns\n",
    "color_palette = sns.color_palette(\"husl\", len(levels_values) // 2)\n",
    "colors = [[mcolors.to_hex(c)] * 2 for c in color_palette]\n",
    "colors = [color for color_tuple in colors for color in color_tuple]"
   ]
  },
  {
   "cell_type": "code",
   "execution_count": null,
   "id": "88465750",
   "metadata": {},
   "outputs": [],
   "source": [
    "# @@ Cell 212\n",
    "colors = ['r'] * len(support_values) + ['g'] * len(resistance_values)"
   ]
  },
  {
   "cell_type": "code",
   "execution_count": null,
   "id": "70def2a4",
   "metadata": {},
   "outputs": [],
   "source": [
    "# @@ Cell 213\n",
    "colors"
   ]
  },
  {
   "cell_type": "code",
   "execution_count": null,
   "id": "74e49301",
   "metadata": {},
   "outputs": [],
   "source": [
    "# @@ Cell 214\n",
    "mpf.plot(\n",
    "    numeric_df,\n",
    "    hlines=dict(hlines=levels_values,colors=colors,linestyle='-.'),\n",
    "    type='candle',\n",
    "    volume=True,\n",
    "    title='BTC-USDT'\n",
    ")"
   ]
  },
  {
   "cell_type": "code",
   "execution_count": null,
   "id": "46417d97",
   "metadata": {},
   "outputs": [],
   "source": [
    "# @@ Cell 215\n",
    "import matplotlib.colors as mcolors\n",
    "import seaborn as sns\n",
    "color_palette = sns.color_palette(\"husl\", len(levels_values) // 2)\n",
    "colors = [[mcolors.to_hex(c)] * 2 for c in color_palette]\n",
    "colors = [color for color_tuple in colors for color in color_tuple]"
   ]
  },
  {
   "cell_type": "code",
   "execution_count": null,
   "id": "825029af",
   "metadata": {},
   "outputs": [],
   "source": [
    "# @@ Cell 216\n",
    "colors"
   ]
  },
  {
   "cell_type": "code",
   "execution_count": null,
   "id": "8dcbbeca",
   "metadata": {},
   "outputs": [],
   "source": [
    "# @@ Cell 217\n",
    "mpf.plot(\n",
    "    numeric_df,\n",
    "    hlines=dict(hlines=levels_values,colors=colors,linestyle='-.'),\n",
    "    type='candle',\n",
    "    volume=True,\n",
    "    title='BTC-USDT'\n",
    ")"
   ]
  },
  {
   "cell_type": "code",
   "execution_count": null,
   "id": "55a92fc9",
   "metadata": {},
   "outputs": [],
   "source": [
    "# @@ Cell 218\n",
    "colors = ['r'] * len(support_values) + ['g'] * len(resistance_values)"
   ]
  },
  {
   "cell_type": "code",
   "execution_count": null,
   "id": "be2eb066",
   "metadata": {},
   "outputs": [],
   "source": [
    "# @@ Cell 219\n",
    "colors"
   ]
  },
  {
   "cell_type": "code",
   "execution_count": null,
   "id": "8fe39c06",
   "metadata": {},
   "outputs": [],
   "source": [
    "# @@ Cell 220\n",
    "mpf.plot(\n",
    "    numeric_df,\n",
    "    hlines=dict(hlines=levels_values,colors=colors,linestyle='-.'),\n",
    "    type='candle',\n",
    "    volume=True,\n",
    "    title='BTC-USDT'\n",
    ")"
   ]
  },
  {
   "cell_type": "code",
   "execution_count": null,
   "id": "a1e30231",
   "metadata": {},
   "outputs": [],
   "source": [
    "# @@ Cell 221\n",
    "mpf.plot(\n",
    "    numeric_df,\n",
    "    hlines=dict(hlines=levels_values,colors=colors,linestyle='-.'),\n",
    "    fill_between=dict(y1=[65500], y2=[65600], color='#f2ad73', alpha=0.20)\n",
    "    type='candle',\n",
    "    volume=True,\n",
    "    title='BTC-USDT'\n",
    ")"
   ]
  },
  {
   "cell_type": "code",
   "execution_count": null,
   "id": "ed54a41b",
   "metadata": {},
   "outputs": [],
   "source": [
    "# @@ Cell 222\n",
    "mpf.plot(\n",
    "    numeric_df,\n",
    "    hlines=dict(hlines=levels_values,colors=colors,linestyle='-.'),\n",
    "    fill_between=dict(y1=[65500], y2=[65600], color='#f2ad73', alpha=0.20),\n",
    "    type='candle',\n",
    "    volume=True,\n",
    "    title='BTC-USDT'\n",
    ")"
   ]
  },
  {
   "cell_type": "code",
   "execution_count": null,
   "id": "447c4f4b",
   "metadata": {},
   "outputs": [],
   "source": [
    "# @@ Cell 223\n",
    "support_min_values = [range_value[0] for range_value in support_range_values]\n",
    "support_max_values = [range_value[1] for range_value in support_range_values]\n",
    "resistance_min_values = [range_value[0] for range_value in resistance_range_values]\n",
    "resistance_max_values = [range_value[1] for range_value in resistance_range_values]"
   ]
  },
  {
   "cell_type": "code",
   "execution_count": null,
   "id": "07901cba",
   "metadata": {},
   "outputs": [],
   "source": [
    "# @@ Cell 224\n",
    "levels_min_values = support_min_values + resistance_min_values\n",
    "levels_max_values = support_max_values + resistance_max_values\n",
    "levels_values = support_values + resistance_values"
   ]
  },
  {
   "cell_type": "code",
   "execution_count": null,
   "id": "35983186",
   "metadata": {},
   "outputs": [],
   "source": [
    "# @@ Cell 225\n",
    "mpf.plot(\n",
    "    numeric_df,\n",
    "    hlines=dict(hlines=levels_values,colors=colors,linestyle='-.'),\n",
    "    fill_between=dict(y1=levels_min_values, y2=levels_max_values, color='#f2ad73', alpha=0.20),\n",
    "    type='candle',\n",
    "    volume=True,\n",
    "    title='BTC-USDT'\n",
    ")"
   ]
  },
  {
   "cell_type": "code",
   "execution_count": null,
   "id": "59af7526",
   "metadata": {},
   "outputs": [],
   "source": [
    "# @@ Cell 226\n",
    "levels_min_values"
   ]
  },
  {
   "cell_type": "code",
   "execution_count": null,
   "id": "b91e0c30",
   "metadata": {},
   "outputs": [],
   "source": [
    "# @@ Cell 227\n",
    "levels_max_values"
   ]
  },
  {
   "cell_type": "code",
   "execution_count": null,
   "id": "c25dcc56",
   "metadata": {},
   "outputs": [],
   "source": [
    "# @@ Cell 228\n",
    "mpf.plot(\n",
    "    numeric_df,\n",
    "    hlines=dict(hlines=levels_values,colors=colors,linestyle='-.'),\n",
    "    fill_between=dict(y1=65500, y2=65600, color='#f2ad73', alpha=0.20),\n",
    "    type='candle',\n",
    "    volume=True,\n",
    "    title='BTC-USDT'\n",
    ")"
   ]
  },
  {
   "cell_type": "code",
   "execution_count": null,
   "id": "3b466aec",
   "metadata": {},
   "outputs": [],
   "source": [
    "# @@ Cell 229\n",
    "mpf.plot(\n",
    "    numeric_df,\n",
    "    hlines=dict(hlines=levels_values,colors=colors,linestyle='-.'),\n",
    "    fill_between=dict(y1=65500, y2=65500, color='#f2ad73', alpha=0.20),\n",
    "    type='candle',\n",
    "    volume=True,\n",
    "    title='BTC-USDT'\n",
    ")"
   ]
  },
  {
   "cell_type": "code",
   "execution_count": null,
   "id": "bfc03400",
   "metadata": {},
   "outputs": [],
   "source": [
    "# @@ Cell 230\n",
    "mpf.plot(\n",
    "    numeric_df,\n",
    "    hlines=dict(hlines=levels_values,colors=colors,linestyle='-.'),\n",
    "    fill_between=dict(y1=[65500], y2=[65600], color='#f2ad73', alpha=0.20),\n",
    "    type='candle',\n",
    "    volume=True,\n",
    "    title='BTC-USDT'\n",
    ")"
   ]
  },
  {
   "cell_type": "code",
   "execution_count": null,
   "id": "e65dafda",
   "metadata": {},
   "outputs": [],
   "source": [
    "# @@ Cell 231\n",
    "mpf.plot(\n",
    "    numeric_df,\n",
    "    hlines=dict(hlines=levels_values,colors=colors,linestyle='-.'),\n",
    "    fill_between=dict(y1=[65500, 65700], y2=[65600, 65800], color='#f2ad73', alpha=0.20),\n",
    "    type='candle',\n",
    "    volume=True,\n",
    "    title='BTC-USDT'\n",
    ")"
   ]
  },
  {
   "cell_type": "code",
   "execution_count": null,
   "id": "3e29d3d5",
   "metadata": {},
   "outputs": [],
   "source": [
    "# @@ Cell 232\n",
    "mpf.plot(\n",
    "    numeric_df,\n",
    "    hlines=dict(hlines=levels_values,colors=colors,linestyle='-.'),\n",
    "    fill_between=dict(y1=[65500, 65700], y2=[65800, 65900], color='#f2ad73', alpha=0.20),\n",
    "    type='candle',\n",
    "    volume=True,\n",
    "    title='BTC-USDT'\n",
    ")"
   ]
  },
  {
   "cell_type": "code",
   "execution_count": null,
   "id": "630b3e9e",
   "metadata": {},
   "outputs": [],
   "source": [
    "# @@ Cell 233\n",
    "mpf.plot(\n",
    "    numeric_df,\n",
    "    hlines=dict(hlines=levels_values,colors=colors,linestyle='-.'),\n",
    "    fill_between=dict(y1=[65500], y2=[65600], color='#f2ad73', alpha=0.20),\n",
    "    type='candle',\n",
    "    volume=True,\n",
    "    title='BTC-USDT'\n",
    ")"
   ]
  },
  {
   "cell_type": "code",
   "execution_count": null,
   "id": "2ef44a85",
   "metadata": {},
   "outputs": [],
   "source": [
    "# @@ Cell 234\n",
    "mpf.plot(\n",
    "    numeric_df,\n",
    "    hlines=dict(hlines=levels_values,colors=colors,linestyle='-.'),\n",
    "    fill_between=dict(y1=[[65500]], y2=[[65600]], color='#f2ad73', alpha=0.20),\n",
    "    type='candle',\n",
    "    volume=True,\n",
    "    title='BTC-USDT'\n",
    ")"
   ]
  },
  {
   "cell_type": "code",
   "execution_count": null,
   "id": "faa1b75f",
   "metadata": {},
   "outputs": [],
   "source": [
    "# @@ Cell 235\n",
    "mpf.plot(\n",
    "    numeric_df,\n",
    "    hlines=dict(hlines=levels_values,colors=colors,linestyle='-.'),\n",
    "    fill_between=dict(y1=[65500] * 50, y2=[65600] * 50, color='#f2ad73', alpha=0.20),\n",
    "    type='candle',\n",
    "    volume=True,\n",
    "    title='BTC-USDT'\n",
    ")"
   ]
  },
  {
   "cell_type": "code",
   "execution_count": null,
   "id": "a1e4f281",
   "metadata": {},
   "outputs": [],
   "source": [
    "# @@ Cell 236\n",
    "mpf.plot(\n",
    "    numeric_df,\n",
    "    hlines=dict(hlines=levels_values,colors=colors,linestyle='-.'),\n",
    "    fill_between=dict(y1=[[65500] * 50], y2=[[65600] * 50], color='#f2ad73', alpha=0.20),\n",
    "    type='candle',\n",
    "    volume=True,\n",
    "    title='BTC-USDT'\n",
    ")"
   ]
  },
  {
   "cell_type": "code",
   "execution_count": null,
   "id": "36d7ac4a",
   "metadata": {},
   "outputs": [],
   "source": [
    "# @@ Cell 237\n",
    "mpf.plot(\n",
    "    numeric_df,\n",
    "    hlines=dict(hlines=levels_values,colors=colors,linestyle='-.'),\n",
    "    fill_between=dict(y1=[65500], y2=[65600], y3=65700, y4=65800, color='#f2ad73', alpha=0.20),\n",
    "    type='candle',\n",
    "    volume=True,\n",
    "    title='BTC-USDT'\n",
    ")"
   ]
  },
  {
   "cell_type": "code",
   "execution_count": null,
   "id": "19c580a8",
   "metadata": {},
   "outputs": [],
   "source": [
    "# @@ Cell 238\n",
    "mpf.plot(\n",
    "    numeric_df,\n",
    "    hlines=dict(hlines=levels_values,colors=colors,linestyle='-.'),\n",
    "    fill_between=dict(y1=[65500], y2=[65600], color='#f2ad73', alpha=0.20),\n",
    "    fill_between=dict(y1=[65500], y2=[65600], color='#f2ad73', alpha=0.20),\n",
    "    type='candle',\n",
    "    volume=True,\n",
    "    title='BTC-USDT'\n",
    ")"
   ]
  },
  {
   "cell_type": "code",
   "execution_count": null,
   "id": "7db1eff7",
   "metadata": {},
   "outputs": [],
   "source": [
    "# @@ Cell 239\n",
    "mpf.plot(\n",
    "    numeric_df,\n",
    "    hlines=dict(hlines=levels_values,colors=colors,linestyle='-.'),\n",
    "    fill_between=dict(y1=[65500], y2=[65600], color='#f2ad73', alpha=0.20),\n",
    "    type='candle',\n",
    "    volume=True,\n",
    "    title='BTC-USDT'\n",
    ")"
   ]
  },
  {
   "cell_type": "code",
   "execution_count": null,
   "id": "9f767c44",
   "metadata": {},
   "outputs": [],
   "source": [
    "# @@ Cell 240\n",
    "fig, ax = plt.subplots(16, 9)\n",
    "mpf.plot(\n",
    "    numeric_df,\n",
    "    hlines=dict(hlines=levels_values,colors=colors,linestyle='-.'),\n",
    "    fill_between=dict(y1=[65500], y2=[65600], color='#f2ad73', alpha=0.20),\n",
    "    type='candle',\n",
    "    volume=True,\n",
    "    title='BTC-USDT',\n",
    "    ax=ax\n",
    ")"
   ]
  },
  {
   "cell_type": "code",
   "execution_count": null,
   "id": "133a7b84",
   "metadata": {},
   "outputs": [],
   "source": [
    "# @@ Cell 241\n",
    "fig, ax = plt.subplots()\n",
    "mpf.plot(\n",
    "    numeric_df,\n",
    "    hlines=dict(hlines=levels_values,colors=colors,linestyle='-.'),\n",
    "    fill_between=dict(y1=[65500], y2=[65600], color='#f2ad73', alpha=0.20),\n",
    "    type='candle',\n",
    "    volume=True,\n",
    "    title='BTC-USDT',\n",
    "    ax=ax\n",
    ")"
   ]
  },
  {
   "cell_type": "code",
   "execution_count": null,
   "id": "bb6f7af1",
   "metadata": {},
   "outputs": [],
   "source": [
    "# @@ Cell 242\n",
    "fig, ax = plt.subplots()\n",
    "mpf.plot(\n",
    "    numeric_df,\n",
    "    hlines=dict(hlines=levels_values,colors=colors,linestyle='-.'),\n",
    "    fill_between=dict(y1=[65500], y2=[65600], color='#f2ad73', alpha=0.20),\n",
    "    type='candle',\n",
    "    title='BTC-USDT',\n",
    "    ax=ax\n",
    ")"
   ]
  },
  {
   "cell_type": "code",
   "execution_count": null,
   "id": "74edee90",
   "metadata": {},
   "outputs": [],
   "source": [
    "# @@ Cell 243\n",
    "fig, ax = mpf.subplots()\n",
    "mpf.plot(\n",
    "    numeric_df,\n",
    "    hlines=dict(hlines=levels_values,colors=colors,linestyle='-.'),\n",
    "    fill_between=dict(y1=[65500], y2=[65600], color='#f2ad73', alpha=0.20),\n",
    "    type='candle',\n",
    "    title='BTC-USDT',\n",
    "    ax=ax\n",
    ")"
   ]
  },
  {
   "cell_type": "code",
   "execution_count": null,
   "id": "7f6e9ccb",
   "metadata": {},
   "outputs": [],
   "source": [
    "# @@ Cell 244\n",
    "s = mpf.make_mpf_style(base_mpf_style='charles', rc={'font.size': 6})\n",
    "fig = mpf.figure(figsize=(16, 9), style=s)\n",
    "ax = fig.add_subplot(2,1,1) # main candle stick chart subplot, you can also pass in the self defined style here only for this subplot\n",
    "av = fig.add_subplot(2,1,2, sharex=ax)  # volume chart subplot\n",
    "mpf.plot(\n",
    "    numeric_df,\n",
    "    hlines=dict(hlines=levels_values,colors=colors,linestyle='-.'),\n",
    "    fill_between=dict(y1=[65500], y2=[65600], color='#f2ad73', alpha=0.20),\n",
    "    type='candle',\n",
    "    title='BTC-USDT',\n",
    "    volume=av\n",
    "    ax=ax\n",
    ")"
   ]
  },
  {
   "cell_type": "code",
   "execution_count": null,
   "id": "564f3d6a",
   "metadata": {},
   "outputs": [],
   "source": [
    "# @@ Cell 245\n",
    "s = mpf.make_mpf_style(base_mpf_style='charles', rc={'font.size': 6})\n",
    "fig = mpf.figure(figsize=(16, 9), style=s)\n",
    "ax = fig.add_subplot(2,1,1) # main candle stick chart subplot, you can also pass in the self defined style here only for this subplot\n",
    "av = fig.add_subplot(2,1,2, sharex=ax)  # volume chart subplot\n",
    "mpf.plot(\n",
    "    numeric_df,\n",
    "    hlines=dict(hlines=levels_values,colors=colors,linestyle='-.'),\n",
    "    fill_between=dict(y1=[65500], y2=[65600], color='#f2ad73', alpha=0.20),\n",
    "    type='candle',\n",
    "    title='BTC-USDT',\n",
    "    volume=av,\n",
    "    ax=ax\n",
    ")"
   ]
  },
  {
   "cell_type": "code",
   "execution_count": null,
   "id": "19051100",
   "metadata": {},
   "outputs": [],
   "source": [
    "# @@ Cell 246\n",
    "s = mpf.make_mpf_style(base_mpf_style='charles', rc={'font.size': 6})\n",
    "fig = mpf.figure(figsize=(16, 9), style=s)\n",
    "ax = fig.add_subplot(2,1,1) # main candle stick chart subplot, you can also pass in the self defined style here only for this subplot\n",
    "av = fig.add_subplot(2,1,2, sharex=ax)  # volume chart subplot\n",
    "mpf.plot(\n",
    "    numeric_df,\n",
    "    hlines=dict(hlines=levels_values,colors=colors,linestyle='-.'),\n",
    "    fill_between=dict(y1=[65500], y2=[65600], color='#f2ad73', alpha=0.20),\n",
    "    type='candle',\n",
    "    #title='BTC-USDT',\n",
    "    volume=av,\n",
    "    ax=ax\n",
    ")"
   ]
  },
  {
   "cell_type": "code",
   "execution_count": null,
   "id": "d179e646",
   "metadata": {},
   "outputs": [],
   "source": [
    "# @@ Cell 247\n",
    "s = mpf.make_mpf_style(base_mpf_style='charles', rc={'font.size': 6})\n",
    "fig = mpf.figure(figsize=(16, 9), style=s)\n",
    "ax = fig.add_subplot(1,1,1) # main candle stick chart subplot, you can also pass in the self defined style here only for this subplot\n",
    "av = fig.add_subplot(1,1,2, sharex=ax)  # volume chart subplot\n",
    "mpf.plot(\n",
    "    numeric_df,\n",
    "    hlines=dict(hlines=levels_values,colors=colors,linestyle='-.'),\n",
    "    fill_between=dict(y1=[65500], y2=[65600], color='#f2ad73', alpha=0.20),\n",
    "    type='candle',\n",
    "    #title='BTC-USDT',\n",
    "    volume=av,\n",
    "    ax=ax\n",
    ")"
   ]
  },
  {
   "cell_type": "code",
   "execution_count": null,
   "id": "4a844814",
   "metadata": {},
   "outputs": [],
   "source": [
    "# @@ Cell 248\n",
    "s = mpf.make_mpf_style(base_mpf_style='charles', rc={'font.size': 6})\n",
    "fig = mpf.figure(figsize=(16, 9), style=s)\n",
    "ax = fig.add_subplot(2,1,1) # main candle stick chart subplot, you can also pass in the self defined style here only for this subplot\n",
    "av = fig.add_subplot(2,1,2, sharex=ax)  # volume chart subplot\n",
    "mpf.plot(\n",
    "    numeric_df,\n",
    "    hlines=dict(hlines=levels_values,colors=colors,linestyle='-.'),\n",
    "    fill_between=dict(y1=[65500], y2=[65600], color='#f2ad73', alpha=0.20),\n",
    "    type='candle',\n",
    "    #title='BTC-USDT',\n",
    "    volume=av,\n",
    "    ax=ax\n",
    ")"
   ]
  },
  {
   "cell_type": "code",
   "execution_count": null,
   "id": "943784f4",
   "metadata": {},
   "outputs": [],
   "source": [
    "# @@ Cell 249\n",
    "s = mpf.make_mpf_style(base_mpf_style='charles', rc={'font.size': 6})\n",
    "fig = mpf.figure(figsize=(16, 9), style=s)\n",
    "ax = fig.add_subplot(1,1,1) # main candle stick chart subplot, you can also pass in the self defined style here only for this subplot\n",
    "#av = fig.add_subplot(2,1,2, sharex=ax)  # volume chart subplot\n",
    "mpf.plot(\n",
    "    numeric_df,\n",
    "    hlines=dict(hlines=levels_values,colors=colors,linestyle='-.'),\n",
    "    fill_between=dict(y1=[65500], y2=[65600], color='#f2ad73', alpha=0.20),\n",
    "    type='candle',\n",
    "    #title='BTC-USDT',\n",
    "    volume=False,\n",
    "    ax=ax\n",
    ")"
   ]
  },
  {
   "cell_type": "code",
   "execution_count": null,
   "id": "2f295d17",
   "metadata": {},
   "outputs": [],
   "source": [
    "# @@ Cell 250\n",
    "s = mpf.make_mpf_style(base_mpf_style='charles', rc={'font.size': 6})\n",
    "fig = mpf.figure(figsize=(16, 9), style=s)\n",
    "ax = fig.add_subplot(1,1,1) # main candle stick chart subplot, you can also pass in the self defined style here only for this subplot\n",
    "#av = fig.add_subplot(2,1,2, sharex=ax)  # volume chart subplot\n",
    "ax.fill_between(y1=[65500], y2=[65600], color='#f2ad73', alpha=0.20)\n",
    "mpf.plot(\n",
    "    numeric_df,\n",
    "    hlines=dict(hlines=levels_values,colors=colors,linestyle='-.'),\n",
    "    fill_between=dict(y1=[65500], y2=[65600], color='#f2ad73', alpha=0.20),\n",
    "    type='candle',\n",
    "    #title='BTC-USDT',\n",
    "    volume=False,\n",
    "    ax=ax\n",
    ")"
   ]
  },
  {
   "cell_type": "code",
   "execution_count": null,
   "id": "c1e50cff",
   "metadata": {},
   "outputs": [],
   "source": [
    "# @@ Cell 251\n",
    "s = mpf.make_mpf_style(base_mpf_style='charles', rc={'font.size': 6})\n",
    "fig = mpf.figure(figsize=(16, 9), style=s)\n",
    "ax = fig.add_subplot(1,1,1) # main candle stick chart subplot, you can also pass in the self defined style here only for this subplot\n",
    "#av = fig.add_subplot(2,1,2, sharex=ax)  # volume chart subplot\n",
    "ax.fill_between(numeric_df, y1=[65500], y2=[65600], color='#f2ad73', alpha=0.20)\n",
    "mpf.plot(\n",
    "    numeric_df,\n",
    "    hlines=dict(hlines=levels_values,colors=colors,linestyle='-.'),\n",
    "    fill_between=dict(y1=[65500], y2=[65600], color='#f2ad73', alpha=0.20),\n",
    "    type='candle',\n",
    "    #title='BTC-USDT',\n",
    "    volume=False,\n",
    "    ax=ax\n",
    ")"
   ]
  },
  {
   "cell_type": "code",
   "execution_count": null,
   "id": "79ddf621",
   "metadata": {},
   "outputs": [],
   "source": [
    "# @@ Cell 252\n",
    "s = mpf.make_mpf_style(base_mpf_style='charles', rc={'font.size': 6})\n",
    "fig = mpf.figure(figsize=(16, 9), style=s)\n",
    "ax = fig.add_subplot(1,1,1) # main candle stick chart subplot, you can also pass in the self defined style here only for this subplot\n",
    "#av = fig.add_subplot(2,1,2, sharex=ax)  # volume chart subplot\n",
    "ax.fill_between(numeric_df[\"close\"], y1=[65500], y2=[65600], color='#f2ad73', alpha=0.20)\n",
    "mpf.plot(\n",
    "    numeric_df,\n",
    "    hlines=dict(hlines=levels_values,colors=colors,linestyle='-.'),\n",
    "    fill_between=dict(y1=[65500], y2=[65600], color='#f2ad73', alpha=0.20),\n",
    "    type='candle',\n",
    "    #title='BTC-USDT',\n",
    "    volume=False,\n",
    "    ax=ax\n",
    ")"
   ]
  },
  {
   "cell_type": "code",
   "execution_count": null,
   "id": "c67bfe9f",
   "metadata": {},
   "outputs": [],
   "source": [
    "# @@ Cell 253\n",
    "s = mpf.make_mpf_style(base_mpf_style='charles', rc={'font.size': 6})\n",
    "fig = mpf.figure(figsize=(16, 9), style=s)\n",
    "ax = fig.add_subplot(1,1,1) # main candle stick chart subplot, you can also pass in the self defined style here only for this subplot\n",
    "#av = fig.add_subplot(2,1,2, sharex=ax)  # volume chart subplot\n",
    "ax.fill_between(numeric_df[\"close\"], y1=[65500], y2=[65600], color='#f2ad73', alpha=0.20)\n",
    "mpf.plot(\n",
    "    numeric_df,\n",
    "    hlines=dict(hlines=levels_values,colors=colors,linestyle='-.'),\n",
    "    #fill_between=dict(y1=[65500], y2=[65600], color='#f2ad73', alpha=0.20),\n",
    "    type='candle',\n",
    "    #title='BTC-USDT',\n",
    "    volume=False,\n",
    "    ax=ax\n",
    ")"
   ]
  },
  {
   "cell_type": "code",
   "execution_count": null,
   "id": "c4248d87",
   "metadata": {},
   "outputs": [],
   "source": [
    "# @@ Cell 254\n",
    "s = mpf.make_mpf_style(base_mpf_style='charles', rc={'font.size': 6})\n",
    "fig = mpf.figure(figsize=(16, 9), style=s)\n",
    "ax = fig.add_subplot(1,1,1) # main candle stick chart subplot, you can also pass in the self defined style here only for this subplot\n",
    "#av = fig.add_subplot(2,1,2, sharex=ax)  # volume chart subplot\n",
    "#ax.fill_between(numeric_df[\"close\"], y1=[65500], y2=[65600], color='#f2ad73', alpha=0.20)\n",
    "mpf.plot(\n",
    "    numeric_df,\n",
    "    hlines=dict(hlines=levels_values,colors=colors,linestyle='-.'),\n",
    "    #fill_between=dict(y1=[65500], y2=[65600], color='#f2ad73', alpha=0.20),\n",
    "    type='candle',\n",
    "    #title='BTC-USDT',\n",
    "    volume=False,\n",
    "    ax=ax\n",
    ")"
   ]
  },
  {
   "cell_type": "code",
   "execution_count": null,
   "id": "f312b8f1",
   "metadata": {},
   "outputs": [],
   "source": [
    "# @@ Cell 255\n",
    "s = mpf.make_mpf_style(base_mpf_style='charles', rc={'font.size': 6})\n",
    "fig = mpf.figure(figsize=(16, 9), style=s)\n",
    "ax = fig.add_subplot(1,1,1) # main candle stick chart subplot, you can also pass in the self defined style here only for this subplot\n",
    "#av = fig.add_subplot(2,1,2, sharex=ax)  # volume chart subplot\n",
    "ax.fill_between(x=range(0,50), y1=[65500], y2=[65600], color='#f2ad73', alpha=0.20)\n",
    "mpf.plot(\n",
    "    numeric_df,\n",
    "    hlines=dict(hlines=levels_values,colors=colors,linestyle='-.'),\n",
    "    #fill_between=dict(y1=[65500], y2=[65600], color='#f2ad73', alpha=0.20),\n",
    "    type='candle',\n",
    "    #title='BTC-USDT',\n",
    "    volume=False,\n",
    "    ax=ax\n",
    ")"
   ]
  },
  {
   "cell_type": "code",
   "execution_count": null,
   "id": "ed31b422",
   "metadata": {},
   "outputs": [],
   "source": [
    "# @@ Cell 256\n",
    "levels_values"
   ]
  },
  {
   "cell_type": "code",
   "execution_count": null,
   "id": "12a6b6da",
   "metadata": {},
   "outputs": [],
   "source": [
    "# @@ Cell 257\n",
    "s = mpf.make_mpf_style(base_mpf_style='charles', rc={'font.size': 6})\n",
    "fig = mpf.figure(figsize=(16, 9), style=s)\n",
    "ax = fig.add_subplot(1,1,1) # main candle stick chart subplot, you can also pass in the self defined style here only for this subplot\n",
    "#av = fig.add_subplot(2,1,2, sharex=ax)  # volume chart subplot\n",
    "levels_ranges_len = len(levels_min_values)\n",
    "for i in range(0, levels_ranges_len):\n",
    "    ax.fill_between(x=range(0,50), y1=levels_min_values[i], y2=levels_max_values[i], color='#f2ad73', alpha=0.20)\n",
    "mpf.plot(\n",
    "    numeric_df,\n",
    "    hlines=dict(hlines=levels_values,colors=colors,linestyle='-.'),\n",
    "    #fill_between=dict(y1=[65500], y2=[65600], color='#f2ad73', alpha=0.20),\n",
    "    type='candle',\n",
    "    #title='BTC-USDT',\n",
    "    volume=False,\n",
    "    ax=ax\n",
    ")"
   ]
  },
  {
   "cell_type": "code",
   "execution_count": null,
   "id": "0d59da89",
   "metadata": {},
   "outputs": [],
   "source": [
    "# @@ Cell 258\n",
    "s = mpf.make_mpf_style(base_mpf_style='charles', rc={'font.size': 6})\n",
    "fig = mpf.figure(figsize=(16, 9), style=s)\n",
    "ax = fig.add_subplot(1,1,1) # main candle stick chart subplot, you can also pass in the self defined style here only for this subplot\n",
    "#av = fig.add_subplot(2,1,2, sharex=ax)  # volume chart subplot\n",
    "levels_ranges_len = len(levels_min_values)\n",
    "for i in range(0, levels_ranges_len):\n",
    "    ax.fill_between(x=range(0,50), y1=levels_min_values[i], y2=levels_max_values[i], color='#f2ad73', alpha=0.20)\n",
    "mpf.plot(\n",
    "    numeric_df,\n",
    "    #hlines=dict(hlines=levels_values,colors=colors,linestyle='-.'),\n",
    "    #fill_between=dict(y1=[65500], y2=[65600], color='#f2ad73', alpha=0.20),\n",
    "    type='candle',\n",
    "    #title='BTC-USDT',\n",
    "    volume=False,\n",
    "    ax=ax\n",
    ")"
   ]
  },
  {
   "cell_type": "code",
   "execution_count": null,
   "id": "edff3b47",
   "metadata": {},
   "outputs": [],
   "source": [
    "# @@ Cell 259\n",
    "s = mpf.make_mpf_style(base_mpf_style='charles', rc={'font.size': 6})\n",
    "fig = mpf.figure(figsize=(16, 9), style=s)\n",
    "ax = fig.add_subplot(1,1,1) # main candle stick chart subplot, you can also pass in the self defined style here only for this subplot\n",
    "#av = fig.add_subplot(2,1,2, sharex=ax)  # volume chart subplot\n",
    "levels_ranges_len = len(levels_min_values)\n",
    "for i in range(0, len(support_min_values)):\n",
    "    ax.fill_between(x=range(0,50), y1=support_min_values[i], y2=support_min_values[i], color='r', alpha=0.20)\n",
    "for i in range(0, len(resistance_min_values)):\n",
    "    ax.fill_between(x=range(0,50), y1=resistance_min_values[i], y2=resistance_min_values[i], color='r', alpha=0.20)\n",
    "mpf.plot(\n",
    "    numeric_df,\n",
    "    #hlines=dict(hlines=levels_values,colors=colors,linestyle='-.'),\n",
    "    #fill_between=dict(y1=[65500], y2=[65600], color='#f2ad73', alpha=0.20),\n",
    "    type='candle',\n",
    "    #title='BTC-USDT',\n",
    "    volume=False,\n",
    "    ax=ax\n",
    ")"
   ]
  },
  {
   "cell_type": "code",
   "execution_count": null,
   "id": "d6b6c624",
   "metadata": {},
   "outputs": [],
   "source": [
    "# @@ Cell 260\n",
    "s = mpf.make_mpf_style(base_mpf_style='charles', rc={'font.size': 6})\n",
    "fig = mpf.figure(figsize=(16, 9), style=s)\n",
    "ax = fig.add_subplot(1,1,1) # main candle stick chart subplot, you can also pass in the self defined style here only for this subplot\n",
    "#av = fig.add_subplot(2,1,2, sharex=ax)  # volume chart subplot\n",
    "levels_ranges_len = len(levels_min_values)\n",
    "for i in range(0, len(support_min_values)):\n",
    "    ax.fill_between(x=range(0,50), y1=support_min_values[i], y2=support_max_values[i], color='r', alpha=0.20)\n",
    "for i in range(0, len(resistance_min_values)):\n",
    "    ax.fill_between(x=range(0,50), y1=resistance_min_values[i], y2=resistance_max_values[i], color='v', alpha=0.20)\n",
    "mpf.plot(\n",
    "    numeric_df,\n",
    "    #hlines=dict(hlines=levels_values,colors=colors,linestyle='-.'),\n",
    "    #fill_between=dict(y1=[65500], y2=[65600], color='#f2ad73', alpha=0.20),\n",
    "    type='candle',\n",
    "    #title='BTC-USDT',\n",
    "    volume=False,\n",
    "    ax=ax\n",
    ")"
   ]
  },
  {
   "cell_type": "code",
   "execution_count": null,
   "id": "503bd4f7",
   "metadata": {},
   "outputs": [],
   "source": [
    "# @@ Cell 261\n",
    "s = mpf.make_mpf_style(base_mpf_style='charles', rc={'font.size': 6})\n",
    "fig = mpf.figure(figsize=(16, 9), style=s)\n",
    "ax = fig.add_subplot(1,1,1) # main candle stick chart subplot, you can also pass in the self defined style here only for this subplot\n",
    "#av = fig.add_subplot(2,1,2, sharex=ax)  # volume chart subplot\n",
    "levels_ranges_len = len(levels_min_values)\n",
    "for i in range(0, len(support_min_values)):\n",
    "    ax.fill_between(x=range(0,50), y1=support_min_values[i], y2=support_max_values[i], color='r', alpha=0.20)\n",
    "for i in range(0, len(resistance_min_values)):\n",
    "    ax.fill_between(x=range(0,50), y1=resistance_min_values[i], y2=resistance_max_values[i], color='g', alpha=0.20)\n",
    "mpf.plot(\n",
    "    numeric_df,\n",
    "    #hlines=dict(hlines=levels_values,colors=colors,linestyle='-.'),\n",
    "    #fill_between=dict(y1=[65500], y2=[65600], color='#f2ad73', alpha=0.20),\n",
    "    type='candle',\n",
    "    #title='BTC-USDT',\n",
    "    volume=False,\n",
    "    ax=ax\n",
    ")"
   ]
  },
  {
   "cell_type": "code",
   "execution_count": null,
   "id": "b2a0c95a",
   "metadata": {
    "lines_to_next_cell": 1
   },
   "outputs": [],
   "source": [
    "# @@ Cell 262\n",
    "ave =  np.mean(numeric_df['high'] - numeric_df['low']) / 3"
   ]
  },
  {
   "cell_type": "code",
   "execution_count": null,
   "id": "595facbd",
   "metadata": {},
   "outputs": [],
   "source": [
    "# a list to store resistance and support levels\n",
    "class Level:\n",
    "    def __init__(self, index, level, level_type):\n",
    "        self.index = index\n",
    "        self.level = level\n",
    "        self.level_type = level_type\n",
    "\n",
    "    def __hash__(self):\n",
    "        return 0\n",
    "\n",
    "    def __eq__(self, other):\n",
    "        return self.level_type == other.level_type and abs(self.level - other.level) < ave\n",
    "    \n",
    "    def __str__(self):\n",
    "        return f\"({self.index}, {self.level}, {self.level_type})\""
   ]
  },
  {
   "cell_type": "code",
   "execution_count": null,
   "id": "f5af8208",
   "metadata": {
    "lines_to_next_cell": 1
   },
   "outputs": [],
   "source": [
    "class LevelInfo:\n",
    "    def __init__(self):\n",
    "        self.min_value = float(\"inf\")\n",
    "        self.max_value = float(\"-inf\")\n",
    "        self.power = 0\n",
    "    \n",
    "    def update(self, value):\n",
    "        self.min_value = min(self.min_value, value)\n",
    "        self.max_value = max(self.max_value, value)\n",
    "        self.power += 1\n",
    "    \n",
    "    def __str__(self):\n",
    "        return f\"power: {power}, range: [{level_info.min_value}, {level_info.max_value}]\""
   ]
  },
  {
   "cell_type": "code",
   "execution_count": null,
   "id": "af810018",
   "metadata": {},
   "outputs": [],
   "source": [
    "levels = {}"
   ]
  },
  {
   "cell_type": "code",
   "execution_count": null,
   "id": "631b96db",
   "metadata": {},
   "outputs": [],
   "source": [
    "for i in minimas:\n",
    "    low = numeric_df['low'].iloc[i]\n",
    "    level = Level(i, low, \"support\")\n",
    "    level_info = levels.get(level, LevelInfo())\n",
    "    level_info.update(level.level)\n",
    "    levels.update({level: level_info})\n",
    "    print(f\"Take into account {str(level)}: {str(level_info)}\")\n",
    "    print({str(level): str(level_info) for level, power in levels.items()})"
   ]
  },
  {
   "cell_type": "code",
   "execution_count": null,
   "id": "14cacdbe",
   "metadata": {},
   "outputs": [],
   "source": [
    "print(\"----------------------------------------------------------\")\n",
    "for i in maximas:\n",
    "    high = numeric_df['high'].iloc[i]\n",
    "    level = Level(i, high, \"resistance\")\n",
    "    level_info = levels.get(level, LevelInfo())\n",
    "    level_info.update(level.level)\n",
    "    levels.update({level: level_info})\n",
    "    print(f\"Take into account {str(level)}: {str(level_info)}\")\n",
    "    print({str(level): str(level_info) for level, power in levels.items()})"
   ]
  },
  {
   "cell_type": "code",
   "execution_count": null,
   "id": "69651b0c",
   "metadata": {},
   "outputs": [],
   "source": [
    "# @@ Cell 263\n",
    "{str(level): str(level_info) for level, level_info in levels.items()}"
   ]
  },
  {
   "cell_type": "code",
   "execution_count": null,
   "id": "8707b9de",
   "metadata": {},
   "outputs": [],
   "source": [
    "# @@ Cell 264\n",
    "support_range_values = [(level_info.min_value, level_info.max_value) for level, level_info in levels.items() if level.level_type == 'support']\n",
    "resistance_range_values = [(level_info.min_value, level_info.max_value) for level, level_info in levels.items() if level.level_type == 'resistance']"
   ]
  },
  {
   "cell_type": "code",
   "execution_count": null,
   "id": "c168efe9",
   "metadata": {},
   "outputs": [],
   "source": [
    "# @@ Cell 265\n",
    "support_min_values = [range_value[0] for range_value in support_range_values]\n",
    "support_max_values = [range_value[1] for range_value in support_range_values]\n",
    "resistance_min_values = [range_value[0] for range_value in resistance_range_values]\n",
    "resistance_max_values = [range_value[1] for range_value in resistance_range_values]"
   ]
  },
  {
   "cell_type": "code",
   "execution_count": null,
   "id": "09a7bacf",
   "metadata": {},
   "outputs": [],
   "source": [
    "# @@ Cell 266\n",
    "support_values = [value for value_range in support_range_values for value in value_range]\n",
    "resistance_values = [value for value_range in resistance_range_values for value in value_range]"
   ]
  },
  {
   "cell_type": "code",
   "execution_count": null,
   "id": "167785f6",
   "metadata": {},
   "outputs": [],
   "source": [
    "# @@ Cell 267\n",
    "levels_min_values = support_min_values + resistance_min_values\n",
    "levels_max_values = support_max_values + resistance_max_values\n",
    "levels_values = support_values + resistance_values"
   ]
  },
  {
   "cell_type": "code",
   "execution_count": null,
   "id": "1005d5e8",
   "metadata": {},
   "outputs": [],
   "source": [
    "# @@ Cell 268\n",
    "levels_min_values"
   ]
  },
  {
   "cell_type": "code",
   "execution_count": null,
   "id": "804e4979",
   "metadata": {},
   "outputs": [],
   "source": [
    "# @@ Cell 269\n",
    "levels_max_values"
   ]
  },
  {
   "cell_type": "code",
   "execution_count": null,
   "id": "01ce112c",
   "metadata": {},
   "outputs": [],
   "source": [
    "# @@ Cell 270\n",
    "levels_values"
   ]
  },
  {
   "cell_type": "code",
   "execution_count": null,
   "id": "85d98ac7",
   "metadata": {},
   "outputs": [],
   "source": [
    "# @@ Cell 271\n",
    "import matplotlib.colors as mcolors\n",
    "import seaborn as sns\n",
    "color_palette = sns.color_palette(\"husl\", len(levels_values) // 2)\n",
    "colors = [[mcolors.to_hex(c)] * 2 for c in color_palette]\n",
    "colors = [color for color_tuple in colors for color in color_tuple]"
   ]
  },
  {
   "cell_type": "code",
   "execution_count": null,
   "id": "fec82ccc",
   "metadata": {},
   "outputs": [],
   "source": [
    "# @@ Cell 272\n",
    "colors = ['r'] * len(support_values) + ['g'] * len(resistance_values)"
   ]
  },
  {
   "cell_type": "code",
   "execution_count": null,
   "id": "ab5661ba",
   "metadata": {},
   "outputs": [],
   "source": [
    "# @@ Cell 273\n",
    "colors"
   ]
  },
  {
   "cell_type": "code",
   "execution_count": null,
   "id": "2536115a",
   "metadata": {},
   "outputs": [],
   "source": [
    "# @@ Cell 274\n",
    "s = mpf.make_mpf_style(base_mpf_style='charles', rc={'font.size': 6})\n",
    "fig = mpf.figure(figsize=(16, 9), style=s)\n",
    "ax = fig.add_subplot(1,1,1) # main candle stick chart subplot, you can also pass in the self defined style here only for this subplot\n",
    "#av = fig.add_subplot(2,1,2, sharex=ax)  # volume chart subplot\n",
    "levels_ranges_len = len(levels_min_values)\n",
    "for i in range(0, len(support_min_values)):\n",
    "    ax.fill_between(x=range(0,50), y1=support_min_values[i], y2=support_max_values[i], color='r', alpha=0.20)\n",
    "for i in range(0, len(resistance_min_values)):\n",
    "    ax.fill_between(x=range(0,50), y1=resistance_min_values[i], y2=resistance_max_values[i], color='g', alpha=0.20)\n",
    "mpf.plot(\n",
    "    numeric_df,\n",
    "    #hlines=dict(hlines=levels_values,colors=colors,linestyle='-.'),\n",
    "    #fill_between=dict(y1=[65500], y2=[65600], color='#f2ad73', alpha=0.20),\n",
    "    type='candle',\n",
    "    #title='BTC-USDT',\n",
    "    volume=False,\n",
    "    ax=ax\n",
    ")"
   ]
  },
  {
   "cell_type": "code",
   "execution_count": null,
   "id": "ec9b3700",
   "metadata": {
    "lines_to_next_cell": 1
   },
   "outputs": [],
   "source": [
    "# @@ Cell 275\n",
    "ave =  np.mean(numeric_df['high'] - numeric_df['low']) / 4"
   ]
  },
  {
   "cell_type": "code",
   "execution_count": null,
   "id": "055a7612",
   "metadata": {},
   "outputs": [],
   "source": [
    "# a list to store resistance and support levels\n",
    "class Level:\n",
    "    def __init__(self, index, level, level_type):\n",
    "        self.index = index\n",
    "        self.level = level\n",
    "        self.level_type = level_type\n",
    "\n",
    "    def __hash__(self):\n",
    "        return 0\n",
    "\n",
    "    def __eq__(self, other):\n",
    "        return self.level_type == other.level_type and abs(self.level - other.level) < ave\n",
    "    \n",
    "    def __str__(self):\n",
    "        return f\"({self.index}, {self.level}, {self.level_type})\""
   ]
  },
  {
   "cell_type": "code",
   "execution_count": null,
   "id": "4f48934f",
   "metadata": {
    "lines_to_next_cell": 1
   },
   "outputs": [],
   "source": [
    "class LevelInfo:\n",
    "    def __init__(self):\n",
    "        self.min_value = float(\"inf\")\n",
    "        self.max_value = float(\"-inf\")\n",
    "        self.power = 0\n",
    "    \n",
    "    def update(self, value):\n",
    "        self.min_value = min(self.min_value, value)\n",
    "        self.max_value = max(self.max_value, value)\n",
    "        self.power += 1\n",
    "    \n",
    "    def __str__(self):\n",
    "        return f\"power: {power}, range: [{level_info.min_value}, {level_info.max_value}]\""
   ]
  },
  {
   "cell_type": "code",
   "execution_count": null,
   "id": "fbae57e3",
   "metadata": {},
   "outputs": [],
   "source": [
    "levels = {}"
   ]
  },
  {
   "cell_type": "code",
   "execution_count": null,
   "id": "16155bea",
   "metadata": {},
   "outputs": [],
   "source": [
    "for i in minimas:\n",
    "    low = numeric_df['low'].iloc[i]\n",
    "    level = Level(i, low, \"support\")\n",
    "    level_info = levels.get(level, LevelInfo())\n",
    "    level_info.update(level.level)\n",
    "    levels.update({level: level_info})\n",
    "    print(f\"Take into account {str(level)}: {str(level_info)}\")\n",
    "    print({str(level): str(level_info) for level, power in levels.items()})"
   ]
  },
  {
   "cell_type": "code",
   "execution_count": null,
   "id": "dae6a862",
   "metadata": {},
   "outputs": [],
   "source": [
    "print(\"----------------------------------------------------------\")\n",
    "for i in maximas:\n",
    "    high = numeric_df['high'].iloc[i]\n",
    "    level = Level(i, high, \"resistance\")\n",
    "    level_info = levels.get(level, LevelInfo())\n",
    "    level_info.update(level.level)\n",
    "    levels.update({level: level_info})\n",
    "    print(f\"Take into account {str(level)}: {str(level_info)}\")\n",
    "    print({str(level): str(level_info) for level, power in levels.items()})"
   ]
  },
  {
   "cell_type": "code",
   "execution_count": null,
   "id": "b7548598",
   "metadata": {},
   "outputs": [],
   "source": [
    "# @@ Cell 276\n",
    "{str(level): str(level_info) for level, level_info in levels.items()}"
   ]
  },
  {
   "cell_type": "code",
   "execution_count": null,
   "id": "610821f6",
   "metadata": {},
   "outputs": [],
   "source": [
    "# @@ Cell 277\n",
    "support_range_values = [(level_info.min_value, level_info.max_value) for level, level_info in levels.items() if level.level_type == 'support']\n",
    "resistance_range_values = [(level_info.min_value, level_info.max_value) for level, level_info in levels.items() if level.level_type == 'resistance']"
   ]
  },
  {
   "cell_type": "code",
   "execution_count": null,
   "id": "2d59e51d",
   "metadata": {},
   "outputs": [],
   "source": [
    "# @@ Cell 278\n",
    "support_min_values = [range_value[0] for range_value in support_range_values]\n",
    "support_max_values = [range_value[1] for range_value in support_range_values]\n",
    "resistance_min_values = [range_value[0] for range_value in resistance_range_values]\n",
    "resistance_max_values = [range_value[1] for range_value in resistance_range_values]"
   ]
  },
  {
   "cell_type": "code",
   "execution_count": null,
   "id": "2ecc39ce",
   "metadata": {},
   "outputs": [],
   "source": [
    "# @@ Cell 279\n",
    "support_values = [value for value_range in support_range_values for value in value_range]\n",
    "resistance_values = [value for value_range in resistance_range_values for value in value_range]"
   ]
  },
  {
   "cell_type": "code",
   "execution_count": null,
   "id": "4610aa50",
   "metadata": {},
   "outputs": [],
   "source": [
    "# @@ Cell 280\n",
    "levels_min_values = support_min_values + resistance_min_values\n",
    "levels_max_values = support_max_values + resistance_max_values\n",
    "levels_values = support_values + resistance_values"
   ]
  },
  {
   "cell_type": "code",
   "execution_count": null,
   "id": "becdd84f",
   "metadata": {},
   "outputs": [],
   "source": [
    "# @@ Cell 281\n",
    "levels_min_values"
   ]
  },
  {
   "cell_type": "code",
   "execution_count": null,
   "id": "e51c79b1",
   "metadata": {},
   "outputs": [],
   "source": [
    "# @@ Cell 282\n",
    "levels_max_values"
   ]
  },
  {
   "cell_type": "code",
   "execution_count": null,
   "id": "68bbe00d",
   "metadata": {},
   "outputs": [],
   "source": [
    "# @@ Cell 283\n",
    "levels_values"
   ]
  },
  {
   "cell_type": "code",
   "execution_count": null,
   "id": "2f687258",
   "metadata": {},
   "outputs": [],
   "source": [
    "# @@ Cell 284\n",
    "import matplotlib.colors as mcolors\n",
    "import seaborn as sns\n",
    "color_palette = sns.color_palette(\"husl\", len(levels_values) // 2)\n",
    "colors = [[mcolors.to_hex(c)] * 2 for c in color_palette]\n",
    "colors = [color for color_tuple in colors for color in color_tuple]"
   ]
  },
  {
   "cell_type": "code",
   "execution_count": null,
   "id": "930dd265",
   "metadata": {},
   "outputs": [],
   "source": [
    "# @@ Cell 285\n",
    "colors = ['r'] * len(support_values) + ['g'] * len(resistance_values)"
   ]
  },
  {
   "cell_type": "code",
   "execution_count": null,
   "id": "e1e0267c",
   "metadata": {},
   "outputs": [],
   "source": [
    "# @@ Cell 286\n",
    "colors"
   ]
  },
  {
   "cell_type": "code",
   "execution_count": null,
   "id": "3056d0a2",
   "metadata": {},
   "outputs": [],
   "source": [
    "# @@ Cell 287\n",
    "s = mpf.make_mpf_style(base_mpf_style='charles', rc={'font.size': 6})\n",
    "fig = mpf.figure(figsize=(16, 9), style=s)\n",
    "ax = fig.add_subplot(1,1,1) # main candle stick chart subplot, you can also pass in the self defined style here only for this subplot\n",
    "#av = fig.add_subplot(2,1,2, sharex=ax)  # volume chart subplot\n",
    "levels_ranges_len = len(levels_min_values)\n",
    "for i in range(0, len(support_min_values)):\n",
    "    ax.fill_between(x=range(0,50), y1=support_min_values[i], y2=support_max_values[i], color='r', alpha=0.20)\n",
    "for i in range(0, len(resistance_min_values)):\n",
    "    ax.fill_between(x=range(0,50), y1=resistance_min_values[i], y2=resistance_max_values[i], color='g', alpha=0.20)\n",
    "mpf.plot(\n",
    "    numeric_df,\n",
    "    #hlines=dict(hlines=levels_values,colors=colors,linestyle='-.'),\n",
    "    #fill_between=dict(y1=[65500], y2=[65600], color='#f2ad73', alpha=0.20),\n",
    "    type='candle',\n",
    "    #title='BTC-USDT',\n",
    "    volume=False,\n",
    "    ax=ax\n",
    ")"
   ]
  },
  {
   "cell_type": "code",
   "execution_count": null,
   "id": "7fdd2641",
   "metadata": {},
   "outputs": [],
   "source": [
    "# @@ Cell 288\n",
    "s = mpf.make_mpf_style(base_mpf_style='charles', rc={'font.size': 6})\n",
    "fig = mpf.figure(figsize=(16, 9), style=s)\n",
    "ax = fig.add_subplot(1,1,1) # main candle stick chart subplot, you can also pass in the self defined style here only for this subplot\n",
    "#av = fig.add_subplot(2,1,2, sharex=ax)  # volume chart subplot\n",
    "levels_ranges_len = len(levels_min_values)\n",
    "for i in range(0, len(support_min_values)):\n",
    "    ax.fill_between(x=range(5,50), y1=support_min_values[i], y2=support_max_values[i], color='r', alpha=0.20)\n",
    "for i in range(0, len(resistance_min_values)):\n",
    "    ax.fill_between(x=range(10,50), y1=resistance_min_values[i], y2=resistance_max_values[i], color='g', alpha=0.20)\n",
    "mpf.plot(\n",
    "    numeric_df,\n",
    "    #hlines=dict(hlines=levels_values,colors=colors,linestyle='-.'),\n",
    "    #fill_between=dict(y1=[65500], y2=[65600], color='#f2ad73', alpha=0.20),\n",
    "    type='candle',\n",
    "    #title='BTC-USDT',\n",
    "    volume=False,\n",
    "    ax=ax\n",
    ")"
   ]
  },
  {
   "cell_type": "code",
   "execution_count": null,
   "id": "bc499551",
   "metadata": {},
   "outputs": [],
   "source": [
    "# @@ Cell 289\n",
    "support_range_values = [(level_info.min_value, level_info.max_value) for level, level_info in levels.items() if level.level_type == 'support']\n",
    "resistance_range_values = [(level_info.min_value, level_info.max_value) for level, level_info in levels.items() if level.level_type == 'resistance']\n",
    "support_indexes = [(level_info.min_value, level_info.max_value) for level, level_info in levels.items() if level.level_type == 'support']\n",
    "support_indexes = [(level_info.min_value, level_info.max_value) for level, level_info in levels.items() if level.level_type == 'support']"
   ]
  },
  {
   "cell_type": "code",
   "execution_count": null,
   "id": "8bd50114",
   "metadata": {},
   "outputs": [],
   "source": [
    "# @@ Cell 290\n",
    "support_range_values = [(level_info.min_value, level_info.max_value) for level, level_info in levels.items() if level.level_type == 'support']\n",
    "resistance_range_values = [(level_info.min_value, level_info.max_value) for level, level_info in levels.items() if level.level_type == 'resistance']\n",
    "support_indexes = [level.index for level, level_info in levels.items() if level.level_type == 'support']\n",
    "resistance_indexes = [level.index for level, level_info in levels.items() if level.level_type == 'resistance']"
   ]
  },
  {
   "cell_type": "code",
   "execution_count": null,
   "id": "fe430b0a",
   "metadata": {},
   "outputs": [],
   "source": [
    "# @@ Cell 291\n",
    "support_min_values = [range_value[0] for range_value in support_range_values]\n",
    "support_max_values = [range_value[1] for range_value in support_range_values]\n",
    "resistance_min_values = [range_value[0] for range_value in resistance_range_values]\n",
    "resistance_max_values = [range_value[1] for range_value in resistance_range_values]"
   ]
  },
  {
   "cell_type": "code",
   "execution_count": null,
   "id": "a30d0938",
   "metadata": {},
   "outputs": [],
   "source": [
    "# @@ Cell 292\n",
    "support_values = [value for value_range in support_range_values for value in value_range]\n",
    "resistance_values = [value for value_range in resistance_range_values for value in value_range]"
   ]
  },
  {
   "cell_type": "code",
   "execution_count": null,
   "id": "250aa6a3",
   "metadata": {},
   "outputs": [],
   "source": [
    "# @@ Cell 293\n",
    "levels_min_values = support_min_values + resistance_min_values\n",
    "levels_max_values = support_max_values + resistance_max_values\n",
    "levels_values = support_values + resistance_values"
   ]
  },
  {
   "cell_type": "code",
   "execution_count": null,
   "id": "067bef97",
   "metadata": {},
   "outputs": [],
   "source": [
    "# @@ Cell 294\n",
    "s = mpf.make_mpf_style(base_mpf_style='charles', rc={'font.size': 6})\n",
    "fig = mpf.figure(figsize=(16, 9), style=s)\n",
    "ax = fig.add_subplot(1,1,1) # main candle stick chart subplot, you can also pass in the self defined style here only for this subplot\n",
    "#av = fig.add_subplot(2,1,2, sharex=ax)  # volume chart subplot\n",
    "levels_ranges_len = len(levels_min_values)\n",
    "for i in range(0, len(support_min_values)):\n",
    "    ax.fill_between(x=range(support_indexes[i],50), y1=support_min_values[i], y2=support_max_values[i], color='r', alpha=0.20)\n",
    "for i in range(0, len(resistance_min_values)):\n",
    "    ax.fill_between(x=range(resistance_indexes[i],50), y1=resistance_min_values[i], y2=resistance_max_values[i], color='g', alpha=0.20)\n",
    "mpf.plot(\n",
    "    numeric_df,\n",
    "    #hlines=dict(hlines=levels_values,colors=colors,linestyle='-.'),\n",
    "    #fill_between=dict(y1=[65500], y2=[65600], color='#f2ad73', alpha=0.20),\n",
    "    type='candle',\n",
    "    #title='BTC-USDT',\n",
    "    volume=False,\n",
    "    ax=ax\n",
    ")"
   ]
  },
  {
   "cell_type": "code",
   "execution_count": null,
   "id": "a9a161da",
   "metadata": {},
   "outputs": [],
   "source": [
    "# @@ Cell 295\n",
    "df_sample = df.head(500)"
   ]
  },
  {
   "cell_type": "code",
   "execution_count": null,
   "id": "23ebb055",
   "metadata": {},
   "outputs": [],
   "source": [
    "# @@ Cell 296\n",
    "numeric_df = pd.DataFrame()"
   ]
  },
  {
   "cell_type": "code",
   "execution_count": null,
   "id": "1e5c4b77",
   "metadata": {},
   "outputs": [],
   "source": [
    "# @@ Cell 297\n",
    "numeric_df.head()"
   ]
  },
  {
   "cell_type": "code",
   "execution_count": null,
   "id": "15e62905",
   "metadata": {},
   "outputs": [],
   "source": [
    "# @@ Cell 298\n",
    "numeric_df[\"open\"] = pd.to_numeric(df_sample[\"open\"])\n",
    "numeric_df[\"high\"] = pd.to_numeric(df_sample[\"high\"])\n",
    "numeric_df[\"low\"] = pd.to_numeric(df_sample[\"low\"])\n",
    "numeric_df[\"close\"] = pd.to_numeric(df_sample[\"close\"])\n",
    "numeric_df[\"volume\"] = pd.to_numeric(df_sample[\"volume\"])\n",
    "numeric_df.index = pd.to_datetime(numeric_df.index)\n",
    "numeric_df['date'] = mpl_dates.date2num(numeric_df.index)"
   ]
  },
  {
   "cell_type": "code",
   "execution_count": null,
   "id": "03ae8b44",
   "metadata": {},
   "outputs": [],
   "source": [
    "# @@ Cell 299\n",
    "from scipy.signal import argrelextrema"
   ]
  },
  {
   "cell_type": "code",
   "execution_count": null,
   "id": "a6f3aaae",
   "metadata": {},
   "outputs": [],
   "source": [
    "x_max = np.array(numeric_df['high'])\n",
    "x_min = np.array(numeric_df['low'])"
   ]
  },
  {
   "cell_type": "code",
   "execution_count": null,
   "id": "e410551c",
   "metadata": {},
   "outputs": [],
   "source": [
    "# for local maxima\n",
    "maximas = argrelextrema(x_max, np.greater)[0]"
   ]
  },
  {
   "cell_type": "code",
   "execution_count": null,
   "id": "7984ac22",
   "metadata": {},
   "outputs": [],
   "source": [
    "# for local minima\n",
    "minimas = argrelextrema(x_min, np.less)[0]"
   ]
  },
  {
   "cell_type": "code",
   "execution_count": null,
   "id": "87f035e8",
   "metadata": {},
   "outputs": [],
   "source": [
    "# @@ Cell 300\n",
    "maximas"
   ]
  },
  {
   "cell_type": "code",
   "execution_count": null,
   "id": "0ae29f1a",
   "metadata": {},
   "outputs": [],
   "source": [
    "# @@ Cell 301\n",
    "minimas"
   ]
  },
  {
   "cell_type": "code",
   "execution_count": null,
   "id": "85a1b6f1",
   "metadata": {},
   "outputs": [],
   "source": [
    "# @@ Cell 302\n",
    "extremas = np.concatenate((maximas, minimas), axis=0)"
   ]
  },
  {
   "cell_type": "code",
   "execution_count": null,
   "id": "e63cc595",
   "metadata": {},
   "outputs": [],
   "source": [
    "# @@ Cell 303\n",
    "extremas"
   ]
  },
  {
   "cell_type": "code",
   "execution_count": null,
   "id": "5727387d",
   "metadata": {},
   "outputs": [],
   "source": [
    "# @@ Cell 304\n",
    "sorted_extremas = np.sort(extremas) "
   ]
  },
  {
   "cell_type": "code",
   "execution_count": null,
   "id": "7d4d584c",
   "metadata": {},
   "outputs": [],
   "source": [
    "# @@ Cell 305\n",
    "sorted_extremas"
   ]
  },
  {
   "cell_type": "code",
   "execution_count": null,
   "id": "2aa32d45",
   "metadata": {},
   "outputs": [],
   "source": [
    "# @@ Cell 306\n",
    "numeric_df['min'] = numeric_df.iloc[argrelextrema(x, np.less)[0]]['low']\n",
    "numeric_df['max'] = numeric_df.iloc[argrelextrema(x, np.greater)[0]]['high']"
   ]
  },
  {
   "cell_type": "markdown",
   "id": "465b38c3",
   "metadata": {},
   "source": [
    "Plot results"
   ]
  },
  {
   "cell_type": "code",
   "execution_count": null,
   "id": "177ea4d4",
   "metadata": {},
   "outputs": [],
   "source": [
    "plt.scatter(numeric_df.index, numeric_df['min'], c='r')\n",
    "plt.scatter(numeric_df.index, numeric_df['max'], c='g')\n",
    "plt.plot(numeric_df.index, numeric_df['close'])\n",
    "plt.show()"
   ]
  },
  {
   "cell_type": "code",
   "execution_count": null,
   "id": "3c7ebce0",
   "metadata": {},
   "outputs": [],
   "source": [
    "# @@ Cell 307\n",
    "numeric_df.head()"
   ]
  },
  {
   "cell_type": "code",
   "execution_count": null,
   "id": "3e64db6b",
   "metadata": {},
   "outputs": [],
   "source": [
    "# @@ Cell 308\n",
    "numeric_df"
   ]
  },
  {
   "cell_type": "code",
   "execution_count": null,
   "id": "ce9c1264",
   "metadata": {},
   "outputs": [],
   "source": [
    "# @@ Cell 309\n",
    "type(numeric_df['close'].iloc[0])"
   ]
  },
  {
   "cell_type": "code",
   "execution_count": null,
   "id": "6aa6ce7f",
   "metadata": {},
   "outputs": [],
   "source": [
    "# @@ Cell 310\n",
    "numeric_df['close'].iloc[sorted_extremas]"
   ]
  },
  {
   "cell_type": "code",
   "execution_count": null,
   "id": "f792e518",
   "metadata": {},
   "outputs": [],
   "source": [
    "# @@ Cell 311\n",
    "ave"
   ]
  },
  {
   "cell_type": "code",
   "execution_count": null,
   "id": "e62db702",
   "metadata": {
    "lines_to_next_cell": 1
   },
   "outputs": [],
   "source": [
    "# @@ Cell 312\n",
    "ave =  np.mean(numeric_df['high'] - numeric_df['low']) / 4"
   ]
  },
  {
   "cell_type": "code",
   "execution_count": null,
   "id": "448d8eed",
   "metadata": {},
   "outputs": [],
   "source": [
    "# a list to store resistance and support levels\n",
    "class Level:\n",
    "    def __init__(self, index, level, level_type):\n",
    "        self.index = index\n",
    "        self.level = level\n",
    "        self.level_type = level_type\n",
    "\n",
    "    def __hash__(self):\n",
    "        return 0\n",
    "\n",
    "    def __eq__(self, other):\n",
    "        return self.level_type == other.level_type and abs(self.level - other.level) < ave\n",
    "    \n",
    "    def __str__(self):\n",
    "        return f\"({self.index}, {self.level}, {self.level_type})\""
   ]
  },
  {
   "cell_type": "code",
   "execution_count": null,
   "id": "89f1c05a",
   "metadata": {
    "lines_to_next_cell": 1
   },
   "outputs": [],
   "source": [
    "class LevelInfo:\n",
    "    def __init__(self):\n",
    "        self.min_value = float(\"inf\")\n",
    "        self.max_value = float(\"-inf\")\n",
    "        self.power = 0\n",
    "    \n",
    "    def update(self, value):\n",
    "        self.min_value = min(self.min_value, value)\n",
    "        self.max_value = max(self.max_value, value)\n",
    "        self.power += 1\n",
    "    \n",
    "    def __str__(self):\n",
    "        return f\"power: {power}, range: [{level_info.min_value}, {level_info.max_value}]\""
   ]
  },
  {
   "cell_type": "code",
   "execution_count": null,
   "id": "45ea67e8",
   "metadata": {},
   "outputs": [],
   "source": [
    "levels = {}"
   ]
  },
  {
   "cell_type": "code",
   "execution_count": null,
   "id": "ce60e429",
   "metadata": {},
   "outputs": [],
   "source": [
    "for i in minimas:\n",
    "    low = numeric_df['low'].iloc[i]\n",
    "    level = Level(i, low, \"support\")\n",
    "    level_info = levels.get(level, LevelInfo())\n",
    "    level_info.update(level.level)\n",
    "    levels.update({level: level_info})\n",
    "    print(f\"Take into account {str(level)}: {str(level_info)}\")\n",
    "    print({str(level): str(level_info) for level, power in levels.items()})"
   ]
  },
  {
   "cell_type": "code",
   "execution_count": null,
   "id": "53dfcebb",
   "metadata": {
    "lines_to_next_cell": 1
   },
   "outputs": [],
   "source": [
    "print(\"----------------------------------------------------------\")\n",
    "for i in maximas:\n",
    "    high = numeric_df['high'].iloc[i]\n",
    "    level = Level(i, high, \"resistance\")\n",
    "    level_info = levels.get(level, LevelInfo())\n",
    "    level_info.update(level.level)\n",
    "    levels.update({level: level_info})\n",
    "    print(f\"Take into account {str(level)}: {str(level_info)}\")\n",
    "    print({str(level): str(level_info) for level, power in levels.items()})"
   ]
  },
  {
   "cell_type": "code",
   "execution_count": null,
   "id": "256b7585",
   "metadata": {
    "lines_to_next_cell": 1
   },
   "outputs": [],
   "source": [
    "# @@ Cell 313\n",
    "#method 1: fractal candlestick pattern\n",
    "# determine bullish fractal \n",
    "def is_support(df,i):  \n",
    "  cond1 = df['low'][i] < df['low'][i-1]   \n",
    "  cond2 = df['low'][i] < df['low'][i+1]   \n",
    "  cond3 = df['low'][i+1] < df['low'][i+2]   \n",
    "  cond4 = df['low'][i-1] < df['low'][i-2]  \n",
    "  return (cond1 and cond2 and cond3 and cond4) \n",
    "# determine bearish fractal\n",
    "def is_resistance(df,i):  \n",
    "  cond1 = df['high'][i] > df['high'][i-1]   \n",
    "  cond2 = df['high'][i] > df['high'][i+1]   \n",
    "  cond3 = df['high'][i+1] > df['high'][i+2]   \n",
    "  cond4 = df['high'][i-1] > df['high'][i-2]  \n",
    "  return (cond1 and cond2 and cond3 and cond4)\n",
    "# to make sure the new level area does not exist already"
   ]
  },
  {
   "cell_type": "code",
   "execution_count": null,
   "id": "4b4c30b6",
   "metadata": {
    "lines_to_next_cell": 1
   },
   "outputs": [],
   "source": [
    "levels_power = []\n",
    "ave =  np.mean(numeric_df['high'] - numeric_df['low'])\n",
    "def is_far_from_level(value, levels, df):  \n",
    "  return np.sum([abs(value-level) < ave for _,level in levels])==0"
   ]
  },
  {
   "cell_type": "code",
   "execution_count": null,
   "id": "b6344cb7",
   "metadata": {
    "lines_to_next_cell": 1
   },
   "outputs": [],
   "source": [
    "# a list to store resistance and support levels\n",
    "class Level:\n",
    "    def __init__(self, index, level):\n",
    "        self.index = index\n",
    "        self.level = level\n",
    "        self.level_type = level\n",
    "\n",
    "    def __hash__(self):\n",
    "        return 0\n",
    "\n",
    "    def __eq__(self, other):\n",
    "        return abs(self.level - other.level) < ave\n",
    "    \n",
    "    def __str__(self):\n",
    "        return f\"({self.index}, {self.level})\""
   ]
  },
  {
   "cell_type": "code",
   "execution_count": null,
   "id": "b0c54611",
   "metadata": {},
   "outputs": [],
   "source": [
    "class LevelInfo:\n",
    "    def __init__(self):\n",
    "        self.min_value = float(\"inf\")\n",
    "        self.max_value = float(\"-inf\")\n",
    "        self.power = 0\n",
    "    \n",
    "    def update(self, value):\n",
    "        self.min_value = min(self.min_value, value)\n",
    "        self.max_value = max(self.max_value, value)\n",
    "        self.power += 1\n",
    "    \n",
    "    def __str__(self):\n",
    "        return f\"power: {power}, range: [{level_info.min_value}, {level_info.max_value}]\""
   ]
  },
  {
   "cell_type": "code",
   "execution_count": null,
   "id": "1e252ddb",
   "metadata": {},
   "outputs": [],
   "source": [
    "levels = {}\n",
    "for i in range(2, numeric_df.shape[0] - 2):  \n",
    "    if is_support(numeric_df, i):    \n",
    "        low = numeric_df['low'][i]    \n",
    "        #if is_far_from_level(low, levels, numeric_df):      \n",
    "        level = Level(i, low)\n",
    "        level_info = levels.get(level, LevelInfo())\n",
    "        level_info.update(level.level)\n",
    "        levels.update({level: level_info})\n",
    "    elif is_resistance(numeric_df, i):    \n",
    "        high = numeric_df['high'][i]    \n",
    "        #if is_far_from_level(high, levels, numeric_df):      \n",
    "        level = Level(i, high)\n",
    "        level_info = levels.get(level, LevelInfo())\n",
    "        level_info.update(level.level)\n",
    "        levels.update({level: level_info})"
   ]
  },
  {
   "cell_type": "code",
   "execution_count": null,
   "id": "2588220c",
   "metadata": {},
   "outputs": [],
   "source": [
    "# @@ Cell 314\n",
    "{str(level): str(level_info) for level, level_info in levels.items()}"
   ]
  },
  {
   "cell_type": "code",
   "execution_count": null,
   "id": "5a35cb69",
   "metadata": {},
   "outputs": [],
   "source": [
    "# @@ Cell 315\n",
    "support_range_values = [(level_info.min_value, level_info.max_value) for level, level_info in levels.items() if level.level_type == 'support']\n",
    "resistance_range_values = [(level_info.min_value, level_info.max_value) for level, level_info in levels.items() if level.level_type == 'resistance']\n",
    "support_indexes = [level.index for level, level_info in levels.items() if level.level_type == 'support']\n",
    "resistance_indexes = [level.index for level, level_info in levels.items() if level.level_type == 'resistance']"
   ]
  },
  {
   "cell_type": "code",
   "execution_count": null,
   "id": "f976ef11",
   "metadata": {},
   "outputs": [],
   "source": [
    "# @@ Cell 316\n",
    "support_min_values = [range_value[0] for range_value in support_range_values]\n",
    "support_max_values = [range_value[1] for range_value in support_range_values]\n",
    "resistance_min_values = [range_value[0] for range_value in resistance_range_values]\n",
    "resistance_max_values = [range_value[1] for range_value in resistance_range_values]"
   ]
  },
  {
   "cell_type": "code",
   "execution_count": null,
   "id": "5efc9dcd",
   "metadata": {},
   "outputs": [],
   "source": [
    "# @@ Cell 317\n",
    "support_values = [value for value_range in support_range_values for value in value_range]\n",
    "resistance_values = [value for value_range in resistance_range_values for value in value_range]"
   ]
  },
  {
   "cell_type": "code",
   "execution_count": null,
   "id": "0735c4b1",
   "metadata": {},
   "outputs": [],
   "source": [
    "# @@ Cell 318\n",
    "levels_min_values = support_min_values + resistance_min_values\n",
    "levels_max_values = support_max_values + resistance_max_values\n",
    "levels_values = support_values + resistance_values"
   ]
  },
  {
   "cell_type": "code",
   "execution_count": null,
   "id": "c5250dc0",
   "metadata": {},
   "outputs": [],
   "source": [
    "# @@ Cell 319\n",
    "levels_min_values"
   ]
  },
  {
   "cell_type": "code",
   "execution_count": null,
   "id": "b5d6c974",
   "metadata": {},
   "outputs": [],
   "source": [
    "# @@ Cell 320\n",
    "levels_max_values"
   ]
  },
  {
   "cell_type": "code",
   "execution_count": null,
   "id": "2ed0b554",
   "metadata": {
    "lines_to_next_cell": 1
   },
   "outputs": [],
   "source": [
    "# @@ Cell 321\n",
    "ave =  np.mean(numeric_df['high'] - numeric_df['low']) / 4"
   ]
  },
  {
   "cell_type": "code",
   "execution_count": null,
   "id": "041c3d3c",
   "metadata": {},
   "outputs": [],
   "source": [
    "# a list to store resistance and support levels\n",
    "class Level:\n",
    "    def __init__(self, index, level, level_type):\n",
    "        self.index = index\n",
    "        self.level = level\n",
    "        self.level_type = level_type\n",
    "\n",
    "    def __hash__(self):\n",
    "        return 0\n",
    "\n",
    "    def __eq__(self, other):\n",
    "        return self.level_type == other.level_type and abs(self.level - other.level) < ave\n",
    "    \n",
    "    def __str__(self):\n",
    "        return f\"({self.index}, {self.level}, {self.level_type})\""
   ]
  },
  {
   "cell_type": "code",
   "execution_count": null,
   "id": "17e3f67e",
   "metadata": {
    "lines_to_next_cell": 1
   },
   "outputs": [],
   "source": [
    "class LevelInfo:\n",
    "    def __init__(self):\n",
    "        self.min_value = float(\"inf\")\n",
    "        self.max_value = float(\"-inf\")\n",
    "        self.power = 0\n",
    "    \n",
    "    def update(self, value):\n",
    "        self.min_value = min(self.min_value, value)\n",
    "        self.max_value = max(self.max_value, value)\n",
    "        self.power += 1\n",
    "    \n",
    "    def __str__(self):\n",
    "        return f\"power: {power}, range: [{level_info.min_value}, {level_info.max_value}]\""
   ]
  },
  {
   "cell_type": "code",
   "execution_count": null,
   "id": "b626f0a8",
   "metadata": {},
   "outputs": [],
   "source": [
    "levels = {}"
   ]
  },
  {
   "cell_type": "code",
   "execution_count": null,
   "id": "5aa305c6",
   "metadata": {},
   "outputs": [],
   "source": [
    "for i in minimas:\n",
    "    low = numeric_df['low'].iloc[i]\n",
    "    level = Level(i, low, \"support\")\n",
    "    level_info = levels.get(level, LevelInfo())\n",
    "    level_info.update(level.level)\n",
    "    levels.update({level: level_info})\n",
    "    print(f\"Take into account {str(level)}: {str(level_info)}\")\n",
    "    print({str(level): str(level_info) for level, power in levels.items()})"
   ]
  },
  {
   "cell_type": "code",
   "execution_count": null,
   "id": "019b9457",
   "metadata": {},
   "outputs": [],
   "source": [
    "print(\"----------------------------------------------------------\")\n",
    "for i in maximas:\n",
    "    high = numeric_df['high'].iloc[i]\n",
    "    level = Level(i, high, \"resistance\")\n",
    "    level_info = levels.get(level, LevelInfo())\n",
    "    level_info.update(level.level)\n",
    "    levels.update({level: level_info})\n",
    "    print(f\"Take into account {str(level)}: {str(level_info)}\")\n",
    "    print({str(level): str(level_info) for level, power in levels.items()})"
   ]
  },
  {
   "cell_type": "code",
   "execution_count": null,
   "id": "a1f9f591",
   "metadata": {},
   "outputs": [],
   "source": [
    "# @@ Cell 322\n",
    "{str(level): str(level_info) for level, level_info in levels.items()}"
   ]
  },
  {
   "cell_type": "code",
   "execution_count": null,
   "id": "06b8f3ed",
   "metadata": {},
   "outputs": [],
   "source": [
    "# @@ Cell 323\n",
    "support_range_values = [(level_info.min_value, level_info.max_value) for level, level_info in levels.items() if level.level_type == 'support']\n",
    "resistance_range_values = [(level_info.min_value, level_info.max_value) for level, level_info in levels.items() if level.level_type == 'resistance']\n",
    "support_indexes = [level.index for level, level_info in levels.items() if level.level_type == 'support']\n",
    "resistance_indexes = [level.index for level, level_info in levels.items() if level.level_type == 'resistance']"
   ]
  },
  {
   "cell_type": "code",
   "execution_count": null,
   "id": "e701ec14",
   "metadata": {},
   "outputs": [],
   "source": [
    "# @@ Cell 324\n",
    "support_min_values = [range_value[0] for range_value in support_range_values]\n",
    "support_max_values = [range_value[1] for range_value in support_range_values]\n",
    "resistance_min_values = [range_value[0] for range_value in resistance_range_values]\n",
    "resistance_max_values = [range_value[1] for range_value in resistance_range_values]"
   ]
  },
  {
   "cell_type": "code",
   "execution_count": null,
   "id": "98d94c03",
   "metadata": {},
   "outputs": [],
   "source": [
    "# @@ Cell 325\n",
    "support_values = [value for value_range in support_range_values for value in value_range]\n",
    "resistance_values = [value for value_range in resistance_range_values for value in value_range]"
   ]
  },
  {
   "cell_type": "code",
   "execution_count": null,
   "id": "603eb40e",
   "metadata": {},
   "outputs": [],
   "source": [
    "# @@ Cell 326\n",
    "levels_min_values = support_min_values + resistance_min_values\n",
    "levels_max_values = support_max_values + resistance_max_values\n",
    "levels_values = support_values + resistance_values"
   ]
  },
  {
   "cell_type": "code",
   "execution_count": null,
   "id": "6a1800d0",
   "metadata": {},
   "outputs": [],
   "source": [
    "# @@ Cell 327\n",
    "levels_min_values"
   ]
  },
  {
   "cell_type": "code",
   "execution_count": null,
   "id": "a8b4124d",
   "metadata": {},
   "outputs": [],
   "source": [
    "# @@ Cell 328\n",
    "levels_max_values"
   ]
  },
  {
   "cell_type": "code",
   "execution_count": null,
   "id": "1a338468",
   "metadata": {},
   "outputs": [],
   "source": [
    "# @@ Cell 329\n",
    "levels_values"
   ]
  },
  {
   "cell_type": "code",
   "execution_count": null,
   "id": "a4eff8c0",
   "metadata": {},
   "outputs": [],
   "source": [
    "# @@ Cell 330\n",
    "import matplotlib.colors as mcolors\n",
    "import seaborn as sns\n",
    "color_palette = sns.color_palette(\"husl\", len(levels_values) // 2)\n",
    "colors = [[mcolors.to_hex(c)] * 2 for c in color_palette]\n",
    "colors = [color for color_tuple in colors for color in color_tuple]"
   ]
  },
  {
   "cell_type": "code",
   "execution_count": null,
   "id": "62ac9d0f",
   "metadata": {},
   "outputs": [],
   "source": [
    "# @@ Cell 331\n",
    "s = mpf.make_mpf_style(base_mpf_style='charles', rc={'font.size': 6})\n",
    "fig = mpf.figure(figsize=(16, 9), style=s)\n",
    "ax = fig.add_subplot(1,1,1) # main candle stick chart subplot, you can also pass in the self defined style here only for this subplot\n",
    "#av = fig.add_subplot(2,1,2, sharex=ax)  # volume chart subplot\n",
    "levels_ranges_len = len(levels_min_values)\n",
    "for i in range(0, len(support_min_values)):\n",
    "    ax.fill_between(x=range(support_indexes[i],50), y1=support_min_values[i], y2=support_max_values[i], color='r', alpha=0.20)\n",
    "for i in range(0, len(resistance_min_values)):\n",
    "    ax.fill_between(x=range(resistance_indexes[i],50), y1=resistance_min_values[i], y2=resistance_max_values[i], color='g', alpha=0.20)\n",
    "mpf.plot(\n",
    "    numeric_df,\n",
    "    #hlines=dict(hlines=levels_values,colors=colors,linestyle='-.'),\n",
    "    #fill_between=dict(y1=[65500], y2=[65600], color='#f2ad73', alpha=0.20),\n",
    "    type='candle',\n",
    "    #title='BTC-USDT',\n",
    "    volume=False,\n",
    "    ax=ax\n",
    ")"
   ]
  },
  {
   "cell_type": "code",
   "execution_count": null,
   "id": "e82046b2",
   "metadata": {},
   "outputs": [],
   "source": [
    "# @@ Cell 332\n",
    "s = mpf.make_mpf_style(base_mpf_style='charles', rc={'font.size': 6})\n",
    "fig = mpf.figure(figsize=(16, 9), style=s)\n",
    "ax = fig.add_subplot(1,1,1) # main candle stick chart subplot, you can also pass in the self defined style here only for this subplot\n",
    "#av = fig.add_subplot(2,1,2, sharex=ax)  # volume chart subplot\n",
    "levels_ranges_len = len(levels_min_values)\n",
    "for i in range(0, len(support_min_values)):\n",
    "    ax.fill_between(x=range(support_indexes[i],500), y1=support_min_values[i], y2=support_max_values[i], color='r', alpha=0.20)\n",
    "for i in range(0, len(resistance_min_values)):\n",
    "    ax.fill_between(x=range(resistance_indexes[i],500), y1=resistance_min_values[i], y2=resistance_max_values[i], color='g', alpha=0.20)\n",
    "mpf.plot(\n",
    "    numeric_df,\n",
    "    #hlines=dict(hlines=levels_values,colors=colors,linestyle='-.'),\n",
    "    #fill_between=dict(y1=[65500], y2=[65600], color='#f2ad73', alpha=0.20),\n",
    "    type='candle',\n",
    "    #title='BTC-USDT',\n",
    "    volume=False,\n",
    "    ax=ax\n",
    ")"
   ]
  },
  {
   "cell_type": "code",
   "execution_count": null,
   "id": "c0af0562",
   "metadata": {
    "lines_to_next_cell": 1
   },
   "outputs": [],
   "source": [
    "# @@ Cell 333\n",
    "ave =  np.mean(numeric_df['high'] - numeric_df['low']) / 1"
   ]
  },
  {
   "cell_type": "code",
   "execution_count": null,
   "id": "dffc6a3d",
   "metadata": {},
   "outputs": [],
   "source": [
    "# a list to store resistance and support levels\n",
    "class Level:\n",
    "    def __init__(self, index, level, level_type):\n",
    "        self.index = index\n",
    "        self.level = level\n",
    "        self.level_type = level_type\n",
    "\n",
    "    def __hash__(self):\n",
    "        return 0\n",
    "\n",
    "    def __eq__(self, other):\n",
    "        return self.level_type == other.level_type and abs(self.level - other.level) < ave\n",
    "    \n",
    "    def __str__(self):\n",
    "        return f\"({self.index}, {self.level}, {self.level_type})\""
   ]
  },
  {
   "cell_type": "code",
   "execution_count": null,
   "id": "89a2e7c4",
   "metadata": {
    "lines_to_next_cell": 1
   },
   "outputs": [],
   "source": [
    "class LevelInfo:\n",
    "    def __init__(self):\n",
    "        self.min_value = float(\"inf\")\n",
    "        self.max_value = float(\"-inf\")\n",
    "        self.power = 0\n",
    "    \n",
    "    def update(self, value):\n",
    "        self.min_value = min(self.min_value, value)\n",
    "        self.max_value = max(self.max_value, value)\n",
    "        self.power += 1\n",
    "    \n",
    "    def __str__(self):\n",
    "        return f\"power: {power}, range: [{level_info.min_value}, {level_info.max_value}]\""
   ]
  },
  {
   "cell_type": "code",
   "execution_count": null,
   "id": "80edddc0",
   "metadata": {},
   "outputs": [],
   "source": [
    "levels = {}"
   ]
  },
  {
   "cell_type": "code",
   "execution_count": null,
   "id": "4b385011",
   "metadata": {},
   "outputs": [],
   "source": [
    "for i in minimas:\n",
    "    low = numeric_df['low'].iloc[i]\n",
    "    level = Level(i, low, \"support\")\n",
    "    level_info = levels.get(level, LevelInfo())\n",
    "    level_info.update(level.level)\n",
    "    levels.update({level: level_info})\n",
    "    print(f\"Take into account {str(level)}: {str(level_info)}\")\n",
    "    print({str(level): str(level_info) for level, power in levels.items()})"
   ]
  },
  {
   "cell_type": "code",
   "execution_count": null,
   "id": "8a863d99",
   "metadata": {},
   "outputs": [],
   "source": [
    "print(\"----------------------------------------------------------\")\n",
    "for i in maximas:\n",
    "    high = numeric_df['high'].iloc[i]\n",
    "    level = Level(i, high, \"resistance\")\n",
    "    level_info = levels.get(level, LevelInfo())\n",
    "    level_info.update(level.level)\n",
    "    levels.update({level: level_info})\n",
    "    print(f\"Take into account {str(level)}: {str(level_info)}\")\n",
    "    print({str(level): str(level_info) for level, power in levels.items()})"
   ]
  },
  {
   "cell_type": "code",
   "execution_count": null,
   "id": "8871ab73",
   "metadata": {},
   "outputs": [],
   "source": [
    "# @@ Cell 334\n",
    "{str(level): str(level_info) for level, level_info in levels.items()}"
   ]
  },
  {
   "cell_type": "code",
   "execution_count": null,
   "id": "34dfbcdc",
   "metadata": {},
   "outputs": [],
   "source": [
    "# @@ Cell 335\n",
    "support_range_values = [(level_info.min_value, level_info.max_value) for level, level_info in levels.items() if level.level_type == 'support']\n",
    "resistance_range_values = [(level_info.min_value, level_info.max_value) for level, level_info in levels.items() if level.level_type == 'resistance']\n",
    "support_indexes = [level.index for level, level_info in levels.items() if level.level_type == 'support']\n",
    "resistance_indexes = [level.index for level, level_info in levels.items() if level.level_type == 'resistance']"
   ]
  },
  {
   "cell_type": "code",
   "execution_count": null,
   "id": "8d74f615",
   "metadata": {},
   "outputs": [],
   "source": [
    "# @@ Cell 336\n",
    "support_min_values = [range_value[0] for range_value in support_range_values]\n",
    "support_max_values = [range_value[1] for range_value in support_range_values]\n",
    "resistance_min_values = [range_value[0] for range_value in resistance_range_values]\n",
    "resistance_max_values = [range_value[1] for range_value in resistance_range_values]"
   ]
  },
  {
   "cell_type": "code",
   "execution_count": null,
   "id": "3f469c5d",
   "metadata": {},
   "outputs": [],
   "source": [
    "# @@ Cell 337\n",
    "support_values = [value for value_range in support_range_values for value in value_range]\n",
    "resistance_values = [value for value_range in resistance_range_values for value in value_range]"
   ]
  },
  {
   "cell_type": "code",
   "execution_count": null,
   "id": "6b1d2986",
   "metadata": {},
   "outputs": [],
   "source": [
    "# @@ Cell 338\n",
    "levels_min_values = support_min_values + resistance_min_values\n",
    "levels_max_values = support_max_values + resistance_max_values\n",
    "levels_values = support_values + resistance_values"
   ]
  },
  {
   "cell_type": "code",
   "execution_count": null,
   "id": "a21914bf",
   "metadata": {},
   "outputs": [],
   "source": [
    "# @@ Cell 339\n",
    "levels_min_values"
   ]
  },
  {
   "cell_type": "code",
   "execution_count": null,
   "id": "18064e46",
   "metadata": {},
   "outputs": [],
   "source": [
    "# @@ Cell 340\n",
    "levels_max_values"
   ]
  },
  {
   "cell_type": "code",
   "execution_count": null,
   "id": "edd4d898",
   "metadata": {},
   "outputs": [],
   "source": [
    "# @@ Cell 341\n",
    "levels_values"
   ]
  },
  {
   "cell_type": "code",
   "execution_count": null,
   "id": "543ff8b4",
   "metadata": {},
   "outputs": [],
   "source": [
    "# @@ Cell 342\n",
    "import matplotlib.colors as mcolors\n",
    "import seaborn as sns\n",
    "color_palette = sns.color_palette(\"husl\", len(levels_values) // 2)\n",
    "colors = [[mcolors.to_hex(c)] * 2 for c in color_palette]\n",
    "colors = [color for color_tuple in colors for color in color_tuple]"
   ]
  },
  {
   "cell_type": "code",
   "execution_count": null,
   "id": "0704ce69",
   "metadata": {},
   "outputs": [],
   "source": [
    "# @@ Cell 343\n",
    "colors = ['r'] * len(support_values) + ['g'] * len(resistance_values)"
   ]
  },
  {
   "cell_type": "code",
   "execution_count": null,
   "id": "0050a7cf",
   "metadata": {},
   "outputs": [],
   "source": [
    "# @@ Cell 344\n",
    "s = mpf.make_mpf_style(base_mpf_style='charles', rc={'font.size': 6})\n",
    "fig = mpf.figure(figsize=(16, 9), style=s)\n",
    "ax = fig.add_subplot(1,1,1) # main candle stick chart subplot, you can also pass in the self defined style here only for this subplot\n",
    "#av = fig.add_subplot(2,1,2, sharex=ax)  # volume chart subplot\n",
    "levels_ranges_len = len(levels_min_values)\n",
    "for i in range(0, len(support_min_values)):\n",
    "    ax.fill_between(x=range(support_indexes[i],500), y1=support_min_values[i], y2=support_max_values[i], color='r', alpha=0.20)\n",
    "for i in range(0, len(resistance_min_values)):\n",
    "    ax.fill_between(x=range(resistance_indexes[i],500), y1=resistance_min_values[i], y2=resistance_max_values[i], color='g', alpha=0.20)\n",
    "mpf.plot(\n",
    "    numeric_df,\n",
    "    #hlines=dict(hlines=levels_values,colors=colors,linestyle='-.'),\n",
    "    #fill_between=dict(y1=[65500], y2=[65600], color='#f2ad73', alpha=0.20),\n",
    "    type='candle',\n",
    "    #title='BTC-USDT',\n",
    "    volume=False,\n",
    "    ax=ax\n",
    ")"
   ]
  },
  {
   "cell_type": "code",
   "execution_count": null,
   "id": "fbb30a45",
   "metadata": {
    "lines_to_next_cell": 1
   },
   "outputs": [],
   "source": [
    "# @@ Cell 345\n",
    "ave =  np.mean(numeric_df['high'] - numeric_df['low']) / 1"
   ]
  },
  {
   "cell_type": "code",
   "execution_count": null,
   "id": "1f477c8b",
   "metadata": {},
   "outputs": [],
   "source": [
    "# a list to store resistance and support levels\n",
    "class Level:\n",
    "    def __init__(self, index, level, level_type):\n",
    "        self.index = index\n",
    "        self.level = level\n",
    "        self.level_type = level_type\n",
    "\n",
    "    def __hash__(self):\n",
    "        return 0\n",
    "\n",
    "    def __eq__(self, other):\n",
    "        return self.level_type == other.level_type and abs(self.level - other.level) < ave\n",
    "    \n",
    "    def __str__(self):\n",
    "        return f\"({self.index}, {self.level}, {self.level_type})\""
   ]
  },
  {
   "cell_type": "code",
   "execution_count": null,
   "id": "672b4760",
   "metadata": {
    "lines_to_next_cell": 1
   },
   "outputs": [],
   "source": [
    "class LevelInfo:\n",
    "    def __init__(self):\n",
    "        self.min_value = float(\"inf\")\n",
    "        self.max_value = float(\"-inf\")\n",
    "        self.power = 1\n",
    "    \n",
    "    def update(self, value):\n",
    "        self.min_value = min(self.min_value, value)\n",
    "        self.max_value = max(self.max_value, value)\n",
    "        self.power += 1\n",
    "    \n",
    "    def __str__(self):\n",
    "        return f\"power: {power}, range: [{level_info.min_value}, {level_info.max_value}]\""
   ]
  },
  {
   "cell_type": "code",
   "execution_count": null,
   "id": "0dfbf372",
   "metadata": {},
   "outputs": [],
   "source": [
    "levels = {}"
   ]
  },
  {
   "cell_type": "code",
   "execution_count": null,
   "id": "cee95ee9",
   "metadata": {},
   "outputs": [],
   "source": [
    "for i in minimas:\n",
    "    low = numeric_df['low'].iloc[i]\n",
    "    level = Level(i, low, \"support\")\n",
    "    level_info = levels.get(level, LevelInfo())\n",
    "    level_info.update(level.level)\n",
    "    levels.update({level: level_info})\n",
    "    print(f\"Take into account {str(level)}: {str(level_info)}\")\n",
    "    print({str(level): str(level_info) for level, power in levels.items()})"
   ]
  },
  {
   "cell_type": "code",
   "execution_count": null,
   "id": "e6676900",
   "metadata": {},
   "outputs": [],
   "source": [
    "print(\"----------------------------------------------------------\")\n",
    "for i in maximas:\n",
    "    high = numeric_df['high'].iloc[i]\n",
    "    level = Level(i, high, \"resistance\")\n",
    "    level_info = levels.get(level, LevelInfo())\n",
    "    level_info.update(level.level)\n",
    "    levels.update({level: level_info})\n",
    "    print(f\"Take into account {str(level)}: {str(level_info)}\")\n",
    "    print({str(level): str(level_info) for level, power in levels.items()})"
   ]
  },
  {
   "cell_type": "code",
   "execution_count": null,
   "id": "7ac45c28",
   "metadata": {},
   "outputs": [],
   "source": [
    "# @@ Cell 346\n",
    "{str(level): str(level_info) for level, level_info in levels.items()}"
   ]
  },
  {
   "cell_type": "code",
   "execution_count": null,
   "id": "6dbf9a70",
   "metadata": {},
   "outputs": [],
   "source": [
    "# @@ Cell 347\n",
    "support_range_values = [(level_info.min_value, level_info.max_value) for level, level_info in levels.items() if level.level_type == 'support']\n",
    "resistance_range_values = [(level_info.min_value, level_info.max_value) for level, level_info in levels.items() if level.level_type == 'resistance']\n",
    "support_indexes = [level.index for level, level_info in levels.items() if level.level_type == 'support']\n",
    "resistance_indexes = [level.index for level, level_info in levels.items() if level.level_type == 'resistance']"
   ]
  },
  {
   "cell_type": "code",
   "execution_count": null,
   "id": "9ad05e95",
   "metadata": {},
   "outputs": [],
   "source": [
    "# @@ Cell 348\n",
    "support_min_values = [range_value[0] for range_value in support_range_values]\n",
    "support_max_values = [range_value[1] for range_value in support_range_values]\n",
    "resistance_min_values = [range_value[0] for range_value in resistance_range_values]\n",
    "resistance_max_values = [range_value[1] for range_value in resistance_range_values]"
   ]
  },
  {
   "cell_type": "code",
   "execution_count": null,
   "id": "9eb76a3d",
   "metadata": {},
   "outputs": [],
   "source": [
    "# @@ Cell 349\n",
    "support_values = [value for value_range in support_range_values for value in value_range]\n",
    "resistance_values = [value for value_range in resistance_range_values for value in value_range]"
   ]
  },
  {
   "cell_type": "code",
   "execution_count": null,
   "id": "80789679",
   "metadata": {},
   "outputs": [],
   "source": [
    "# @@ Cell 350\n",
    "levels_min_values = support_min_values + resistance_min_values\n",
    "levels_max_values = support_max_values + resistance_max_values\n",
    "levels_values = support_values + resistance_values"
   ]
  },
  {
   "cell_type": "code",
   "execution_count": null,
   "id": "cbf2c969",
   "metadata": {},
   "outputs": [],
   "source": [
    "# @@ Cell 351\n",
    "levels_min_values"
   ]
  },
  {
   "cell_type": "code",
   "execution_count": null,
   "id": "67df1d08",
   "metadata": {},
   "outputs": [],
   "source": [
    "# @@ Cell 352\n",
    "levels_max_values"
   ]
  },
  {
   "cell_type": "code",
   "execution_count": null,
   "id": "b7fd08ec",
   "metadata": {},
   "outputs": [],
   "source": [
    "# @@ Cell 353\n",
    "levels_values"
   ]
  },
  {
   "cell_type": "code",
   "execution_count": null,
   "id": "487e4588",
   "metadata": {},
   "outputs": [],
   "source": [
    "# @@ Cell 354\n",
    "import matplotlib.colors as mcolors\n",
    "import seaborn as sns\n",
    "color_palette = sns.color_palette(\"husl\", len(levels_values) // 2)\n",
    "colors = [[mcolors.to_hex(c)] * 2 for c in color_palette]\n",
    "colors = [color for color_tuple in colors for color in color_tuple]"
   ]
  },
  {
   "cell_type": "code",
   "execution_count": null,
   "id": "6cbbe342",
   "metadata": {
    "lines_to_next_cell": 1
   },
   "outputs": [],
   "source": [
    "# @@ Cell 355\n",
    "ave =  np.mean(numeric_df['high'] - numeric_df['low']) / 1"
   ]
  },
  {
   "cell_type": "code",
   "execution_count": null,
   "id": "bb42ffa5",
   "metadata": {},
   "outputs": [],
   "source": [
    "# a list to store resistance and support levels\n",
    "class Level:\n",
    "    def __init__(self, index, level, level_type):\n",
    "        self.index = index\n",
    "        self.level = level\n",
    "        self.level_type = level_type\n",
    "\n",
    "    def __hash__(self):\n",
    "        return 0\n",
    "\n",
    "    def __eq__(self, other):\n",
    "        return self.level_type == other.level_type and abs(self.level - other.level) < ave\n",
    "    \n",
    "    def __str__(self):\n",
    "        return f\"({self.index}, {self.level}, {self.level_type})\""
   ]
  },
  {
   "cell_type": "code",
   "execution_count": null,
   "id": "574daa1c",
   "metadata": {
    "lines_to_next_cell": 1
   },
   "outputs": [],
   "source": [
    "class LevelInfo:\n",
    "    def __init__(self):\n",
    "        self.min_value = float(\"inf\")\n",
    "        self.max_value = float(\"-inf\")\n",
    "        self.power = 1\n",
    "    \n",
    "    def update(self, value):\n",
    "        self.min_value = min(self.min_value, value)\n",
    "        self.max_value = max(self.max_value, value)\n",
    "        self.power += 1\n",
    "    \n",
    "    def __str__(self):\n",
    "        return f\"power: {power}, range: [{level_info.min_value}, {level_info.max_value}]\""
   ]
  },
  {
   "cell_type": "code",
   "execution_count": null,
   "id": "acad4aa2",
   "metadata": {},
   "outputs": [],
   "source": [
    "levels = {}"
   ]
  },
  {
   "cell_type": "code",
   "execution_count": null,
   "id": "ba995076",
   "metadata": {},
   "outputs": [],
   "source": [
    "for i in minimas:\n",
    "    low = numeric_df['low'].iloc[i]\n",
    "    level = Level(i, low, \"support\")\n",
    "    level_info = levels.get(level, LevelInfo())\n",
    "    level_info.update(level.level)\n",
    "    levels.update({level: level_info})\n",
    "    print(f\"Take into account {str(level)}: {str(level_info)}\")\n",
    "    print({str(level): str(level_info) for level, power in levels.items()})"
   ]
  },
  {
   "cell_type": "code",
   "execution_count": null,
   "id": "dc1672c3",
   "metadata": {},
   "outputs": [],
   "source": [
    "print(\"----------------------------------------------------------\")\n",
    "for i in maximas:\n",
    "    high = numeric_df['high'].iloc[i]\n",
    "    level = Level(i, high, \"resistance\")\n",
    "    level_info = levels.get(level, LevelInfo())\n",
    "    level_info.update(level.level)\n",
    "    levels.update({level: level_info})\n",
    "    print(f\"Take into account {str(level)}: {str(level_info)}\")\n",
    "    print({str(level): str(level_info) for level, power in levels.items()})"
   ]
  },
  {
   "cell_type": "code",
   "execution_count": null,
   "id": "984be2c9",
   "metadata": {},
   "outputs": [],
   "source": [
    "# @@ Cell 356\n",
    "ave"
   ]
  },
  {
   "cell_type": "code",
   "execution_count": null,
   "id": "563b5aaa",
   "metadata": {},
   "outputs": [],
   "source": [
    "# @@ Cell 357\n",
    "{str(level): str(level_info) for level, level_info in levels.items()}"
   ]
  },
  {
   "cell_type": "code",
   "execution_count": null,
   "id": "f9952754",
   "metadata": {},
   "outputs": [],
   "source": [
    "# @@ Cell 358\n",
    "ave"
   ]
  },
  {
   "cell_type": "code",
   "execution_count": null,
   "id": "7432a1ab",
   "metadata": {},
   "outputs": [],
   "source": [
    "# @@ Cell 359\n",
    "support_range_values = [(level_info.min_value, level_info.max_value) for level, level_info in levels.items() if level.level_type == 'support']\n",
    "resistance_range_values = [(level_info.min_value, level_info.max_value) for level, level_info in levels.items() if level.level_type == 'resistance']\n",
    "support_indexes = [level.index for level, level_info in levels.items() if level.level_type == 'support']\n",
    "resistance_indexes = [level.index for level, level_info in levels.items() if level.level_type == 'resistance']"
   ]
  },
  {
   "cell_type": "code",
   "execution_count": null,
   "id": "3d61d1ab",
   "metadata": {},
   "outputs": [],
   "source": [
    "# @@ Cell 360\n",
    "support_min_values = [range_value[0] for range_value in support_range_values]\n",
    "support_max_values = [range_value[1] for range_value in support_range_values]\n",
    "resistance_min_values = [range_value[0] for range_value in resistance_range_values]\n",
    "resistance_max_values = [range_value[1] for range_value in resistance_range_values]"
   ]
  },
  {
   "cell_type": "code",
   "execution_count": null,
   "id": "3c9cdebb",
   "metadata": {},
   "outputs": [],
   "source": [
    "# @@ Cell 361\n",
    "support_values = [value for value_range in support_range_values for value in value_range]\n",
    "resistance_values = [value for value_range in resistance_range_values for value in value_range]"
   ]
  },
  {
   "cell_type": "code",
   "execution_count": null,
   "id": "02778db3",
   "metadata": {},
   "outputs": [],
   "source": [
    "# @@ Cell 362\n",
    "levels_min_values = support_min_values + resistance_min_values\n",
    "levels_max_values = support_max_values + resistance_max_values\n",
    "levels_values = support_values + resistance_values"
   ]
  },
  {
   "cell_type": "code",
   "execution_count": null,
   "id": "f3cc3950",
   "metadata": {},
   "outputs": [],
   "source": [
    "# @@ Cell 363\n",
    "levels_min_values"
   ]
  },
  {
   "cell_type": "code",
   "execution_count": null,
   "id": "c9e0ec2a",
   "metadata": {},
   "outputs": [],
   "source": [
    "# @@ Cell 364\n",
    "levels_max_values"
   ]
  },
  {
   "cell_type": "code",
   "execution_count": null,
   "id": "5e8a80fe",
   "metadata": {},
   "outputs": [],
   "source": [
    "# @@ Cell 365\n",
    "levels_values"
   ]
  },
  {
   "cell_type": "code",
   "execution_count": null,
   "id": "95f64b6b",
   "metadata": {},
   "outputs": [],
   "source": [
    "# @@ Cell 366\n",
    "import matplotlib.colors as mcolors\n",
    "import seaborn as sns\n",
    "color_palette = sns.color_palette(\"husl\", len(levels_values) // 2)\n",
    "colors = [[mcolors.to_hex(c)] * 2 for c in color_palette]\n",
    "colors = [color for color_tuple in colors for color in color_tuple]"
   ]
  },
  {
   "cell_type": "code",
   "execution_count": null,
   "id": "abe5924d",
   "metadata": {},
   "outputs": [],
   "source": [
    "# @@ Cell 367\n",
    "colors = ['r'] * len(support_values) + ['g'] * len(resistance_values)"
   ]
  },
  {
   "cell_type": "code",
   "execution_count": null,
   "id": "b6ca4009",
   "metadata": {},
   "outputs": [],
   "source": [
    "# @@ Cell 368\n",
    "colors"
   ]
  },
  {
   "cell_type": "code",
   "execution_count": null,
   "id": "0f79fa8c",
   "metadata": {
    "lines_to_next_cell": 1
   },
   "outputs": [],
   "source": [
    "# @@ Cell 369\n",
    "s = mpf.make_mpf_style(base_mpf_style='charles', rc={'font.size': 6})\n",
    "fig = mpf.figure(figsize=(16, 9), style=s)\n",
    "ax = fig.add_subplot(1,1,1) # main candle stick chart subplot, you can also pass in the self defined style here only for this subplot\n",
    "#av = fig.add_subplot(2,1,2, sharex=ax)  # volume chart subplot\n",
    "levels_ranges_len = len(levels_min_values)\n",
    "for i in range(0, len(support_min_values)):\n",
    "    ax.fill_between(x=range(support_indexes[i],500), y1=support_min_values[i], y2=support_max_values[i], color='r', alpha=0.20)\n",
    "for i in range(0, len(resistance_min_values)):\n",
    "    ax.fill_between(x=range(resistance_indexes[i],500), y1=resistance_min_values[i], y2=resistance_max_values[i], color='g', alpha=0.20)\n",
    "mpf.plot(\n",
    "    numeric_df,\n",
    "    #hlines=dict(hlines=levels_values,colors=colors,linestyle='-.'),\n",
    "    #fill_between=dict(y1=[65500], y2=[65600], color='#f2ad73', alpha=0.20),\n",
    "    type='candle',\n",
    "    #title='BTC-USDT',\n",
    "    volume=False,\n",
    "    ax=ax\n",
    ")"
   ]
  },
  {
   "cell_type": "code",
   "execution_count": null,
   "id": "015c9369",
   "metadata": {
    "lines_to_next_cell": 1
   },
   "outputs": [],
   "source": [
    "# @@ Cell 370\n",
    "def is_consiladating(df):\n",
    "    recent_candlesticks = df"
   ]
  },
  {
   "cell_type": "code",
   "execution_count": null,
   "id": "9ef23114",
   "metadata": {
    "lines_to_next_cell": 1
   },
   "outputs": [],
   "source": [
    "# @@ Cell 371\n",
    "def is_consiladating(df):\n",
    "    recent_candlesticks = df[-15:]\n",
    "    print(recent_candlesticks)\n",
    "    \n",
    "    max_close = recent_candlesticks[\"close\"].max()\n",
    "    min_close = recent_candlesticks[\"close\"].min()\n",
    "    \n",
    "    print(\"The max close was {} and the min close was {}\".format(max_close, min_close))\n",
    "    \n",
    "    return min_close > (max_close * 0.98)"
   ]
  },
  {
   "cell_type": "code",
   "execution_count": null,
   "id": "9ae5ad82",
   "metadata": {
    "lines_to_next_cell": 2
   },
   "outputs": [],
   "source": [
    "# @@ Cell 372\n",
    "is_consiladating(numeric_df)"
   ]
  }
 ],
 "metadata": {
  "jupytext": {
   "cell_metadata_filter": "-all",
   "main_language": "python",
   "notebook_metadata_filter": "-all"
  },
  "kernelspec": {
   "display_name": "Python 3",
   "language": "python",
   "name": "python3"
  },
  "language_info": {
   "codemirror_mode": {
    "name": "ipython",
    "version": 3
   },
   "file_extension": ".py",
   "mimetype": "text/x-python",
   "name": "python",
   "nbconvert_exporter": "python",
   "pygments_lexer": "ipython3",
   "version": "3.6.8"
  }
 },
 "nbformat": 4,
 "nbformat_minor": 5
}
