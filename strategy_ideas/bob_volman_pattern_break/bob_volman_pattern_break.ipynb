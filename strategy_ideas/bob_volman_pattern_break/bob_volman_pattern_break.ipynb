{
 "cells": [
  {
   "cell_type": "markdown",
   "metadata": {},
   "source": [
    "### Go to project root"
   ]
  },
  {
   "cell_type": "code",
   "execution_count": 1,
   "metadata": {},
   "outputs": [
    {
     "name": "stdout",
     "output_type": "stream",
     "text": [
      "/Users/moussadiakite/Google_Drive/Projects/MInvest/Trazy\n"
     ]
    }
   ],
   "source": [
    "import os\n",
    "from pathlib import Path\n",
    "\n",
    "#list the current work dir\n",
    "cwd = os.getcwd()\n",
    "current_path = Path(cwd)\n",
    "project_root = current_path.parent.parent.parent\n",
    "print(project_root)\n",
    "\n",
    "#change the current work dir\n",
    "os.chdir(project_root)"
   ]
  },
  {
   "cell_type": "markdown",
   "metadata": {},
   "source": [
    "### Imports"
   ]
  },
  {
   "cell_type": "code",
   "execution_count": null,
   "metadata": {},
   "outputs": [],
   "source": [
    "!pip install mplfinance"
   ]
  },
  {
   "cell_type": "code",
   "execution_count": 2,
   "metadata": {},
   "outputs": [],
   "source": [
    "from trazy_analysis.common.ccxt_connector import CcxtConnector\n",
    "from trazy_analysis.models.asset import Asset\n",
    "from datetime import datetime\n",
    "from trazy_analysis.market_data.historical.ccxt_historical_data_handler import CcxtHistoricalDataHandler\n",
    "from collections import deque\n",
    "from trazy_analysis.feed.feed import Feed, CsvFeed\n",
    "import pytz\n",
    "import numpy as np\n",
    "import pandas as pd\n",
    "import math\n",
    "import mplfinance as mpf\n",
    "from mplfinance.original_flavor import candlestick_ohlc, candlestick2_ohlc\n",
    "import matplotlib.dates as mpl_dates\n",
    "import matplotlib.pyplot as plt\n",
    "from matplotlib import ticker"
   ]
  },
  {
   "cell_type": "code",
   "execution_count": 3,
   "metadata": {},
   "outputs": [],
   "source": [
    "exchange = \"BINANCE\""
   ]
  },
  {
   "cell_type": "code",
   "execution_count": 4,
   "metadata": {},
   "outputs": [],
   "source": [
    "exchanges_api_keys = {\n",
    "    exchange: {\n",
    "        \"key\": None,\n",
    "        \"secret\": None,\n",
    "        \"password\": None,\n",
    "    }\n",
    "}\n",
    "\n",
    "ccxt_connector = CcxtConnector(exchanges_api_keys=exchanges_api_keys)\n",
    "historical_data_handler = CcxtHistoricalDataHandler(ccxt_connector)"
   ]
  },
  {
   "cell_type": "code",
   "execution_count": null,
   "metadata": {},
   "outputs": [],
   "source": [
    "start = datetime(2021, 11, 29, 0, 0, 0, 0, tzinfo=pytz.UTC)\n",
    "end = datetime(2021, 12, 5, 0, 0, 0, 0, tzinfo=pytz.UTC)"
   ]
  },
  {
   "cell_type": "code",
   "execution_count": 5,
   "metadata": {},
   "outputs": [],
   "source": [
    "exchange_asset = Asset(symbol=\"BTC/USDT\", exchange=exchange)"
   ]
  },
  {
   "cell_type": "code",
   "execution_count": null,
   "metadata": {},
   "outputs": [],
   "source": [
    "historical_data_handler.save_ticker_data_in_csv(\n",
    "    exchange_asset, \"trazy_analysis/strategy_ideas/bob_volman_pattern_break/data/btc_usdt_tight_trading_range.csv\", start, end\n",
    ")"
   ]
  },
  {
   "cell_type": "code",
   "execution_count": 6,
   "metadata": {},
   "outputs": [],
   "source": [
    "# load data\n",
    "events = deque()\n",
    "feed: Feed = CsvFeed(\n",
    "    {\n",
    "        exchange_asset: f\"trazy_analysis/strategy_ideas/bob_volman_pattern_break/data/btc_usdt.csv\"\n",
    "    },\n",
    "    events,\n",
    ")"
   ]
  },
  {
   "cell_type": "code",
   "execution_count": 7,
   "metadata": {},
   "outputs": [],
   "source": [
    "df = feed.candle_dataframes[exchange_asset]"
   ]
  },
  {
   "cell_type": "code",
   "execution_count": null,
   "metadata": {},
   "outputs": [],
   "source": [
    "from datetime import timedelta\n",
    "df_5min = df.aggregate(timedelta(minutes=5))"
   ]
  },
  {
   "cell_type": "code",
   "execution_count": null,
   "metadata": {},
   "outputs": [],
   "source": [
    "df_5min"
   ]
  },
  {
   "cell_type": "code",
   "execution_count": 8,
   "metadata": {},
   "outputs": [],
   "source": [
    "df_sample = df"
   ]
  },
  {
   "cell_type": "code",
   "execution_count": null,
   "metadata": {},
   "outputs": [],
   "source": [
    "df_sample"
   ]
  },
  {
   "cell_type": "code",
   "execution_count": 9,
   "metadata": {},
   "outputs": [],
   "source": [
    "numeric_df = pd.DataFrame()"
   ]
  },
  {
   "cell_type": "code",
   "execution_count": 10,
   "metadata": {},
   "outputs": [
    {
     "data": {
      "text/html": [
       "<div>\n",
       "<style scoped>\n",
       "    .dataframe tbody tr th:only-of-type {\n",
       "        vertical-align: middle;\n",
       "    }\n",
       "\n",
       "    .dataframe tbody tr th {\n",
       "        vertical-align: top;\n",
       "    }\n",
       "\n",
       "    .dataframe thead th {\n",
       "        text-align: right;\n",
       "    }\n",
       "</style>\n",
       "<table border=\"1\" class=\"dataframe\">\n",
       "  <thead>\n",
       "    <tr style=\"text-align: right;\">\n",
       "      <th></th>\n",
       "    </tr>\n",
       "  </thead>\n",
       "  <tbody>\n",
       "  </tbody>\n",
       "</table>\n",
       "</div>"
      ],
      "text/plain": [
       "Empty DataFrame\n",
       "Columns: []\n",
       "Index: []"
      ]
     },
     "execution_count": 10,
     "metadata": {},
     "output_type": "execute_result"
    }
   ],
   "source": [
    "numeric_df"
   ]
  },
  {
   "cell_type": "code",
   "execution_count": 11,
   "metadata": {},
   "outputs": [],
   "source": [
    "numeric_df[\"open\"] = pd.to_numeric(df_sample[\"open\"])\n",
    "numeric_df[\"high\"] = pd.to_numeric(df_sample[\"high\"])\n",
    "numeric_df[\"low\"] = pd.to_numeric(df_sample[\"low\"])\n",
    "numeric_df[\"close\"] = pd.to_numeric(df_sample[\"close\"])\n",
    "numeric_df[\"volume\"] = pd.to_numeric(df_sample[\"volume\"])\n",
    "numeric_df.index = pd.to_datetime(numeric_df.index)\n",
    "numeric_df['date'] = mpl_dates.date2num(numeric_df.index)"
   ]
  },
  {
   "cell_type": "code",
   "execution_count": null,
   "metadata": {},
   "outputs": [],
   "source": [
    "class real_time_peak_detection():\n",
    "    def __init__(self, array, lag, threshold, influence):\n",
    "        self.y = list(array)\n",
    "        self.length = len(self.y)\n",
    "        self.lag = lag\n",
    "        self.threshold = threshold\n",
    "        self.influence = influence\n",
    "        self.signals = [0] * len(self.y)\n",
    "        self.filteredY = np.array(self.y).tolist()\n",
    "        self.avgFilter = [0] * len(self.y)\n",
    "        self.stdFilter = [0] * len(self.y)\n",
    "        self.avgFilter[self.lag - 1] = np.mean(self.y[0:self.lag]).tolist()\n",
    "        self.stdFilter[self.lag - 1] = np.std(self.y[0:self.lag]).tolist()\n",
    "\n",
    "    def thresholding_algo(self, new_value):\n",
    "        self.y.append(new_value)\n",
    "        i = len(self.y) - 1\n",
    "        self.length = len(self.y)\n",
    "        if i < self.lag:\n",
    "            return 0\n",
    "        elif i == self.lag:\n",
    "            self.signals = [0] * len(self.y)\n",
    "            self.filteredY = np.array(self.y).tolist()\n",
    "            self.avgFilter = [0] * len(self.y)\n",
    "            self.stdFilter = [0] * len(self.y)\n",
    "            self.avgFilter[self.lag] = np.mean(self.y[0:self.lag]).tolist()\n",
    "            self.stdFilter[self.lag] = np.std(self.y[0:self.lag]).tolist()\n",
    "            return 0\n",
    "\n",
    "        self.signals += [0]\n",
    "        self.filteredY += [0]\n",
    "        self.avgFilter += [0]\n",
    "        self.stdFilter += [0]\n",
    "\n",
    "        if abs(self.y[i] - self.avgFilter[i - 1]) > self.threshold * self.stdFilter[i - 1]:\n",
    "            if self.y[i] > self.avgFilter[i - 1]:\n",
    "                self.signals[i] = 1\n",
    "            else:\n",
    "                self.signals[i] = -1\n",
    "\n",
    "            self.filteredY[i] = self.influence * self.y[i] + (1 - self.influence) * self.filteredY[i - 1]\n",
    "            self.avgFilter[i] = np.mean(self.filteredY[(i - self.lag):i])\n",
    "            self.stdFilter[i] = np.std(self.filteredY[(i - self.lag):i])\n",
    "        else:\n",
    "            self.signals[i] = 0\n",
    "            self.filteredY[i] = self.y[i]\n",
    "            self.avgFilter[i] = np.mean(self.filteredY[(i - self.lag):i])\n",
    "            self.stdFilter[i] = np.std(self.filteredY[(i - self.lag):i])\n",
    "\n",
    "        return self.signals[i]"
   ]
  },
  {
   "cell_type": "code",
   "execution_count": null,
   "metadata": {},
   "outputs": [],
   "source": [
    "r = real_time_peak_detection(numeric_df['close'].iloc[0:30], 5, 0, 0)"
   ]
  },
  {
   "cell_type": "code",
   "execution_count": null,
   "metadata": {},
   "outputs": [],
   "source": [
    "for i in range(30, 40):\n",
    "    print(r.thresholding_algo(numeric_df['close'].iloc[i]))"
   ]
  },
  {
   "cell_type": "code",
   "execution_count": null,
   "metadata": {},
   "outputs": [],
   "source": [
    "r.signals"
   ]
  },
  {
   "cell_type": "code",
   "execution_count": 12,
   "metadata": {},
   "outputs": [],
   "source": [
    "from scipy.signal import argrelextrema\n",
    "\n",
    "x_max = np.array(numeric_df['high'])\n",
    "x_min = np.array(numeric_df['low'])\n",
    "\n",
    "# for local maxima\n",
    "maximas = argrelextrema(x_max, np.greater, order = 3)[0]\n",
    "\n",
    "# for local minima\n",
    "minimas = argrelextrema(x_min, np.less)[0]"
   ]
  },
  {
   "cell_type": "code",
   "execution_count": 13,
   "metadata": {},
   "outputs": [
    {
     "data": {
      "text/plain": [
       "array([57432.5 , 57487.24, 57495.  , ..., 49123.75, 49120.01, 49095.85])"
      ]
     },
     "execution_count": 13,
     "metadata": {},
     "output_type": "execute_result"
    }
   ],
   "source": [
    "x_max"
   ]
  },
  {
   "cell_type": "code",
   "execution_count": 14,
   "metadata": {},
   "outputs": [
    {
     "data": {
      "text/plain": [
       "array([   2,   11,   22,   34,   51,   66,   72,   81,   95,  105,  114,\n",
       "        120,  125,  140,  146,  157,  168,  172,  182,  191,  210,  221,\n",
       "        232,  236,  245,  267,  276,  283,  287,  303,  308,  317,  325,\n",
       "        335,  347,  352,  362,  367,  380,  390,  408,  412,  424,  434,\n",
       "        441,  449,  467,  476,  485,  495,  501,  513,  532,  552,  570,\n",
       "        577,  587,  596,  600,  609,  622,  629,  637,  652,  661,  669,\n",
       "        685,  692,  698,  705,  710,  724,  731,  736,  750,  760,  769,\n",
       "        776,  781,  789,  800,  813,  823,  830,  843,  865,  891,  900,\n",
       "        912,  920,  937,  961,  971,  979,  986, 1009, 1017, 1022, 1051,\n",
       "       1055, 1059, 1068, 1075, 1080, 1090, 1097, 1107, 1116, 1129, 1137,\n",
       "       1166, 1186, 1192, 1203, 1211, 1216, 1230, 1244, 1255, 1268, 1280,\n",
       "       1290, 1301, 1314, 1325, 1329, 1338, 1348, 1360, 1366, 1387, 1404,\n",
       "       1410, 1425, 1434, 1440, 1457, 1470, 1484, 1492, 1500, 1505, 1530,\n",
       "       1540, 1545, 1554, 1574, 1581, 1590, 1604, 1621, 1636, 1642, 1678,\n",
       "       1696, 1712, 1727, 1748, 1756, 1775, 1791, 1799, 1805, 1810, 1823,\n",
       "       1838, 1868, 1875, 1887, 1892, 1915, 1922, 1932, 1954, 1966, 1975,\n",
       "       1982, 1999, 2019, 2027, 2038, 2049, 2066, 2073, 2080, 2088, 2112,\n",
       "       2120, 2124, 2142, 2155, 2173, 2187, 2193, 2202, 2213, 2221, 2231,\n",
       "       2239, 2261, 2270, 2285, 2292, 2301, 2307, 2325, 2356, 2370, 2381,\n",
       "       2387, 2404, 2418, 2435, 2449, 2480, 2487, 2495, 2500, 2509, 2515,\n",
       "       2523, 2529, 2555, 2564, 2579, 2590, 2595, 2604, 2611, 2620, 2627,\n",
       "       2643, 2658, 2673, 2685, 2705, 2711, 2716, 2723, 2751, 2755, 2775,\n",
       "       2789, 2805, 2816, 2821, 2829, 2838, 2847, 2865, 2874, 2879, 2892,\n",
       "       2902, 2912, 2922, 2934, 2944, 2976, 2990, 2997, 3006, 3017, 3022,\n",
       "       3031, 3036, 3050, 3061, 3068, 3076, 3083, 3087, 3101, 3113, 3122,\n",
       "       3131, 3145, 3152, 3160, 3178, 3191, 3203, 3214, 3225, 3234, 3240,\n",
       "       3253, 3261, 3266, 3279, 3290, 3296, 3310, 3319, 3334, 3346, 3361,\n",
       "       3384, 3392, 3412, 3420, 3425, 3435, 3450, 3459, 3465, 3470, 3475,\n",
       "       3484, 3499, 3522, 3527, 3538, 3549, 3560, 3575, 3591, 3599, 3612,\n",
       "       3626, 3633, 3637, 3650, 3665, 3671, 3675, 3686, 3700, 3711, 3716,\n",
       "       3740, 3750, 3766, 3774, 3800, 3812, 3826, 3832, 3857, 3863, 3869,\n",
       "       3878, 3891, 3904, 3916, 3925, 3931, 3938, 3942, 3947, 3958, 3976,\n",
       "       3987, 3991, 3999, 4016, 4020, 4035, 4045, 4057, 4070, 4080, 4094,\n",
       "       4111, 4124, 4139, 4150, 4155, 4160, 4170, 4176, 4186, 4203, 4209,\n",
       "       4224, 4228, 4241, 4251, 4255, 4261, 4267, 4273, 4288, 4298, 4306,\n",
       "       4313, 4317, 4326, 4333, 4345, 4352, 4364, 4380, 4391, 4400, 4410,\n",
       "       4424, 4430, 4438, 4453, 4466, 4474, 4486, 4492, 4499, 4524, 4531,\n",
       "       4542, 4554, 4562, 4579, 4594, 4607, 4615, 4638, 4646, 4654, 4667,\n",
       "       4674, 4679, 4697, 4707, 4715, 4732, 4744, 4757, 4762, 4766, 4779,\n",
       "       4786, 4793, 4802, 4818, 4831, 4839, 4852, 4858, 4864, 4874, 4879,\n",
       "       4884, 4898, 4906, 4915, 4919, 4946, 4955, 4960, 4966, 4971, 4980,\n",
       "       5002, 5010, 5022, 5032, 5039, 5044, 5053, 5072, 5100, 5107, 5116,\n",
       "       5122, 5135, 5147, 5160, 5175, 5183, 5212, 5223, 5248, 5261, 5271,\n",
       "       5279, 5288, 5296, 5303, 5310, 5321, 5334, 5343, 5351, 5361, 5373,\n",
       "       5381, 5390, 5396, 5415, 5420, 5435, 5440, 5455, 5463, 5470, 5478,\n",
       "       5483, 5491, 5506, 5512, 5520, 5528, 5536, 5552, 5562, 5569, 5580,\n",
       "       5596, 5603, 5624, 5633, 5646, 5655, 5667, 5671, 5678, 5689, 5698,\n",
       "       5708, 5728, 5735, 5745, 5750, 5760, 5766, 5772, 5777, 5795, 5804,\n",
       "       5813, 5823, 5831, 5839, 5853, 5876, 5882, 5897, 5910, 5922, 5929,\n",
       "       5945, 5952, 5970, 5977, 5982, 6020, 6025, 6032, 6044, 6052, 6063,\n",
       "       6071, 6078, 6084, 6091, 6108, 6121, 6137, 6157, 6166, 6176, 6180,\n",
       "       6191, 6201, 6213, 6230, 6237, 6250, 6259, 6286, 6301, 6306, 6315,\n",
       "       6320, 6330, 6362, 6372, 6379, 6407, 6422, 6430, 6450, 6469, 6475,\n",
       "       6482, 6490, 6525, 6531, 6538, 6549, 6558, 6572, 6595, 6600, 6607,\n",
       "       6618, 6633, 6654, 6660, 6667, 6680, 6689, 6707, 6714, 6719, 6735,\n",
       "       6755, 6770, 6799, 6804, 6822, 6830, 6834, 6845, 6863, 6871, 6880,\n",
       "       6891, 6916, 6923, 6930, 6934, 6944, 6951, 6958, 6968, 6983, 6987,\n",
       "       6991, 7000, 7018, 7029, 7035, 7043, 7052, 7058, 7063, 7069, 7084,\n",
       "       7088, 7104, 7117, 7133, 7146, 7155, 7163, 7169, 7183, 7191, 7201,\n",
       "       7210, 7221, 7237, 7242, 7255, 7266, 7276, 7281, 7286, 7295, 7308,\n",
       "       7317, 7323, 7331, 7341, 7369, 7380, 7386, 7415, 7423, 7430, 7471,\n",
       "       7489, 7510, 7532, 7538, 7549, 7560, 7588, 7599, 7606, 7619, 7642,\n",
       "       7649, 7656, 7664, 7671, 7679, 7699, 7710, 7718, 7723, 7734, 7747,\n",
       "       7764, 7778, 7802, 7812, 7818, 7827, 7847, 7857, 7873, 7879, 7886,\n",
       "       7890, 7907, 7916, 7925, 7943, 7953, 7960, 7971, 7983, 7995, 8011,\n",
       "       8023, 8034, 8041, 8054, 8060, 8068, 8073, 8094, 8102, 8114, 8124,\n",
       "       8133, 8139, 8152, 8159, 8163, 8178, 8192, 8196, 8214, 8227, 8231,\n",
       "       8238, 8243, 8248, 8254, 8279, 8287, 8298, 8309, 8327, 8331, 8340,\n",
       "       8346, 8355, 8366, 8374, 8381, 8388, 8395, 8409, 8418, 8425, 8437,\n",
       "       8441, 8447, 8458, 8469, 8476, 8486, 8490, 8498, 8517, 8524, 8532,\n",
       "       8540, 8554, 8566, 8572, 8588, 8599, 8610, 8618, 8625])"
      ]
     },
     "execution_count": 14,
     "metadata": {},
     "output_type": "execute_result"
    }
   ],
   "source": [
    "maximas"
   ]
  },
  {
   "cell_type": "code",
   "execution_count": 15,
   "metadata": {},
   "outputs": [
    {
     "data": {
      "text/plain": [
       "array([   2,    5,    8, ..., 8612, 8614, 8622])"
      ]
     },
     "execution_count": 15,
     "metadata": {},
     "output_type": "execute_result"
    }
   ],
   "source": [
    "minimas"
   ]
  },
  {
   "cell_type": "code",
   "execution_count": 16,
   "metadata": {},
   "outputs": [],
   "source": [
    "extremas = np.concatenate((maximas, minimas), axis=0)"
   ]
  },
  {
   "cell_type": "code",
   "execution_count": 17,
   "metadata": {},
   "outputs": [
    {
     "data": {
      "text/plain": [
       "array([   2,   11,   22, ..., 8612, 8614, 8622])"
      ]
     },
     "execution_count": 17,
     "metadata": {},
     "output_type": "execute_result"
    }
   ],
   "source": [
    "extremas"
   ]
  },
  {
   "cell_type": "code",
   "execution_count": 18,
   "metadata": {},
   "outputs": [],
   "source": [
    "sorted_extremas = np.sort(extremas) "
   ]
  },
  {
   "cell_type": "code",
   "execution_count": 19,
   "metadata": {},
   "outputs": [
    {
     "data": {
      "text/plain": [
       "array([   2,    2,    5, ..., 8618, 8622, 8625])"
      ]
     },
     "execution_count": 19,
     "metadata": {},
     "output_type": "execute_result"
    }
   ],
   "source": [
    "sorted_extremas"
   ]
  },
  {
   "cell_type": "code",
   "execution_count": 20,
   "metadata": {},
   "outputs": [
    {
     "name": "stderr",
     "output_type": "stream",
     "text": [
      "/Users/moussadiakite/Google_Drive/Projects/MInvest/Trazy/trazy_analysis/env/lib/python3.6/site-packages/matplotlib/cbook/__init__.py:1377: FutureWarning: Support for multi-dimensional indexing (e.g. `obj[:, None]`) is deprecated and will be removed in a future version.  Convert to a numpy array before indexing instead.\n",
      "  x[:, None]\n",
      "/Users/moussadiakite/Google_Drive/Projects/MInvest/Trazy/trazy_analysis/env/lib/python3.6/site-packages/matplotlib/axes/_base.py:237: FutureWarning: Support for multi-dimensional indexing (e.g. `obj[:, None]`) is deprecated and will be removed in a future version.  Convert to a numpy array before indexing instead.\n",
      "  x = x[:, np.newaxis]\n",
      "/Users/moussadiakite/Google_Drive/Projects/MInvest/Trazy/trazy_analysis/env/lib/python3.6/site-packages/matplotlib/axes/_base.py:239: FutureWarning: Support for multi-dimensional indexing (e.g. `obj[:, None]`) is deprecated and will be removed in a future version.  Convert to a numpy array before indexing instead.\n",
      "  y = y[:, np.newaxis]\n"
     ]
    },
    {
     "data": {
      "image/png": "[encoded data removed]",
      "text/plain": [
       "<Figure size 432x288 with 1 Axes>"
      ]
     },
     "metadata": {
      "needs_background": "light"
     },
     "output_type": "display_data"
    }
   ],
   "source": [
    "numeric_df['min'] = numeric_df.iloc[argrelextrema(x_min, np.less)[0]]['low']\n",
    "numeric_df['max'] = numeric_df.iloc[argrelextrema(x_max, np.greater)[0]]['high']\n",
    "\n",
    "# Plot results\n",
    "\n",
    "plt.scatter(numeric_df.index, numeric_df['min'], c='r')\n",
    "plt.scatter(numeric_df.index, numeric_df['max'], c='g')\n",
    "plt.plot(numeric_df.index, numeric_df['close'])\n",
    "plt.show()"
   ]
  },
  {
   "cell_type": "code",
   "execution_count": 21,
   "metadata": {},
   "outputs": [
    {
     "data": {
      "text/html": [
       "<div>\n",
       "<style scoped>\n",
       "    .dataframe tbody tr th:only-of-type {\n",
       "        vertical-align: middle;\n",
       "    }\n",
       "\n",
       "    .dataframe tbody tr th {\n",
       "        vertical-align: top;\n",
       "    }\n",
       "\n",
       "    .dataframe thead th {\n",
       "        text-align: right;\n",
       "    }\n",
       "</style>\n",
       "<table border=\"1\" class=\"dataframe\">\n",
       "  <thead>\n",
       "    <tr style=\"text-align: right;\">\n",
       "      <th></th>\n",
       "      <th>open</th>\n",
       "      <th>high</th>\n",
       "      <th>low</th>\n",
       "      <th>close</th>\n",
       "      <th>volume</th>\n",
       "      <th>date</th>\n",
       "      <th>min</th>\n",
       "      <th>max</th>\n",
       "    </tr>\n",
       "    <tr>\n",
       "      <th>timestamp</th>\n",
       "      <th></th>\n",
       "      <th></th>\n",
       "      <th></th>\n",
       "      <th></th>\n",
       "      <th></th>\n",
       "      <th></th>\n",
       "      <th></th>\n",
       "      <th></th>\n",
       "    </tr>\n",
       "  </thead>\n",
       "  <tbody>\n",
       "    <tr>\n",
       "      <th>2021-11-29 00:00:00+00:00</th>\n",
       "      <td>57274.89</td>\n",
       "      <td>57432.50</td>\n",
       "      <td>57274.88</td>\n",
       "      <td>57415.37</td>\n",
       "      <td>99.98015</td>\n",
       "      <td>738123.000000</td>\n",
       "      <td>NaN</td>\n",
       "      <td>NaN</td>\n",
       "    </tr>\n",
       "    <tr>\n",
       "      <th>2021-11-29 00:01:00+00:00</th>\n",
       "      <td>57415.37</td>\n",
       "      <td>57487.24</td>\n",
       "      <td>57371.95</td>\n",
       "      <td>57446.34</td>\n",
       "      <td>59.95392</td>\n",
       "      <td>738123.000694</td>\n",
       "      <td>NaN</td>\n",
       "      <td>NaN</td>\n",
       "    </tr>\n",
       "    <tr>\n",
       "      <th>2021-11-29 00:02:00+00:00</th>\n",
       "      <td>57443.86</td>\n",
       "      <td>57495.00</td>\n",
       "      <td>57361.69</td>\n",
       "      <td>57459.01</td>\n",
       "      <td>87.33599</td>\n",
       "      <td>738123.001389</td>\n",
       "      <td>57361.69</td>\n",
       "      <td>57495.00</td>\n",
       "    </tr>\n",
       "    <tr>\n",
       "      <th>2021-11-29 00:03:00+00:00</th>\n",
       "      <td>57451.77</td>\n",
       "      <td>57481.34</td>\n",
       "      <td>57407.25</td>\n",
       "      <td>57470.61</td>\n",
       "      <td>60.91451</td>\n",
       "      <td>738123.002083</td>\n",
       "      <td>NaN</td>\n",
       "      <td>NaN</td>\n",
       "    </tr>\n",
       "    <tr>\n",
       "      <th>2021-11-29 00:04:00+00:00</th>\n",
       "      <td>57470.61</td>\n",
       "      <td>57489.11</td>\n",
       "      <td>57351.51</td>\n",
       "      <td>57362.47</td>\n",
       "      <td>70.33443</td>\n",
       "      <td>738123.002778</td>\n",
       "      <td>NaN</td>\n",
       "      <td>57489.11</td>\n",
       "    </tr>\n",
       "  </tbody>\n",
       "</table>\n",
       "</div>"
      ],
      "text/plain": [
       "                               open      high       low     close    volume  \\\n",
       "timestamp                                                                     \n",
       "2021-11-29 00:00:00+00:00  57274.89  57432.50  57274.88  57415.37  99.98015   \n",
       "2021-11-29 00:01:00+00:00  57415.37  57487.24  57371.95  57446.34  59.95392   \n",
       "2021-11-29 00:02:00+00:00  57443.86  57495.00  57361.69  57459.01  87.33599   \n",
       "2021-11-29 00:03:00+00:00  57451.77  57481.34  57407.25  57470.61  60.91451   \n",
       "2021-11-29 00:04:00+00:00  57470.61  57489.11  57351.51  57362.47  70.33443   \n",
       "\n",
       "                                    date       min       max  \n",
       "timestamp                                                     \n",
       "2021-11-29 00:00:00+00:00  738123.000000       NaN       NaN  \n",
       "2021-11-29 00:01:00+00:00  738123.000694       NaN       NaN  \n",
       "2021-11-29 00:02:00+00:00  738123.001389  57361.69  57495.00  \n",
       "2021-11-29 00:03:00+00:00  738123.002083       NaN       NaN  \n",
       "2021-11-29 00:04:00+00:00  738123.002778       NaN  57489.11  "
      ]
     },
     "execution_count": 21,
     "metadata": {},
     "output_type": "execute_result"
    }
   ],
   "source": [
    "numeric_df.head()"
   ]
  },
  {
   "cell_type": "code",
   "execution_count": 22,
   "metadata": {},
   "outputs": [
    {
     "data": {
      "text/html": [
       "<div>\n",
       "<style scoped>\n",
       "    .dataframe tbody tr th:only-of-type {\n",
       "        vertical-align: middle;\n",
       "    }\n",
       "\n",
       "    .dataframe tbody tr th {\n",
       "        vertical-align: top;\n",
       "    }\n",
       "\n",
       "    .dataframe thead th {\n",
       "        text-align: right;\n",
       "    }\n",
       "</style>\n",
       "<table border=\"1\" class=\"dataframe\">\n",
       "  <thead>\n",
       "    <tr style=\"text-align: right;\">\n",
       "      <th></th>\n",
       "      <th>open</th>\n",
       "      <th>high</th>\n",
       "      <th>low</th>\n",
       "      <th>close</th>\n",
       "      <th>volume</th>\n",
       "      <th>date</th>\n",
       "      <th>min</th>\n",
       "      <th>max</th>\n",
       "    </tr>\n",
       "    <tr>\n",
       "      <th>timestamp</th>\n",
       "      <th></th>\n",
       "      <th></th>\n",
       "      <th></th>\n",
       "      <th></th>\n",
       "      <th></th>\n",
       "      <th></th>\n",
       "      <th></th>\n",
       "      <th></th>\n",
       "    </tr>\n",
       "  </thead>\n",
       "  <tbody>\n",
       "    <tr>\n",
       "      <th>2021-11-29 00:00:00+00:00</th>\n",
       "      <td>57274.89</td>\n",
       "      <td>57432.50</td>\n",
       "      <td>57274.88</td>\n",
       "      <td>57415.37</td>\n",
       "      <td>99.98015</td>\n",
       "      <td>738123.000000</td>\n",
       "      <td>NaN</td>\n",
       "      <td>NaN</td>\n",
       "    </tr>\n",
       "    <tr>\n",
       "      <th>2021-11-29 00:01:00+00:00</th>\n",
       "      <td>57415.37</td>\n",
       "      <td>57487.24</td>\n",
       "      <td>57371.95</td>\n",
       "      <td>57446.34</td>\n",
       "      <td>59.95392</td>\n",
       "      <td>738123.000694</td>\n",
       "      <td>NaN</td>\n",
       "      <td>NaN</td>\n",
       "    </tr>\n",
       "    <tr>\n",
       "      <th>2021-11-29 00:02:00+00:00</th>\n",
       "      <td>57443.86</td>\n",
       "      <td>57495.00</td>\n",
       "      <td>57361.69</td>\n",
       "      <td>57459.01</td>\n",
       "      <td>87.33599</td>\n",
       "      <td>738123.001389</td>\n",
       "      <td>57361.69</td>\n",
       "      <td>57495.00</td>\n",
       "    </tr>\n",
       "    <tr>\n",
       "      <th>2021-11-29 00:03:00+00:00</th>\n",
       "      <td>57451.77</td>\n",
       "      <td>57481.34</td>\n",
       "      <td>57407.25</td>\n",
       "      <td>57470.61</td>\n",
       "      <td>60.91451</td>\n",
       "      <td>738123.002083</td>\n",
       "      <td>NaN</td>\n",
       "      <td>NaN</td>\n",
       "    </tr>\n",
       "    <tr>\n",
       "      <th>2021-11-29 00:04:00+00:00</th>\n",
       "      <td>57470.61</td>\n",
       "      <td>57489.11</td>\n",
       "      <td>57351.51</td>\n",
       "      <td>57362.47</td>\n",
       "      <td>70.33443</td>\n",
       "      <td>738123.002778</td>\n",
       "      <td>NaN</td>\n",
       "      <td>57489.11</td>\n",
       "    </tr>\n",
       "    <tr>\n",
       "      <th>...</th>\n",
       "      <td>...</td>\n",
       "      <td>...</td>\n",
       "      <td>...</td>\n",
       "      <td>...</td>\n",
       "      <td>...</td>\n",
       "      <td>...</td>\n",
       "      <td>...</td>\n",
       "      <td>...</td>\n",
       "    </tr>\n",
       "    <tr>\n",
       "      <th>2021-12-04 23:43:00+00:00</th>\n",
       "      <td>48978.03</td>\n",
       "      <td>49039.82</td>\n",
       "      <td>48978.01</td>\n",
       "      <td>49039.81</td>\n",
       "      <td>13.38917</td>\n",
       "      <td>738128.988194</td>\n",
       "      <td>NaN</td>\n",
       "      <td>NaN</td>\n",
       "    </tr>\n",
       "    <tr>\n",
       "      <th>2021-12-04 23:44:00+00:00</th>\n",
       "      <td>49039.81</td>\n",
       "      <td>49105.36</td>\n",
       "      <td>49009.42</td>\n",
       "      <td>49089.45</td>\n",
       "      <td>25.48981</td>\n",
       "      <td>738128.988889</td>\n",
       "      <td>NaN</td>\n",
       "      <td>NaN</td>\n",
       "    </tr>\n",
       "    <tr>\n",
       "      <th>2021-12-04 23:45:00+00:00</th>\n",
       "      <td>49089.45</td>\n",
       "      <td>49123.75</td>\n",
       "      <td>49069.51</td>\n",
       "      <td>49114.74</td>\n",
       "      <td>23.63911</td>\n",
       "      <td>738128.989583</td>\n",
       "      <td>NaN</td>\n",
       "      <td>49123.75</td>\n",
       "    </tr>\n",
       "    <tr>\n",
       "      <th>2021-12-04 23:46:00+00:00</th>\n",
       "      <td>49114.73</td>\n",
       "      <td>49120.01</td>\n",
       "      <td>49069.47</td>\n",
       "      <td>49080.01</td>\n",
       "      <td>18.28564</td>\n",
       "      <td>738128.990278</td>\n",
       "      <td>NaN</td>\n",
       "      <td>NaN</td>\n",
       "    </tr>\n",
       "    <tr>\n",
       "      <th>2021-12-04 23:47:00+00:00</th>\n",
       "      <td>49080.00</td>\n",
       "      <td>49095.85</td>\n",
       "      <td>49023.00</td>\n",
       "      <td>49023.00</td>\n",
       "      <td>8.37183</td>\n",
       "      <td>738128.990972</td>\n",
       "      <td>NaN</td>\n",
       "      <td>NaN</td>\n",
       "    </tr>\n",
       "  </tbody>\n",
       "</table>\n",
       "<p>8628 rows × 8 columns</p>\n",
       "</div>"
      ],
      "text/plain": [
       "                               open      high       low     close    volume  \\\n",
       "timestamp                                                                     \n",
       "2021-11-29 00:00:00+00:00  57274.89  57432.50  57274.88  57415.37  99.98015   \n",
       "2021-11-29 00:01:00+00:00  57415.37  57487.24  57371.95  57446.34  59.95392   \n",
       "2021-11-29 00:02:00+00:00  57443.86  57495.00  57361.69  57459.01  87.33599   \n",
       "2021-11-29 00:03:00+00:00  57451.77  57481.34  57407.25  57470.61  60.91451   \n",
       "2021-11-29 00:04:00+00:00  57470.61  57489.11  57351.51  57362.47  70.33443   \n",
       "...                             ...       ...       ...       ...       ...   \n",
       "2021-12-04 23:43:00+00:00  48978.03  49039.82  48978.01  49039.81  13.38917   \n",
       "2021-12-04 23:44:00+00:00  49039.81  49105.36  49009.42  49089.45  25.48981   \n",
       "2021-12-04 23:45:00+00:00  49089.45  49123.75  49069.51  49114.74  23.63911   \n",
       "2021-12-04 23:46:00+00:00  49114.73  49120.01  49069.47  49080.01  18.28564   \n",
       "2021-12-04 23:47:00+00:00  49080.00  49095.85  49023.00  49023.00   8.37183   \n",
       "\n",
       "                                    date       min       max  \n",
       "timestamp                                                     \n",
       "2021-11-29 00:00:00+00:00  738123.000000       NaN       NaN  \n",
       "2021-11-29 00:01:00+00:00  738123.000694       NaN       NaN  \n",
       "2021-11-29 00:02:00+00:00  738123.001389  57361.69  57495.00  \n",
       "2021-11-29 00:03:00+00:00  738123.002083       NaN       NaN  \n",
       "2021-11-29 00:04:00+00:00  738123.002778       NaN  57489.11  \n",
       "...                                  ...       ...       ...  \n",
       "2021-12-04 23:43:00+00:00  738128.988194       NaN       NaN  \n",
       "2021-12-04 23:44:00+00:00  738128.988889       NaN       NaN  \n",
       "2021-12-04 23:45:00+00:00  738128.989583       NaN  49123.75  \n",
       "2021-12-04 23:46:00+00:00  738128.990278       NaN       NaN  \n",
       "2021-12-04 23:47:00+00:00  738128.990972       NaN       NaN  \n",
       "\n",
       "[8628 rows x 8 columns]"
      ]
     },
     "execution_count": 22,
     "metadata": {},
     "output_type": "execute_result"
    }
   ],
   "source": [
    "numeric_df"
   ]
  },
  {
   "cell_type": "code",
   "execution_count": null,
   "metadata": {},
   "outputs": [],
   "source": [
    "type(numeric_df['close'].iloc[0])"
   ]
  },
  {
   "cell_type": "code",
   "execution_count": null,
   "metadata": {},
   "outputs": [],
   "source": [
    "numeric_df['close'].iloc[sorted_extremas]"
   ]
  },
  {
   "cell_type": "code",
   "execution_count": null,
   "metadata": {},
   "outputs": [],
   "source": []
  },
  {
   "cell_type": "code",
   "execution_count": null,
   "metadata": {},
   "outputs": [],
   "source": [
    "ave =  np.mean(numeric_df['high'] - numeric_df['low']) / 4\n",
    "\n",
    "# a list to store resistance and support levels\n",
    "class Level:\n",
    "    def __init__(self, index, level, level_type):\n",
    "        self.index = index\n",
    "        self.level = level\n",
    "        self.level_type = level_type\n",
    "\n",
    "    def __hash__(self):\n",
    "        return 0\n",
    "\n",
    "    def __eq__(self, other):\n",
    "        return self.level_type == other.level_type and abs(self.level - other.level) < ave\n",
    "    \n",
    "    def __str__(self):\n",
    "        return f\"({self.index}, {self.level}, {self.level_type})\"\n",
    "\n",
    "\n",
    "class LevelInfo:\n",
    "    def __init__(self):\n",
    "        self.min_value = float(\"inf\")\n",
    "        self.max_value = float(\"-inf\")\n",
    "        self.power = 0\n",
    "    \n",
    "    def update(self, value):\n",
    "        self.min_value = min(self.min_value, value)\n",
    "        self.max_value = max(self.max_value, value)\n",
    "        self.power += 1\n",
    "    \n",
    "    def __str__(self):\n",
    "        return f\"power: {self.power}, range: [{self.min_value}, {self.max_value}]\"\n",
    "\n",
    "levels = {}\n",
    "\n",
    "for i in minimas:\n",
    "    low = numeric_df['low'].iloc[i]\n",
    "    level = Level(i, low, \"support\")\n",
    "    print(f\"Take into account {str(level)}\")\n",
    "    keys = list(levels.keys())\n",
    "    matches = [str(key) for key in keys if key == level]\n",
    "    print(f\"matches = {matches}\")\n",
    "    level_info = levels.get(level, LevelInfo())\n",
    "    level_info.update(level.level)\n",
    "    levels.update({level: level_info})\n",
    "    print({str(level): str(level_info) for level, level_info in levels.items()})\n",
    "\n",
    "print(\"----------------------------------------------------------\")\n",
    "for i in maximas:\n",
    "    high = numeric_df['high'].iloc[i]\n",
    "    level = Level(i, high, \"resistance\")\n",
    "    print(f\"Take into account {str(level)}: {str(level)}\")\n",
    "    keys = list(levels.keys())\n",
    "    matches = [str(key) for key in keys if key == level]\n",
    "    print(f\"matches = {matches}\")\n",
    "    level_info = levels.get(level, LevelInfo())\n",
    "    level_info.update(level.level)\n",
    "    levels.update({level: level_info})\n",
    "    print({str(level): str(level_info) for level, power in levels.items()})"
   ]
  },
  {
   "cell_type": "code",
   "execution_count": null,
   "metadata": {},
   "outputs": [],
   "source": [
    "ave"
   ]
  },
  {
   "cell_type": "code",
   "execution_count": null,
   "metadata": {},
   "outputs": [],
   "source": [
    "numeric_df.values"
   ]
  },
  {
   "cell_type": "code",
   "execution_count": null,
   "metadata": {},
   "outputs": [],
   "source": [
    "# determine bearish fractal\n",
    "def is_resistance(df,i):  \n",
    "  cond1 = df['high'][i] >= df['high'][i-1]   \n",
    "  cond2 = df['high'][i] >= df['high'][i+1]   \n",
    "  cond3 = df['high'][i+1] >= df['high'][i+2]   \n",
    "  cond4 = df['high'][i-1] >= df['high'][i-2]  \n",
    "  cond5 = True#df['high'][i+2] > df['high'][i+3]   \n",
    "  cond6 = True#df['high'][i-2] > df['high'][i-3]  \n",
    "  return (cond1 and cond2 and cond3 and cond4 and cond5 and cond6)\n",
    "\n",
    "# a list to store resistance and support levels\n",
    "levels = []\n",
    "for i in range(2, numeric_df.shape[0] - 2):  \n",
    "  if is_resistance(numeric_df, i):    \n",
    "    high = numeric_df['high'][i]         \n",
    "    levels.append((i, high))"
   ]
  },
  {
   "cell_type": "code",
   "execution_count": null,
   "metadata": {},
   "outputs": [],
   "source": [
    "levels"
   ]
  },
  {
   "cell_type": "code",
   "execution_count": null,
   "metadata": {},
   "outputs": [],
   "source": [
    "#method 1: fractal candlestick pattern\n",
    "# determine bullish fractal \n",
    "def is_support(df,i):  \n",
    "  cond1 = df['low'][i] < df['low'][i-1]   \n",
    "  cond2 = df['low'][i] < df['low'][i+1]   \n",
    "  cond3 = df['low'][i] < df['low'][i+2]   \n",
    "  cond4 = df['low'][i] < df['low'][i-2]  \n",
    "  return (cond1 and cond2 and cond3 and cond4) \n",
    "# determine bearish fractal\n",
    "def is_resistance(df,i):  \n",
    "  cond1 = df['high'][i] > df['high'][i-1]   \n",
    "  cond2 = df['high'][i] > df['high'][i+1]   \n",
    "  cond3 = df['high'][i] > df['high'][i+2]   \n",
    "  cond4 = df['high'][i] > df['high'][i-2]  \n",
    "  return (cond1 and cond2 and cond3 and cond4)\n",
    "# to make sure the new level area does not exist already\n",
    "\n",
    "levels_power = []\n",
    "ave =  np.mean(numeric_df['high'] - numeric_df['low']) / 2\n",
    "def is_far_from_level(value, levels, df):  \n",
    "  return np.sum([abs(value-level) < ave for _,level in levels])==0\n",
    "\n",
    "# a list to store resistance and support levels\n",
    "levels = {}\n",
    "for i in range(2, numeric_df.shape[0] - 2):  \n",
    "    if is_support(numeric_df, i):    \n",
    "        low = numeric_df['low'][i]    \n",
    "        level = Level(i, low, \"support\")\n",
    "        level_info = levels.get(level, LevelInfo())\n",
    "        level_info.update(level.level)\n",
    "        levels.update({level: level_info})\n",
    "    elif is_resistance(numeric_df, i):    \n",
    "        high = numeric_df['high'][i]    \n",
    "        #if is_far_from_level(high, levels, numeric_df):      \n",
    "        level = Level(i, high, \"resistance\")\n",
    "        level_info = levels.get(level, LevelInfo())\n",
    "        level_info.update(level.level)\n",
    "        levels.update({level: level_info})"
   ]
  },
  {
   "cell_type": "code",
   "execution_count": null,
   "metadata": {},
   "outputs": [],
   "source": [
    "ave"
   ]
  },
  {
   "cell_type": "code",
   "execution_count": null,
   "metadata": {},
   "outputs": [],
   "source": [
    "{str(level): str(level_info) for level, level_info in levels.items()}"
   ]
  },
  {
   "cell_type": "code",
   "execution_count": null,
   "metadata": {},
   "outputs": [],
   "source": [
    "!pip install intervaltree"
   ]
  },
  {
   "cell_type": "code",
   "execution_count": 25,
   "metadata": {},
   "outputs": [],
   "source": [
    " from intervaltree import Interval, IntervalTree"
   ]
  },
  {
   "cell_type": "code",
   "execution_count": null,
   "metadata": {},
   "outputs": [],
   "source": [
    "supports = IntervalTree()\n",
    "resistances = IntervalTree()"
   ]
  },
  {
   "cell_type": "code",
   "execution_count": null,
   "metadata": {},
   "outputs": [],
   "source": [
    "t = IntervalTree()"
   ]
  },
  {
   "cell_type": "code",
   "execution_count": null,
   "metadata": {},
   "outputs": [],
   "source": [
    "t[1:3] = \"2\""
   ]
  },
  {
   "cell_type": "code",
   "execution_count": null,
   "metadata": {},
   "outputs": [],
   "source": [
    "len(t[2])"
   ]
  },
  {
   "cell_type": "code",
   "execution_count": null,
   "metadata": {},
   "outputs": [],
   "source": [
    "t.removei(1, 3, \"2\")"
   ]
  },
  {
   "cell_type": "code",
   "execution_count": null,
   "metadata": {},
   "outputs": [],
   "source": [
    "for level, level_info in levels.items():\n",
    "    min_value = level_info.min_value\n",
    "    max_value = level_info.max_value\n",
    "    print(f\"min = {min_value}, max = {max_value}\")\n",
    "    if level.level_type == 'support':\n",
    "        left = min_value\n",
    "        if min_value < max_value:\n",
    "            right = max_value\n",
    "        else:\n",
    "            right = min_value + 0.0000001\n",
    "        supports[left:right] = (level, level_info)\n",
    "    elif level.level_type == 'resistance':\n",
    "        right = max_value\n",
    "        if min_value < max_value:\n",
    "            left = min_value\n",
    "        else:\n",
    "            left = max_value - 0.0000001\n",
    "        resistances[left:right] = (level, level_info)"
   ]
  },
  {
   "cell_type": "code",
   "execution_count": null,
   "metadata": {},
   "outputs": [],
   "source": [
    "ave"
   ]
  },
  {
   "cell_type": "code",
   "execution_count": null,
   "metadata": {},
   "outputs": [],
   "source": [
    "support_range_values = [(level_info.min_value, level_info.max_value) for level, level_info in levels.items() if level.level_type == 'support']\n",
    "resistance_range_values = [(level_info.min_value, level_info.max_value) for level, level_info in levels.items() if level.level_type == 'resistance']\n",
    "support_indexes = [level.index for level, level_info in levels.items() if level.level_type == 'support']\n",
    "resistance_indexes = [level.index for level, level_info in levels.items() if level.level_type == 'resistance']"
   ]
  },
  {
   "cell_type": "code",
   "execution_count": null,
   "metadata": {},
   "outputs": [],
   "source": [
    "support_min_values = [range_value[0] for range_value in support_range_values]\n",
    "support_max_values = [range_value[1] for range_value in support_range_values]\n",
    "resistance_min_values = [range_value[0] for range_value in resistance_range_values]\n",
    "resistance_max_values = [range_value[1] for range_value in resistance_range_values]"
   ]
  },
  {
   "cell_type": "code",
   "execution_count": null,
   "metadata": {},
   "outputs": [],
   "source": [
    "support_values = [value for value_range in support_range_values for value in value_range]\n",
    "resistance_values = [value for value_range in resistance_range_values for value in value_range]"
   ]
  },
  {
   "cell_type": "code",
   "execution_count": null,
   "metadata": {},
   "outputs": [],
   "source": [
    "levels_min_values = support_min_values + resistance_min_values\n",
    "levels_max_values = support_max_values + resistance_max_values\n",
    "levels_values = support_values + resistance_values"
   ]
  },
  {
   "cell_type": "code",
   "execution_count": null,
   "metadata": {},
   "outputs": [],
   "source": [
    "levels_min_values"
   ]
  },
  {
   "cell_type": "code",
   "execution_count": null,
   "metadata": {},
   "outputs": [],
   "source": [
    "levels_max_values"
   ]
  },
  {
   "cell_type": "code",
   "execution_count": null,
   "metadata": {},
   "outputs": [],
   "source": [
    "levels_values"
   ]
  },
  {
   "cell_type": "code",
   "execution_count": null,
   "metadata": {},
   "outputs": [],
   "source": [
    "import matplotlib.colors as mcolors\n",
    "import seaborn as sns\n",
    "color_palette = sns.color_palette(\"husl\", len(levels_values) // 2)\n",
    "colors = [[mcolors.to_hex(c)] * 2 for c in color_palette]\n",
    "colors = [color for color_tuple in colors for color in color_tuple]"
   ]
  },
  {
   "cell_type": "code",
   "execution_count": null,
   "metadata": {},
   "outputs": [],
   "source": [
    "colors = ['r'] * len(support_values) + ['g'] * len(resistance_values)"
   ]
  },
  {
   "cell_type": "code",
   "execution_count": null,
   "metadata": {},
   "outputs": [],
   "source": [
    "colors"
   ]
  },
  {
   "cell_type": "code",
   "execution_count": null,
   "metadata": {},
   "outputs": [],
   "source": [
    "s = mpf.make_mpf_style(base_mpf_style='charles', rc={'font.size': 6})\n",
    "fig = mpf.figure(figsize=(16, 9), style=s)\n",
    "ax = fig.add_subplot(1,1,1) # main candle stick chart subplot, you can also pass in the self defined style here only for this subplot\n",
    "#av = fig.add_subplot(2,1,2, sharex=ax)  # volume chart subplot\n",
    "levels_ranges_len = len(levels_min_values)\n",
    "for i in range(0, len(support_min_values)):\n",
    "    ax.fill_between(x=range(support_indexes[i], len(numeric_df)), y1=support_min_values[i], y2=support_max_values[i], color='r', alpha=0.20)\n",
    "for i in range(0, len(resistance_min_values)):\n",
    "    ax.fill_between(x=range(resistance_indexes[i], len(numeric_df)), y1=resistance_min_values[i], y2=resistance_max_values[i], color='g', alpha=0.20)\n",
    "mpf.plot(\n",
    "    numeric_df,\n",
    "    #hlines=dict(hlines=levels_values,colors=colors,linestyle='-.'),\n",
    "    #fill_between=dict(y1=[65500], y2=[65600], color='#f2ad73', alpha=0.20),\n",
    "    type='candle',\n",
    "    #title='BTC-USDT',\n",
    "    mav=(25),\n",
    "    volume=False,\n",
    "    ax=ax\n",
    ")"
   ]
  },
  {
   "cell_type": "code",
   "execution_count": null,
   "metadata": {},
   "outputs": [],
   "source": [
    "def is_consiladating(df):\n",
    "    recent_candlesticks = df[-4:]\n",
    "    print(recent_candlesticks)\n",
    "    \n",
    "    max_close = recent_candlesticks[\"close\"].max()\n",
    "    min_close = recent_candlesticks[\"close\"].min()\n",
    "    \n",
    "    print(\"The max close was {} and the min close was {}\".format(max_close, min_close))\n",
    "    \n",
    "    return min_close > (max_close * 0.995)"
   ]
  },
  {
   "cell_type": "code",
   "execution_count": null,
   "metadata": {
    "scrolled": true
   },
   "outputs": [],
   "source": [
    "is_consiladating(numeric_df)"
   ]
  },
  {
   "cell_type": "code",
   "execution_count": 27,
   "metadata": {},
   "outputs": [],
   "source": [
    "class TradingRange:\n",
    "    def __init__(self, start_index, end_index, low, high):\n",
    "        self.min_value = low\n",
    "        self.max_value = high\n",
    "        self.start_index = start_index\n",
    "        self.end_index = end_index\n",
    "        self.length = self.end_index - self.start_index + 1\n",
    "    \n",
    "    def __str__(self):\n",
    "        return f\"index range: [{self.start_index}, {self.end_index}], range: [{self.min_value}, {self.max_value}]\""
   ]
  },
  {
   "cell_type": "code",
   "execution_count": null,
   "metadata": {},
   "outputs": [],
   "source": [
    "\n",
    "trading_ranges = IntervalTree()"
   ]
  },
  {
   "cell_type": "code",
   "execution_count": null,
   "metadata": {},
   "outputs": [],
   "source": [
    "t = IntervalTree()\n",
    "t[2:4] = 2\n",
    "t[2:4.01] = 3\n",
    "t[4]"
   ]
  },
  {
   "cell_type": "code",
   "execution_count": null,
   "metadata": {},
   "outputs": [],
   "source": [
    "[i for i in range (1, 10)][2:6]"
   ]
  },
  {
   "cell_type": "code",
   "execution_count": null,
   "metadata": {},
   "outputs": [],
   "source": [
    "recent_candlesticks = numeric_df[434:439]\n",
    "max_close = recent_candlesticks[\"close\"].max()\n",
    "min_close = recent_candlesticks[\"close\"].min()\n",
    "min_close > (max_close * 0.99)"
   ]
  },
  {
   "cell_type": "code",
   "execution_count": null,
   "metadata": {},
   "outputs": [],
   "source": [
    "length = 5\n",
    "indexes = [False] * length\n",
    "tighness = 0.99\n",
    "trading_ranges = IntervalTree()\n",
    "for i in range(length - 1, len(numeric_df) - 1):\n",
    "    recent_candlesticks = numeric_df[i + 1 - length: i + 1]\n",
    "    #print(recent_candlesticks)\n",
    "    \n",
    "    max_close = recent_candlesticks[\"close\"].max()\n",
    "    min_close = recent_candlesticks[\"close\"].min()\n",
    "    print(\"The max close was {} and the min close was {}\".format(max_close, min_close))\n",
    "    if min_close > (max_close * tighness):\n",
    "        start_index = i + 1 - length\n",
    "        end_index = i\n",
    "        min_low = recent_candlesticks[\"low\"].min()\n",
    "        max_high = recent_candlesticks[\"high\"].max()\n",
    "        trading_range = TradingRange(start_index, end_index, min_low, max_high)\n",
    "        trading_ranges[start_index:end_index + 1] = trading_range\n",
    "    indexes.append(min_close > (max_close * tighness))"
   ]
  },
  {
   "cell_type": "code",
   "execution_count": null,
   "metadata": {},
   "outputs": [],
   "source": [
    "length = 5\n",
    "indexes = [False] * length\n",
    "tighness = 0.99\n",
    "trading_ranges = IntervalTree()\n",
    "\n",
    "def is_inside_bar(previous_low, previous_high, low, high):\n",
    "    return low > previous_low and high < previous_high\n",
    "\n",
    "\n",
    "def is_outside_bar(previous_low, previous_high, low, high):\n",
    "    return is_inside_bar(low, high, previous_low, previous_high)\n",
    "    \n",
    "for i in range(1, len(numeric_df)):\n",
    "    previous_candle = numeric_df.iloc[i - 1]\n",
    "    candle = numeric_df.iloc[i]\n",
    "    previous_low = previous_candle[\"low\"]\n",
    "    previous_high = previous_candle[\"high\"]\n",
    "    low = candle[\"low\"]\n",
    "    high = candle[\"high\"]\n",
    "    if is_inside_bar(previous_low, previous_high, low, high) or \\\n",
    "       is_outside_bar(previous_low, previous_high, low, high):\n",
    "        start_index = i - 1\n",
    "        end_index = i\n",
    "        min_low = min(previous_low, low)\n",
    "        max_high = max(previous_high, high)\n",
    "        trading_range = TradingRange(start_index, end_index, min_low, max_high)\n",
    "        trading_ranges[start_index:end_index + 1] = trading_range"
   ]
  },
  {
   "cell_type": "code",
   "execution_count": null,
   "metadata": {},
   "outputs": [],
   "source": [
    "t = IntervalTree()"
   ]
  },
  {
   "cell_type": "code",
   "execution_count": null,
   "metadata": {},
   "outputs": [],
   "source": [
    "t[2: 5] = 1\n",
    "t[3: 4] = 2"
   ]
  },
  {
   "cell_type": "code",
   "execution_count": null,
   "metadata": {},
   "outputs": [],
   "source": [
    "t"
   ]
  },
  {
   "cell_type": "code",
   "execution_count": null,
   "metadata": {},
   "outputs": [],
   "source": [
    "def maxOverlap(start,end):\n",
    "    n= len(start)\n",
    "    maxa = max(start)# Finding maximum starting time\n",
    "    maxb = max(end)  # Finding maximum ending time\n",
    "    maxc=max(maxa,maxb)\n",
    "    x = (maxc+2)*[0]\n",
    "    cur=0; idx=0\n",
    "  \n",
    "    for i in range(0,n) :# CREATING AN AUXILIARY ARRAY\n",
    "        x[start[i]]+=1 # Lazy addition\n",
    "        x[end[i]+1]-=1\n",
    "       \n",
    "    maxy=-1\n",
    "    #Lazily Calculating value at index i\n",
    "    for i in range(0,maxc+1):\n",
    "        cur+=x[i]\n",
    "        if maxy<cur :\n",
    "            maxy=cur\n",
    "            idx=i\n",
    "    return  maxy\n",
    "    print(\"Maximum value is: {0:d}\".format(maxy),\n",
    "                     \" at position: {0:d}\".format(idx))"
   ]
  },
  {
   "cell_type": "code",
   "execution_count": 23,
   "metadata": {},
   "outputs": [],
   "source": [
    "def overlap(v):\n",
    "  \n",
    "    # variable to store the maximum\n",
    "    # count\n",
    "    ans = 0\n",
    "    count = 0\n",
    "    data = []\n",
    "  \n",
    "    # storing the x and y\n",
    "    # coordinates in data vector\n",
    "    for i in range(len(v)):\n",
    "  \n",
    "        # pushing the x coordinate\n",
    "        data.append([v[i][0], 'x'])\n",
    "  \n",
    "        # pushing the y coordinate\n",
    "        data.append([v[i][1], 'y'])\n",
    "  \n",
    "    # sorting of ranges\n",
    "    data = sorted(data)\n",
    "  \n",
    "    # Traverse the data vector to\n",
    "    # count number of overlaps\n",
    "    for i in range(len(data)):\n",
    "  \n",
    "        # if x occur it means a new range\n",
    "        # is added so we increase count\n",
    "        if (data[i][1] == 'x'):\n",
    "            count += 1\n",
    "  \n",
    "        # if y occur it means a range\n",
    "        # is ended so we decrease count\n",
    "        if (data[i][1] == 'y'):\n",
    "            count -= 1\n",
    "  \n",
    "        # updating the value of ans\n",
    "        # after every traversal\n",
    "        ans = max(ans, count)\n",
    "  \n",
    "    # printing the maximum value\n",
    "    return ans"
   ]
  },
  {
   "cell_type": "code",
   "execution_count": null,
   "metadata": {},
   "outputs": [],
   "source": [
    "intervals = [(2.1, 6), (4,7), (9, 11), (3, 8)]\n",
    "start = [interval[0] for interval in intervals]\n",
    "end = [interval[1] for interval in intervals]\n",
    "overlap(intervals)"
   ]
  },
  {
   "cell_type": "code",
   "execution_count": 30,
   "metadata": {
    "scrolled": true
   },
   "outputs": [],
   "source": [
    "length = 10\n",
    "indexes = [False] * length\n",
    "min_overlaps = 10\n",
    "trading_ranges = IntervalTree()\n",
    "    \n",
    "for i in range(length - 1, len(numeric_df) - 1):\n",
    "    recent_candlesticks = numeric_df[i + 1 - length: i + 1]\n",
    "    intervals = [(min(row[\"open\"], row[\"close\"]), max(row[\"open\"], row[\"close\"]))  for index, row in recent_candlesticks.iterrows()]\n",
    "    start = [interval[0] for interval in intervals]\n",
    "    end = [interval[1] for interval in intervals]\n",
    "    overlaps = overlap(intervals)\n",
    "    if overlaps >= min_overlaps:\n",
    "        start_index = i + 1 - length\n",
    "        end_index = i\n",
    "        min_low = recent_candlesticks[\"low\"].min()\n",
    "        max_high = recent_candlesticks[\"high\"].max()\n",
    "        trading_range = TradingRange(start_index, end_index, min_low, max_high)\n",
    "        trading_ranges[start_index:end_index + 1] = trading_range"
   ]
  },
  {
   "cell_type": "code",
   "execution_count": 34,
   "metadata": {},
   "outputs": [
    {
     "name": "stdout",
     "output_type": "stream",
     "text": [
      "2021-12-04 21:12:00+00:00: index range: [8462, 8471], range: [48928.01, 49210.64]\n",
      "                               open      high       low     close    volume  \\\n",
      "timestamp                                                                     \n",
      "2021-12-04 21:02:00+00:00  49205.00  49205.00  49120.82  49135.32  25.25826   \n",
      "2021-12-04 21:03:00+00:00  49135.26  49210.64  49135.26  49181.50  24.54924   \n",
      "2021-12-04 21:04:00+00:00  49181.49  49198.81  49100.01  49107.00  20.07389   \n",
      "2021-12-04 21:05:00+00:00  49107.00  49169.05  49104.10  49166.55  22.48446   \n",
      "2021-12-04 21:06:00+00:00  49166.55  49174.84  49116.44  49144.08  21.12189   \n",
      "2021-12-04 21:07:00+00:00  49144.47  49160.37  49105.87  49121.02  21.91763   \n",
      "2021-12-04 21:08:00+00:00  49121.01  49182.00  49080.01  49162.41  22.84226   \n",
      "2021-12-04 21:09:00+00:00  49162.41  49198.12  49108.85  49108.86  16.63171   \n",
      "2021-12-04 21:10:00+00:00  49108.85  49179.60  49102.01  49158.39  22.02259   \n",
      "2021-12-04 21:11:00+00:00  49158.38  49160.19  48928.01  49020.81  83.29263   \n",
      "\n",
      "                                    date       min       max  \n",
      "timestamp                                                     \n",
      "2021-12-04 21:02:00+00:00  738128.876389  49120.82       NaN  \n",
      "2021-12-04 21:03:00+00:00  738128.877083       NaN  49210.64  \n",
      "2021-12-04 21:04:00+00:00  738128.877778  49100.01       NaN  \n",
      "2021-12-04 21:05:00+00:00  738128.878472       NaN       NaN  \n",
      "2021-12-04 21:06:00+00:00  738128.879167       NaN  49174.84  \n",
      "2021-12-04 21:07:00+00:00  738128.879861       NaN       NaN  \n",
      "2021-12-04 21:08:00+00:00  738128.880556  49080.01       NaN  \n",
      "2021-12-04 21:09:00+00:00  738128.881250       NaN  49198.12  \n",
      "2021-12-04 21:10:00+00:00  738128.881944       NaN       NaN  \n",
      "2021-12-04 21:11:00+00:00  738128.882639  48928.01       NaN  \n"
     ]
    }
   ],
   "source": [
    "i = 0\n",
    "for interval in sorted(trading_ranges):\n",
    "    start_index, end_index = interval.begin, interval.end\n",
    "    print(f\"{numeric_df.index[end_index]}: {interval.data}\")\n",
    "    print(numeric_df[start_index:end_index])\n",
    "    if i == 10:\n",
    "        break"
   ]
  },
  {
   "cell_type": "code",
   "execution_count": null,
   "metadata": {},
   "outputs": [],
   "source": []
  },
  {
   "cell_type": "code",
   "execution_count": null,
   "metadata": {},
   "outputs": [],
   "source": [
    "indexes"
   ]
  },
  {
   "cell_type": "code",
   "execution_count": null,
   "metadata": {},
   "outputs": [],
   "source": [
    "numeric_df[indexes]"
   ]
  },
  {
   "cell_type": "code",
   "execution_count": null,
   "metadata": {},
   "outputs": [],
   "source": [
    "vlines = list(numeric_df.index[indexes])"
   ]
  },
  {
   "cell_type": "code",
   "execution_count": null,
   "metadata": {},
   "outputs": [],
   "source": [
    "vlines"
   ]
  },
  {
   "cell_type": "code",
   "execution_count": null,
   "metadata": {},
   "outputs": [],
   "source": [
    "mpf.plot(\n",
    "    numeric_df,\n",
    "    #hlines=dict(hlines=levels_values,colors=colors,linestyle='-.'),\n",
    "    #fill_between=dict(y1=[65500], y2=[65600], color='#f2ad73', alpha=0.20),\n",
    "    vlines=dict(vlines=vlines[0:2],colors=colors,linestyle='-.'),\n",
    "    type='candle',\n",
    "    #title='BTC-USDT',\n",
    "    mav=(25),\n",
    "    volume=True,\n",
    ")"
   ]
  },
  {
   "cell_type": "code",
   "execution_count": null,
   "metadata": {},
   "outputs": [],
   "source": [
    "import pandas_ta as ta\n",
    "import math"
   ]
  },
  {
   "cell_type": "code",
   "execution_count": null,
   "metadata": {},
   "outputs": [],
   "source": [
    "ema_open_df = ta.ema(numeric_df[\"open\"], length=25)\n",
    "ema_high_df = ta.ema(numeric_df[\"high\"], length=25)\n",
    "ema_low_df = ta.ema(numeric_df[\"low\"], length=25)\n",
    "ema_close_df = ta.ema(numeric_df[\"close\"], length=25)"
   ]
  },
  {
   "cell_type": "code",
   "execution_count": null,
   "metadata": {},
   "outputs": [],
   "source": [
    "ema_open_df.iloc[23]"
   ]
  },
  {
   "cell_type": "code",
   "execution_count": null,
   "metadata": {},
   "outputs": [],
   "source": [
    "for t in trading_ranges[40]:\n",
    "    print(t.data)"
   ]
  },
  {
   "cell_type": "code",
   "execution_count": null,
   "metadata": {},
   "outputs": [],
   "source": [
    "vlines = []                                                                                                     \n",
    "for i in range(25, len(numeric_df)):\n",
    "    previous_close = numeric_df[\"close\"].iloc[i - 1]\n",
    "    open = numeric_df[\"open\"].iloc[i]\n",
    "    close = numeric_df[\"close\"].iloc[i]\n",
    "    body = abs(close - open)\n",
    "    close = numeric_df[\"close\"].iloc[i]\n",
    "    low = numeric_df[\"low\"].iloc[i]\n",
    "    high = numeric_df[\"high\"].iloc[i]\n",
    "\n",
    "    resistance_zones = resistances[high]\n",
    "    for interval in resistance_zones:\n",
    "        data = interval.data\n",
    "        level, level_info = data[0], data[1]\n",
    "        min_value = level_info.min_value\n",
    "        max_value = level_info.max_value\n",
    "        ema_close = ema_close_df.iloc[i]\n",
    "        ema_slope = (ema_close_df.iloc[i - 1] - ema_close_df.iloc[i - 25]) / 5\n",
    "        if i > level.index:\n",
    "            trading_ranges_set = trading_ranges[i - 1]\n",
    "            if len(trading_ranges_set) != 0:\n",
    "                for interval in trading_ranges_set:\n",
    "                    trading_range = interval.data\n",
    "                    if abs(min_value - ema_close) < body:\n",
    "                        if not math.isnan(ema_close):\n",
    "                        #if abs(previous_close - ema_close) < body / 2:\n",
    "                            if ema_close < min_value:\n",
    "                                if close < ema_close and close < trading_range.min_value or \\\n",
    "                                   close > max_value and close > trading_range.max_value:\n",
    "                                    print(f\"{trading_range}\")\n",
    "                                    print(f\"{numeric_df.index[i]}: {level.level_type}, {str(level_info)}\")\n",
    "                                    print(f\"i = {i}\")\n",
    "                                    vlines.append(numeric_df.index[i])\n",
    "                    break\n",
    "\n",
    "    support_zones = supports[low]\n",
    "    for interval in support_zones:\n",
    "        data = interval.data\n",
    "        level, level_info = data[0], data[1]\n",
    "        min_value = level_info.min_value\n",
    "        max_value = level_info.max_value\n",
    "        ema_close = ema_close_df.iloc[i]\n",
    "        ema_slope = (ema_close_df.iloc[i - 1] - ema_close_df.iloc[i - 25]) / 5\n",
    "        if i > level.index:\n",
    "            trading_ranges_set = trading_ranges[i - 1]\n",
    "            if len(trading_ranges_set) != 0:\n",
    "                for interval in trading_ranges_set:\n",
    "                    trading_range = interval.data\n",
    "                    if abs(min_value - ema_close) < body:\n",
    "                        if not math.isnan(ema_close):\n",
    "                        #    if abs(previous_close - ema_close) < body / 2:\n",
    "                            if ema_close > max_value:\n",
    "                                if close > ema_close and close > trading_range.max_value or \\\n",
    "                                   close < min_value and close < trading_range.min_value:\n",
    "                                    print(f\"{trading_range}\")\n",
    "                                    print(f\"{numeric_df.index[i]}: {level.level_type}, {str(level_info)}\")\n",
    "                                    vlines.append(numeric_df.index[i])\n",
    "                    break"
   ]
  },
  {
   "cell_type": "code",
   "execution_count": null,
   "metadata": {},
   "outputs": [],
   "source": [
    "vlines = []                                                                                                  \n",
    "for i in range(25, len(numeric_df)):\n",
    "    previous_close = numeric_df[\"close\"].iloc[i - 1]\n",
    "    open = numeric_df[\"open\"].iloc[i]\n",
    "    close = numeric_df[\"close\"].iloc[i]\n",
    "    body = abs(close - open)\n",
    "    close = numeric_df[\"close\"].iloc[i]\n",
    "    low = numeric_df[\"low\"].iloc[i]\n",
    "    high = numeric_df[\"high\"].iloc[i]\n",
    "    \n",
    "    space = body / 4\n",
    "    resistance_zones = resistances[high - space: high + space]\n",
    "    support_zones = supports[low - space: low + space]\n",
    "    if len(resistance_zones) == 0 or len(support_zones) == 0:\n",
    "        continue\n",
    "    \n",
    "    # take lowest resistance level and max support level\n",
    "    min_value = float(\"inf\")\n",
    "    min_resistance = None\n",
    "    max_value = float(\"-inf\")\n",
    "    max_support = None\n",
    "    #print(f\"i = {i}\")\n",
    "    for interval in resistance_zones:\n",
    "        data = interval.data\n",
    "        level, level_info = data[0], data[1]\n",
    "        #print(str(level))\n",
    "        if i > level.index:\n",
    "            if level_info.min_value < min_value:\n",
    "                min_value = level_info.min_value\n",
    "                min_resistance = interval\n",
    "\n",
    "    for interval in support_zones:\n",
    "        data = interval.data\n",
    "        level, level_info = data[0], data[1]\n",
    "        #print(str(level))\n",
    "        if i > level.index:\n",
    "            if level_info.max_value > max_value:\n",
    "                max_value = level_info.max_value\n",
    "                max_support = interval\n",
    "        if min_resistance is not None and max_support is not None:\n",
    "            print(f\"{numeric_df.index[i]}\")\n",
    "            print(f\"{str(min_resistance.data[0])}\")\n",
    "            print(f\"{str(max_support.data[0])}\")"
   ]
  },
  {
   "cell_type": "code",
   "execution_count": null,
   "metadata": {},
   "outputs": [],
   "source": [
    "numeric_df.iloc[34]"
   ]
  },
  {
   "cell_type": "code",
   "execution_count": null,
   "metadata": {},
   "outputs": [],
   "source": [
    "!pip install pandas_ta"
   ]
  },
  {
   "cell_type": "code",
   "execution_count": null,
   "metadata": {},
   "outputs": [],
   "source": [
    "mpf.plot(\n",
    "    numeric_df,\n",
    "    #hlines=dict(hlines=levels_values,colors=colors,linestyle='-.'),\n",
    "    #fill_between=dict(y1=[65500], y2=[65600], color='#f2ad73', alpha=0.20),\n",
    "    vlines=dict(vlines=vlines,colors=colors,linestyle='-.'),\n",
    "    type='candle',\n",
    "    #title='BTC-USDT',\n",
    "    mav=(25),\n",
    "    volume=True,\n",
    ")"
   ]
  },
  {
   "cell_type": "code",
   "execution_count": null,
   "metadata": {},
   "outputs": [],
   "source": []
  }
 ],
 "metadata": {
  "kernelspec": {
   "display_name": "env",
   "language": "python",
   "name": "env"
  },
  "language_info": {
   "codemirror_mode": {
    "name": "ipython",
    "version": 3
   },
   "file_extension": ".py",
   "mimetype": "text/x-python",
   "name": "python",
   "nbconvert_exporter": "python",
   "pygments_lexer": "ipython3",
   "version": "3.6.8"
  }
 },
 "nbformat": 4,
 "nbformat_minor": 5
}
