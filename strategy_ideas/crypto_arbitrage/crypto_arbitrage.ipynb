{
 "cells": [
  {
   "cell_type": "markdown",
   "metadata": {},
   "source": [
    "# Arbitrage between cryptocurrencies centralized exchanges"
   ]
  },
  {
   "cell_type": "markdown",
   "metadata": {},
   "source": [
    "## Summary\n",
    "\n",
    "Sometimes the same cryptocurrency is priced differently in different exchanges. We could take advantage of this by buying on exchanges where the price is the lowest and selling on the exchange where the price is the highest. To find this opprtunities we need to track the price differences between pairs of exchanges and then execute the orders.\n",
    "\n",
    "But having a price difference doesn't necessarily mean we can make money from it. Indeed there are commissions cost, time constraints and transfer between exchanges fees depending on the methods you use.There are two ways to do this and each has its pros and cons.\n",
    "\n",
    "To make the explanation easier we will create a context . Let C be a cryptocurrency, and there is currently an arbitrage opportunity for C. A is the exchange where the price of C is the lowest and B the exchange where the price of C is the highest. Now for executing the orders we can use one of the methods mentioned earlier\n",
    "\n",
    "### 1. Transfer Method <br>\n",
    "We buy C on exchange A, transfer it to B, then sell it on exchange B.\n",
    "\n",
    "    - Pros: We don't need to have in advance cryptocurrencies on exchanges A and B (unlike the 2nd method we will present later)\n",
    "    - Cons: The transfer fees are usually much higher than the commission fee for buying and selling on each exchanges and those transfer fees are usually different per cryptocurrency which will require much maintenance. This high fees are less problematic when you invest big amounts of money (> 50 000$). But even by investing big amounts there is another constraint: the transfer can take a long time (more than 10 minutes) which can make the opportunity vanish.\n",
    "    - How can we reduce the cons: Look for cryptocurrency with low transfer fees and fast transfer\n",
    "    \n",
    "### 2. Parallel Buy and Sell Method <br>\n",
    "Before tracking arbitrage opportunities, we buy some cryptocurrencies on exchange B. When an arbitrage opportunity occurs, we buy cryptocurrencies on exchange A and sell the cryptocurrencies we had bought before on exchange B. How can we earn more with this method? Let's put it in perspective. Let's suppose the price of 1 C is 200$\\$$ and it's the same on exchanges A and B. And that we have 1000$\\$$ on exchange A, and 5 C on exchange B. So we have this state at the beginning\n",
    "\n",
    "| A | B | Total |\n",
    "| :-: | :-: | :-: |\n",
    "| 1000$\\$$ | 5 C | 1000$\\$$ and 5 C |\n",
    "\n",
    "Then an arbitrage opportunities occurs, price of 1 C becomes 250$\\$$ on exchange B. So we buy 5 C on exchange A with the 1000$\\$$ and sell the 5C we have on exchange B because it's more beneficial to buy on exchange A and to sell on exchange B <br>\n",
    "\n",
    "| A\t| B\t| Total |\n",
    "| :-: | :-: | :-: |\n",
    "| 5 C |\t1250$\\$$ | 1250$\\$$ and 5C |<br>\n",
    "\n",
    "So we can see that our total increased. Our initial equity was 1000$\\$$ and 5 C ~= 2000$\\$$ and our final equity is 1250$\\$$ and 5 C ~= 2250$\\$$\n",
    "\n",
    "    - Pros: No need to transfer between exchanges anymore\n",
    "    - Cons: The mains con is that the exchanges were we buy and sell are the dependant on wether we have money or cryptocurrencies on this exchanges. For example in our final state, we can only buy on exchange B and sell on exchange, meaning that in the next arbitrage opportunity we can catch will be when price on exchange B is lower than price on exchange A. If the price differences are balanced between exchanges (the number of time price on A is lower than price on B is approximately equals to the number of time price on B is lower than price of A), this can work well but otherwise, we will miss a lot of opportunities\n",
    "    - How can we reduce the cons: We can find out which cryptocurrencies have balanced price differences and only execute our check on them. <br>\n",
    "    \n",
    "### Final method choice\n",
    "Method 2 doesn't need big amount of money or doesn't have time constraints, so it's fit better our needs for now and we will explore this method."
   ]
  },
  {
   "cell_type": "markdown",
   "metadata": {},
   "source": [
    "## Let's get our hands dirty"
   ]
  },
  {
   "cell_type": "markdown",
   "source": [
    "## Imports"
   ],
   "metadata": {
    "collapsed": false,
    "pycharm": {
     "name": "#%% md\n"
    }
   }
  },
  {
   "cell_type": "code",
   "execution_count": 75,
   "outputs": [],
   "source": [
    "from feed.loader import CsvLoader\n",
    "from models.asset import Asset\n",
    "import pandas as pd\n",
    "import numpy as np"
   ],
   "metadata": {
    "collapsed": false,
    "pycharm": {
     "name": "#%%\n"
    }
   }
  },
  {
   "cell_type": "code",
   "execution_count": 76,
   "metadata": {
    "pycharm": {
     "name": "#%% Constants\n"
    }
   },
   "outputs": [],
   "source": [
    "SYMBOL_TO_ARBITRAGE = \"XRPUSDT\",\n",
    "BINANCE_EXCHANGE = \"BINANCE\"\n",
    "KUCOIN_EXCHANGE = \"KUCOIN\"\n",
    "BINANCE_ASSET = Asset(symbol=SYMBOL_TO_ARBITRAGE, exchange=BINANCE_EXCHANGE)\n",
    "KUCOIN_ASSET = Asset(symbol=SYMBOL_TO_ARBITRAGE, exchange=KUCOIN_EXCHANGE)\n",
    "BINANCE_FEE = 0.001\n",
    "KUCOIN_FEE = 0.001\n",
    "MARGIN_FACTOR = 1"
   ]
  },
  {
   "cell_type": "code",
   "execution_count": 77,
   "outputs": [],
   "source": [
    "csv_filenames = {\n",
    "    BINANCE_ASSET: f\"data/xrpusdt_one_week_binance.csv\",\n",
    "    KUCOIN_ASSET: f\"data/xrpusdt_one_week_kucoin.csv\"\n",
    "}\n",
    "\n",
    "csv_loader = CsvLoader(csv_filenames)\n",
    "csv_loader.load()\n",
    "dataframes = csv_loader.candle_dataframes"
   ],
   "metadata": {
    "collapsed": false,
    "pycharm": {
     "name": "#%% Load exchanges (Binance and Kucoin) data\n"
    }
   }
  },
  {
   "cell_type": "markdown",
   "source": [
    "## Create a function to check an arbitrage opportunity"
   ],
   "metadata": {
    "collapsed": false,
    "pycharm": {
     "name": "#%% md\n"
    }
   }
  },
  {
   "cell_type": "code",
   "execution_count": 78,
   "outputs": [],
   "source": [
    "def check_arbitrage_opportunity(\n",
    "        binance_price_action: pd.DataFrame,\n",
    "        kucoin_price_action: pd.DataFrame,\n",
    "        margin_factor: float = 1,\n",
    ") -> bool:\n",
    "    binance_prices = binance_price_action[\"close\"]\n",
    "    kucoin_prices = kucoin_price_action[\"close\"]\n",
    "\n",
    "    binance_fee = binance_prices * BINANCE_FEE\n",
    "    kucoin_fee = kucoin_prices * KUCOIN_FEE\n",
    "    total_fee = binance_fee + kucoin_fee\n",
    "    price_diff = abs(binance_prices - kucoin_prices)\n",
    "    return (\n",
    "            (price_diff > margin_factor * total_fee)\n",
    "            & (binance_price_action[\"volume\"] != 0)\n",
    "            & (kucoin_price_action[\"volume\"] != 0)\n",
    "    )"
   ],
   "metadata": {
    "collapsed": false,
    "pycharm": {
     "name": "#%%\n"
    }
   }
  },
  {
   "cell_type": "code",
   "execution_count": 79,
   "outputs": [],
   "source": [
    "binance_df = dataframes[BINANCE_ASSET]\n",
    "kucoin_df = dataframes[KUCOIN_ASSET]\n",
    "binance_price_action = binance_df[[\"close\", \"volume\"]].apply(pd.to_numeric)\n",
    "kucoin_price_action = kucoin_df[[\"close\", \"volume\"]].apply(pd.to_numeric)\n",
    "arbitrages_opportunities_df = binance_price_action.rename(\n",
    "    columns={\"close\": \"binance_price\", \"volume\": \"binance_volume\"}, inplace=False\n",
    ")\n",
    "arbitrages_opportunities_df[[\"kucoin_price\", \"kucoin_volume\"]] = kucoin_price_action\n",
    "arbitrages_opportunities_df[\"Arbitrage opportunity?\"] = np.where(\n",
    "    check_arbitrage_opportunity(binance_price_action, kucoin_price_action),\n",
    "    True,\n",
    "    False,\n",
    ")\n",
    "arbitrages_opportunities_df = arbitrages_opportunities_df[\n",
    "    arbitrages_opportunities_df[\"Arbitrage opportunity?\"]\n",
    "]\n",
    "arbitrages_opportunities_df[\"Side\"] = np.where(\n",
    "    arbitrages_opportunities_df[\"binance_price\"]\n",
    "    > arbitrages_opportunities_df[\"kucoin_price\"],\n",
    "    \"Binance\",\n",
    "    \"Kucoin\",\n",
    ")"
   ],
   "metadata": {
    "collapsed": false,
    "pycharm": {
     "name": "#%%\n"
    }
   }
  },
  {
   "cell_type": "code",
   "execution_count": 80,
   "outputs": [
    {
     "data": {
      "text/plain": "                           binance_price  binance_volume  kucoin_price  \\\ntimestamp                                                                \n2021-06-22 20:20:00+00:00        0.57180    24747.616315        0.5733   \n2021-06-23 11:30:00+00:00        0.63500    10790.911506        0.6331   \n2021-06-24 12:00:00+00:00        0.65649    27401.409809        0.6579   \n2021-06-25 03:38:00+00:00        0.67697     2053.590026        0.6755   \n2021-06-26 08:47:00+00:00        0.58809     1663.173614        0.5869   \n2021-06-26 12:18:00+00:00        0.60244   267377.574098        0.6038   \n\n                           kucoin_volume  Arbitrage opportunity?     Side  \ntimestamp                                                                  \n2021-06-22 20:20:00+00:00      800884.90                    True   Kucoin  \n2021-06-23 11:30:00+00:00      295397.10                    True  Binance  \n2021-06-24 12:00:00+00:00     1087473.87                    True   Kucoin  \n2021-06-25 03:38:00+00:00      380618.10                    True  Binance  \n2021-06-26 08:47:00+00:00      451598.35                    True  Binance  \n2021-06-26 12:18:00+00:00      341983.98                    True   Kucoin  ",
      "text/html": "<div>\n<style scoped>\n    .dataframe tbody tr th:only-of-type {\n        vertical-align: middle;\n    }\n\n    .dataframe tbody tr th {\n        vertical-align: top;\n    }\n\n    .dataframe thead th {\n        text-align: right;\n    }\n</style>\n<table border=\"1\" class=\"dataframe\">\n  <thead>\n    <tr style=\"text-align: right;\">\n      <th></th>\n      <th>binance_price</th>\n      <th>binance_volume</th>\n      <th>kucoin_price</th>\n      <th>kucoin_volume</th>\n      <th>Arbitrage opportunity?</th>\n      <th>Side</th>\n    </tr>\n    <tr>\n      <th>timestamp</th>\n      <th></th>\n      <th></th>\n      <th></th>\n      <th></th>\n      <th></th>\n      <th></th>\n    </tr>\n  </thead>\n  <tbody>\n    <tr>\n      <th>2021-06-22 20:20:00+00:00</th>\n      <td>0.57180</td>\n      <td>24747.616315</td>\n      <td>0.5733</td>\n      <td>800884.90</td>\n      <td>True</td>\n      <td>Kucoin</td>\n    </tr>\n    <tr>\n      <th>2021-06-23 11:30:00+00:00</th>\n      <td>0.63500</td>\n      <td>10790.911506</td>\n      <td>0.6331</td>\n      <td>295397.10</td>\n      <td>True</td>\n      <td>Binance</td>\n    </tr>\n    <tr>\n      <th>2021-06-24 12:00:00+00:00</th>\n      <td>0.65649</td>\n      <td>27401.409809</td>\n      <td>0.6579</td>\n      <td>1087473.87</td>\n      <td>True</td>\n      <td>Kucoin</td>\n    </tr>\n    <tr>\n      <th>2021-06-25 03:38:00+00:00</th>\n      <td>0.67697</td>\n      <td>2053.590026</td>\n      <td>0.6755</td>\n      <td>380618.10</td>\n      <td>True</td>\n      <td>Binance</td>\n    </tr>\n    <tr>\n      <th>2021-06-26 08:47:00+00:00</th>\n      <td>0.58809</td>\n      <td>1663.173614</td>\n      <td>0.5869</td>\n      <td>451598.35</td>\n      <td>True</td>\n      <td>Binance</td>\n    </tr>\n    <tr>\n      <th>2021-06-26 12:18:00+00:00</th>\n      <td>0.60244</td>\n      <td>267377.574098</td>\n      <td>0.6038</td>\n      <td>341983.98</td>\n      <td>True</td>\n      <td>Kucoin</td>\n    </tr>\n  </tbody>\n</table>\n</div>"
     },
     "execution_count": 80,
     "metadata": {},
     "output_type": "execute_result"
    }
   ],
   "source": [
    "arbitrages_opportunities_df"
   ],
   "metadata": {
    "collapsed": false,
    "pycharm": {
     "name": "#%%w\n"
    }
   }
  },
  {
   "cell_type": "markdown",
   "source": [
    "## Conclusion\n",
    "\n",
    "We can see that we have 6 arbitrage opportunities in 1 week which is not bad with quite a good balance in the case of XRP. Now it's time to backtest this to see whether it's real or not."
   ],
   "metadata": {
    "collapsed": false,
    "pycharm": {
     "name": "#%% md\n"
    }
   }
  }
 ],
 "metadata": {
  "kernelspec": {
   "display_name": "Python 3",
   "language": "python",
   "name": "python3"
  },
  "language_info": {
   "codemirror_mode": {
    "name": "ipython",
    "version": 3
   },
   "file_extension": ".py",
   "mimetype": "text/x-python",
   "name": "python",
   "nbconvert_exporter": "python",
   "pygments_lexer": "ipython3",
   "version": "3.6.8"
  }
 },
 "nbformat": 4,
 "nbformat_minor": 1
}